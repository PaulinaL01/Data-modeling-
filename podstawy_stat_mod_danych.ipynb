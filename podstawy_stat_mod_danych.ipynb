{
 "cells": [
  {
   "cell_type": "markdown",
   "id": "38aa87a9",
   "metadata": {},
   "source": [
    "- Regresja logistyczna glm \n",
    "- model liniowy lm\n",
    "- Kwadratowa analiza dyskryminacyjna QDA(dzielimy na 2 grupy na podstawie zmiennej grupujacej)\n",
    "- lda(nie dzielimy)"
   ]
  },
  {
   "cell_type": "markdown",
   "id": "07cdee64",
   "metadata": {},
   "source": [
    "# Lista 1"
   ]
  },
  {
   "cell_type": "markdown",
   "id": "c763254a",
   "metadata": {},
   "source": [
    "## Zadanie 1, L1"
   ]
  },
  {
   "cell_type": "code",
   "execution_count": 204,
   "id": "c1225482",
   "metadata": {
    "scrolled": true
   },
   "outputs": [
    {
     "name": "stderr",
     "output_type": "stream",
     "text": [
      "Warning message:\n",
      "\"pakiet 'ISwR' jest w użyciu i nie zostanie zainstalowany\"\n",
      "Warning message:\n",
      "\"pakiet 'car' jest w użyciu i nie zostanie zainstalowany\"\n",
      "Warning message:\n",
      "\"pakiet 'ipred' jest w użyciu i nie zostanie zainstalowany\"\n",
      "Warning message:\n",
      "\"pakiet 'rpart.plot' jest w użyciu i nie zostanie zainstalowany\"\n",
      "Warning message:\n",
      "\"pakiet 'rpart' jest w użyciu i nie zostanie zainstalowany\"\n"
     ]
    }
   ],
   "source": [
    "install.packages(\"ISwR\")\n",
    "install.packages(\"car\")\n",
    "install.packages('ipred')\n",
    "install.packages(\"rpart.plot\")\n",
    "install.packages(\"rpart\")"
   ]
  },
  {
   "cell_type": "code",
   "execution_count": 205,
   "id": "c36b6b89",
   "metadata": {},
   "outputs": [],
   "source": [
    "library(car)\n",
    "library(ISwR)\n",
    "library(datasets)\n",
    "library(MASS)\n",
    "library(data.table)\n",
    "library(dplyr)\n",
    "library(ipred)\n",
    "library(rpart.plot)\n",
    "library(rpart)"
   ]
  },
  {
   "cell_type": "code",
   "execution_count": 206,
   "id": "ae39d063",
   "metadata": {},
   "outputs": [
    {
     "data": {
      "text/html": [
       "<table class=\"dataframe\">\n",
       "<caption>A data.frame: 6 × 7</caption>\n",
       "<thead>\n",
       "\t<tr><th></th><th scope=col>no</th><th scope=col>dl.milk</th><th scope=col>sex</th><th scope=col>weight</th><th scope=col>ml.suppl</th><th scope=col>mat.weight</th><th scope=col>mat.height</th></tr>\n",
       "\t<tr><th></th><th scope=col>&lt;int&gt;</th><th scope=col>&lt;dbl&gt;</th><th scope=col>&lt;fct&gt;</th><th scope=col>&lt;dbl&gt;</th><th scope=col>&lt;int&gt;</th><th scope=col>&lt;int&gt;</th><th scope=col>&lt;int&gt;</th></tr>\n",
       "</thead>\n",
       "<tbody>\n",
       "\t<tr><th scope=row>1</th><td> 1</td><td>8.42</td><td>boy</td><td>5.002</td><td>250</td><td>65</td><td>173</td></tr>\n",
       "\t<tr><th scope=row>2</th><td> 4</td><td>8.44</td><td>boy</td><td>5.128</td><td>  0</td><td>48</td><td>158</td></tr>\n",
       "\t<tr><th scope=row>3</th><td> 5</td><td>8.41</td><td>boy</td><td>5.445</td><td> 40</td><td>62</td><td>160</td></tr>\n",
       "\t<tr><th scope=row>4</th><td>10</td><td>9.65</td><td>boy</td><td>5.106</td><td> 60</td><td>55</td><td>162</td></tr>\n",
       "\t<tr><th scope=row>5</th><td>12</td><td>6.44</td><td>boy</td><td>5.196</td><td>240</td><td>58</td><td>170</td></tr>\n",
       "\t<tr><th scope=row>6</th><td>16</td><td>6.29</td><td>boy</td><td>5.526</td><td>  0</td><td>56</td><td>153</td></tr>\n",
       "</tbody>\n",
       "</table>\n"
      ],
      "text/latex": [
       "A data.frame: 6 × 7\n",
       "\\begin{tabular}{r|lllllll}\n",
       "  & no & dl.milk & sex & weight & ml.suppl & mat.weight & mat.height\\\\\n",
       "  & <int> & <dbl> & <fct> & <dbl> & <int> & <int> & <int>\\\\\n",
       "\\hline\n",
       "\t1 &  1 & 8.42 & boy & 5.002 & 250 & 65 & 173\\\\\n",
       "\t2 &  4 & 8.44 & boy & 5.128 &   0 & 48 & 158\\\\\n",
       "\t3 &  5 & 8.41 & boy & 5.445 &  40 & 62 & 160\\\\\n",
       "\t4 & 10 & 9.65 & boy & 5.106 &  60 & 55 & 162\\\\\n",
       "\t5 & 12 & 6.44 & boy & 5.196 & 240 & 58 & 170\\\\\n",
       "\t6 & 16 & 6.29 & boy & 5.526 &   0 & 56 & 153\\\\\n",
       "\\end{tabular}\n"
      ],
      "text/markdown": [
       "\n",
       "A data.frame: 6 × 7\n",
       "\n",
       "| <!--/--> | no &lt;int&gt; | dl.milk &lt;dbl&gt; | sex &lt;fct&gt; | weight &lt;dbl&gt; | ml.suppl &lt;int&gt; | mat.weight &lt;int&gt; | mat.height &lt;int&gt; |\n",
       "|---|---|---|---|---|---|---|---|\n",
       "| 1 |  1 | 8.42 | boy | 5.002 | 250 | 65 | 173 |\n",
       "| 2 |  4 | 8.44 | boy | 5.128 |   0 | 48 | 158 |\n",
       "| 3 |  5 | 8.41 | boy | 5.445 |  40 | 62 | 160 |\n",
       "| 4 | 10 | 9.65 | boy | 5.106 |  60 | 55 | 162 |\n",
       "| 5 | 12 | 6.44 | boy | 5.196 | 240 | 58 | 170 |\n",
       "| 6 | 16 | 6.29 | boy | 5.526 |   0 | 56 | 153 |\n",
       "\n"
      ],
      "text/plain": [
       "  no dl.milk sex weight ml.suppl mat.weight mat.height\n",
       "1  1 8.42    boy 5.002  250      65         173       \n",
       "2  4 8.44    boy 5.128    0      48         158       \n",
       "3  5 8.41    boy 5.445   40      62         160       \n",
       "4 10 9.65    boy 5.106   60      55         162       \n",
       "5 12 6.44    boy 5.196  240      58         170       \n",
       "6 16 6.29    boy 5.526    0      56         153       "
      ]
     },
     "metadata": {},
     "output_type": "display_data"
    }
   ],
   "source": [
    "data(kfm)\n",
    "head(kfm)"
   ]
  },
  {
   "cell_type": "code",
   "execution_count": 207,
   "id": "6763de49",
   "metadata": {
    "scrolled": true
   },
   "outputs": [
    {
     "data": {
      "text/html": [
       "<table class=\"dataframe\">\n",
       "<caption>A data.frame: 6 × 7</caption>\n",
       "<thead>\n",
       "\t<tr><th></th><th scope=col>no</th><th scope=col>dl_milk</th><th scope=col>sex</th><th scope=col>weight</th><th scope=col>ml_suppl</th><th scope=col>mat_weight</th><th scope=col>mat_height</th></tr>\n",
       "\t<tr><th></th><th scope=col>&lt;int&gt;</th><th scope=col>&lt;dbl&gt;</th><th scope=col>&lt;fct&gt;</th><th scope=col>&lt;dbl&gt;</th><th scope=col>&lt;int&gt;</th><th scope=col>&lt;int&gt;</th><th scope=col>&lt;int&gt;</th></tr>\n",
       "</thead>\n",
       "<tbody>\n",
       "\t<tr><th scope=row>1</th><td> 1</td><td>8.42</td><td>boy</td><td>5.002</td><td>250</td><td>65</td><td>173</td></tr>\n",
       "\t<tr><th scope=row>2</th><td> 4</td><td>8.44</td><td>boy</td><td>5.128</td><td>  0</td><td>48</td><td>158</td></tr>\n",
       "\t<tr><th scope=row>3</th><td> 5</td><td>8.41</td><td>boy</td><td>5.445</td><td> 40</td><td>62</td><td>160</td></tr>\n",
       "\t<tr><th scope=row>4</th><td>10</td><td>9.65</td><td>boy</td><td>5.106</td><td> 60</td><td>55</td><td>162</td></tr>\n",
       "\t<tr><th scope=row>5</th><td>12</td><td>6.44</td><td>boy</td><td>5.196</td><td>240</td><td>58</td><td>170</td></tr>\n",
       "\t<tr><th scope=row>6</th><td>16</td><td>6.29</td><td>boy</td><td>5.526</td><td>  0</td><td>56</td><td>153</td></tr>\n",
       "</tbody>\n",
       "</table>\n"
      ],
      "text/latex": [
       "A data.frame: 6 × 7\n",
       "\\begin{tabular}{r|lllllll}\n",
       "  & no & dl\\_milk & sex & weight & ml\\_suppl & mat\\_weight & mat\\_height\\\\\n",
       "  & <int> & <dbl> & <fct> & <dbl> & <int> & <int> & <int>\\\\\n",
       "\\hline\n",
       "\t1 &  1 & 8.42 & boy & 5.002 & 250 & 65 & 173\\\\\n",
       "\t2 &  4 & 8.44 & boy & 5.128 &   0 & 48 & 158\\\\\n",
       "\t3 &  5 & 8.41 & boy & 5.445 &  40 & 62 & 160\\\\\n",
       "\t4 & 10 & 9.65 & boy & 5.106 &  60 & 55 & 162\\\\\n",
       "\t5 & 12 & 6.44 & boy & 5.196 & 240 & 58 & 170\\\\\n",
       "\t6 & 16 & 6.29 & boy & 5.526 &   0 & 56 & 153\\\\\n",
       "\\end{tabular}\n"
      ],
      "text/markdown": [
       "\n",
       "A data.frame: 6 × 7\n",
       "\n",
       "| <!--/--> | no &lt;int&gt; | dl_milk &lt;dbl&gt; | sex &lt;fct&gt; | weight &lt;dbl&gt; | ml_suppl &lt;int&gt; | mat_weight &lt;int&gt; | mat_height &lt;int&gt; |\n",
       "|---|---|---|---|---|---|---|---|\n",
       "| 1 |  1 | 8.42 | boy | 5.002 | 250 | 65 | 173 |\n",
       "| 2 |  4 | 8.44 | boy | 5.128 |   0 | 48 | 158 |\n",
       "| 3 |  5 | 8.41 | boy | 5.445 |  40 | 62 | 160 |\n",
       "| 4 | 10 | 9.65 | boy | 5.106 |  60 | 55 | 162 |\n",
       "| 5 | 12 | 6.44 | boy | 5.196 | 240 | 58 | 170 |\n",
       "| 6 | 16 | 6.29 | boy | 5.526 |   0 | 56 | 153 |\n",
       "\n"
      ],
      "text/plain": [
       "  no dl_milk sex weight ml_suppl mat_weight mat_height\n",
       "1  1 8.42    boy 5.002  250      65         173       \n",
       "2  4 8.44    boy 5.128    0      48         158       \n",
       "3  5 8.41    boy 5.445   40      62         160       \n",
       "4 10 9.65    boy 5.106   60      55         162       \n",
       "5 12 6.44    boy 5.196  240      58         170       \n",
       "6 16 6.29    boy 5.526    0      56         153       "
      ]
     },
     "metadata": {},
     "output_type": "display_data"
    }
   ],
   "source": [
    "colnames(kfm)=c(\"no\",\"dl_milk\",\"sex\",\"weight\",\"ml_suppl\",\"mat_weight\",\"mat_height\")\n",
    "head(kfm)"
   ]
  },
  {
   "cell_type": "markdown",
   "id": "f1bdbcd3",
   "metadata": {},
   "source": [
    "### a)  \n",
    "Przeanalizuj i zinterpretuj wpływ zmiennych objaśniających sex,\n",
    "weight, ml.suppl, mat.weight, mat.height na ilość spożytego mleka (dl.milk)\n",
    "przy użyciu modelu regresji wielokrotnej."
   ]
  },
  {
   "cell_type": "code",
   "execution_count": 208,
   "id": "3a7c4fa7",
   "metadata": {
    "scrolled": true
   },
   "outputs": [
    {
     "data": {
      "text/plain": [
       "\n",
       "Call:\n",
       "lm(formula = dl_milk ~ . - no, data = kfm)\n",
       "\n",
       "Residuals:\n",
       "     Min       1Q   Median       3Q      Max \n",
       "-1.74201 -0.81173 -0.00926  0.78326  2.52646 \n",
       "\n",
       "Coefficients:\n",
       "              Estimate Std. Error t value Pr(>|t|)    \n",
       "(Intercept) -11.681839   4.361561  -2.678 0.010363 *  \n",
       "sexgirl      -0.499532   0.312672  -1.598 0.117284    \n",
       "weight        1.349124   0.322450   4.184 0.000135 ***\n",
       "ml_suppl     -0.002233   0.001241  -1.799 0.078829 .  \n",
       "mat_weight    0.006212   0.023708   0.262 0.794535    \n",
       "mat_height    0.072278   0.030169   2.396 0.020906 *  \n",
       "---\n",
       "Signif. codes:  0 '***' 0.001 '**' 0.01 '*' 0.05 '.' 0.1 ' ' 1\n",
       "\n",
       "Residual standard error: 1.075 on 44 degrees of freedom\n",
       "Multiple R-squared:  0.5459,\tAdjusted R-squared:  0.4943 \n",
       "F-statistic: 10.58 on 5 and 44 DF,  p-value: 1.03e-06\n"
      ]
     },
     "metadata": {},
     "output_type": "display_data"
    }
   ],
   "source": [
    "model <- lm(dl_milk ~ . -no, data = kfm)\n",
    "summary(model)"
   ]
  },
  {
   "cell_type": "markdown",
   "id": "3377eec7",
   "metadata": {},
   "source": [
    "### Interpretacja\n",
    "- Najistotniejszy wpływ na ilość spożytego mleka ma waga dziecka, istotny wpływ ma wzrost matki.\n",
    "- Rozkład reszt : minimalna wartość wynosi -1,742, mediana to -0.00926, a maksymalna wartość wynosi: 2.526\n",
    "- Średnia reszt jest bliska zeru a wartości minimum i maximum są z grubsza równe wartości bezwzględnej.\n",
    "- Współczynnik regresji dla weight wynosi 1.349 , błąd standardowy to 0.32245, a wartość p_value : 0. Waga dziecka ma istotny wpływ na ilość spożytego mleka.\n",
    "- Błąd standardowy reszt opisujący wahania obserwacji wokół prostej regresji przy wyestymowanych współczynnikach modelu wynosi: 1.075 dla 44 stopni swobody.\n",
    "- Współczynnik korelacji Pearsona wyniósł 0.5459, jest to silna korelacja dodatnia.\n",
    "- Skorygowana wartość R^2 jest równa 0.4943."
   ]
  },
  {
   "cell_type": "markdown",
   "id": "38e52085",
   "metadata": {},
   "source": [
    "### b )\n",
    "Zauważ, że zmienna ’płeć’ (sex) jest zmienną o dwóch poziomach: boy\n",
    "(chłopiec) i ’girl’ (dziewczynka). Jakie ma to znaczenie dla przeprowadzonej\n",
    "analizy?"
   ]
  },
  {
   "cell_type": "markdown",
   "id": "009e18bb",
   "metadata": {},
   "source": [
    "- Jest to zmienna dychotomiczna jakościowa i kategoryczna  co oznacza, że wyraża jakość, a jednocześnie pozwala na grupowanie spraw w kategorie.\n",
    "- Podstawowa różnica między zmienną dychotomiczną a zmienną ciągłą polega na tym, że pierwsza reprezentuje kategorie, podczas gdy druga mierzy"
   ]
  },
  {
   "cell_type": "markdown",
   "id": "9e187e56",
   "metadata": {},
   "source": [
    "### c)\n",
    "Przedstaw i zinterpretuj wykres zależności parami oraz macierz ko\u0002relacji między zmiennymi."
   ]
  },
  {
   "cell_type": "code",
   "execution_count": 209,
   "id": "be766e0d",
   "metadata": {},
   "outputs": [
    {
     "data": {
      "image/png": "[encoded data removed]",
      "text/plain": [
       "plot without title"
      ]
     },
     "metadata": {
      "image/png": {
       "height": 420,
       "width": 420
      }
     },
     "output_type": "display_data"
    }
   ],
   "source": [
    "par(mex =0.5)\n",
    "pairs(kfm , gap =0 , cex.labels =0.9)"
   ]
  },
  {
   "cell_type": "code",
   "execution_count": 210,
   "id": "8d3876ae",
   "metadata": {
    "scrolled": true
   },
   "outputs": [
    {
     "data": {
      "text/html": [
       "<table class=\"dataframe\">\n",
       "<caption>A data.frame: 50 × 6</caption>\n",
       "<thead>\n",
       "\t<tr><th scope=col>no</th><th scope=col>dl_milk</th><th scope=col>weight</th><th scope=col>ml_suppl</th><th scope=col>mat_weight</th><th scope=col>mat_height</th></tr>\n",
       "\t<tr><th scope=col>&lt;int&gt;</th><th scope=col>&lt;dbl&gt;</th><th scope=col>&lt;dbl&gt;</th><th scope=col>&lt;int&gt;</th><th scope=col>&lt;int&gt;</th><th scope=col>&lt;int&gt;</th></tr>\n",
       "</thead>\n",
       "<tbody>\n",
       "\t<tr><td>  1</td><td> 8.42</td><td>5.002</td><td>250</td><td>65</td><td>173</td></tr>\n",
       "\t<tr><td>  4</td><td> 8.44</td><td>5.128</td><td>  0</td><td>48</td><td>158</td></tr>\n",
       "\t<tr><td>  5</td><td> 8.41</td><td>5.445</td><td> 40</td><td>62</td><td>160</td></tr>\n",
       "\t<tr><td> 10</td><td> 9.65</td><td>5.106</td><td> 60</td><td>55</td><td>162</td></tr>\n",
       "\t<tr><td> 12</td><td> 6.44</td><td>5.196</td><td>240</td><td>58</td><td>170</td></tr>\n",
       "\t<tr><td> 16</td><td> 6.29</td><td>5.526</td><td>  0</td><td>56</td><td>153</td></tr>\n",
       "\t<tr><td> 22</td><td> 9.79</td><td>5.928</td><td> 30</td><td>78</td><td>175</td></tr>\n",
       "\t<tr><td> 28</td><td> 8.43</td><td>5.263</td><td>  0</td><td>57</td><td>170</td></tr>\n",
       "\t<tr><td> 31</td><td> 8.05</td><td>6.578</td><td>230</td><td>57</td><td>168</td></tr>\n",
       "\t<tr><td> 32</td><td> 6.48</td><td>5.588</td><td>555</td><td>58</td><td>173</td></tr>\n",
       "\t<tr><td> 36</td><td> 7.64</td><td>4.613</td><td>  0</td><td>58</td><td>171</td></tr>\n",
       "\t<tr><td> 39</td><td> 8.73</td><td>5.882</td><td> 60</td><td>54</td><td>163</td></tr>\n",
       "\t<tr><td> 54</td><td> 7.71</td><td>5.618</td><td>315</td><td>68</td><td>179</td></tr>\n",
       "\t<tr><td> 55</td><td> 8.39</td><td>6.032</td><td>370</td><td>56</td><td>175</td></tr>\n",
       "\t<tr><td> 72</td><td> 9.32</td><td>6.030</td><td>130</td><td>62</td><td>168</td></tr>\n",
       "\t<tr><td> 78</td><td> 6.78</td><td>4.727</td><td>  0</td><td>59</td><td>172</td></tr>\n",
       "\t<tr><td> 79</td><td> 9.63</td><td>5.345</td><td> 55</td><td>68</td><td>172</td></tr>\n",
       "\t<tr><td> 80</td><td> 5.97</td><td>5.359</td><td> 10</td><td>60</td><td>159</td></tr>\n",
       "\t<tr><td> 81</td><td> 8.39</td><td>5.320</td><td> 20</td><td>59</td><td>174</td></tr>\n",
       "\t<tr><td> 82</td><td>10.43</td><td>6.501</td><td>105</td><td>76</td><td>185</td></tr>\n",
       "\t<tr><td> 83</td><td> 5.62</td><td>4.666</td><td> 80</td><td>52</td><td>159</td></tr>\n",
       "\t<tr><td> 84</td><td> 6.84</td><td>4.969</td><td> 80</td><td>54</td><td>165</td></tr>\n",
       "\t<tr><td> 90</td><td>10.35</td><td>6.105</td><td>  0</td><td>78</td><td>174</td></tr>\n",
       "\t<tr><td> 91</td><td> 4.91</td><td>4.360</td><td>  0</td><td>49</td><td>162</td></tr>\n",
       "\t<tr><td> 98</td><td> 7.70</td><td>5.667</td><td>  0</td><td>63</td><td>165</td></tr>\n",
       "\t<tr><td>  6</td><td>10.03</td><td>6.100</td><td>  0</td><td>58</td><td>167</td></tr>\n",
       "\t<tr><td> 14</td><td> 7.42</td><td>5.421</td><td> 45</td><td>67</td><td>175</td></tr>\n",
       "\t<tr><td> 25</td><td> 5.00</td><td>4.744</td><td> 30</td><td>73</td><td>164</td></tr>\n",
       "\t<tr><td> 26</td><td> 8.67</td><td>5.800</td><td> 30</td><td>80</td><td>175</td></tr>\n",
       "\t<tr><td> 27</td><td> 6.90</td><td>5.822</td><td>  0</td><td>59</td><td>174</td></tr>\n",
       "\t<tr><td> 34</td><td> 6.89</td><td>5.081</td><td> 20</td><td>53</td><td>162</td></tr>\n",
       "\t<tr><td> 37</td><td> 7.22</td><td>5.336</td><td>590</td><td>58</td><td>160</td></tr>\n",
       "\t<tr><td> 38</td><td> 7.01</td><td>5.637</td><td>100</td><td>63</td><td>170</td></tr>\n",
       "\t<tr><td> 40</td><td> 8.06</td><td>5.546</td><td> 70</td><td>61</td><td>170</td></tr>\n",
       "\t<tr><td> 41</td><td> 4.44</td><td>4.386</td><td>150</td><td>58</td><td>167</td></tr>\n",
       "\t<tr><td> 43</td><td> 8.57</td><td>5.568</td><td> 30</td><td>70</td><td>172</td></tr>\n",
       "\t<tr><td> 46</td><td> 5.17</td><td>5.169</td><td>  0</td><td>65</td><td>160</td></tr>\n",
       "\t<tr><td> 47</td><td> 7.74</td><td>4.825</td><td>210</td><td>58</td><td>176</td></tr>\n",
       "\t<tr><td> 56</td><td> 7.93</td><td>5.156</td><td> 20</td><td>74</td><td>165</td></tr>\n",
       "\t<tr><td> 57</td><td> 5.03</td><td>4.120</td><td>100</td><td>55</td><td>162</td></tr>\n",
       "\t<tr><td> 63</td><td> 7.68</td><td>4.725</td><td>100</td><td>50</td><td>160</td></tr>\n",
       "\t<tr><td> 65</td><td> 6.91</td><td>5.636</td><td> 30</td><td>49</td><td>161</td></tr>\n",
       "\t<tr><td> 66</td><td> 8.23</td><td>5.377</td><td>110</td><td>55</td><td>167</td></tr>\n",
       "\t<tr><td> 68</td><td> 7.36</td><td>5.195</td><td> 80</td><td>59</td><td>171</td></tr>\n",
       "\t<tr><td> 74</td><td> 6.46</td><td>5.385</td><td> 70</td><td>51</td><td>165</td></tr>\n",
       "\t<tr><td> 85</td><td> 7.24</td><td>4.635</td><td> 15</td><td>48</td><td>167</td></tr>\n",
       "\t<tr><td> 88</td><td> 9.03</td><td>5.730</td><td>100</td><td>62</td><td>172</td></tr>\n",
       "\t<tr><td>100</td><td> 4.63</td><td>5.360</td><td>145</td><td>48</td><td>157</td></tr>\n",
       "\t<tr><td>104</td><td> 6.97</td><td>4.890</td><td> 30</td><td>67</td><td>165</td></tr>\n",
       "\t<tr><td>105</td><td> 5.82</td><td>4.339</td><td> 95</td><td>47</td><td>163</td></tr>\n",
       "</tbody>\n",
       "</table>\n"
      ],
      "text/latex": [
       "A data.frame: 50 × 6\n",
       "\\begin{tabular}{llllll}\n",
       " no & dl\\_milk & weight & ml\\_suppl & mat\\_weight & mat\\_height\\\\\n",
       " <int> & <dbl> & <dbl> & <int> & <int> & <int>\\\\\n",
       "\\hline\n",
       "\t   1 &  8.42 & 5.002 & 250 & 65 & 173\\\\\n",
       "\t   4 &  8.44 & 5.128 &   0 & 48 & 158\\\\\n",
       "\t   5 &  8.41 & 5.445 &  40 & 62 & 160\\\\\n",
       "\t  10 &  9.65 & 5.106 &  60 & 55 & 162\\\\\n",
       "\t  12 &  6.44 & 5.196 & 240 & 58 & 170\\\\\n",
       "\t  16 &  6.29 & 5.526 &   0 & 56 & 153\\\\\n",
       "\t  22 &  9.79 & 5.928 &  30 & 78 & 175\\\\\n",
       "\t  28 &  8.43 & 5.263 &   0 & 57 & 170\\\\\n",
       "\t  31 &  8.05 & 6.578 & 230 & 57 & 168\\\\\n",
       "\t  32 &  6.48 & 5.588 & 555 & 58 & 173\\\\\n",
       "\t  36 &  7.64 & 4.613 &   0 & 58 & 171\\\\\n",
       "\t  39 &  8.73 & 5.882 &  60 & 54 & 163\\\\\n",
       "\t  54 &  7.71 & 5.618 & 315 & 68 & 179\\\\\n",
       "\t  55 &  8.39 & 6.032 & 370 & 56 & 175\\\\\n",
       "\t  72 &  9.32 & 6.030 & 130 & 62 & 168\\\\\n",
       "\t  78 &  6.78 & 4.727 &   0 & 59 & 172\\\\\n",
       "\t  79 &  9.63 & 5.345 &  55 & 68 & 172\\\\\n",
       "\t  80 &  5.97 & 5.359 &  10 & 60 & 159\\\\\n",
       "\t  81 &  8.39 & 5.320 &  20 & 59 & 174\\\\\n",
       "\t  82 & 10.43 & 6.501 & 105 & 76 & 185\\\\\n",
       "\t  83 &  5.62 & 4.666 &  80 & 52 & 159\\\\\n",
       "\t  84 &  6.84 & 4.969 &  80 & 54 & 165\\\\\n",
       "\t  90 & 10.35 & 6.105 &   0 & 78 & 174\\\\\n",
       "\t  91 &  4.91 & 4.360 &   0 & 49 & 162\\\\\n",
       "\t  98 &  7.70 & 5.667 &   0 & 63 & 165\\\\\n",
       "\t   6 & 10.03 & 6.100 &   0 & 58 & 167\\\\\n",
       "\t  14 &  7.42 & 5.421 &  45 & 67 & 175\\\\\n",
       "\t  25 &  5.00 & 4.744 &  30 & 73 & 164\\\\\n",
       "\t  26 &  8.67 & 5.800 &  30 & 80 & 175\\\\\n",
       "\t  27 &  6.90 & 5.822 &   0 & 59 & 174\\\\\n",
       "\t  34 &  6.89 & 5.081 &  20 & 53 & 162\\\\\n",
       "\t  37 &  7.22 & 5.336 & 590 & 58 & 160\\\\\n",
       "\t  38 &  7.01 & 5.637 & 100 & 63 & 170\\\\\n",
       "\t  40 &  8.06 & 5.546 &  70 & 61 & 170\\\\\n",
       "\t  41 &  4.44 & 4.386 & 150 & 58 & 167\\\\\n",
       "\t  43 &  8.57 & 5.568 &  30 & 70 & 172\\\\\n",
       "\t  46 &  5.17 & 5.169 &   0 & 65 & 160\\\\\n",
       "\t  47 &  7.74 & 4.825 & 210 & 58 & 176\\\\\n",
       "\t  56 &  7.93 & 5.156 &  20 & 74 & 165\\\\\n",
       "\t  57 &  5.03 & 4.120 & 100 & 55 & 162\\\\\n",
       "\t  63 &  7.68 & 4.725 & 100 & 50 & 160\\\\\n",
       "\t  65 &  6.91 & 5.636 &  30 & 49 & 161\\\\\n",
       "\t  66 &  8.23 & 5.377 & 110 & 55 & 167\\\\\n",
       "\t  68 &  7.36 & 5.195 &  80 & 59 & 171\\\\\n",
       "\t  74 &  6.46 & 5.385 &  70 & 51 & 165\\\\\n",
       "\t  85 &  7.24 & 4.635 &  15 & 48 & 167\\\\\n",
       "\t  88 &  9.03 & 5.730 & 100 & 62 & 172\\\\\n",
       "\t 100 &  4.63 & 5.360 & 145 & 48 & 157\\\\\n",
       "\t 104 &  6.97 & 4.890 &  30 & 67 & 165\\\\\n",
       "\t 105 &  5.82 & 4.339 &  95 & 47 & 163\\\\\n",
       "\\end{tabular}\n"
      ],
      "text/markdown": [
       "\n",
       "A data.frame: 50 × 6\n",
       "\n",
       "| no &lt;int&gt; | dl_milk &lt;dbl&gt; | weight &lt;dbl&gt; | ml_suppl &lt;int&gt; | mat_weight &lt;int&gt; | mat_height &lt;int&gt; |\n",
       "|---|---|---|---|---|---|\n",
       "|   1 |  8.42 | 5.002 | 250 | 65 | 173 |\n",
       "|   4 |  8.44 | 5.128 |   0 | 48 | 158 |\n",
       "|   5 |  8.41 | 5.445 |  40 | 62 | 160 |\n",
       "|  10 |  9.65 | 5.106 |  60 | 55 | 162 |\n",
       "|  12 |  6.44 | 5.196 | 240 | 58 | 170 |\n",
       "|  16 |  6.29 | 5.526 |   0 | 56 | 153 |\n",
       "|  22 |  9.79 | 5.928 |  30 | 78 | 175 |\n",
       "|  28 |  8.43 | 5.263 |   0 | 57 | 170 |\n",
       "|  31 |  8.05 | 6.578 | 230 | 57 | 168 |\n",
       "|  32 |  6.48 | 5.588 | 555 | 58 | 173 |\n",
       "|  36 |  7.64 | 4.613 |   0 | 58 | 171 |\n",
       "|  39 |  8.73 | 5.882 |  60 | 54 | 163 |\n",
       "|  54 |  7.71 | 5.618 | 315 | 68 | 179 |\n",
       "|  55 |  8.39 | 6.032 | 370 | 56 | 175 |\n",
       "|  72 |  9.32 | 6.030 | 130 | 62 | 168 |\n",
       "|  78 |  6.78 | 4.727 |   0 | 59 | 172 |\n",
       "|  79 |  9.63 | 5.345 |  55 | 68 | 172 |\n",
       "|  80 |  5.97 | 5.359 |  10 | 60 | 159 |\n",
       "|  81 |  8.39 | 5.320 |  20 | 59 | 174 |\n",
       "|  82 | 10.43 | 6.501 | 105 | 76 | 185 |\n",
       "|  83 |  5.62 | 4.666 |  80 | 52 | 159 |\n",
       "|  84 |  6.84 | 4.969 |  80 | 54 | 165 |\n",
       "|  90 | 10.35 | 6.105 |   0 | 78 | 174 |\n",
       "|  91 |  4.91 | 4.360 |   0 | 49 | 162 |\n",
       "|  98 |  7.70 | 5.667 |   0 | 63 | 165 |\n",
       "|   6 | 10.03 | 6.100 |   0 | 58 | 167 |\n",
       "|  14 |  7.42 | 5.421 |  45 | 67 | 175 |\n",
       "|  25 |  5.00 | 4.744 |  30 | 73 | 164 |\n",
       "|  26 |  8.67 | 5.800 |  30 | 80 | 175 |\n",
       "|  27 |  6.90 | 5.822 |   0 | 59 | 174 |\n",
       "|  34 |  6.89 | 5.081 |  20 | 53 | 162 |\n",
       "|  37 |  7.22 | 5.336 | 590 | 58 | 160 |\n",
       "|  38 |  7.01 | 5.637 | 100 | 63 | 170 |\n",
       "|  40 |  8.06 | 5.546 |  70 | 61 | 170 |\n",
       "|  41 |  4.44 | 4.386 | 150 | 58 | 167 |\n",
       "|  43 |  8.57 | 5.568 |  30 | 70 | 172 |\n",
       "|  46 |  5.17 | 5.169 |   0 | 65 | 160 |\n",
       "|  47 |  7.74 | 4.825 | 210 | 58 | 176 |\n",
       "|  56 |  7.93 | 5.156 |  20 | 74 | 165 |\n",
       "|  57 |  5.03 | 4.120 | 100 | 55 | 162 |\n",
       "|  63 |  7.68 | 4.725 | 100 | 50 | 160 |\n",
       "|  65 |  6.91 | 5.636 |  30 | 49 | 161 |\n",
       "|  66 |  8.23 | 5.377 | 110 | 55 | 167 |\n",
       "|  68 |  7.36 | 5.195 |  80 | 59 | 171 |\n",
       "|  74 |  6.46 | 5.385 |  70 | 51 | 165 |\n",
       "|  85 |  7.24 | 4.635 |  15 | 48 | 167 |\n",
       "|  88 |  9.03 | 5.730 | 100 | 62 | 172 |\n",
       "| 100 |  4.63 | 5.360 | 145 | 48 | 157 |\n",
       "| 104 |  6.97 | 4.890 |  30 | 67 | 165 |\n",
       "| 105 |  5.82 | 4.339 |  95 | 47 | 163 |\n",
       "\n"
      ],
      "text/plain": [
       "   no  dl_milk weight ml_suppl mat_weight mat_height\n",
       "1    1  8.42   5.002  250      65         173       \n",
       "2    4  8.44   5.128    0      48         158       \n",
       "3    5  8.41   5.445   40      62         160       \n",
       "4   10  9.65   5.106   60      55         162       \n",
       "5   12  6.44   5.196  240      58         170       \n",
       "6   16  6.29   5.526    0      56         153       \n",
       "7   22  9.79   5.928   30      78         175       \n",
       "8   28  8.43   5.263    0      57         170       \n",
       "9   31  8.05   6.578  230      57         168       \n",
       "10  32  6.48   5.588  555      58         173       \n",
       "11  36  7.64   4.613    0      58         171       \n",
       "12  39  8.73   5.882   60      54         163       \n",
       "13  54  7.71   5.618  315      68         179       \n",
       "14  55  8.39   6.032  370      56         175       \n",
       "15  72  9.32   6.030  130      62         168       \n",
       "16  78  6.78   4.727    0      59         172       \n",
       "17  79  9.63   5.345   55      68         172       \n",
       "18  80  5.97   5.359   10      60         159       \n",
       "19  81  8.39   5.320   20      59         174       \n",
       "20  82 10.43   6.501  105      76         185       \n",
       "21  83  5.62   4.666   80      52         159       \n",
       "22  84  6.84   4.969   80      54         165       \n",
       "23  90 10.35   6.105    0      78         174       \n",
       "24  91  4.91   4.360    0      49         162       \n",
       "25  98  7.70   5.667    0      63         165       \n",
       "26   6 10.03   6.100    0      58         167       \n",
       "27  14  7.42   5.421   45      67         175       \n",
       "28  25  5.00   4.744   30      73         164       \n",
       "29  26  8.67   5.800   30      80         175       \n",
       "30  27  6.90   5.822    0      59         174       \n",
       "31  34  6.89   5.081   20      53         162       \n",
       "32  37  7.22   5.336  590      58         160       \n",
       "33  38  7.01   5.637  100      63         170       \n",
       "34  40  8.06   5.546   70      61         170       \n",
       "35  41  4.44   4.386  150      58         167       \n",
       "36  43  8.57   5.568   30      70         172       \n",
       "37  46  5.17   5.169    0      65         160       \n",
       "38  47  7.74   4.825  210      58         176       \n",
       "39  56  7.93   5.156   20      74         165       \n",
       "40  57  5.03   4.120  100      55         162       \n",
       "41  63  7.68   4.725  100      50         160       \n",
       "42  65  6.91   5.636   30      49         161       \n",
       "43  66  8.23   5.377  110      55         167       \n",
       "44  68  7.36   5.195   80      59         171       \n",
       "45  74  6.46   5.385   70      51         165       \n",
       "46  85  7.24   4.635   15      48         167       \n",
       "47  88  9.03   5.730  100      62         172       \n",
       "48 100  4.63   5.360  145      48         157       \n",
       "49 104  6.97   4.890   30      67         165       \n",
       "50 105  5.82   4.339   95      47         163       "
      ]
     },
     "metadata": {},
     "output_type": "display_data"
    }
   ],
   "source": [
    "kfm2=kfm[-c(3)]\n",
    "kfm2"
   ]
  },
  {
   "cell_type": "code",
   "execution_count": 211,
   "id": "621a0c87",
   "metadata": {
    "scrolled": true
   },
   "outputs": [
    {
     "data": {
      "text/html": [
       "<table class=\"dataframe\">\n",
       "<caption>A matrix: 6 × 6 of type dbl</caption>\n",
       "<thead>\n",
       "\t<tr><th></th><th scope=col>no</th><th scope=col>dl_milk</th><th scope=col>weight</th><th scope=col>ml_suppl</th><th scope=col>mat_weight</th><th scope=col>mat_height</th></tr>\n",
       "</thead>\n",
       "<tbody>\n",
       "\t<tr><th scope=row>no</th><td> 1.00000000</td><td>-0.18068364</td><td>-0.1649280</td><td>-0.12978958</td><td>-0.13731160</td><td>-0.02356765</td></tr>\n",
       "\t<tr><th scope=row>dl_milk</th><td>-0.18068364</td><td> 1.00000000</td><td> 0.6360448</td><td>-0.06351955</td><td> 0.43427002</td><td> 0.50504203</td></tr>\n",
       "\t<tr><th scope=row>weight</th><td>-0.16492803</td><td> 0.63604482</td><td> 1.0000000</td><td> 0.12838120</td><td> 0.40817476</td><td> 0.38675714</td></tr>\n",
       "\t<tr><th scope=row>ml_suppl</th><td>-0.12978958</td><td>-0.06351955</td><td> 0.1283812</td><td> 1.00000000</td><td>-0.07887363</td><td> 0.18230263</td></tr>\n",
       "\t<tr><th scope=row>mat_weight</th><td>-0.13731160</td><td> 0.43427002</td><td> 0.4081748</td><td>-0.07887363</td><td> 1.00000000</td><td> 0.56473304</td></tr>\n",
       "\t<tr><th scope=row>mat_height</th><td>-0.02356765</td><td> 0.50504203</td><td> 0.3867571</td><td> 0.18230263</td><td> 0.56473304</td><td> 1.00000000</td></tr>\n",
       "</tbody>\n",
       "</table>\n"
      ],
      "text/latex": [
       "A matrix: 6 × 6 of type dbl\n",
       "\\begin{tabular}{r|llllll}\n",
       "  & no & dl\\_milk & weight & ml\\_suppl & mat\\_weight & mat\\_height\\\\\n",
       "\\hline\n",
       "\tno &  1.00000000 & -0.18068364 & -0.1649280 & -0.12978958 & -0.13731160 & -0.02356765\\\\\n",
       "\tdl\\_milk & -0.18068364 &  1.00000000 &  0.6360448 & -0.06351955 &  0.43427002 &  0.50504203\\\\\n",
       "\tweight & -0.16492803 &  0.63604482 &  1.0000000 &  0.12838120 &  0.40817476 &  0.38675714\\\\\n",
       "\tml\\_suppl & -0.12978958 & -0.06351955 &  0.1283812 &  1.00000000 & -0.07887363 &  0.18230263\\\\\n",
       "\tmat\\_weight & -0.13731160 &  0.43427002 &  0.4081748 & -0.07887363 &  1.00000000 &  0.56473304\\\\\n",
       "\tmat\\_height & -0.02356765 &  0.50504203 &  0.3867571 &  0.18230263 &  0.56473304 &  1.00000000\\\\\n",
       "\\end{tabular}\n"
      ],
      "text/markdown": [
       "\n",
       "A matrix: 6 × 6 of type dbl\n",
       "\n",
       "| <!--/--> | no | dl_milk | weight | ml_suppl | mat_weight | mat_height |\n",
       "|---|---|---|---|---|---|---|\n",
       "| no |  1.00000000 | -0.18068364 | -0.1649280 | -0.12978958 | -0.13731160 | -0.02356765 |\n",
       "| dl_milk | -0.18068364 |  1.00000000 |  0.6360448 | -0.06351955 |  0.43427002 |  0.50504203 |\n",
       "| weight | -0.16492803 |  0.63604482 |  1.0000000 |  0.12838120 |  0.40817476 |  0.38675714 |\n",
       "| ml_suppl | -0.12978958 | -0.06351955 |  0.1283812 |  1.00000000 | -0.07887363 |  0.18230263 |\n",
       "| mat_weight | -0.13731160 |  0.43427002 |  0.4081748 | -0.07887363 |  1.00000000 |  0.56473304 |\n",
       "| mat_height | -0.02356765 |  0.50504203 |  0.3867571 |  0.18230263 |  0.56473304 |  1.00000000 |\n",
       "\n"
      ],
      "text/plain": [
       "           no          dl_milk     weight     ml_suppl    mat_weight \n",
       "no          1.00000000 -0.18068364 -0.1649280 -0.12978958 -0.13731160\n",
       "dl_milk    -0.18068364  1.00000000  0.6360448 -0.06351955  0.43427002\n",
       "weight     -0.16492803  0.63604482  1.0000000  0.12838120  0.40817476\n",
       "ml_suppl   -0.12978958 -0.06351955  0.1283812  1.00000000 -0.07887363\n",
       "mat_weight -0.13731160  0.43427002  0.4081748 -0.07887363  1.00000000\n",
       "mat_height -0.02356765  0.50504203  0.3867571  0.18230263  0.56473304\n",
       "           mat_height \n",
       "no         -0.02356765\n",
       "dl_milk     0.50504203\n",
       "weight      0.38675714\n",
       "ml_suppl    0.18230263\n",
       "mat_weight  0.56473304\n",
       "mat_height  1.00000000"
      ]
     },
     "metadata": {},
     "output_type": "display_data"
    }
   ],
   "source": [
    "cor(kfm2)"
   ]
  },
  {
   "cell_type": "markdown",
   "id": "7ac145e1",
   "metadata": {},
   "source": [
    "### Interpretacja\n",
    "- Najwyższą korelację możemy zauważyć między wagą dziecka i ilością mleka. Wynosi ona 0.636. silna korelacja dodatnia. Na wykresie również możemy zauważyć dodatnią korelację."
   ]
  },
  {
   "cell_type": "markdown",
   "id": "a013a1ee",
   "metadata": {},
   "source": [
    "### d)\n",
    "Przyjmując poziom istotności równy 0.05 dokonaj krokowej proce\u0002dury wyboru modelu startując z modelu zawierającego wszystkie zmienne i\n",
    "eliminując zmienne nieistotne o największej p-wartości. Napisz i zinterpretuj\n",
    "otrzymany końcowy model."
   ]
  },
  {
   "cell_type": "code",
   "execution_count": 212,
   "id": "1996d742",
   "metadata": {
    "scrolled": true
   },
   "outputs": [
    {
     "data": {
      "text/plain": [
       "\n",
       "Call:\n",
       "lm(formula = dl_milk ~ . - no, data = kfm)\n",
       "\n",
       "Residuals:\n",
       "     Min       1Q   Median       3Q      Max \n",
       "-1.74201 -0.81173 -0.00926  0.78326  2.52646 \n",
       "\n",
       "Coefficients:\n",
       "              Estimate Std. Error t value Pr(>|t|)    \n",
       "(Intercept) -11.681839   4.361561  -2.678 0.010363 *  \n",
       "sexgirl      -0.499532   0.312672  -1.598 0.117284    \n",
       "weight        1.349124   0.322450   4.184 0.000135 ***\n",
       "ml_suppl     -0.002233   0.001241  -1.799 0.078829 .  \n",
       "mat_weight    0.006212   0.023708   0.262 0.794535    \n",
       "mat_height    0.072278   0.030169   2.396 0.020906 *  \n",
       "---\n",
       "Signif. codes:  0 '***' 0.001 '**' 0.01 '*' 0.05 '.' 0.1 ' ' 1\n",
       "\n",
       "Residual standard error: 1.075 on 44 degrees of freedom\n",
       "Multiple R-squared:  0.5459,\tAdjusted R-squared:  0.4943 \n",
       "F-statistic: 10.58 on 5 and 44 DF,  p-value: 1.03e-06\n"
      ]
     },
     "metadata": {},
     "output_type": "display_data"
    },
    {
     "data": {
      "text/plain": [
       "\n",
       "Call:\n",
       "lm(formula = dl_milk ~ . - no - mat_weight, data = kfm)\n",
       "\n",
       "Residuals:\n",
       "     Min       1Q   Median       3Q      Max \n",
       "-1.77312 -0.81196 -0.00683  0.76988  2.52240 \n",
       "\n",
       "Coefficients:\n",
       "              Estimate Std. Error t value Pr(>|t|)    \n",
       "(Intercept) -12.112571   3.997860  -3.030  0.00405 ** \n",
       "sexgirl      -0.494675   0.308875  -1.602  0.11626    \n",
       "weight        1.372524   0.306612   4.476 5.14e-05 ***\n",
       "ml_suppl     -0.002313   0.001190  -1.943  0.05824 .  \n",
       "mat_height    0.076363   0.025560   2.988  0.00454 ** \n",
       "---\n",
       "Signif. codes:  0 '***' 0.001 '**' 0.01 '*' 0.05 '.' 0.1 ' ' 1\n",
       "\n",
       "Residual standard error: 1.064 on 45 degrees of freedom\n",
       "Multiple R-squared:  0.5452,\tAdjusted R-squared:  0.5047 \n",
       "F-statistic: 13.48 on 4 and 45 DF,  p-value: 2.658e-07\n"
      ]
     },
     "metadata": {},
     "output_type": "display_data"
    },
    {
     "data": {
      "text/plain": [
       "\n",
       "Call:\n",
       "lm(formula = dl_milk ~ . - no - mat_weight - sex, data = kfm)\n",
       "\n",
       "Residuals:\n",
       "     Min       1Q   Median       3Q      Max \n",
       "-2.06540 -0.74758 -0.02408  0.67488  2.79882 \n",
       "\n",
       "Coefficients:\n",
       "              Estimate Std. Error t value Pr(>|t|)    \n",
       "(Intercept) -13.064926   4.020073  -3.250  0.00216 ** \n",
       "weight        1.464781   0.306231   4.783 1.81e-05 ***\n",
       "ml_suppl     -0.002237   0.001209  -1.850  0.07074 .  \n",
       "mat_height    0.077600   0.025979   2.987  0.00451 ** \n",
       "---\n",
       "Signif. codes:  0 '***' 0.001 '**' 0.01 '*' 0.05 '.' 0.1 ' ' 1\n",
       "\n",
       "Residual standard error: 1.082 on 46 degrees of freedom\n",
       "Multiple R-squared:  0.5192,\tAdjusted R-squared:  0.4879 \n",
       "F-statistic: 16.56 on 3 and 46 DF,  p-value: 1.953e-07\n"
      ]
     },
     "metadata": {},
     "output_type": "display_data"
    },
    {
     "data": {
      "text/plain": [
       "\n",
       "Call:\n",
       "lm(formula = dl_milk ~ . - no - mat_weight - sex - ml_suppl, \n",
       "    data = kfm)\n",
       "\n",
       "Residuals:\n",
       "     Min       1Q   Median       3Q      Max \n",
       "-2.19598 -0.82149  0.01822  0.75582  2.83375 \n",
       "\n",
       "Coefficients:\n",
       "             Estimate Std. Error t value Pr(>|t|)    \n",
       "(Intercept) -11.92014    4.07325  -2.926  0.00527 ** \n",
       "weight        1.42862    0.31338   4.559 3.67e-05 ***\n",
       "mat_height    0.07063    0.02636   2.680  0.01013 *  \n",
       "---\n",
       "Signif. codes:  0 '***' 0.001 '**' 0.01 '*' 0.05 '.' 0.1 ' ' 1\n",
       "\n",
       "Residual standard error: 1.109 on 47 degrees of freedom\n",
       "Multiple R-squared:  0.4835,\tAdjusted R-squared:  0.4615 \n",
       "F-statistic:    22 on 2 and 47 DF,  p-value: 1.811e-07\n"
      ]
     },
     "metadata": {},
     "output_type": "display_data"
    }
   ],
   "source": [
    "summary(lm( dl_milk ~ . -no, data = kfm))\n",
    "summary(lm( dl_milk ~ . -no -mat_weight, data = kfm))\n",
    "summary(lm( dl_milk ~ . -no -mat_weight -sex, data = kfm))\n",
    "summary(lm( dl_milk ~ . -no -mat_weight -sex -ml_suppl, data = kfm))"
   ]
  },
  {
   "cell_type": "markdown",
   "id": "e191ed04",
   "metadata": {},
   "source": [
    "### Interpretacja\n",
    "- Ostateczny model:Dl_milk=-11.92014 + 1.42862*weight + 0.07063*mat_height\n",
    "- Ilość spożytego mleka zwiększa się o 1.42862 wraz z każdym kilogramem dziecka i o 0.07063 wraz z każdym cm dziecka."
   ]
  },
  {
   "cell_type": "markdown",
   "id": "a38d1d59",
   "metadata": {},
   "source": [
    "## Zadanie 2, L1"
   ]
  },
  {
   "cell_type": "code",
   "execution_count": 213,
   "id": "bab50cb1",
   "metadata": {},
   "outputs": [
    {
     "name": "stderr",
     "output_type": "stream",
     "text": [
      "Następujące obiekty zostały zakryte z iris (pos = 4):\n",
      "\n",
      "    Petal.Length, Petal.Width, Sepal.Length, Sepal.Width, Species\n",
      "\n",
      "\n"
     ]
    },
    {
     "data": {
      "text/html": [
       "<table class=\"dataframe\">\n",
       "<caption>A data.frame: 6 × 5</caption>\n",
       "<thead>\n",
       "\t<tr><th></th><th scope=col>Sepal.Length</th><th scope=col>Sepal.Width</th><th scope=col>Petal.Length</th><th scope=col>Petal.Width</th><th scope=col>Species</th></tr>\n",
       "\t<tr><th></th><th scope=col>&lt;dbl&gt;</th><th scope=col>&lt;dbl&gt;</th><th scope=col>&lt;dbl&gt;</th><th scope=col>&lt;dbl&gt;</th><th scope=col>&lt;fct&gt;</th></tr>\n",
       "</thead>\n",
       "<tbody>\n",
       "\t<tr><th scope=row>1</th><td>5.1</td><td>3.5</td><td>1.4</td><td>0.2</td><td>setosa</td></tr>\n",
       "\t<tr><th scope=row>2</th><td>4.9</td><td>3.0</td><td>1.4</td><td>0.2</td><td>setosa</td></tr>\n",
       "\t<tr><th scope=row>3</th><td>4.7</td><td>3.2</td><td>1.3</td><td>0.2</td><td>setosa</td></tr>\n",
       "\t<tr><th scope=row>4</th><td>4.6</td><td>3.1</td><td>1.5</td><td>0.2</td><td>setosa</td></tr>\n",
       "\t<tr><th scope=row>5</th><td>5.0</td><td>3.6</td><td>1.4</td><td>0.2</td><td>setosa</td></tr>\n",
       "\t<tr><th scope=row>6</th><td>5.4</td><td>3.9</td><td>1.7</td><td>0.4</td><td>setosa</td></tr>\n",
       "</tbody>\n",
       "</table>\n"
      ],
      "text/latex": [
       "A data.frame: 6 × 5\n",
       "\\begin{tabular}{r|lllll}\n",
       "  & Sepal.Length & Sepal.Width & Petal.Length & Petal.Width & Species\\\\\n",
       "  & <dbl> & <dbl> & <dbl> & <dbl> & <fct>\\\\\n",
       "\\hline\n",
       "\t1 & 5.1 & 3.5 & 1.4 & 0.2 & setosa\\\\\n",
       "\t2 & 4.9 & 3.0 & 1.4 & 0.2 & setosa\\\\\n",
       "\t3 & 4.7 & 3.2 & 1.3 & 0.2 & setosa\\\\\n",
       "\t4 & 4.6 & 3.1 & 1.5 & 0.2 & setosa\\\\\n",
       "\t5 & 5.0 & 3.6 & 1.4 & 0.2 & setosa\\\\\n",
       "\t6 & 5.4 & 3.9 & 1.7 & 0.4 & setosa\\\\\n",
       "\\end{tabular}\n"
      ],
      "text/markdown": [
       "\n",
       "A data.frame: 6 × 5\n",
       "\n",
       "| <!--/--> | Sepal.Length &lt;dbl&gt; | Sepal.Width &lt;dbl&gt; | Petal.Length &lt;dbl&gt; | Petal.Width &lt;dbl&gt; | Species &lt;fct&gt; |\n",
       "|---|---|---|---|---|---|\n",
       "| 1 | 5.1 | 3.5 | 1.4 | 0.2 | setosa |\n",
       "| 2 | 4.9 | 3.0 | 1.4 | 0.2 | setosa |\n",
       "| 3 | 4.7 | 3.2 | 1.3 | 0.2 | setosa |\n",
       "| 4 | 4.6 | 3.1 | 1.5 | 0.2 | setosa |\n",
       "| 5 | 5.0 | 3.6 | 1.4 | 0.2 | setosa |\n",
       "| 6 | 5.4 | 3.9 | 1.7 | 0.4 | setosa |\n",
       "\n"
      ],
      "text/plain": [
       "  Sepal.Length Sepal.Width Petal.Length Petal.Width Species\n",
       "1 5.1          3.5         1.4          0.2         setosa \n",
       "2 4.9          3.0         1.4          0.2         setosa \n",
       "3 4.7          3.2         1.3          0.2         setosa \n",
       "4 4.6          3.1         1.5          0.2         setosa \n",
       "5 5.0          3.6         1.4          0.2         setosa \n",
       "6 5.4          3.9         1.7          0.4         setosa "
      ]
     },
     "metadata": {},
     "output_type": "display_data"
    },
    {
     "data": {
      "text/html": [
       "<table class=\"dataframe\">\n",
       "<caption>A data.frame: 3 × 1</caption>\n",
       "<thead>\n",
       "\t<tr><th></th><th scope=col>Species</th></tr>\n",
       "\t<tr><th></th><th scope=col>&lt;fct&gt;</th></tr>\n",
       "</thead>\n",
       "<tbody>\n",
       "\t<tr><th scope=row>1</th><td>setosa    </td></tr>\n",
       "\t<tr><th scope=row>51</th><td>versicolor</td></tr>\n",
       "\t<tr><th scope=row>101</th><td>virginica </td></tr>\n",
       "</tbody>\n",
       "</table>\n"
      ],
      "text/latex": [
       "A data.frame: 3 × 1\n",
       "\\begin{tabular}{r|l}\n",
       "  & Species\\\\\n",
       "  & <fct>\\\\\n",
       "\\hline\n",
       "\t1 & setosa    \\\\\n",
       "\t51 & versicolor\\\\\n",
       "\t101 & virginica \\\\\n",
       "\\end{tabular}\n"
      ],
      "text/markdown": [
       "\n",
       "A data.frame: 3 × 1\n",
       "\n",
       "| <!--/--> | Species &lt;fct&gt; |\n",
       "|---|---|\n",
       "| 1 | setosa     |\n",
       "| 51 | versicolor |\n",
       "| 101 | virginica  |\n",
       "\n"
      ],
      "text/plain": [
       "    Species   \n",
       "1   setosa    \n",
       "51  versicolor\n",
       "101 virginica "
      ]
     },
     "metadata": {},
     "output_type": "display_data"
    }
   ],
   "source": [
    "data(iris)\n",
    "attach(iris)\n",
    "head(iris)\n",
    "unique(iris[5])"
   ]
  },
  {
   "cell_type": "markdown",
   "id": "ca88f290",
   "metadata": {},
   "source": [
    "### a)\n",
    "Narysuj histogramy rozkładu długości i szerokości kielicha dla trzech\n",
    "analizowanych gatunków."
   ]
  },
  {
   "cell_type": "code",
   "execution_count": 214,
   "id": "eb3dad90",
   "metadata": {},
   "outputs": [],
   "source": [
    "iris.versicolor <- iris[iris$Species==\"versicolor\",1:4]\n",
    "iris.setosa <- iris[iris$Species==\"setosa\",1:4]\n",
    "iris.virginica <- iris[iris$Species==\"virginica\",1:4]"
   ]
  },
  {
   "cell_type": "code",
   "execution_count": 215,
   "id": "a29eee89",
   "metadata": {
    "scrolled": true
   },
   "outputs": [
    {
     "data": {
      "image/png": "[encoded data removed]",
      "text/plain": [
       "Plot with title \"versicolor width\""
      ]
     },
     "metadata": {
      "image/png": {
       "height": 420,
       "width": 420
      }
     },
     "output_type": "display_data"
    }
   ],
   "source": [
    "par(mfrow = c(1, 2))\n",
    "hist(iris.versicolor$Sepal.Length, xlab= \"długość kielicha\", main=\"versicolor length\")\n",
    "hist(iris.versicolor$Sepal.Width, xlab= \"szerokość kielicha\", main=\"versicolor width\")"
   ]
  },
  {
   "cell_type": "code",
   "execution_count": 216,
   "id": "18da8bc4",
   "metadata": {},
   "outputs": [
    {
     "data": {
      "image/png": "[encoded data removed]",
      "text/plain": [
       "Plot with title \"setosa width\""
      ]
     },
     "metadata": {
      "image/png": {
       "height": 420,
       "width": 420
      }
     },
     "output_type": "display_data"
    }
   ],
   "source": [
    "par(mfrow = c(1, 2))\n",
    "hist(iris.setosa$Sepal.Length, xlab= \"długość kielicha\", main=\"setosa length\")\n",
    "hist(iris.setosa$Sepal.Width, xlab= \"szerokość kielicha\", main=\"setosa width\")"
   ]
  },
  {
   "cell_type": "code",
   "execution_count": 217,
   "id": "fec52cdc",
   "metadata": {},
   "outputs": [
    {
     "data": {
      "image/png": "[encoded data removed]",
      "text/plain": [
       "Plot with title \"virginica width\""
      ]
     },
     "metadata": {
      "image/png": {
       "height": 420,
       "width": 420
      }
     },
     "output_type": "display_data"
    }
   ],
   "source": [
    "par(mfrow = c(1, 2))\n",
    "hist(iris.virginica$Sepal.Length, xlab= \"długość kielicha\", main=\"virginica length\")\n",
    "hist(iris.virginica$Sepal.Width, xlab= \"szerokość kielicha\", main=\"virginica width\")"
   ]
  },
  {
   "cell_type": "markdown",
   "id": "94c0754f",
   "metadata": {},
   "source": [
    "### b)\n",
    "Przedstaw wykresy korelacji parami dla długości i szerokości kielicha\n",
    "oraz długości i szerokości płatka (dla każdego gatunku osobno). Jakie widzisz\n",
    "zależności?"
   ]
  },
  {
   "cell_type": "code",
   "execution_count": 218,
   "id": "9cdd7899",
   "metadata": {
    "scrolled": true
   },
   "outputs": [
    {
     "data": {
      "text/html": [
       "<table class=\"dataframe\">\n",
       "<caption>A data.frame: 50 × 4</caption>\n",
       "<thead>\n",
       "\t<tr><th></th><th scope=col>Sepal.Length</th><th scope=col>Sepal.Width</th><th scope=col>Petal.Length</th><th scope=col>Petal.Width</th></tr>\n",
       "\t<tr><th></th><th scope=col>&lt;dbl&gt;</th><th scope=col>&lt;dbl&gt;</th><th scope=col>&lt;dbl&gt;</th><th scope=col>&lt;dbl&gt;</th></tr>\n",
       "</thead>\n",
       "<tbody>\n",
       "\t<tr><th scope=row>51</th><td>7.0</td><td>3.2</td><td>4.7</td><td>1.4</td></tr>\n",
       "\t<tr><th scope=row>52</th><td>6.4</td><td>3.2</td><td>4.5</td><td>1.5</td></tr>\n",
       "\t<tr><th scope=row>53</th><td>6.9</td><td>3.1</td><td>4.9</td><td>1.5</td></tr>\n",
       "\t<tr><th scope=row>54</th><td>5.5</td><td>2.3</td><td>4.0</td><td>1.3</td></tr>\n",
       "\t<tr><th scope=row>55</th><td>6.5</td><td>2.8</td><td>4.6</td><td>1.5</td></tr>\n",
       "\t<tr><th scope=row>56</th><td>5.7</td><td>2.8</td><td>4.5</td><td>1.3</td></tr>\n",
       "\t<tr><th scope=row>57</th><td>6.3</td><td>3.3</td><td>4.7</td><td>1.6</td></tr>\n",
       "\t<tr><th scope=row>58</th><td>4.9</td><td>2.4</td><td>3.3</td><td>1.0</td></tr>\n",
       "\t<tr><th scope=row>59</th><td>6.6</td><td>2.9</td><td>4.6</td><td>1.3</td></tr>\n",
       "\t<tr><th scope=row>60</th><td>5.2</td><td>2.7</td><td>3.9</td><td>1.4</td></tr>\n",
       "\t<tr><th scope=row>61</th><td>5.0</td><td>2.0</td><td>3.5</td><td>1.0</td></tr>\n",
       "\t<tr><th scope=row>62</th><td>5.9</td><td>3.0</td><td>4.2</td><td>1.5</td></tr>\n",
       "\t<tr><th scope=row>63</th><td>6.0</td><td>2.2</td><td>4.0</td><td>1.0</td></tr>\n",
       "\t<tr><th scope=row>64</th><td>6.1</td><td>2.9</td><td>4.7</td><td>1.4</td></tr>\n",
       "\t<tr><th scope=row>65</th><td>5.6</td><td>2.9</td><td>3.6</td><td>1.3</td></tr>\n",
       "\t<tr><th scope=row>66</th><td>6.7</td><td>3.1</td><td>4.4</td><td>1.4</td></tr>\n",
       "\t<tr><th scope=row>67</th><td>5.6</td><td>3.0</td><td>4.5</td><td>1.5</td></tr>\n",
       "\t<tr><th scope=row>68</th><td>5.8</td><td>2.7</td><td>4.1</td><td>1.0</td></tr>\n",
       "\t<tr><th scope=row>69</th><td>6.2</td><td>2.2</td><td>4.5</td><td>1.5</td></tr>\n",
       "\t<tr><th scope=row>70</th><td>5.6</td><td>2.5</td><td>3.9</td><td>1.1</td></tr>\n",
       "\t<tr><th scope=row>71</th><td>5.9</td><td>3.2</td><td>4.8</td><td>1.8</td></tr>\n",
       "\t<tr><th scope=row>72</th><td>6.1</td><td>2.8</td><td>4.0</td><td>1.3</td></tr>\n",
       "\t<tr><th scope=row>73</th><td>6.3</td><td>2.5</td><td>4.9</td><td>1.5</td></tr>\n",
       "\t<tr><th scope=row>74</th><td>6.1</td><td>2.8</td><td>4.7</td><td>1.2</td></tr>\n",
       "\t<tr><th scope=row>75</th><td>6.4</td><td>2.9</td><td>4.3</td><td>1.3</td></tr>\n",
       "\t<tr><th scope=row>76</th><td>6.6</td><td>3.0</td><td>4.4</td><td>1.4</td></tr>\n",
       "\t<tr><th scope=row>77</th><td>6.8</td><td>2.8</td><td>4.8</td><td>1.4</td></tr>\n",
       "\t<tr><th scope=row>78</th><td>6.7</td><td>3.0</td><td>5.0</td><td>1.7</td></tr>\n",
       "\t<tr><th scope=row>79</th><td>6.0</td><td>2.9</td><td>4.5</td><td>1.5</td></tr>\n",
       "\t<tr><th scope=row>80</th><td>5.7</td><td>2.6</td><td>3.5</td><td>1.0</td></tr>\n",
       "\t<tr><th scope=row>81</th><td>5.5</td><td>2.4</td><td>3.8</td><td>1.1</td></tr>\n",
       "\t<tr><th scope=row>82</th><td>5.5</td><td>2.4</td><td>3.7</td><td>1.0</td></tr>\n",
       "\t<tr><th scope=row>83</th><td>5.8</td><td>2.7</td><td>3.9</td><td>1.2</td></tr>\n",
       "\t<tr><th scope=row>84</th><td>6.0</td><td>2.7</td><td>5.1</td><td>1.6</td></tr>\n",
       "\t<tr><th scope=row>85</th><td>5.4</td><td>3.0</td><td>4.5</td><td>1.5</td></tr>\n",
       "\t<tr><th scope=row>86</th><td>6.0</td><td>3.4</td><td>4.5</td><td>1.6</td></tr>\n",
       "\t<tr><th scope=row>87</th><td>6.7</td><td>3.1</td><td>4.7</td><td>1.5</td></tr>\n",
       "\t<tr><th scope=row>88</th><td>6.3</td><td>2.3</td><td>4.4</td><td>1.3</td></tr>\n",
       "\t<tr><th scope=row>89</th><td>5.6</td><td>3.0</td><td>4.1</td><td>1.3</td></tr>\n",
       "\t<tr><th scope=row>90</th><td>5.5</td><td>2.5</td><td>4.0</td><td>1.3</td></tr>\n",
       "\t<tr><th scope=row>91</th><td>5.5</td><td>2.6</td><td>4.4</td><td>1.2</td></tr>\n",
       "\t<tr><th scope=row>92</th><td>6.1</td><td>3.0</td><td>4.6</td><td>1.4</td></tr>\n",
       "\t<tr><th scope=row>93</th><td>5.8</td><td>2.6</td><td>4.0</td><td>1.2</td></tr>\n",
       "\t<tr><th scope=row>94</th><td>5.0</td><td>2.3</td><td>3.3</td><td>1.0</td></tr>\n",
       "\t<tr><th scope=row>95</th><td>5.6</td><td>2.7</td><td>4.2</td><td>1.3</td></tr>\n",
       "\t<tr><th scope=row>96</th><td>5.7</td><td>3.0</td><td>4.2</td><td>1.2</td></tr>\n",
       "\t<tr><th scope=row>97</th><td>5.7</td><td>2.9</td><td>4.2</td><td>1.3</td></tr>\n",
       "\t<tr><th scope=row>98</th><td>6.2</td><td>2.9</td><td>4.3</td><td>1.3</td></tr>\n",
       "\t<tr><th scope=row>99</th><td>5.1</td><td>2.5</td><td>3.0</td><td>1.1</td></tr>\n",
       "\t<tr><th scope=row>100</th><td>5.7</td><td>2.8</td><td>4.1</td><td>1.3</td></tr>\n",
       "</tbody>\n",
       "</table>\n"
      ],
      "text/latex": [
       "A data.frame: 50 × 4\n",
       "\\begin{tabular}{r|llll}\n",
       "  & Sepal.Length & Sepal.Width & Petal.Length & Petal.Width\\\\\n",
       "  & <dbl> & <dbl> & <dbl> & <dbl>\\\\\n",
       "\\hline\n",
       "\t51 & 7.0 & 3.2 & 4.7 & 1.4\\\\\n",
       "\t52 & 6.4 & 3.2 & 4.5 & 1.5\\\\\n",
       "\t53 & 6.9 & 3.1 & 4.9 & 1.5\\\\\n",
       "\t54 & 5.5 & 2.3 & 4.0 & 1.3\\\\\n",
       "\t55 & 6.5 & 2.8 & 4.6 & 1.5\\\\\n",
       "\t56 & 5.7 & 2.8 & 4.5 & 1.3\\\\\n",
       "\t57 & 6.3 & 3.3 & 4.7 & 1.6\\\\\n",
       "\t58 & 4.9 & 2.4 & 3.3 & 1.0\\\\\n",
       "\t59 & 6.6 & 2.9 & 4.6 & 1.3\\\\\n",
       "\t60 & 5.2 & 2.7 & 3.9 & 1.4\\\\\n",
       "\t61 & 5.0 & 2.0 & 3.5 & 1.0\\\\\n",
       "\t62 & 5.9 & 3.0 & 4.2 & 1.5\\\\\n",
       "\t63 & 6.0 & 2.2 & 4.0 & 1.0\\\\\n",
       "\t64 & 6.1 & 2.9 & 4.7 & 1.4\\\\\n",
       "\t65 & 5.6 & 2.9 & 3.6 & 1.3\\\\\n",
       "\t66 & 6.7 & 3.1 & 4.4 & 1.4\\\\\n",
       "\t67 & 5.6 & 3.0 & 4.5 & 1.5\\\\\n",
       "\t68 & 5.8 & 2.7 & 4.1 & 1.0\\\\\n",
       "\t69 & 6.2 & 2.2 & 4.5 & 1.5\\\\\n",
       "\t70 & 5.6 & 2.5 & 3.9 & 1.1\\\\\n",
       "\t71 & 5.9 & 3.2 & 4.8 & 1.8\\\\\n",
       "\t72 & 6.1 & 2.8 & 4.0 & 1.3\\\\\n",
       "\t73 & 6.3 & 2.5 & 4.9 & 1.5\\\\\n",
       "\t74 & 6.1 & 2.8 & 4.7 & 1.2\\\\\n",
       "\t75 & 6.4 & 2.9 & 4.3 & 1.3\\\\\n",
       "\t76 & 6.6 & 3.0 & 4.4 & 1.4\\\\\n",
       "\t77 & 6.8 & 2.8 & 4.8 & 1.4\\\\\n",
       "\t78 & 6.7 & 3.0 & 5.0 & 1.7\\\\\n",
       "\t79 & 6.0 & 2.9 & 4.5 & 1.5\\\\\n",
       "\t80 & 5.7 & 2.6 & 3.5 & 1.0\\\\\n",
       "\t81 & 5.5 & 2.4 & 3.8 & 1.1\\\\\n",
       "\t82 & 5.5 & 2.4 & 3.7 & 1.0\\\\\n",
       "\t83 & 5.8 & 2.7 & 3.9 & 1.2\\\\\n",
       "\t84 & 6.0 & 2.7 & 5.1 & 1.6\\\\\n",
       "\t85 & 5.4 & 3.0 & 4.5 & 1.5\\\\\n",
       "\t86 & 6.0 & 3.4 & 4.5 & 1.6\\\\\n",
       "\t87 & 6.7 & 3.1 & 4.7 & 1.5\\\\\n",
       "\t88 & 6.3 & 2.3 & 4.4 & 1.3\\\\\n",
       "\t89 & 5.6 & 3.0 & 4.1 & 1.3\\\\\n",
       "\t90 & 5.5 & 2.5 & 4.0 & 1.3\\\\\n",
       "\t91 & 5.5 & 2.6 & 4.4 & 1.2\\\\\n",
       "\t92 & 6.1 & 3.0 & 4.6 & 1.4\\\\\n",
       "\t93 & 5.8 & 2.6 & 4.0 & 1.2\\\\\n",
       "\t94 & 5.0 & 2.3 & 3.3 & 1.0\\\\\n",
       "\t95 & 5.6 & 2.7 & 4.2 & 1.3\\\\\n",
       "\t96 & 5.7 & 3.0 & 4.2 & 1.2\\\\\n",
       "\t97 & 5.7 & 2.9 & 4.2 & 1.3\\\\\n",
       "\t98 & 6.2 & 2.9 & 4.3 & 1.3\\\\\n",
       "\t99 & 5.1 & 2.5 & 3.0 & 1.1\\\\\n",
       "\t100 & 5.7 & 2.8 & 4.1 & 1.3\\\\\n",
       "\\end{tabular}\n"
      ],
      "text/markdown": [
       "\n",
       "A data.frame: 50 × 4\n",
       "\n",
       "| <!--/--> | Sepal.Length &lt;dbl&gt; | Sepal.Width &lt;dbl&gt; | Petal.Length &lt;dbl&gt; | Petal.Width &lt;dbl&gt; |\n",
       "|---|---|---|---|---|\n",
       "| 51 | 7.0 | 3.2 | 4.7 | 1.4 |\n",
       "| 52 | 6.4 | 3.2 | 4.5 | 1.5 |\n",
       "| 53 | 6.9 | 3.1 | 4.9 | 1.5 |\n",
       "| 54 | 5.5 | 2.3 | 4.0 | 1.3 |\n",
       "| 55 | 6.5 | 2.8 | 4.6 | 1.5 |\n",
       "| 56 | 5.7 | 2.8 | 4.5 | 1.3 |\n",
       "| 57 | 6.3 | 3.3 | 4.7 | 1.6 |\n",
       "| 58 | 4.9 | 2.4 | 3.3 | 1.0 |\n",
       "| 59 | 6.6 | 2.9 | 4.6 | 1.3 |\n",
       "| 60 | 5.2 | 2.7 | 3.9 | 1.4 |\n",
       "| 61 | 5.0 | 2.0 | 3.5 | 1.0 |\n",
       "| 62 | 5.9 | 3.0 | 4.2 | 1.5 |\n",
       "| 63 | 6.0 | 2.2 | 4.0 | 1.0 |\n",
       "| 64 | 6.1 | 2.9 | 4.7 | 1.4 |\n",
       "| 65 | 5.6 | 2.9 | 3.6 | 1.3 |\n",
       "| 66 | 6.7 | 3.1 | 4.4 | 1.4 |\n",
       "| 67 | 5.6 | 3.0 | 4.5 | 1.5 |\n",
       "| 68 | 5.8 | 2.7 | 4.1 | 1.0 |\n",
       "| 69 | 6.2 | 2.2 | 4.5 | 1.5 |\n",
       "| 70 | 5.6 | 2.5 | 3.9 | 1.1 |\n",
       "| 71 | 5.9 | 3.2 | 4.8 | 1.8 |\n",
       "| 72 | 6.1 | 2.8 | 4.0 | 1.3 |\n",
       "| 73 | 6.3 | 2.5 | 4.9 | 1.5 |\n",
       "| 74 | 6.1 | 2.8 | 4.7 | 1.2 |\n",
       "| 75 | 6.4 | 2.9 | 4.3 | 1.3 |\n",
       "| 76 | 6.6 | 3.0 | 4.4 | 1.4 |\n",
       "| 77 | 6.8 | 2.8 | 4.8 | 1.4 |\n",
       "| 78 | 6.7 | 3.0 | 5.0 | 1.7 |\n",
       "| 79 | 6.0 | 2.9 | 4.5 | 1.5 |\n",
       "| 80 | 5.7 | 2.6 | 3.5 | 1.0 |\n",
       "| 81 | 5.5 | 2.4 | 3.8 | 1.1 |\n",
       "| 82 | 5.5 | 2.4 | 3.7 | 1.0 |\n",
       "| 83 | 5.8 | 2.7 | 3.9 | 1.2 |\n",
       "| 84 | 6.0 | 2.7 | 5.1 | 1.6 |\n",
       "| 85 | 5.4 | 3.0 | 4.5 | 1.5 |\n",
       "| 86 | 6.0 | 3.4 | 4.5 | 1.6 |\n",
       "| 87 | 6.7 | 3.1 | 4.7 | 1.5 |\n",
       "| 88 | 6.3 | 2.3 | 4.4 | 1.3 |\n",
       "| 89 | 5.6 | 3.0 | 4.1 | 1.3 |\n",
       "| 90 | 5.5 | 2.5 | 4.0 | 1.3 |\n",
       "| 91 | 5.5 | 2.6 | 4.4 | 1.2 |\n",
       "| 92 | 6.1 | 3.0 | 4.6 | 1.4 |\n",
       "| 93 | 5.8 | 2.6 | 4.0 | 1.2 |\n",
       "| 94 | 5.0 | 2.3 | 3.3 | 1.0 |\n",
       "| 95 | 5.6 | 2.7 | 4.2 | 1.3 |\n",
       "| 96 | 5.7 | 3.0 | 4.2 | 1.2 |\n",
       "| 97 | 5.7 | 2.9 | 4.2 | 1.3 |\n",
       "| 98 | 6.2 | 2.9 | 4.3 | 1.3 |\n",
       "| 99 | 5.1 | 2.5 | 3.0 | 1.1 |\n",
       "| 100 | 5.7 | 2.8 | 4.1 | 1.3 |\n",
       "\n"
      ],
      "text/plain": [
       "    Sepal.Length Sepal.Width Petal.Length Petal.Width\n",
       "51  7.0          3.2         4.7          1.4        \n",
       "52  6.4          3.2         4.5          1.5        \n",
       "53  6.9          3.1         4.9          1.5        \n",
       "54  5.5          2.3         4.0          1.3        \n",
       "55  6.5          2.8         4.6          1.5        \n",
       "56  5.7          2.8         4.5          1.3        \n",
       "57  6.3          3.3         4.7          1.6        \n",
       "58  4.9          2.4         3.3          1.0        \n",
       "59  6.6          2.9         4.6          1.3        \n",
       "60  5.2          2.7         3.9          1.4        \n",
       "61  5.0          2.0         3.5          1.0        \n",
       "62  5.9          3.0         4.2          1.5        \n",
       "63  6.0          2.2         4.0          1.0        \n",
       "64  6.1          2.9         4.7          1.4        \n",
       "65  5.6          2.9         3.6          1.3        \n",
       "66  6.7          3.1         4.4          1.4        \n",
       "67  5.6          3.0         4.5          1.5        \n",
       "68  5.8          2.7         4.1          1.0        \n",
       "69  6.2          2.2         4.5          1.5        \n",
       "70  5.6          2.5         3.9          1.1        \n",
       "71  5.9          3.2         4.8          1.8        \n",
       "72  6.1          2.8         4.0          1.3        \n",
       "73  6.3          2.5         4.9          1.5        \n",
       "74  6.1          2.8         4.7          1.2        \n",
       "75  6.4          2.9         4.3          1.3        \n",
       "76  6.6          3.0         4.4          1.4        \n",
       "77  6.8          2.8         4.8          1.4        \n",
       "78  6.7          3.0         5.0          1.7        \n",
       "79  6.0          2.9         4.5          1.5        \n",
       "80  5.7          2.6         3.5          1.0        \n",
       "81  5.5          2.4         3.8          1.1        \n",
       "82  5.5          2.4         3.7          1.0        \n",
       "83  5.8          2.7         3.9          1.2        \n",
       "84  6.0          2.7         5.1          1.6        \n",
       "85  5.4          3.0         4.5          1.5        \n",
       "86  6.0          3.4         4.5          1.6        \n",
       "87  6.7          3.1         4.7          1.5        \n",
       "88  6.3          2.3         4.4          1.3        \n",
       "89  5.6          3.0         4.1          1.3        \n",
       "90  5.5          2.5         4.0          1.3        \n",
       "91  5.5          2.6         4.4          1.2        \n",
       "92  6.1          3.0         4.6          1.4        \n",
       "93  5.8          2.6         4.0          1.2        \n",
       "94  5.0          2.3         3.3          1.0        \n",
       "95  5.6          2.7         4.2          1.3        \n",
       "96  5.7          3.0         4.2          1.2        \n",
       "97  5.7          2.9         4.2          1.3        \n",
       "98  6.2          2.9         4.3          1.3        \n",
       "99  5.1          2.5         3.0          1.1        \n",
       "100 5.7          2.8         4.1          1.3        "
      ]
     },
     "metadata": {},
     "output_type": "display_data"
    }
   ],
   "source": [
    "iris.versicolor"
   ]
  },
  {
   "cell_type": "code",
   "execution_count": 219,
   "id": "eb5bc732",
   "metadata": {},
   "outputs": [
    {
     "data": {
      "image/png": "[encoded data removed]",
      "text/plain": [
       "plot without title"
      ]
     },
     "metadata": {
      "image/png": {
       "height": 420,
       "width": 420
      }
     },
     "output_type": "display_data"
    }
   ],
   "source": [
    "iris.versicolor.sepal <- iris.versicolor[1:2]\n",
    "par(mex =0.5)\n",
    "pairs(iris.versicolor.sepal, gap=0, cex.labels=0.9)"
   ]
  },
  {
   "cell_type": "code",
   "execution_count": 220,
   "id": "0c23ddd7",
   "metadata": {
    "scrolled": true
   },
   "outputs": [
    {
     "data": {
      "image/png": "[encoded data removed]",
      "text/plain": [
       "plot without title"
      ]
     },
     "metadata": {
      "image/png": {
       "height": 420,
       "width": 420
      }
     },
     "output_type": "display_data"
    }
   ],
   "source": [
    "iris.versicolor.petal <- iris.versicolor[3:4]\n",
    "par(mex =0.5)\n",
    "pairs(iris.versicolor.petal, gap=0, cex.labels=0.9)"
   ]
  },
  {
   "cell_type": "code",
   "execution_count": 221,
   "id": "f200e14c",
   "metadata": {
    "scrolled": false
   },
   "outputs": [
    {
     "data": {
      "image/png": "[encoded data removed]",
      "text/plain": [
       "plot without title"
      ]
     },
     "metadata": {
      "image/png": {
       "height": 420,
       "width": 420
      }
     },
     "output_type": "display_data"
    }
   ],
   "source": [
    "iris.setosa.sepal <- iris.setosa[1:2]\n",
    "par(mex =0.5)\n",
    "pairs(iris.setosa.sepal, gap=0, cex.labels=0.9)"
   ]
  },
  {
   "cell_type": "code",
   "execution_count": 222,
   "id": "a97821be",
   "metadata": {},
   "outputs": [
    {
     "data": {
      "image/png": "[encoded data removed]",
      "text/plain": [
       "plot without title"
      ]
     },
     "metadata": {
      "image/png": {
       "height": 420,
       "width": 420
      }
     },
     "output_type": "display_data"
    }
   ],
   "source": [
    "iris.setosa.petal <- iris.setosa[3:4]\n",
    "par(mex =0.5)\n",
    "pairs(iris.setosa.petal, gap=0, cex.labels=0.9)"
   ]
  },
  {
   "cell_type": "code",
   "execution_count": 223,
   "id": "50bd5231",
   "metadata": {},
   "outputs": [
    {
     "data": {
      "image/png": "[encoded data removed]",
      "text/plain": [
       "plot without title"
      ]
     },
     "metadata": {
      "image/png": {
       "height": 420,
       "width": 420
      }
     },
     "output_type": "display_data"
    }
   ],
   "source": [
    "iris.virginica.sepal <- iris.virginica[1:2]\n",
    "par(mex =0.5)\n",
    "pairs(iris.virginica.sepal, gap=0, cex.labels=0.9)"
   ]
  },
  {
   "cell_type": "code",
   "execution_count": 224,
   "id": "eb0b4ea0",
   "metadata": {
    "scrolled": true
   },
   "outputs": [
    {
     "data": {
      "image/png": "[encoded data removed]",
      "text/plain": [
       "plot without title"
      ]
     },
     "metadata": {
      "image/png": {
       "height": 420,
       "width": 420
      }
     },
     "output_type": "display_data"
    }
   ],
   "source": [
    "iris.virginica.petal <- iris.virginica[3:4]\n",
    "par(mex =0.5)\n",
    "pairs(iris.virginica.petal, gap=0, cex.labels=0.9)"
   ]
  },
  {
   "cell_type": "markdown",
   "id": "f3e23b33",
   "metadata": {},
   "source": [
    "### Interpretacja\n",
    "- Wraz ze wzrostem długości kielicha, wzrasta jego szerokość"
   ]
  },
  {
   "cell_type": "markdown",
   "id": "580ab2ea",
   "metadata": {},
   "source": [
    "### c)\n",
    "Porównaj wartości współczynników korelacji dla długości kielicha i\n",
    "długości płatka. Dla którego z gatunków korelacja ta jest największa? Sprawdź\n",
    "istotność tych współczynników korelacji. Jakie dwie zmienne są najmocniej\n",
    "skorelowane dla poszczególnych gatunków?"
   ]
  },
  {
   "cell_type": "code",
   "execution_count": 225,
   "id": "d854a25a",
   "metadata": {},
   "outputs": [
    {
     "data": {
      "text/plain": [
       "\n",
       "\tPearson's product-moment correlation\n",
       "\n",
       "data:  iris.versicolor$Sepal.Length and iris.versicolor$Petal.Length\n",
       "t = 7.9538, df = 48, p-value = 2.586e-10\n",
       "alternative hypothesis: true correlation is not equal to 0\n",
       "95 percent confidence interval:\n",
       " 0.6020680 0.8532995\n",
       "sample estimates:\n",
       "     cor \n",
       "0.754049 \n"
      ]
     },
     "metadata": {},
     "output_type": "display_data"
    }
   ],
   "source": [
    "cor.test(iris.versicolor$Sepal.Length, iris.versicolor$Petal.Length)"
   ]
  },
  {
   "cell_type": "markdown",
   "id": "b631fd65",
   "metadata": {},
   "source": [
    "### Interpretacja\n",
    "- Współczynnik korelacji jest istotny statystycznie"
   ]
  },
  {
   "cell_type": "code",
   "execution_count": 226,
   "id": "e92fc5f2",
   "metadata": {},
   "outputs": [
    {
     "data": {
      "text/plain": [
       "\n",
       "\tPearson's product-moment correlation\n",
       "\n",
       "data:  iris.setosa$Sepal.Length and iris.setosa$Petal.Length\n",
       "t = 1.9209, df = 48, p-value = 0.0607\n",
       "alternative hypothesis: true correlation is not equal to 0\n",
       "95 percent confidence interval:\n",
       " -0.01206954  0.50776233\n",
       "sample estimates:\n",
       "      cor \n",
       "0.2671758 \n"
      ]
     },
     "metadata": {},
     "output_type": "display_data"
    }
   ],
   "source": [
    "cor.test(iris.setosa$Sepal.Length, iris.setosa$Petal.Length)"
   ]
  },
  {
   "cell_type": "markdown",
   "id": "2d966de5",
   "metadata": {},
   "source": [
    "### Interpretacja\n",
    "- Współczynnik korelacji nie jest istotny statystycznie"
   ]
  },
  {
   "cell_type": "code",
   "execution_count": 227,
   "id": "221870bd",
   "metadata": {
    "scrolled": true
   },
   "outputs": [
    {
     "data": {
      "text/plain": [
       "\n",
       "\tPearson's product-moment correlation\n",
       "\n",
       "data:  iris.virginica$Sepal.Length and iris.virginica$Petal.Length\n",
       "t = 11.901, df = 48, p-value = 6.298e-16\n",
       "alternative hypothesis: true correlation is not equal to 0\n",
       "95 percent confidence interval:\n",
       " 0.7714542 0.9210172\n",
       "sample estimates:\n",
       "      cor \n",
       "0.8642247 \n"
      ]
     },
     "metadata": {},
     "output_type": "display_data"
    }
   ],
   "source": [
    "cor.test(iris.virginica$Sepal.Length, iris.virginica$Petal.Length)"
   ]
  },
  {
   "cell_type": "markdown",
   "id": "617d3c00",
   "metadata": {},
   "source": [
    "### Interpretacja\n",
    "- Współczynnik korelacji jest istotny statystycznie\n",
    "- Przy gatunku virginica występuje najwyższa korelacja"
   ]
  },
  {
   "cell_type": "markdown",
   "id": "1fded5a8",
   "metadata": {},
   "source": [
    "### d)\n",
    " Dla gatunku setosa przeanalizuj i zinterpretuj wpływ zmiennych ob\u0002jaśniających Petal.Width (szerokość płatka), Sepal.Length (długość\n",
    "kielicha), Sepal.Width (szerokość kielicha) na zmienną Petal.Length\n",
    "(długość płatka) przy użyciu modelu regresji wielokrotnej. Przyjmując\n",
    "poziom istotności równy 0.05 dokonaj krokowej procedury wyboru modelu\n",
    "eliminując zmienne nieistotne o największej p-wartości. Napisz i zinterpretuj\n",
    "otrzymany końcowy model."
   ]
  },
  {
   "cell_type": "code",
   "execution_count": 228,
   "id": "bb8be6e1",
   "metadata": {
    "scrolled": true
   },
   "outputs": [
    {
     "data": {
      "text/plain": [
       "\n",
       "Call:\n",
       "lm(formula = iris.setosa$Petal.Length ~ iris.setosa$Petal.Width + \n",
       "    iris.setosa$Sepal.Length + iris.setosa$Sepal.Width)\n",
       "\n",
       "Residuals:\n",
       "     Min       1Q   Median       3Q      Max \n",
       "-0.38868 -0.07905  0.00632  0.10095  0.48238 \n",
       "\n",
       "Coefficients:\n",
       "                         Estimate Std. Error t value Pr(>|t|)  \n",
       "(Intercept)               0.86547    0.34331   2.521   0.0152 *\n",
       "iris.setosa$Petal.Width   0.46253    0.23410   1.976   0.0542 .\n",
       "iris.setosa$Sepal.Length  0.11606    0.10162   1.142   0.2594  \n",
       "iris.setosa$Sepal.Width  -0.02865    0.09334  -0.307   0.7602  \n",
       "---\n",
       "Signif. codes:  0 '***' 0.001 '**' 0.01 '*' 0.05 '.' 0.1 ' ' 1\n",
       "\n",
       "Residual standard error: 0.1657 on 46 degrees of freedom\n",
       "Multiple R-squared:  0.1449,\tAdjusted R-squared:  0.08914 \n",
       "F-statistic: 2.598 on 3 and 46 DF,  p-value: 0.06356\n"
      ]
     },
     "metadata": {},
     "output_type": "display_data"
    }
   ],
   "source": [
    "summary(lm(iris.setosa$Petal.Length ~ iris.setosa$Petal.Width + iris.setosa$Sepal.Length + iris.setosa$Sepal.Width))"
   ]
  },
  {
   "cell_type": "code",
   "execution_count": 229,
   "id": "915e69f9",
   "metadata": {},
   "outputs": [
    {
     "data": {
      "text/plain": [
       "\n",
       "Call:\n",
       "lm(formula = iris.setosa$Petal.Length ~ iris.setosa$Petal.Width + \n",
       "    iris.setosa$Sepal.Length)\n",
       "\n",
       "Residuals:\n",
       "     Min       1Q   Median       3Q      Max \n",
       "-0.40293 -0.08425  0.00073  0.09455  0.47839 \n",
       "\n",
       "Coefficients:\n",
       "                         Estimate Std. Error t value Pr(>|t|)  \n",
       "(Intercept)               0.88128    0.33614   2.622   0.0117 *\n",
       "iris.setosa$Petal.Width   0.45959    0.23164   1.984   0.0531 .\n",
       "iris.setosa$Sepal.Length  0.09342    0.06925   1.349   0.1838  \n",
       "---\n",
       "Signif. codes:  0 '***' 0.001 '**' 0.01 '*' 0.05 '.' 0.1 ' ' 1\n",
       "\n",
       "Residual standard error: 0.1641 on 47 degrees of freedom\n",
       "Multiple R-squared:  0.1432,\tAdjusted R-squared:  0.1067 \n",
       "F-statistic: 3.926 on 2 and 47 DF,  p-value: 0.0265\n"
      ]
     },
     "metadata": {},
     "output_type": "display_data"
    }
   ],
   "source": [
    "summary(lm(iris.setosa$Petal.Length ~ iris.setosa$Petal.Width + iris.setosa$Sepal.Length))"
   ]
  },
  {
   "cell_type": "code",
   "execution_count": 230,
   "id": "1bafe48d",
   "metadata": {},
   "outputs": [
    {
     "data": {
      "text/plain": [
       "\n",
       "Call:\n",
       "lm(formula = iris.setosa$Petal.Length ~ iris.setosa$Petal.Width)\n",
       "\n",
       "Residuals:\n",
       "     Min       1Q   Median       3Q      Max \n",
       "-0.43686 -0.09151 -0.03686  0.09018  0.46314 \n",
       "\n",
       "Coefficients:\n",
       "                        Estimate Std. Error t value Pr(>|t|)    \n",
       "(Intercept)              1.32756    0.05996  22.141   <2e-16 ***\n",
       "iris.setosa$Petal.Width  0.54649    0.22439   2.435   0.0186 *  \n",
       "---\n",
       "Signif. codes:  0 '***' 0.001 '**' 0.01 '*' 0.05 '.' 0.1 ' ' 1\n",
       "\n",
       "Residual standard error: 0.1655 on 48 degrees of freedom\n",
       "Multiple R-squared:   0.11,\tAdjusted R-squared:  0.09144 \n",
       "F-statistic: 5.931 on 1 and 48 DF,  p-value: 0.01864\n"
      ]
     },
     "metadata": {},
     "output_type": "display_data"
    }
   ],
   "source": [
    "summary(lm(iris.setosa$Petal.Length ~ iris.setosa$Petal.Width))"
   ]
  },
  {
   "cell_type": "markdown",
   "id": "da925255",
   "metadata": {},
   "source": [
    "### Interpretacja\n",
    "- Model: 1.32756 + 0.54649x Przy wzroście wartości Petal width o jedną jednostkę wartość petal length rośnie o 0.54649 jednostki.\n",
    "- Rozkład reszt : minimalna wartość wynosi -0.44, mediana to -0.037, a maksymalna wartość wynosi: 0.46\n",
    "- Średnia reszt jest bliska zeru a wartości minimum i maximum są z grubsza równe wartości bezwzględnej.\n",
    "- Współczynnik regresji dla iris.setosa$petal.width wynosi 0.54649, błąd standardowy to 0.22439, a wartość p_value : 0.01 < p < 0.05. szerokość płatka ma istotny wpływ na długość płatka.\n",
    "- Błąd standardowy reszt opisujący wahania obserwacji wokół prostej regresji przy wyestymowanych współczynnikach modelu wynosi: 0.1655 dla 48 stopni swobody.\n",
    "- Współczynnik korelacji Pearsona wyniósł 0.11, jest to słaba korelacja dodatnia.\n",
    "- Skorygowana wartość R^2 jest równa 0.09144. Na długość płatka ma wpływ szerokość płatka w  9.144% .\n"
   ]
  },
  {
   "cell_type": "markdown",
   "id": "e49c0531",
   "metadata": {},
   "source": [
    "# Lista 2"
   ]
  },
  {
   "cell_type": "markdown",
   "id": "12f7977d",
   "metadata": {},
   "source": [
    "## Zadanie 3, L2"
   ]
  },
  {
   "cell_type": "code",
   "execution_count": 231,
   "id": "ffa41e52",
   "metadata": {},
   "outputs": [
    {
     "data": {
      "text/html": [
       "<table class=\"dataframe\">\n",
       "<caption>A data.frame: 6 × 4</caption>\n",
       "<thead>\n",
       "\t<tr><th></th><th scope=col>Air.Flow</th><th scope=col>Water.Temp</th><th scope=col>Acid.Conc.</th><th scope=col>stack.loss</th></tr>\n",
       "\t<tr><th></th><th scope=col>&lt;dbl&gt;</th><th scope=col>&lt;dbl&gt;</th><th scope=col>&lt;dbl&gt;</th><th scope=col>&lt;dbl&gt;</th></tr>\n",
       "</thead>\n",
       "<tbody>\n",
       "\t<tr><th scope=row>1</th><td>80</td><td>27</td><td>89</td><td>42</td></tr>\n",
       "\t<tr><th scope=row>2</th><td>80</td><td>27</td><td>88</td><td>37</td></tr>\n",
       "\t<tr><th scope=row>3</th><td>75</td><td>25</td><td>90</td><td>37</td></tr>\n",
       "\t<tr><th scope=row>4</th><td>62</td><td>24</td><td>87</td><td>28</td></tr>\n",
       "\t<tr><th scope=row>5</th><td>62</td><td>22</td><td>87</td><td>18</td></tr>\n",
       "\t<tr><th scope=row>6</th><td>62</td><td>23</td><td>87</td><td>18</td></tr>\n",
       "</tbody>\n",
       "</table>\n"
      ],
      "text/latex": [
       "A data.frame: 6 × 4\n",
       "\\begin{tabular}{r|llll}\n",
       "  & Air.Flow & Water.Temp & Acid.Conc. & stack.loss\\\\\n",
       "  & <dbl> & <dbl> & <dbl> & <dbl>\\\\\n",
       "\\hline\n",
       "\t1 & 80 & 27 & 89 & 42\\\\\n",
       "\t2 & 80 & 27 & 88 & 37\\\\\n",
       "\t3 & 75 & 25 & 90 & 37\\\\\n",
       "\t4 & 62 & 24 & 87 & 28\\\\\n",
       "\t5 & 62 & 22 & 87 & 18\\\\\n",
       "\t6 & 62 & 23 & 87 & 18\\\\\n",
       "\\end{tabular}\n"
      ],
      "text/markdown": [
       "\n",
       "A data.frame: 6 × 4\n",
       "\n",
       "| <!--/--> | Air.Flow &lt;dbl&gt; | Water.Temp &lt;dbl&gt; | Acid.Conc. &lt;dbl&gt; | stack.loss &lt;dbl&gt; |\n",
       "|---|---|---|---|---|\n",
       "| 1 | 80 | 27 | 89 | 42 |\n",
       "| 2 | 80 | 27 | 88 | 37 |\n",
       "| 3 | 75 | 25 | 90 | 37 |\n",
       "| 4 | 62 | 24 | 87 | 28 |\n",
       "| 5 | 62 | 22 | 87 | 18 |\n",
       "| 6 | 62 | 23 | 87 | 18 |\n",
       "\n"
      ],
      "text/plain": [
       "  Air.Flow Water.Temp Acid.Conc. stack.loss\n",
       "1 80       27         89         42        \n",
       "2 80       27         88         37        \n",
       "3 75       25         90         37        \n",
       "4 62       24         87         28        \n",
       "5 62       22         87         18        \n",
       "6 62       23         87         18        "
      ]
     },
     "metadata": {},
     "output_type": "display_data"
    },
    {
     "name": "stderr",
     "output_type": "stream",
     "text": [
      "Następujący obiekt został zakryty _przez_ .GlobalEnv:\n",
      "\n",
      "    stack.loss\n",
      "\n",
      "\n",
      "Następujące obiekty zostały zakryte z stackloss (pos = 4):\n",
      "\n",
      "    Acid.Conc., Air.Flow, stack.loss, Water.Temp\n",
      "\n",
      "\n",
      "Następujący obiekt został zakryty z package:datasets:\n",
      "\n",
      "    stack.loss\n",
      "\n",
      "\n"
     ]
    }
   ],
   "source": [
    "data(stackloss)\n",
    "head(stackloss)\n",
    "attach(stackloss)"
   ]
  },
  {
   "cell_type": "code",
   "execution_count": 232,
   "id": "ebb4b99d",
   "metadata": {},
   "outputs": [
    {
     "data": {
      "text/plain": [
       "\n",
       "Call:\n",
       "lm(formula = stack.loss ~ Acid.Conc.)\n",
       "\n",
       "Residuals:\n",
       "    Min      1Q  Median      3Q     Max \n",
       "-11.584  -5.584  -3.066   1.247  22.416 \n",
       "\n",
       "Coefficients:\n",
       "            Estimate Std. Error t value Pr(>|t|)  \n",
       "(Intercept) -47.9632    34.5044  -1.390   0.1806  \n",
       "Acid.Conc.    0.7590     0.3992   1.901   0.0725 .\n",
       "---\n",
       "Signif. codes:  0 '***' 0.001 '**' 0.01 '*' 0.05 '.' 0.1 ' ' 1\n",
       "\n",
       "Residual standard error: 9.565 on 19 degrees of freedom\n",
       "Multiple R-squared:  0.1599,\tAdjusted R-squared:  0.1156 \n",
       "F-statistic: 3.615 on 1 and 19 DF,  p-value: 0.07252\n"
      ]
     },
     "metadata": {},
     "output_type": "display_data"
    }
   ],
   "source": [
    "model = lm(stack.loss~Acid.Conc.)\n",
    "summary(model)"
   ]
  },
  {
   "cell_type": "code",
   "execution_count": 233,
   "id": "295a58e1",
   "metadata": {},
   "outputs": [
    {
     "data": {
      "text/plain": [
       "\n",
       "Call:\n",
       "lm(formula = stack.loss ~ Water.Temp)\n",
       "\n",
       "Residuals:\n",
       "    Min      1Q  Median      3Q     Max \n",
       "-7.8904 -3.6206  0.3794  2.8398  8.4747 \n",
       "\n",
       "Coefficients:\n",
       "            Estimate Std. Error t value Pr(>|t|)    \n",
       "(Intercept) -41.9109     7.6056  -5.511 2.58e-05 ***\n",
       "Water.Temp    2.8174     0.3567   7.898 2.03e-07 ***\n",
       "---\n",
       "Signif. codes:  0 '***' 0.001 '**' 0.01 '*' 0.05 '.' 0.1 ' ' 1\n",
       "\n",
       "Residual standard error: 5.043 on 19 degrees of freedom\n",
       "Multiple R-squared:  0.7665,\tAdjusted R-squared:  0.7542 \n",
       "F-statistic: 62.37 on 1 and 19 DF,  p-value: 2.028e-07\n"
      ]
     },
     "metadata": {},
     "output_type": "display_data"
    }
   ],
   "source": [
    "model0 = lm(stack.loss~Water.Temp)\n",
    "summary(model0)"
   ]
  },
  {
   "cell_type": "code",
   "execution_count": 234,
   "id": "2701cbee",
   "metadata": {},
   "outputs": [
    {
     "data": {
      "text/plain": [
       "\n",
       "Call:\n",
       "lm(formula = stack.loss ~ Water.Temp + Acid.Conc.)\n",
       "\n",
       "Residuals:\n",
       "    Min      1Q  Median      3Q     Max \n",
       "-7.8197 -2.8600 -0.6656  3.1235  8.3295 \n",
       "\n",
       "Coefficients:\n",
       "            Estimate Std. Error t value Pr(>|t|)    \n",
       "(Intercept) -51.2361    18.5374  -2.764   0.0128 *  \n",
       "Water.Temp    2.7320     0.3949   6.919 1.82e-06 ***\n",
       "Acid.Conc.    0.1290     0.2329   0.554   0.5866    \n",
       "---\n",
       "Signif. codes:  0 '***' 0.001 '**' 0.01 '*' 0.05 '.' 0.1 ' ' 1\n",
       "\n",
       "Residual standard error: 5.137 on 18 degrees of freedom\n",
       "Multiple R-squared:  0.7704,\tAdjusted R-squared:  0.7449 \n",
       "F-statistic:  30.2 on 2 and 18 DF,  p-value: 1.772e-06\n"
      ]
     },
     "metadata": {},
     "output_type": "display_data"
    }
   ],
   "source": [
    "model2 = lm(stack.loss~Water.Temp + Acid.Conc.)\n",
    "summary(model2)"
   ]
  },
  {
   "cell_type": "markdown",
   "id": "3044f520",
   "metadata": {},
   "source": [
    "### Interpretacja\n",
    "- W modelu powinna znaleźć się tylko zmienna Water.Temp.\n",
    "- Acid.Conc. nie jest istotna statystycznie."
   ]
  },
  {
   "cell_type": "markdown",
   "id": "254d2596",
   "metadata": {},
   "source": [
    "### ii)\n",
    "Czy któraś z obserwacji może być uznana za obserwację o dużej dźwigni?"
   ]
  },
  {
   "cell_type": "code",
   "execution_count": 235,
   "id": "26e9bb38",
   "metadata": {
    "scrolled": true
   },
   "outputs": [
    {
     "data": {
      "image/png": "[encoded data removed]",
      "text/plain": [
       "plot without title"
      ]
     },
     "metadata": {
      "image/png": {
       "height": 420,
       "width": 420
      }
     },
     "output_type": "display_data"
    }
   ],
   "source": [
    "plot(Water.Temp, stack.loss, ylab = \"stack loss\", xlab = \"Water.Temp\", pch = 19)\n",
    "abline(model0, col = \"darkgreen\", lwd = 2)\n",
    "grid()\n",
    "legend(\"topleft\", c(\"regresja dla wszystkich danych\"), col = c(\"darkgreen\"),\n",
    "                    lty = c(1), pch = c(NA), lwd = c(1))"
   ]
  },
  {
   "cell_type": "markdown",
   "id": "5111060a",
   "metadata": {},
   "source": [
    "### Interpretacja\n",
    "- Na podstawie analizy powyższego wykresu można zaobserwować punkt o dużej dźwigni, jego wartość Water.Temp = 25."
   ]
  },
  {
   "cell_type": "code",
   "execution_count": 236,
   "id": "59701061",
   "metadata": {
    "scrolled": true
   },
   "outputs": [
    {
     "data": {
      "text/html": [
       "3"
      ],
      "text/latex": [
       "3"
      ],
      "text/markdown": [
       "3"
      ],
      "text/plain": [
       "[1] 3"
      ]
     },
     "metadata": {},
     "output_type": "display_data"
    },
    {
     "data": {
      "text/plain": [
       "\n",
       "Call:\n",
       "lm(formula = stack.loss[-punkt_o_duzej_dzwigni] ~ Water.Temp[-punkt_o_duzej_dzwigni])\n",
       "\n",
       "Residuals:\n",
       "    Min      1Q  Median      3Q     Max \n",
       "-7.0696 -3.6844 -0.2418  3.5807  9.4168 \n",
       "\n",
       "Coefficients:\n",
       "                                   Estimate Std. Error t value Pr(>|t|)    \n",
       "(Intercept)                        -38.3836     7.3540  -5.219 5.79e-05 ***\n",
       "Water.Temp[-punkt_o_duzej_dzwigni]   2.6284     0.3482   7.548 5.55e-07 ***\n",
       "---\n",
       "Signif. codes:  0 '***' 0.001 '**' 0.01 '*' 0.05 '.' 0.1 ' ' 1\n",
       "\n",
       "Residual standard error: 4.721 on 18 degrees of freedom\n",
       "Multiple R-squared:  0.7599,\tAdjusted R-squared:  0.7466 \n",
       "F-statistic: 56.97 on 1 and 18 DF,  p-value: 5.553e-07\n"
      ]
     },
     "metadata": {},
     "output_type": "display_data"
    }
   ],
   "source": [
    "(punkt_o_duzej_dzwigni = which(Water.Temp == 25))\n",
    "model3 <- lm(stack.loss[-punkt_o_duzej_dzwigni]~Water.Temp[-punkt_o_duzej_dzwigni])\n",
    "summary(model3)"
   ]
  },
  {
   "cell_type": "markdown",
   "id": "d3246013",
   "metadata": {},
   "source": [
    "### iii)\n",
    "Jeśli tak, przedstaw na wykresie prostą regresji dopasowaną do wszys\u0002tkich obserwacji oraz prostą dopasowaną po usunięciu tego punktu."
   ]
  },
  {
   "cell_type": "code",
   "execution_count": 237,
   "id": "636afdfc",
   "metadata": {
    "scrolled": false
   },
   "outputs": [
    {
     "data": {
      "image/png": "[encoded data removed]",
      "text/plain": [
       "plot without title"
      ]
     },
     "metadata": {
      "image/png": {
       "height": 420,
       "width": 420
      }
     },
     "output_type": "display_data"
    }
   ],
   "source": [
    "plot(Water.Temp, stack.loss, ylab = \"stack loss\", xlab = \"Water.Temp\", pch = 19)\n",
    "abline(model0, col = \"darkgreen\", lwd = 2)\n",
    "abline(model3, col = \"blue\", lwd = 2)\n",
    "points(Water.Temp[c(3)],stack.loss[c(3)], col = \"red\", pch = 19)\n",
    "\n",
    "grid()\n",
    "legend(\"topleft\", c(\"regresji dla wszystkich danych\", \n",
    "                    \"regresja bez punktu o dużej dzwigni\", \"punkt o dużej dzwigni\"), col = c(\"darkgreen\", \"blue\", \"red\"),\n",
    "                    lty = c(1, 1, NA), pch = c(NA, NA, 19), lwd = c(2, 2, NA),cex=0.5)"
   ]
  },
  {
   "cell_type": "markdown",
   "id": "bba56a22",
   "metadata": {},
   "source": [
    "### iv)\n",
    "Przedstaw podsumowania obu modeli. Czy usunięcie punktu o dużej dźwigni spowodowało zmianę w dopasowaniu modelu? Podaj dokładność dopasowania dla obu modeli."
   ]
  },
  {
   "cell_type": "code",
   "execution_count": 238,
   "id": "4fc85363",
   "metadata": {},
   "outputs": [
    {
     "data": {
      "text/plain": [
       "\n",
       "Call:\n",
       "lm(formula = stack.loss ~ Water.Temp)\n",
       "\n",
       "Residuals:\n",
       "    Min      1Q  Median      3Q     Max \n",
       "-7.8904 -3.6206  0.3794  2.8398  8.4747 \n",
       "\n",
       "Coefficients:\n",
       "            Estimate Std. Error t value Pr(>|t|)    \n",
       "(Intercept) -41.9109     7.6056  -5.511 2.58e-05 ***\n",
       "Water.Temp    2.8174     0.3567   7.898 2.03e-07 ***\n",
       "---\n",
       "Signif. codes:  0 '***' 0.001 '**' 0.01 '*' 0.05 '.' 0.1 ' ' 1\n",
       "\n",
       "Residual standard error: 5.043 on 19 degrees of freedom\n",
       "Multiple R-squared:  0.7665,\tAdjusted R-squared:  0.7542 \n",
       "F-statistic: 62.37 on 1 and 19 DF,  p-value: 2.028e-07\n"
      ]
     },
     "metadata": {},
     "output_type": "display_data"
    }
   ],
   "source": [
    "summary(model0)"
   ]
  },
  {
   "cell_type": "code",
   "execution_count": 239,
   "id": "df74ede8",
   "metadata": {
    "scrolled": true
   },
   "outputs": [
    {
     "data": {
      "text/plain": [
       "\n",
       "Call:\n",
       "lm(formula = stack.loss[-punkt_o_duzej_dzwigni] ~ Water.Temp[-punkt_o_duzej_dzwigni])\n",
       "\n",
       "Residuals:\n",
       "    Min      1Q  Median      3Q     Max \n",
       "-7.0696 -3.6844 -0.2418  3.5807  9.4168 \n",
       "\n",
       "Coefficients:\n",
       "                                   Estimate Std. Error t value Pr(>|t|)    \n",
       "(Intercept)                        -38.3836     7.3540  -5.219 5.79e-05 ***\n",
       "Water.Temp[-punkt_o_duzej_dzwigni]   2.6284     0.3482   7.548 5.55e-07 ***\n",
       "---\n",
       "Signif. codes:  0 '***' 0.001 '**' 0.01 '*' 0.05 '.' 0.1 ' ' 1\n",
       "\n",
       "Residual standard error: 4.721 on 18 degrees of freedom\n",
       "Multiple R-squared:  0.7599,\tAdjusted R-squared:  0.7466 \n",
       "F-statistic: 56.97 on 1 and 18 DF,  p-value: 5.553e-07\n"
      ]
     },
     "metadata": {},
     "output_type": "display_data"
    }
   ],
   "source": [
    "summary(model3)"
   ]
  },
  {
   "cell_type": "markdown",
   "id": "3675bf94",
   "metadata": {},
   "source": [
    "### Interpretacja\n",
    "- Dopasowanie przed usunięciem punktów dużej dźwigni wynosiło 0.7542, natomiast po usunięciu danego punktu osiągnęło poziom 0.7466.\n",
    "- Usunięcie tego punktu zmniejszyło błąd standardowy reszt o około 0.3."
   ]
  },
  {
   "cell_type": "markdown",
   "id": "0ac47796",
   "metadata": {},
   "source": [
    "### v)\n",
    "Dla modelu dopasowanego do pełnego zbioru danych wyznacz reszty studentyzowane."
   ]
  },
  {
   "cell_type": "code",
   "execution_count": 240,
   "id": "76f02130",
   "metadata": {
    "scrolled": true
   },
   "outputs": [
    {
     "data": {
      "text/plain": [
       "    Min.  1st Qu.   Median     Mean  3rd Qu.     Max. \n",
       "-1.69706 -0.73530  0.07593  0.02370  0.62827  1.91791 "
      ]
     },
     "metadata": {},
     "output_type": "display_data"
    }
   ],
   "source": [
    "reszty_stud = rstudent(model0)\n",
    "summary(reszty_stud)"
   ]
  },
  {
   "cell_type": "markdown",
   "id": "81998929",
   "metadata": {},
   "source": [
    "### vi)\n",
    "Wyznacz obserwacje odstające korzystając z wektora reszt studentyzowanych."
   ]
  },
  {
   "cell_type": "code",
   "execution_count": 241,
   "id": "648a8d0e",
   "metadata": {},
   "outputs": [
    {
     "data": {
      "text/html": [],
      "text/latex": [],
      "text/markdown": [],
      "text/plain": [
       "named integer(0)"
      ]
     },
     "metadata": {},
     "output_type": "display_data"
    }
   ],
   "source": [
    "k = which(abs(reszty_stud) > 2)\n",
    "k"
   ]
  },
  {
   "cell_type": "markdown",
   "id": "1184a506",
   "metadata": {},
   "source": [
    "### vii)\n",
    "Wyznacz obserwacje odstające korzystając z testu outlierTest."
   ]
  },
  {
   "cell_type": "code",
   "execution_count": 242,
   "id": "a625102a",
   "metadata": {
    "scrolled": true
   },
   "outputs": [
    {
     "data": {
      "text/plain": [
       "No Studentized residuals with Bonferroni p < 0.05\n",
       "Largest |rstudent|:\n",
       "  rstudent unadjusted p-value Bonferroni p\n",
       "3 1.917911           0.071129           NA"
      ]
     },
     "metadata": {},
     "output_type": "display_data"
    }
   ],
   "source": [
    "outlierTest(model0)"
   ]
  },
  {
   "cell_type": "markdown",
   "id": "8fabdba1",
   "metadata": {},
   "source": [
    "### Interpretacja\n",
    "- Nie znaleziono żadnych obserwacji odstających"
   ]
  },
  {
   "cell_type": "markdown",
   "id": "7b76808d",
   "metadata": {},
   "source": [
    "### viii)\n",
    "Przedstaw i skomentuj wykres wpływów, zaznacz 3 obserwacje o największych odległościach Cooka."
   ]
  },
  {
   "cell_type": "code",
   "execution_count": 243,
   "id": "8bcf8b9e",
   "metadata": {},
   "outputs": [
    {
     "name": "stderr",
     "output_type": "stream",
     "text": [
      "Warning message in plot.window(...):\n",
      "\"'id.method' nie jest parametrem graficznym\"\n",
      "Warning message in plot.window(...):\n",
      "\"'id.n' nie jest parametrem graficznym\"\n",
      "Warning message in plot.window(...):\n",
      "\"'id.cex' nie jest parametrem graficznym\"\n",
      "Warning message in plot.xy(xy, type, ...):\n",
      "\"'id.method' nie jest parametrem graficznym\"\n",
      "Warning message in plot.xy(xy, type, ...):\n",
      "\"'id.n' nie jest parametrem graficznym\"\n",
      "Warning message in plot.xy(xy, type, ...):\n",
      "\"'id.cex' nie jest parametrem graficznym\"\n",
      "Warning message in axis(side = side, at = at, labels = labels, ...):\n",
      "\"'id.method' nie jest parametrem graficznym\"\n",
      "Warning message in axis(side = side, at = at, labels = labels, ...):\n",
      "\"'id.n' nie jest parametrem graficznym\"\n",
      "Warning message in axis(side = side, at = at, labels = labels, ...):\n",
      "\"'id.cex' nie jest parametrem graficznym\"\n",
      "Warning message in axis(side = side, at = at, labels = labels, ...):\n",
      "\"'id.method' nie jest parametrem graficznym\"\n",
      "Warning message in axis(side = side, at = at, labels = labels, ...):\n",
      "\"'id.n' nie jest parametrem graficznym\"\n",
      "Warning message in axis(side = side, at = at, labels = labels, ...):\n",
      "\"'id.cex' nie jest parametrem graficznym\"\n",
      "Warning message in box(...):\n",
      "\"'id.method' nie jest parametrem graficznym\"\n",
      "Warning message in box(...):\n",
      "\"'id.n' nie jest parametrem graficznym\"\n",
      "Warning message in box(...):\n",
      "\"'id.cex' nie jest parametrem graficznym\"\n",
      "Warning message in title(...):\n",
      "\"'id.method' nie jest parametrem graficznym\"\n",
      "Warning message in title(...):\n",
      "\"'id.n' nie jest parametrem graficznym\"\n",
      "Warning message in title(...):\n",
      "\"'id.cex' nie jest parametrem graficznym\"\n",
      "Warning message in plot.xy(xy.coords(x, y), type = type, ...):\n",
      "\"'id.method' nie jest parametrem graficznym\"\n",
      "Warning message in plot.xy(xy.coords(x, y), type = type, ...):\n",
      "\"'id.n' nie jest parametrem graficznym\"\n",
      "Warning message in plot.xy(xy.coords(x, y), type = type, ...):\n",
      "\"'id.cex' nie jest parametrem graficznym\"\n"
     ]
    },
    {
     "data": {
      "text/html": [
       "<table class=\"dataframe\">\n",
       "<caption>A data.frame: 3 × 3</caption>\n",
       "<thead>\n",
       "\t<tr><th></th><th scope=col>StudRes</th><th scope=col>Hat</th><th scope=col>CookD</th></tr>\n",
       "\t<tr><th></th><th scope=col>&lt;dbl&gt;</th><th scope=col>&lt;dbl&gt;</th><th scope=col>&lt;dbl&gt;</th></tr>\n",
       "</thead>\n",
       "<tbody>\n",
       "\t<tr><th scope=row>1</th><td>1.8759536</td><td>0.2221163</td><td>0.44361619</td></tr>\n",
       "\t<tr><th scope=row>2</th><td>0.6282651</td><td>0.2221163</td><td>0.05820793</td></tr>\n",
       "\t<tr><th scope=row>3</th><td>1.9179109</td><td>0.1239276</td><td>0.22802446</td></tr>\n",
       "</tbody>\n",
       "</table>\n"
      ],
      "text/latex": [
       "A data.frame: 3 × 3\n",
       "\\begin{tabular}{r|lll}\n",
       "  & StudRes & Hat & CookD\\\\\n",
       "  & <dbl> & <dbl> & <dbl>\\\\\n",
       "\\hline\n",
       "\t1 & 1.8759536 & 0.2221163 & 0.44361619\\\\\n",
       "\t2 & 0.6282651 & 0.2221163 & 0.05820793\\\\\n",
       "\t3 & 1.9179109 & 0.1239276 & 0.22802446\\\\\n",
       "\\end{tabular}\n"
      ],
      "text/markdown": [
       "\n",
       "A data.frame: 3 × 3\n",
       "\n",
       "| <!--/--> | StudRes &lt;dbl&gt; | Hat &lt;dbl&gt; | CookD &lt;dbl&gt; |\n",
       "|---|---|---|---|\n",
       "| 1 | 1.8759536 | 0.2221163 | 0.44361619 |\n",
       "| 2 | 0.6282651 | 0.2221163 | 0.05820793 |\n",
       "| 3 | 1.9179109 | 0.1239276 | 0.22802446 |\n",
       "\n"
      ],
      "text/plain": [
       "  StudRes   Hat       CookD     \n",
       "1 1.8759536 0.2221163 0.44361619\n",
       "2 0.6282651 0.2221163 0.05820793\n",
       "3 1.9179109 0.1239276 0.22802446"
      ]
     },
     "metadata": {},
     "output_type": "display_data"
    },
    {
     "data": {
      "image/png": "[encoded data removed]",
      "text/plain": [
       "Plot with title \"Wykres wplywu\""
      ]
     },
     "metadata": {
      "image/png": {
       "height": 420,
       "width": 420
      }
     },
     "output_type": "display_data"
    }
   ],
   "source": [
    "influencePlot (model0, id.method = \"identify\", id.n = 1, id.cex = 1 , main = \"Wykres wplywu\",\n",
    "               sub = \"Rozmiar okregow jest proporcjonalny do odleglosci Cooka\")"
   ]
  },
  {
   "cell_type": "markdown",
   "id": "b03be47b",
   "metadata": {},
   "source": [
    "### Interpretacja\n",
    "- Obserwacje 1,2,3 otrzymały największe odległości Cooka"
   ]
  },
  {
   "cell_type": "markdown",
   "id": "b1bb13f7",
   "metadata": {},
   "source": [
    "### ix)\n",
    "Zdecyduj które z zaznaczonych obserwacji są obserwacjami wpły\u0002wowymi."
   ]
  },
  {
   "cell_type": "markdown",
   "id": "4bf98466",
   "metadata": {},
   "source": [
    "### Interpretacja\n",
    "- Za poziom krytyczny powyżej którego obserwacja może być uznana za wpływową przyjmuje się 1 lub 4 / n , gdzie n jest liczbą obserwacji.\n",
    "- 4/21 = 0.190476\n",
    "- Wpływową obserwacją jest 1 CookD = 0.44361619 > 0.190476"
   ]
  },
  {
   "cell_type": "markdown",
   "id": "4be92ce3",
   "metadata": {},
   "source": [
    "### x)\n",
    "Zweryfikuj dokonany wybór za pomocą testu influence.measures"
   ]
  },
  {
   "cell_type": "code",
   "execution_count": 244,
   "id": "1e84538b",
   "metadata": {
    "scrolled": true
   },
   "outputs": [
    {
     "data": {
      "text/plain": [
       "Influence measures of\n",
       "\t lm(formula = stack.loss ~ Water.Temp) :\n",
       "\n",
       "    dfb.1_ dfb.Wt.T   dffit cov.r   cook.d    hat inf\n",
       "1  -0.8120  0.88850  1.0024 1.002 0.443616 0.2221   *\n",
       "2  -0.2719  0.29756  0.3357 1.372 0.058208 0.2221   *\n",
       "3  -0.4954  0.56604  0.7213 0.877 0.228024 0.1239    \n",
       "4  -0.0840  0.10049  0.1466 1.195 0.011205 0.0898    \n",
       "5   0.0135 -0.02713 -0.0964 1.153 0.004859 0.0517    \n",
       "6   0.1057 -0.13991 -0.2663 1.070 0.035440 0.0658    \n",
       "7   0.2579 -0.30853 -0.4500 0.986 0.095958 0.0898    \n",
       "8   0.2161 -0.25850 -0.3771 1.050 0.069480 0.0898    \n",
       "9   0.1787 -0.23659 -0.4503 0.886 0.092259 0.0658    \n",
       "10  0.2842 -0.25073  0.3540 1.084 0.062041 0.0956    \n",
       "11  0.2842 -0.25073  0.3540 1.084 0.062041 0.0956    \n",
       "12  0.5280 -0.48072  0.6018 1.000 0.168744 0.1316    \n",
       "13  0.1170 -0.10323  0.1457 1.205 0.011087 0.0956    \n",
       "14  0.0140 -0.01167  0.0208 1.197 0.000228 0.0696    \n",
       "15 -0.0426  0.03756 -0.0530 1.228 0.001482 0.0956    \n",
       "16 -0.0959  0.08458 -0.1194 1.214 0.007469 0.0956    \n",
       "17 -0.1359  0.11299 -0.2011 1.129 0.020720 0.0696    \n",
       "18 -0.1359  0.11299 -0.2011 1.129 0.020720 0.0696    \n",
       "19 -0.1241  0.08886 -0.2656 1.030 0.034813 0.0536    \n",
       "20  0.0124 -0.00888  0.0265 1.176 0.000372 0.0536    \n",
       "21  0.0124 -0.00888  0.0265 1.176 0.000372 0.0536    "
      ]
     },
     "metadata": {},
     "output_type": "display_data"
    }
   ],
   "source": [
    "influence.measures(model0)"
   ]
  },
  {
   "cell_type": "markdown",
   "id": "165ac56b",
   "metadata": {},
   "source": [
    "### Interpretacja\n",
    "- Według testu punktami wpływowymi są: 1 oraz 2."
   ]
  },
  {
   "cell_type": "markdown",
   "id": "688a9600",
   "metadata": {},
   "source": [
    "### xi)\n",
    "Usuń obserwacje wpływowe i ponownie dopasuj model."
   ]
  },
  {
   "cell_type": "code",
   "execution_count": 245,
   "id": "e01ee8a5",
   "metadata": {
    "scrolled": false
   },
   "outputs": [
    {
     "data": {
      "text/plain": [
       "\n",
       "Call:\n",
       "lm(formula = stack.loss[-c(1, 2)] ~ Water.Temp[-c(1, 2)])\n",
       "\n",
       "Residuals:\n",
       "    Min      1Q  Median      3Q     Max \n",
       "-5.8937 -3.5193 -0.6441  2.8542 11.6072 \n",
       "\n",
       "Coefficients:\n",
       "                     Estimate Std. Error t value Pr(>|t|)    \n",
       "(Intercept)           -30.846      8.665  -3.560  0.00241 ** \n",
       "Water.Temp[-c(1, 2)]    2.250      0.420   5.356 5.24e-05 ***\n",
       "---\n",
       "Signif. codes:  0 '***' 0.001 '**' 0.01 '*' 0.05 '.' 0.1 ' ' 1\n",
       "\n",
       "Residual standard error: 4.653 on 17 degrees of freedom\n",
       "Multiple R-squared:  0.6279,\tAdjusted R-squared:  0.606 \n",
       "F-statistic: 28.69 on 1 and 17 DF,  p-value: 5.236e-05\n"
      ]
     },
     "metadata": {},
     "output_type": "display_data"
    }
   ],
   "source": [
    "model4 = lm(stack.loss[-c(1, 2)]~Water.Temp[-c(1,2)])\n",
    "summary(model4)"
   ]
  },
  {
   "cell_type": "markdown",
   "id": "cc68ee0a",
   "metadata": {},
   "source": [
    "### Interpretacja\n",
    "- Powstały model bez punktów wpływowych zmniejsza błąd standaryzowany reszt.\n",
    "- Współczynnik dopasowania $R^2$ spada z 0.75 na 0.6."
   ]
  },
  {
   "cell_type": "code",
   "execution_count": 246,
   "id": "487982f9",
   "metadata": {},
   "outputs": [
    {
     "data": {
      "image/png": "[encoded data removed]",
      "text/plain": [
       "plot without title"
      ]
     },
     "metadata": {
      "image/png": {
       "height": 420,
       "width": 420
      }
     },
     "output_type": "display_data"
    }
   ],
   "source": [
    "plot(Water.Temp, stack.loss, pch=19)\n",
    "abline(model0, col=\"red\")\n",
    "abline(model3, col=\"blue\")\n",
    "abline(model4, col=\"green\")\n",
    "points(Water.Temp[c(1, 2)], stack.loss[c(1, 2)], col = \"red\", pch = 19)\n",
    "grid()\n",
    "legend(\"topleft\", c(\"regresja dla wszystkich danych\", \n",
    "                    \"regresja bez punktu o dużej dzwigni\", \n",
    "                    \"regresja bez dwóch punktów o dużej dźwigni\",\n",
    "                    \"punkty wpływowe\"), col = c(\"red\", \"blue\", \"green\",\"red\"),\n",
    "                    lty = c(1, 1, 1, NA), pch = c(NA, NA, NA, 19), lwd = c(1, 1, 1, NA))"
   ]
  },
  {
   "cell_type": "markdown",
   "id": "7aab321c",
   "metadata": {},
   "source": [
    "# Zadanie 4, L2"
   ]
  },
  {
   "cell_type": "code",
   "execution_count": 247,
   "id": "684018ef",
   "metadata": {
    "scrolled": true
   },
   "outputs": [
    {
     "data": {
      "text/html": [
       "<table class=\"dataframe\">\n",
       "<caption>A data.frame: 7 × 2</caption>\n",
       "<thead>\n",
       "\t<tr><th scope=col>V1</th><th scope=col>V2</th></tr>\n",
       "\t<tr><th scope=col>&lt;int&gt;</th><th scope=col>&lt;dbl&gt;</th></tr>\n",
       "</thead>\n",
       "<tbody>\n",
       "\t<tr><td>15</td><td> 5.2541984</td></tr>\n",
       "\t<tr><td>30</td><td> 6.7132842</td></tr>\n",
       "\t<tr><td>30</td><td>11.2666779</td></tr>\n",
       "\t<tr><td> 4</td><td> 0.6183255</td></tr>\n",
       "\t<tr><td>26</td><td> 1.7986432</td></tr>\n",
       "\t<tr><td>21</td><td> 6.1584493</td></tr>\n",
       "\t<tr><td>19</td><td> 2.0894321</td></tr>\n",
       "</tbody>\n",
       "</table>\n"
      ],
      "text/latex": [
       "A data.frame: 7 × 2\n",
       "\\begin{tabular}{ll}\n",
       " V1 & V2\\\\\n",
       " <int> & <dbl>\\\\\n",
       "\\hline\n",
       "\t 15 &  5.2541984\\\\\n",
       "\t 30 &  6.7132842\\\\\n",
       "\t 30 & 11.2666779\\\\\n",
       "\t  4 &  0.6183255\\\\\n",
       "\t 26 &  1.7986432\\\\\n",
       "\t 21 &  6.1584493\\\\\n",
       "\t 19 &  2.0894321\\\\\n",
       "\\end{tabular}\n"
      ],
      "text/markdown": [
       "\n",
       "A data.frame: 7 × 2\n",
       "\n",
       "| V1 &lt;int&gt; | V2 &lt;dbl&gt; |\n",
       "|---|---|\n",
       "| 15 |  5.2541984 |\n",
       "| 30 |  6.7132842 |\n",
       "| 30 | 11.2666779 |\n",
       "|  4 |  0.6183255 |\n",
       "| 26 |  1.7986432 |\n",
       "| 21 |  6.1584493 |\n",
       "| 19 |  2.0894321 |\n",
       "\n"
      ],
      "text/plain": [
       "  V1 V2        \n",
       "1 15  5.2541984\n",
       "2 30  6.7132842\n",
       "3 30 11.2666779\n",
       "4  4  0.6183255\n",
       "5 26  1.7986432\n",
       "6 21  6.1584493\n",
       "7 19  2.0894321"
      ]
     },
     "metadata": {},
     "output_type": "display_data"
    }
   ],
   "source": [
    "dane = read.table(\"http://theta.edu.pl/wp-content/uploads/2018/03/DANE_predkosc_reakcji.txt\")\n",
    "dane"
   ]
  },
  {
   "cell_type": "code",
   "execution_count": 248,
   "id": "59f83037",
   "metadata": {
    "scrolled": false
   },
   "outputs": [
    {
     "data": {
      "text/plain": [
       "\n",
       "Call:\n",
       "lm(formula = dane$V1 ~ dane$V2)\n",
       "\n",
       "Residuals:\n",
       "     1      2      3      4      5      6      7 \n",
       "-6.393  6.198 -1.317 -9.742 10.310 -1.886  2.830 \n",
       "\n",
       "Coefficients:\n",
       "            Estimate Std. Error t value Pr(>|t|)  \n",
       "(Intercept)  12.7214     5.0330   2.528   0.0527 .\n",
       "dane$V2       1.6505     0.8498   1.942   0.1098  \n",
       "---\n",
       "Signif. codes:  0 '***' 0.001 '**' 0.01 '*' 0.05 '.' 0.1 ' ' 1\n",
       "\n",
       "Residual standard error: 7.665 on 5 degrees of freedom\n",
       "Multiple R-squared:   0.43,\tAdjusted R-squared:  0.316 \n",
       "F-statistic: 3.772 on 1 and 5 DF,  p-value: 0.1098\n"
      ]
     },
     "metadata": {},
     "output_type": "display_data"
    }
   ],
   "source": [
    "model_predkosc = lm(dane$V1~dane$V2)\n",
    "summary(model_predkosc)"
   ]
  },
  {
   "cell_type": "markdown",
   "id": "7393d88a",
   "metadata": {},
   "source": [
    "### i)\n",
    "Przedstaw na wykresie punktowym zależność pomiędzy zmienną Predkosc\n",
    "i zmienną Koncentracja. Czy zależność ma charakter liniowy?"
   ]
  },
  {
   "cell_type": "code",
   "execution_count": 249,
   "id": "c1a499bd",
   "metadata": {
    "scrolled": false
   },
   "outputs": [
    {
     "data": {
      "image/png": "[encoded data removed]",
      "text/plain": [
       "plot without title"
      ]
     },
     "metadata": {
      "image/png": {
       "height": 420,
       "width": 420
      }
     },
     "output_type": "display_data"
    }
   ],
   "source": [
    "plot(dane$V2, dane$V1, ylab = \"predkosc\", xlab = \"koncentracja\", pch = 19)\n",
    "abline(model_predkosc, col = \"darkgreen\", lwd = 2)"
   ]
  },
  {
   "cell_type": "markdown",
   "id": "85c1c8aa",
   "metadata": {},
   "source": [
    "### Interpretacja\n",
    "- Zależność nie ma charakteru liniowego."
   ]
  },
  {
   "cell_type": "markdown",
   "id": "03bf3403",
   "metadata": {},
   "source": [
    "### ii)\n",
    "Zastosuj transformację logarytmiczną dla zmiennej Predkosc, dla obu\n",
    "zmiennych Predkosc i Koncentracja oraz tylko dla zmiennej Koncentracja.\n",
    "Czy któraś z transformacji prowadzi do uzyskania liniowego charakteru\n",
    "zależności? Przedstaw odpowiednie wykresy punktowe danych."
   ]
  },
  {
   "cell_type": "code",
   "execution_count": 250,
   "id": "3bad52dd",
   "metadata": {},
   "outputs": [
    {
     "data": {
      "image/png": "[encoded data removed]",
      "text/plain": [
       "Plot with title \" Predkosc/koncentracje \""
      ]
     },
     "metadata": {
      "image/png": {
       "height": 420,
       "width": 420
      }
     },
     "output_type": "display_data"
    }
   ],
   "source": [
    " plot( dane$V1 ~ dane$V2 ,\n",
    "      main =\" Predkosc/koncentracje \" , \n",
    "      xlab =\"Koncentracja\" , ylab =\" Predkosc \")"
   ]
  },
  {
   "cell_type": "code",
   "execution_count": 251,
   "id": "3233f79a",
   "metadata": {},
   "outputs": [
    {
     "data": {
      "image/png": "[encoded data removed]",
      "text/plain": [
       "Plot with title \" Predkosc/koncentracje \""
      ]
     },
     "metadata": {
      "image/png": {
       "height": 420,
       "width": 420
      }
     },
     "output_type": "display_data"
    }
   ],
   "source": [
    " plot( dane$V1 ~ dane$V2 ,\n",
    "      main =\" Predkosc/koncentracje \" , \n",
    "      xlab =\"Koncentracja\" , ylab =\" Predkosc \" ,log ='y')"
   ]
  },
  {
   "cell_type": "code",
   "execution_count": 252,
   "id": "1fba6feb",
   "metadata": {},
   "outputs": [
    {
     "data": {
      "image/png": "[encoded data removed]",
      "text/plain": [
       "Plot with title \" Predkosc/koncentracje \""
      ]
     },
     "metadata": {
      "image/png": {
       "height": 420,
       "width": 420
      }
     },
     "output_type": "display_data"
    }
   ],
   "source": [
    " plot( dane$V1 ~ dane$V2 ,\n",
    "      main =\" Predkosc/koncentracje \" , \n",
    "      xlab =\"Koncentracja\" , ylab =\" Predkosc \" ,log ='xy')"
   ]
  },
  {
   "cell_type": "code",
   "execution_count": 253,
   "id": "37b6c516",
   "metadata": {
    "scrolled": true
   },
   "outputs": [
    {
     "data": {
      "image/png": "[encoded data removed]",
      "text/plain": [
       "Plot with title \" Predkosc/koncentracje \""
      ]
     },
     "metadata": {
      "image/png": {
       "height": 420,
       "width": 420
      }
     },
     "output_type": "display_data"
    }
   ],
   "source": [
    " d<-plot( dane$V1 ~ dane$V2 ,\n",
    "      main =\" Predkosc/koncentracje \" , \n",
    "      xlab =\"Koncentracja\" , ylab =\" Predkosc \" ,log ='x')"
   ]
  },
  {
   "cell_type": "markdown",
   "id": "6bdd94b8",
   "metadata": {},
   "source": [
    "### Interpretacja\n",
    "- Transformacje nie prowadzą do liniowej zależności zmiennych"
   ]
  },
  {
   "cell_type": "code",
   "execution_count": 254,
   "id": "fcffa230",
   "metadata": {},
   "outputs": [],
   "source": [
    "model_l_1<-lm(log(dane$V1)~dane$V2)\n",
    "model_l_2<-lm(dane$V1~log(dane$V2))\n",
    "model_l_3<-lm(log(dane$V1)~log(dane$V2))"
   ]
  },
  {
   "cell_type": "code",
   "execution_count": 255,
   "id": "6ad06fa7",
   "metadata": {
    "scrolled": true
   },
   "outputs": [
    {
     "data": {
      "image/png": "[encoded data removed]",
      "text/plain": [
       "plot without title"
      ]
     },
     "metadata": {
      "image/png": {
       "height": 420,
       "width": 420
      }
     },
     "output_type": "display_data"
    }
   ],
   "source": [
    "plot(model_l_1$fitted,model_l_1$resid)"
   ]
  },
  {
   "cell_type": "code",
   "execution_count": 256,
   "id": "f3e997e7",
   "metadata": {},
   "outputs": [
    {
     "data": {
      "image/png": "[encoded data removed]",
      "text/plain": [
       "plot without title"
      ]
     },
     "metadata": {
      "image/png": {
       "height": 420,
       "width": 420
      }
     },
     "output_type": "display_data"
    }
   ],
   "source": [
    "plot(model_l_2$fitted,model_l_2$resid)"
   ]
  },
  {
   "cell_type": "code",
   "execution_count": 257,
   "id": "397ee4a1",
   "metadata": {
    "scrolled": true
   },
   "outputs": [
    {
     "data": {
      "image/png": "[encoded data removed]",
      "text/plain": [
       "plot without title"
      ]
     },
     "metadata": {
      "image/png": {
       "height": 420,
       "width": 420
      }
     },
     "output_type": "display_data"
    }
   ],
   "source": [
    "plot(model_l_3$fitted,model_l_3$resid)"
   ]
  },
  {
   "cell_type": "markdown",
   "id": "2be6f02b",
   "metadata": {},
   "source": [
    "### Interpretacja\n",
    "- Nie wykazuje trendu, rozłożenie jest losowe.\n",
    "- Sugeruje to poprawność modelu."
   ]
  },
  {
   "cell_type": "markdown",
   "id": "040730f8",
   "metadata": {},
   "source": [
    "### iii)\n",
    "Dopasuj model wielomianowy stosując wielomian stopnia 2 dla zmi\u0002ennej Koncentracja, tzn model\n",
    "Predkosc = β0 + β1 ∗ Koncentracja + β2 ∗ (Koncentracja)2"
   ]
  },
  {
   "cell_type": "code",
   "execution_count": 258,
   "id": "3f5e40e2",
   "metadata": {
    "scrolled": true
   },
   "outputs": [
    {
     "data": {
      "text/html": [
       "<style>\n",
       ".dl-inline {width: auto; margin:0; padding: 0}\n",
       ".dl-inline>dt, .dl-inline>dd {float: none; width: auto; display: inline-block}\n",
       ".dl-inline>dt::after {content: \":\\0020\"; padding-right: .5ex}\n",
       ".dl-inline>dt:not(:first-of-type) {padding-left: .5ex}\n",
       "</style><dl class=dl-inline><dt>(Intercept)</dt><dd>10.6937082651901</dd><dt>dane$V2</dt><dd>2.77768120896214</dd><dt>I(dane$V2^2)</dt><dd>-0.0978183433998247</dd></dl>\n"
      ],
      "text/latex": [
       "\\begin{description*}\n",
       "\\item[(Intercept)] 10.6937082651901\n",
       "\\item[dane\\textbackslash{}\\$V2] 2.77768120896214\n",
       "\\item[I(dane\\textbackslash{}\\$V2\\textbackslash{}textasciicircum\\{\\}2)] -0.0978183433998247\n",
       "\\end{description*}\n"
      ],
      "text/markdown": [
       "(Intercept)\n",
       ":   10.6937082651901dane$V2\n",
       ":   2.77768120896214I(dane$V2^2)\n",
       ":   -0.0978183433998247\n",
       "\n"
      ],
      "text/plain": [
       " (Intercept)      dane$V2 I(dane$V2^2) \n",
       " 10.69370827   2.77768121  -0.09781834 "
      ]
     },
     "metadata": {},
     "output_type": "display_data"
    }
   ],
   "source": [
    "model_4_3<-lm(dane$V1~dane$V2+I(dane$V2^2))\n",
    "model_4_3$coef"
   ]
  },
  {
   "cell_type": "markdown",
   "id": "7f5ae293",
   "metadata": {},
   "source": [
    "### Wzor modelu:\n",
    "$Predkosc = 10.69371+2.77768 \\cdot koncentracja -0.09782 \\cdot (koncentracja)^2$"
   ]
  },
  {
   "cell_type": "markdown",
   "id": "77ee4dfd",
   "metadata": {},
   "source": [
    "### iv)\n",
    "Przedstaw dopasowaną krzywą na wykresie wraz z danymi. Pod\u0002sumuj wyniki dopasowanego modelu. Jaki jest współczynnik dopasowania\n",
    "tego modelu? Czy jest to model właściwy do opisu danych?"
   ]
  },
  {
   "cell_type": "code",
   "execution_count": 259,
   "id": "be11bedc",
   "metadata": {
    "scrolled": false
   },
   "outputs": [
    {
     "data": {
      "image/png": "[encoded data removed]",
      "text/plain": [
       "plot without title"
      ]
     },
     "metadata": {
      "image/png": {
       "height": 420,
       "width": 420
      }
     },
     "output_type": "display_data"
    },
    {
     "data": {
      "image/png": "[encoded data removed]",
      "text/plain": [
       "plot without title"
      ]
     },
     "metadata": {
      "image/png": {
       "height": 420,
       "width": 420
      }
     },
     "output_type": "display_data"
    }
   ],
   "source": [
    "par(mfrow=c(1,1))\n",
    "plot(dane$V1~dane$V2,pch=1)\n",
    "curve(10.6937+2.77768*x-0.0978*x^2,add=T,col=\"red\",lwd=2)"
   ]
  },
  {
   "cell_type": "code",
   "execution_count": 260,
   "id": "52c1cc07",
   "metadata": {
    "scrolled": true
   },
   "outputs": [
    {
     "data": {
      "text/plain": [
       "\n",
       "Call:\n",
       "lm(formula = dane$V1 ~ dane$V2 + I(dane$V2^2))\n",
       "\n",
       "Residuals:\n",
       "      1       2       3       4       5       6       7 \n",
       "-7.5878  5.0674  0.4279 -8.3738 10.6267 -3.0900  2.9296 \n",
       "\n",
       "Coefficients:\n",
       "             Estimate Std. Error t value Pr(>|t|)\n",
       "(Intercept)  10.69371    7.90800   1.352    0.248\n",
       "dane$V2       2.77768    3.27419   0.848    0.444\n",
       "I(dane$V2^2) -0.09782    0.27230  -0.359    0.738\n",
       "\n",
       "Residual standard error: 8.435 on 4 degrees of freedom\n",
       "Multiple R-squared:  0.4478,\tAdjusted R-squared:  0.1717 \n",
       "F-statistic: 1.622 on 2 and 4 DF,  p-value: 0.3049\n"
      ]
     },
     "metadata": {},
     "output_type": "display_data"
    }
   ],
   "source": [
    "summary(model_4_3)"
   ]
  },
  {
   "cell_type": "markdown",
   "id": "7163fca6",
   "metadata": {},
   "source": [
    "### Interpretacja\n",
    "- Nie ma żadnych obserwacji istotnych statystycznie.\n",
    "- Współczynnik dopasowania wynosi 0.17.\n",
    "- Błąd standardowy reszt wynosi  8.44.\n",
    "- Mówi nam to, że nie jest to właściwy model do opisu danych."
   ]
  },
  {
   "cell_type": "markdown",
   "id": "681e4a9e",
   "metadata": {},
   "source": [
    "### v)\n",
    "Dopasuj model wielomianowy stosując wielomian stopnia 6 dla zmi\u0002ennej ( Koncentracja), tzn model."
   ]
  },
  {
   "cell_type": "code",
   "execution_count": 261,
   "id": "e164e354",
   "metadata": {
    "scrolled": true
   },
   "outputs": [
    {
     "data": {
      "text/html": [
       "<style>\n",
       ".dl-inline {width: auto; margin:0; padding: 0}\n",
       ".dl-inline>dt, .dl-inline>dd {float: none; width: auto; display: inline-block}\n",
       ".dl-inline>dt::after {content: \":\\0020\"; padding-right: .5ex}\n",
       ".dl-inline>dt:not(:first-of-type) {padding-left: .5ex}\n",
       "</style><dl class=dl-inline><dt>(Intercept)</dt><dd>-120.768382428938</dd><dt>dane$V2</dt><dd>325.454666148214</dd><dt>I(dane$V2^2)</dt><dd>-246.631643446943</dd><dt>I(dane$V2^3)</dt><dd>83.7737743186272</dd><dt>I(dane$V2^4)</dt><dd>-14.257261868807</dd><dt>I(dane$V2^5)</dt><dd>1.18499404704677</dd><dt>I(dane$V2^6)</dt><dd>-0.0378491487895166</dd></dl>\n"
      ],
      "text/latex": [
       "\\begin{description*}\n",
       "\\item[(Intercept)] -120.768382428938\n",
       "\\item[dane\\textbackslash{}\\$V2] 325.454666148214\n",
       "\\item[I(dane\\textbackslash{}\\$V2\\textbackslash{}textasciicircum\\{\\}2)] -246.631643446943\n",
       "\\item[I(dane\\textbackslash{}\\$V2\\textbackslash{}textasciicircum\\{\\}3)] 83.7737743186272\n",
       "\\item[I(dane\\textbackslash{}\\$V2\\textbackslash{}textasciicircum\\{\\}4)] -14.257261868807\n",
       "\\item[I(dane\\textbackslash{}\\$V2\\textbackslash{}textasciicircum\\{\\}5)] 1.18499404704677\n",
       "\\item[I(dane\\textbackslash{}\\$V2\\textbackslash{}textasciicircum\\{\\}6)] -0.0378491487895166\n",
       "\\end{description*}\n"
      ],
      "text/markdown": [
       "(Intercept)\n",
       ":   -120.768382428938dane$V2\n",
       ":   325.454666148214I(dane$V2^2)\n",
       ":   -246.631643446943I(dane$V2^3)\n",
       ":   83.7737743186272I(dane$V2^4)\n",
       ":   -14.257261868807I(dane$V2^5)\n",
       ":   1.18499404704677I(dane$V2^6)\n",
       ":   -0.0378491487895166\n",
       "\n"
      ],
      "text/plain": [
       "  (Intercept)       dane$V2  I(dane$V2^2)  I(dane$V2^3)  I(dane$V2^4) \n",
       "-120.76838243  325.45466615 -246.63164345   83.77377432  -14.25726187 \n",
       " I(dane$V2^5)  I(dane$V2^6) \n",
       "   1.18499405   -0.03784915 "
      ]
     },
     "metadata": {},
     "output_type": "display_data"
    }
   ],
   "source": [
    "model_4_5<-lm(dane$V1~dane$V2+I(dane$V2^2)+\n",
    "              I(dane$V2^3)+I(dane$V2^4)+I(dane$V2^5)+I(dane$V2^6))\n",
    "model_4_5$coef"
   ]
  },
  {
   "cell_type": "markdown",
   "id": "46f6fc89",
   "metadata": {},
   "source": [
    "### Wzór modelu\n",
    "\n",
    "$Predkosc = -120.76838+325.45467 \\ cdot koncentracja-246.63164 \\cdot koncentracja^2+83.77377 \\cdot koncentracja^3-14.25726 \\cdot koncentracja^4+1.18499 \\cdot koncentracja^5-0.03785 \\cdot koncentracja^6$"
   ]
  },
  {
   "cell_type": "markdown",
   "id": "bee7ebeb",
   "metadata": {},
   "source": [
    "### vi)\n",
    "Przedstaw dopasowaną krzywą na wykresie wraz z danymi. Pod\u0002sumuj wyniki dopasowanego modelu. Jaki jest współczynnik dopasowania\n",
    "tego modelu? Czy jest to model właściwy do opisu danych? Czy jest on do\u0002bry dla przewidywania wartości zmiennej Predkosc dla nowych obserwacji?"
   ]
  },
  {
   "cell_type": "code",
   "execution_count": 262,
   "id": "fd02866d",
   "metadata": {
    "scrolled": true
   },
   "outputs": [
    {
     "data": {
      "image/png": "[encoded data removed]",
      "text/plain": [
       "plot without title"
      ]
     },
     "metadata": {
      "image/png": {
       "height": 420,
       "width": 420
      }
     },
     "output_type": "display_data"
    },
    {
     "data": {
      "image/png": "[encoded data removed]",
      "text/plain": [
       "plot without title"
      ]
     },
     "metadata": {
      "image/png": {
       "height": 420,
       "width": 420
      }
     },
     "output_type": "display_data"
    },
    {
     "data": {
      "image/png": "[encoded data removed]",
      "text/plain": [
       "plot without title"
      ]
     },
     "metadata": {
      "image/png": {
       "height": 420,
       "width": 420
      }
     },
     "output_type": "display_data"
    }
   ],
   "source": [
    "par(mfrow=c(1,1))\n",
    "plot(dane$V1~dane$V2,pch=1)\n",
    "curve(-120.768382+325.454666*x-246.6316*x^2+\n",
    "      83.773774*x^3-14.25726*x^4+1.184994*x^5-0.037849*x^6,add=T,col=\"red\",lwd=2)\n",
    "curve(10.69371+2.77768*x-0.09782*x^2, add=T, col=\"darkgreen\", lwd=2)\n",
    "legend(\"bottomright\", c(\"wielomian 2-stopnia\", \n",
    "                    \"wielomian 6-stopnia\"), \n",
    "       col = c(\"red\", \"darkgreen\"),\n",
    "       lty = c(1, 1), pch = c(NA, NA), lwd = c(2, 2))"
   ]
  },
  {
   "cell_type": "code",
   "execution_count": 263,
   "id": "43394b10",
   "metadata": {},
   "outputs": [
    {
     "data": {
      "text/plain": [
       "\n",
       "Call:\n",
       "lm(formula = dane$V1 ~ dane$V2 + I(dane$V2^2) + I(dane$V2^3) + \n",
       "    I(dane$V2^4) + I(dane$V2^5) + I(dane$V2^6))\n",
       "\n",
       "Residuals:\n",
       "ALL 7 residuals are 0: no residual degrees of freedom!\n",
       "\n",
       "Coefficients:\n",
       "               Estimate Std. Error t value Pr(>|t|)\n",
       "(Intercept)  -120.76838        NaN     NaN      NaN\n",
       "dane$V2       325.45467        NaN     NaN      NaN\n",
       "I(dane$V2^2) -246.63164        NaN     NaN      NaN\n",
       "I(dane$V2^3)   83.77377        NaN     NaN      NaN\n",
       "I(dane$V2^4)  -14.25726        NaN     NaN      NaN\n",
       "I(dane$V2^5)    1.18499        NaN     NaN      NaN\n",
       "I(dane$V2^6)   -0.03785        NaN     NaN      NaN\n",
       "\n",
       "Residual standard error: NaN on 0 degrees of freedom\n",
       "Multiple R-squared:      1,\tAdjusted R-squared:    NaN \n",
       "F-statistic:   NaN on 6 and 0 DF,  p-value: NA\n"
      ]
     },
     "metadata": {},
     "output_type": "display_data"
    }
   ],
   "source": [
    "summary(model_4_5)"
   ]
  },
  {
   "cell_type": "markdown",
   "id": "503ecb62",
   "metadata": {},
   "source": [
    "### Interpretacja\n",
    "- Określenie współczynnika dopasowania nie jest możliwe.\n",
    "- Jest to zły model do opisu danych.\n",
    "- Wynika to z tego, iż stopień wielomianu jest tylko o 1 mniejszy od liczby punktów.\n",
    "- Jest to prawie idealne dopasowanie, lecz nie wskazuje znaczącego objaśnienia."
   ]
  },
  {
   "cell_type": "markdown",
   "id": "d5e2ad44",
   "metadata": {},
   "source": [
    "# Lista 3"
   ]
  },
  {
   "cell_type": "markdown",
   "id": "ed3b6fde",
   "metadata": {},
   "source": [
    "# Zadanie 5, L3"
   ]
  },
  {
   "cell_type": "markdown",
   "id": "5a1033fd",
   "metadata": {},
   "source": [
    "Dla danych z powyższego ćwiczenia przeprowadź analizę\n",
    "dyskryminacyjną korzystając z funkcji lda w pakiecie MASS. Prawdopodobień\u0002stwa a priori przynależności do klas przyjmij jako równe 0.5."
   ]
  },
  {
   "cell_type": "code",
   "execution_count": 264,
   "id": "ddf13fb8",
   "metadata": {
    "scrolled": true
   },
   "outputs": [
    {
     "data": {
      "text/html": [
       "<table class=\"dataframe\">\n",
       "<caption>A data.frame: 6 × 14</caption>\n",
       "<thead>\n",
       "\t<tr><th></th><th scope=col>V1</th><th scope=col>V2</th><th scope=col>V3</th><th scope=col>V4</th><th scope=col>V5</th><th scope=col>V6</th><th scope=col>V7</th><th scope=col>V8</th><th scope=col>V9</th><th scope=col>V10</th><th scope=col>V11</th><th scope=col>V12</th><th scope=col>V13</th><th scope=col>V14</th></tr>\n",
       "\t<tr><th></th><th scope=col>&lt;int&gt;</th><th scope=col>&lt;dbl&gt;</th><th scope=col>&lt;dbl&gt;</th><th scope=col>&lt;dbl&gt;</th><th scope=col>&lt;dbl&gt;</th><th scope=col>&lt;int&gt;</th><th scope=col>&lt;dbl&gt;</th><th scope=col>&lt;dbl&gt;</th><th scope=col>&lt;dbl&gt;</th><th scope=col>&lt;dbl&gt;</th><th scope=col>&lt;dbl&gt;</th><th scope=col>&lt;dbl&gt;</th><th scope=col>&lt;dbl&gt;</th><th scope=col>&lt;int&gt;</th></tr>\n",
       "</thead>\n",
       "<tbody>\n",
       "\t<tr><th scope=row>1</th><td>1</td><td>14.23</td><td>1.71</td><td>2.43</td><td>15.6</td><td>127</td><td>2.80</td><td>3.06</td><td>0.28</td><td>2.29</td><td>5.64</td><td>1.04</td><td>3.92</td><td>1065</td></tr>\n",
       "\t<tr><th scope=row>2</th><td>1</td><td>13.20</td><td>1.78</td><td>2.14</td><td>11.2</td><td>100</td><td>2.65</td><td>2.76</td><td>0.26</td><td>1.28</td><td>4.38</td><td>1.05</td><td>3.40</td><td>1050</td></tr>\n",
       "\t<tr><th scope=row>3</th><td>1</td><td>13.16</td><td>2.36</td><td>2.67</td><td>18.6</td><td>101</td><td>2.80</td><td>3.24</td><td>0.30</td><td>2.81</td><td>5.68</td><td>1.03</td><td>3.17</td><td>1185</td></tr>\n",
       "\t<tr><th scope=row>4</th><td>1</td><td>14.37</td><td>1.95</td><td>2.50</td><td>16.8</td><td>113</td><td>3.85</td><td>3.49</td><td>0.24</td><td>2.18</td><td>7.80</td><td>0.86</td><td>3.45</td><td>1480</td></tr>\n",
       "\t<tr><th scope=row>5</th><td>1</td><td>13.24</td><td>2.59</td><td>2.87</td><td>21.0</td><td>118</td><td>2.80</td><td>2.69</td><td>0.39</td><td>1.82</td><td>4.32</td><td>1.04</td><td>2.93</td><td> 735</td></tr>\n",
       "\t<tr><th scope=row>6</th><td>1</td><td>14.20</td><td>1.76</td><td>2.45</td><td>15.2</td><td>112</td><td>3.27</td><td>3.39</td><td>0.34</td><td>1.97</td><td>6.75</td><td>1.05</td><td>2.85</td><td>1450</td></tr>\n",
       "</tbody>\n",
       "</table>\n"
      ],
      "text/latex": [
       "A data.frame: 6 × 14\n",
       "\\begin{tabular}{r|llllllllllllll}\n",
       "  & V1 & V2 & V3 & V4 & V5 & V6 & V7 & V8 & V9 & V10 & V11 & V12 & V13 & V14\\\\\n",
       "  & <int> & <dbl> & <dbl> & <dbl> & <dbl> & <int> & <dbl> & <dbl> & <dbl> & <dbl> & <dbl> & <dbl> & <dbl> & <int>\\\\\n",
       "\\hline\n",
       "\t1 & 1 & 14.23 & 1.71 & 2.43 & 15.6 & 127 & 2.80 & 3.06 & 0.28 & 2.29 & 5.64 & 1.04 & 3.92 & 1065\\\\\n",
       "\t2 & 1 & 13.20 & 1.78 & 2.14 & 11.2 & 100 & 2.65 & 2.76 & 0.26 & 1.28 & 4.38 & 1.05 & 3.40 & 1050\\\\\n",
       "\t3 & 1 & 13.16 & 2.36 & 2.67 & 18.6 & 101 & 2.80 & 3.24 & 0.30 & 2.81 & 5.68 & 1.03 & 3.17 & 1185\\\\\n",
       "\t4 & 1 & 14.37 & 1.95 & 2.50 & 16.8 & 113 & 3.85 & 3.49 & 0.24 & 2.18 & 7.80 & 0.86 & 3.45 & 1480\\\\\n",
       "\t5 & 1 & 13.24 & 2.59 & 2.87 & 21.0 & 118 & 2.80 & 2.69 & 0.39 & 1.82 & 4.32 & 1.04 & 2.93 &  735\\\\\n",
       "\t6 & 1 & 14.20 & 1.76 & 2.45 & 15.2 & 112 & 3.27 & 3.39 & 0.34 & 1.97 & 6.75 & 1.05 & 2.85 & 1450\\\\\n",
       "\\end{tabular}\n"
      ],
      "text/markdown": [
       "\n",
       "A data.frame: 6 × 14\n",
       "\n",
       "| <!--/--> | V1 &lt;int&gt; | V2 &lt;dbl&gt; | V3 &lt;dbl&gt; | V4 &lt;dbl&gt; | V5 &lt;dbl&gt; | V6 &lt;int&gt; | V7 &lt;dbl&gt; | V8 &lt;dbl&gt; | V9 &lt;dbl&gt; | V10 &lt;dbl&gt; | V11 &lt;dbl&gt; | V12 &lt;dbl&gt; | V13 &lt;dbl&gt; | V14 &lt;int&gt; |\n",
       "|---|---|---|---|---|---|---|---|---|---|---|---|---|---|---|\n",
       "| 1 | 1 | 14.23 | 1.71 | 2.43 | 15.6 | 127 | 2.80 | 3.06 | 0.28 | 2.29 | 5.64 | 1.04 | 3.92 | 1065 |\n",
       "| 2 | 1 | 13.20 | 1.78 | 2.14 | 11.2 | 100 | 2.65 | 2.76 | 0.26 | 1.28 | 4.38 | 1.05 | 3.40 | 1050 |\n",
       "| 3 | 1 | 13.16 | 2.36 | 2.67 | 18.6 | 101 | 2.80 | 3.24 | 0.30 | 2.81 | 5.68 | 1.03 | 3.17 | 1185 |\n",
       "| 4 | 1 | 14.37 | 1.95 | 2.50 | 16.8 | 113 | 3.85 | 3.49 | 0.24 | 2.18 | 7.80 | 0.86 | 3.45 | 1480 |\n",
       "| 5 | 1 | 13.24 | 2.59 | 2.87 | 21.0 | 118 | 2.80 | 2.69 | 0.39 | 1.82 | 4.32 | 1.04 | 2.93 |  735 |\n",
       "| 6 | 1 | 14.20 | 1.76 | 2.45 | 15.2 | 112 | 3.27 | 3.39 | 0.34 | 1.97 | 6.75 | 1.05 | 2.85 | 1450 |\n",
       "\n"
      ],
      "text/plain": [
       "  V1 V2    V3   V4   V5   V6  V7   V8   V9   V10  V11  V12  V13  V14 \n",
       "1 1  14.23 1.71 2.43 15.6 127 2.80 3.06 0.28 2.29 5.64 1.04 3.92 1065\n",
       "2 1  13.20 1.78 2.14 11.2 100 2.65 2.76 0.26 1.28 4.38 1.05 3.40 1050\n",
       "3 1  13.16 2.36 2.67 18.6 101 2.80 3.24 0.30 2.81 5.68 1.03 3.17 1185\n",
       "4 1  14.37 1.95 2.50 16.8 113 3.85 3.49 0.24 2.18 7.80 0.86 3.45 1480\n",
       "5 1  13.24 2.59 2.87 21.0 118 2.80 2.69 0.39 1.82 4.32 1.04 2.93  735\n",
       "6 1  14.20 1.76 2.45 15.2 112 3.27 3.39 0.34 1.97 6.75 1.05 2.85 1450"
      ]
     },
     "metadata": {},
     "output_type": "display_data"
    }
   ],
   "source": [
    "wino = read.table(\"http://theta.edu.pl/wp-content/uploads/2018/03/dane_wino.txt\",header=FALSE,sep=\",\")\n",
    "head(wino)"
   ]
  },
  {
   "cell_type": "markdown",
   "id": "68c2dddd",
   "metadata": {},
   "source": [
    "### i)\n",
    "Jakie są średnie wartości w grupach?"
   ]
  },
  {
   "cell_type": "code",
   "execution_count": 265,
   "id": "f385ddfc",
   "metadata": {
    "scrolled": true
   },
   "outputs": [
    {
     "data": {
      "text/plain": [
       "Call:\n",
       "lda(V1 ~ ., data = wino, prior = c(0.33, 0.33, 0.34))\n",
       "\n",
       "Prior probabilities of groups:\n",
       "   1    2    3 \n",
       "0.33 0.33 0.34 \n",
       "\n",
       "Group means:\n",
       "        V2       V3       V4       V5       V6       V7        V8       V9\n",
       "1 13.74475 2.010678 2.455593 17.03729 106.3390 2.840169 2.9823729 0.290000\n",
       "2 12.27873 1.932676 2.244789 20.23803  94.5493 2.258873 2.0808451 0.363662\n",
       "3 13.15375 3.333750 2.437083 21.41667  99.3125 1.678750 0.7814583 0.447500\n",
       "       V10      V11       V12      V13       V14\n",
       "1 1.899322 5.528305 1.0620339 3.157797 1115.7119\n",
       "2 1.630282 3.086620 1.0562817 2.785352  519.5070\n",
       "3 1.153542 7.396250 0.6827083 1.683542  629.8958\n",
       "\n",
       "Coefficients of linear discriminants:\n",
       "             LD1           LD2\n",
       "V2  -0.350186614  0.8944964364\n",
       "V3   0.183338605  0.2948776331\n",
       "V4  -0.227186803  2.3638133904\n",
       "V5   0.145705086 -0.1554340461\n",
       "V6  -0.002187430 -0.0003316757\n",
       "V7   0.614991949 -0.0693608474\n",
       "V8  -1.687796495 -0.3911027936\n",
       "V9  -1.591288242 -1.5379482490\n",
       "V10  0.115362901 -0.3146029472\n",
       "V11  0.369656139  0.2313972261\n",
       "V12 -0.907792958 -1.4636402891\n",
       "V13 -1.152378732  0.1207756838\n",
       "V14 -0.002514577  0.0030098198\n",
       "\n",
       "Proportion of trace:\n",
       "   LD1    LD2 \n",
       "0.7325 0.2675 "
      ]
     },
     "metadata": {},
     "output_type": "display_data"
    }
   ],
   "source": [
    "model_lda = lda(V1 ~ . , data = wino, prior = c(0.33, 0.33,0.34))\n",
    "model_lda"
   ]
  },
  {
   "cell_type": "code",
   "execution_count": 266,
   "id": "f3a3b31c",
   "metadata": {
    "scrolled": true
   },
   "outputs": [
    {
     "data": {
      "text/html": [
       "<table class=\"dataframe\">\n",
       "<caption>A matrix: 3 × 13 of type dbl</caption>\n",
       "<thead>\n",
       "\t<tr><th></th><th scope=col>V2</th><th scope=col>V3</th><th scope=col>V4</th><th scope=col>V5</th><th scope=col>V6</th><th scope=col>V7</th><th scope=col>V8</th><th scope=col>V9</th><th scope=col>V10</th><th scope=col>V11</th><th scope=col>V12</th><th scope=col>V13</th><th scope=col>V14</th></tr>\n",
       "</thead>\n",
       "<tbody>\n",
       "\t<tr><th scope=row>1</th><td>13.74475</td><td>2.010678</td><td>2.455593</td><td>17.03729</td><td>106.3390</td><td>2.840169</td><td>2.9823729</td><td>0.290000</td><td>1.899322</td><td>5.528305</td><td>1.0620339</td><td>3.157797</td><td>1115.7119</td></tr>\n",
       "\t<tr><th scope=row>2</th><td>12.27873</td><td>1.932676</td><td>2.244789</td><td>20.23803</td><td> 94.5493</td><td>2.258873</td><td>2.0808451</td><td>0.363662</td><td>1.630282</td><td>3.086620</td><td>1.0562817</td><td>2.785352</td><td> 519.5070</td></tr>\n",
       "\t<tr><th scope=row>3</th><td>13.15375</td><td>3.333750</td><td>2.437083</td><td>21.41667</td><td> 99.3125</td><td>1.678750</td><td>0.7814583</td><td>0.447500</td><td>1.153542</td><td>7.396250</td><td>0.6827083</td><td>1.683542</td><td> 629.8958</td></tr>\n",
       "</tbody>\n",
       "</table>\n"
      ],
      "text/latex": [
       "A matrix: 3 × 13 of type dbl\n",
       "\\begin{tabular}{r|lllllllllllll}\n",
       "  & V2 & V3 & V4 & V5 & V6 & V7 & V8 & V9 & V10 & V11 & V12 & V13 & V14\\\\\n",
       "\\hline\n",
       "\t1 & 13.74475 & 2.010678 & 2.455593 & 17.03729 & 106.3390 & 2.840169 & 2.9823729 & 0.290000 & 1.899322 & 5.528305 & 1.0620339 & 3.157797 & 1115.7119\\\\\n",
       "\t2 & 12.27873 & 1.932676 & 2.244789 & 20.23803 &  94.5493 & 2.258873 & 2.0808451 & 0.363662 & 1.630282 & 3.086620 & 1.0562817 & 2.785352 &  519.5070\\\\\n",
       "\t3 & 13.15375 & 3.333750 & 2.437083 & 21.41667 &  99.3125 & 1.678750 & 0.7814583 & 0.447500 & 1.153542 & 7.396250 & 0.6827083 & 1.683542 &  629.8958\\\\\n",
       "\\end{tabular}\n"
      ],
      "text/markdown": [
       "\n",
       "A matrix: 3 × 13 of type dbl\n",
       "\n",
       "| <!--/--> | V2 | V3 | V4 | V5 | V6 | V7 | V8 | V9 | V10 | V11 | V12 | V13 | V14 |\n",
       "|---|---|---|---|---|---|---|---|---|---|---|---|---|---|\n",
       "| 1 | 13.74475 | 2.010678 | 2.455593 | 17.03729 | 106.3390 | 2.840169 | 2.9823729 | 0.290000 | 1.899322 | 5.528305 | 1.0620339 | 3.157797 | 1115.7119 |\n",
       "| 2 | 12.27873 | 1.932676 | 2.244789 | 20.23803 |  94.5493 | 2.258873 | 2.0808451 | 0.363662 | 1.630282 | 3.086620 | 1.0562817 | 2.785352 |  519.5070 |\n",
       "| 3 | 13.15375 | 3.333750 | 2.437083 | 21.41667 |  99.3125 | 1.678750 | 0.7814583 | 0.447500 | 1.153542 | 7.396250 | 0.6827083 | 1.683542 |  629.8958 |\n",
       "\n"
      ],
      "text/plain": [
       "  V2       V3       V4       V5       V6       V7       V8        V9      \n",
       "1 13.74475 2.010678 2.455593 17.03729 106.3390 2.840169 2.9823729 0.290000\n",
       "2 12.27873 1.932676 2.244789 20.23803  94.5493 2.258873 2.0808451 0.363662\n",
       "3 13.15375 3.333750 2.437083 21.41667  99.3125 1.678750 0.7814583 0.447500\n",
       "  V10      V11      V12       V13      V14      \n",
       "1 1.899322 5.528305 1.0620339 3.157797 1115.7119\n",
       "2 1.630282 3.086620 1.0562817 2.785352  519.5070\n",
       "3 1.153542 7.396250 0.6827083 1.683542  629.8958"
      ]
     },
     "metadata": {},
     "output_type": "display_data"
    }
   ],
   "source": [
    "model_lda$means"
   ]
  },
  {
   "cell_type": "markdown",
   "id": "2e6867ac",
   "metadata": {},
   "source": [
    "### ii)\n",
    "Jakie są wartości współczynników funkcji dyskryminacyjnych?"
   ]
  },
  {
   "cell_type": "code",
   "execution_count": 267,
   "id": "19b49faa",
   "metadata": {},
   "outputs": [
    {
     "data": {
      "text/html": [
       "<table class=\"dataframe\">\n",
       "<caption>A matrix: 13 × 2 of type dbl</caption>\n",
       "<thead>\n",
       "\t<tr><th></th><th scope=col>LD1</th><th scope=col>LD2</th></tr>\n",
       "</thead>\n",
       "<tbody>\n",
       "\t<tr><th scope=row>V2</th><td>-0.350186614</td><td> 0.8944964364</td></tr>\n",
       "\t<tr><th scope=row>V3</th><td> 0.183338605</td><td> 0.2948776331</td></tr>\n",
       "\t<tr><th scope=row>V4</th><td>-0.227186803</td><td> 2.3638133904</td></tr>\n",
       "\t<tr><th scope=row>V5</th><td> 0.145705086</td><td>-0.1554340461</td></tr>\n",
       "\t<tr><th scope=row>V6</th><td>-0.002187430</td><td>-0.0003316757</td></tr>\n",
       "\t<tr><th scope=row>V7</th><td> 0.614991949</td><td>-0.0693608474</td></tr>\n",
       "\t<tr><th scope=row>V8</th><td>-1.687796495</td><td>-0.3911027936</td></tr>\n",
       "\t<tr><th scope=row>V9</th><td>-1.591288242</td><td>-1.5379482490</td></tr>\n",
       "\t<tr><th scope=row>V10</th><td> 0.115362901</td><td>-0.3146029472</td></tr>\n",
       "\t<tr><th scope=row>V11</th><td> 0.369656139</td><td> 0.2313972261</td></tr>\n",
       "\t<tr><th scope=row>V12</th><td>-0.907792958</td><td>-1.4636402891</td></tr>\n",
       "\t<tr><th scope=row>V13</th><td>-1.152378732</td><td> 0.1207756838</td></tr>\n",
       "\t<tr><th scope=row>V14</th><td>-0.002514577</td><td> 0.0030098198</td></tr>\n",
       "</tbody>\n",
       "</table>\n"
      ],
      "text/latex": [
       "A matrix: 13 × 2 of type dbl\n",
       "\\begin{tabular}{r|ll}\n",
       "  & LD1 & LD2\\\\\n",
       "\\hline\n",
       "\tV2 & -0.350186614 &  0.8944964364\\\\\n",
       "\tV3 &  0.183338605 &  0.2948776331\\\\\n",
       "\tV4 & -0.227186803 &  2.3638133904\\\\\n",
       "\tV5 &  0.145705086 & -0.1554340461\\\\\n",
       "\tV6 & -0.002187430 & -0.0003316757\\\\\n",
       "\tV7 &  0.614991949 & -0.0693608474\\\\\n",
       "\tV8 & -1.687796495 & -0.3911027936\\\\\n",
       "\tV9 & -1.591288242 & -1.5379482490\\\\\n",
       "\tV10 &  0.115362901 & -0.3146029472\\\\\n",
       "\tV11 &  0.369656139 &  0.2313972261\\\\\n",
       "\tV12 & -0.907792958 & -1.4636402891\\\\\n",
       "\tV13 & -1.152378732 &  0.1207756838\\\\\n",
       "\tV14 & -0.002514577 &  0.0030098198\\\\\n",
       "\\end{tabular}\n"
      ],
      "text/markdown": [
       "\n",
       "A matrix: 13 × 2 of type dbl\n",
       "\n",
       "| <!--/--> | LD1 | LD2 |\n",
       "|---|---|---|\n",
       "| V2 | -0.350186614 |  0.8944964364 |\n",
       "| V3 |  0.183338605 |  0.2948776331 |\n",
       "| V4 | -0.227186803 |  2.3638133904 |\n",
       "| V5 |  0.145705086 | -0.1554340461 |\n",
       "| V6 | -0.002187430 | -0.0003316757 |\n",
       "| V7 |  0.614991949 | -0.0693608474 |\n",
       "| V8 | -1.687796495 | -0.3911027936 |\n",
       "| V9 | -1.591288242 | -1.5379482490 |\n",
       "| V10 |  0.115362901 | -0.3146029472 |\n",
       "| V11 |  0.369656139 |  0.2313972261 |\n",
       "| V12 | -0.907792958 | -1.4636402891 |\n",
       "| V13 | -1.152378732 |  0.1207756838 |\n",
       "| V14 | -0.002514577 |  0.0030098198 |\n",
       "\n"
      ],
      "text/plain": [
       "    LD1          LD2          \n",
       "V2  -0.350186614  0.8944964364\n",
       "V3   0.183338605  0.2948776331\n",
       "V4  -0.227186803  2.3638133904\n",
       "V5   0.145705086 -0.1554340461\n",
       "V6  -0.002187430 -0.0003316757\n",
       "V7   0.614991949 -0.0693608474\n",
       "V8  -1.687796495 -0.3911027936\n",
       "V9  -1.591288242 -1.5379482490\n",
       "V10  0.115362901 -0.3146029472\n",
       "V11  0.369656139  0.2313972261\n",
       "V12 -0.907792958 -1.4636402891\n",
       "V13 -1.152378732  0.1207756838\n",
       "V14 -0.002514577  0.0030098198"
      ]
     },
     "metadata": {},
     "output_type": "display_data"
    }
   ],
   "source": [
    "model_lda$scaling"
   ]
  },
  {
   "cell_type": "markdown",
   "id": "445af6f8",
   "metadata": {},
   "source": [
    "### iii)\n",
    "Dla każdej z funkcji dyskryminacyjnych określ która ze zmiennych ob\u0002jaśniających jest najbardziej istotna."
   ]
  },
  {
   "cell_type": "markdown",
   "id": "820e4f01",
   "metadata": {},
   "source": [
    "### Interpretacja\n",
    "- Dla funkcji dyskryminacyjnej LD1, zmienna V7 jest najbardziej istotna\n",
    "- Dla funkcji dyskryminacyjnej LD2, zmienna V4 jest najbardziej istotna"
   ]
  },
  {
   "cell_type": "markdown",
   "id": "b945823f",
   "metadata": {},
   "source": [
    "### IV)\n",
    "Jakie są średnie wartości funkcji dyskryminacyjnych w każdej z grup?"
   ]
  },
  {
   "cell_type": "code",
   "execution_count": 268,
   "id": "bb3e7349",
   "metadata": {},
   "outputs": [
    {
     "data": {
      "text/html": [
       "-1.00504367995454"
      ],
      "text/latex": [
       "-1.00504367995454"
      ],
      "text/markdown": [
       "-1.00504367995454"
      ],
      "text/plain": [
       "[1] -1.005044"
      ]
     },
     "metadata": {},
     "output_type": "display_data"
    },
    {
     "data": {
      "text/html": [
       "-1.64104438664553"
      ],
      "text/latex": [
       "-1.64104438664553"
      ],
      "text/markdown": [
       "-1.64104438664553"
      ],
      "text/plain": [
       "[1] -1.641044"
      ]
     },
     "metadata": {},
     "output_type": "display_data"
    },
    {
     "data": {
      "text/html": [
       "2.56826194699418"
      ],
      "text/latex": [
       "2.56826194699418"
      ],
      "text/markdown": [
       "2.56826194699418"
      ],
      "text/plain": [
       "[1] 2.568262"
      ]
     },
     "metadata": {},
     "output_type": "display_data"
    }
   ],
   "source": [
    "LD1 = predict(model_lda)$x \n",
    "(LD1_1 = mean(LD1[wino$V1 == 1]))\n",
    "(LD1_2 = mean(LD1[wino$V1 == 2]))\n",
    "(LD1_3 = mean(LD1[wino$V1 == 3]))"
   ]
  },
  {
   "cell_type": "markdown",
   "id": "7de35e32",
   "metadata": {},
   "source": [
    "### V)\n",
    "Przeprowadź predykcję przynależności do klas na zbiorze testowym."
   ]
  },
  {
   "cell_type": "code",
   "execution_count": 269,
   "id": "7613b41e",
   "metadata": {},
   "outputs": [
    {
     "data": {
      "text/html": [
       "<dl>\n",
       "\t<dt>$class</dt>\n",
       "\t\t<dd><style>\n",
       ".list-inline {list-style: none; margin:0; padding: 0}\n",
       ".list-inline>li {display: inline-block}\n",
       ".list-inline>li:not(:last-child)::after {content: \"\\00b7\"; padding: 0 .5ex}\n",
       "</style>\n",
       "<ol class=list-inline><li>1</li><li>1</li><li>1</li><li>1</li><li>1</li><li>1</li><li>1</li><li>1</li><li>1</li><li>1</li><li>1</li><li>1</li><li>1</li><li>1</li><li>1</li><li>1</li><li>1</li><li>1</li><li>1</li><li>1</li><li>1</li><li>1</li><li>1</li><li>1</li><li>1</li><li>1</li><li>1</li><li>1</li><li>1</li><li>1</li><li>1</li><li>1</li><li>1</li><li>1</li><li>1</li><li>1</li><li>1</li><li>1</li><li>1</li><li>1</li><li>1</li><li>1</li><li>1</li><li>1</li><li>1</li><li>1</li><li>1</li><li>1</li><li>1</li><li>1</li><li>1</li><li>1</li><li>1</li><li>1</li><li>1</li><li>1</li><li>1</li><li>1</li><li>1</li><li>2</li><li>2</li><li>2</li><li>2</li><li>2</li><li>2</li><li>2</li><li>2</li><li>2</li><li>2</li><li>2</li><li>2</li><li>2</li><li>2</li><li>2</li><li>2</li><li>2</li><li>2</li><li>2</li><li>2</li><li>2</li><li>2</li><li>2</li><li>2</li><li>2</li><li>2</li><li>2</li><li>2</li><li>2</li><li>2</li><li>2</li><li>2</li><li>2</li><li>2</li><li>2</li><li>2</li><li>2</li><li>2</li><li>2</li><li>2</li><li>2</li><li>2</li><li>2</li><li>2</li><li>2</li><li>2</li><li>2</li><li>2</li><li>2</li><li>2</li><li>2</li><li>2</li><li>2</li><li>2</li><li>2</li><li>2</li><li>2</li><li>2</li><li>2</li><li>2</li><li>2</li><li>2</li><li>2</li><li>2</li><li>2</li><li>2</li><li>2</li><li>2</li><li>2</li><li>2</li><li>2</li><li>3</li><li>3</li><li>3</li><li>3</li><li>3</li><li>3</li><li>3</li><li>3</li><li>3</li><li>3</li><li>3</li><li>3</li><li>3</li><li>3</li><li>3</li><li>3</li><li>3</li><li>3</li><li>3</li><li>3</li><li>3</li><li>3</li><li>3</li><li>3</li><li>3</li><li>3</li><li>3</li><li>3</li><li>3</li><li>3</li><li>3</li><li>3</li><li>3</li><li>3</li><li>3</li><li>3</li><li>3</li><li>3</li><li>3</li><li>3</li><li>3</li><li>3</li><li>3</li><li>3</li><li>3</li><li>3</li><li>3</li><li>3</li></ol>\n",
       "\n",
       "<details>\n",
       "\t<summary style=display:list-item;cursor:pointer>\n",
       "\t\t<strong>Levels</strong>:\n",
       "\t</summary>\n",
       "\t<style>\n",
       "\t.list-inline {list-style: none; margin:0; padding: 0}\n",
       "\t.list-inline>li {display: inline-block}\n",
       "\t.list-inline>li:not(:last-child)::after {content: \"\\00b7\"; padding: 0 .5ex}\n",
       "\t</style>\n",
       "\t<ol class=list-inline><li>'1'</li><li>'2'</li><li>'3'</li></ol>\n",
       "</details></dd>\n",
       "\t<dt>$posterior</dt>\n",
       "\t\t<dd><table class=\"dataframe\">\n",
       "<caption>A matrix: 178 × 3 of type dbl</caption>\n",
       "<thead>\n",
       "\t<tr><th></th><th scope=col>1</th><th scope=col>2</th><th scope=col>3</th></tr>\n",
       "</thead>\n",
       "<tbody>\n",
       "\t<tr><th scope=row>1</th><td>1.0000000</td><td>2.710371e-09</td><td>4.611169e-18</td></tr>\n",
       "\t<tr><th scope=row>2</th><td>0.9999997</td><td>2.977518e-07</td><td>1.106007e-16</td></tr>\n",
       "\t<tr><th scope=row>3</th><td>0.9999981</td><td>1.929016e-06</td><td>9.908205e-14</td></tr>\n",
       "\t<tr><th scope=row>4</th><td>1.0000000</td><td>3.096621e-12</td><td>1.689506e-16</td></tr>\n",
       "\t<tr><th scope=row>5</th><td>0.9369763</td><td>6.302343e-02</td><td>2.784677e-07</td></tr>\n",
       "\t<tr><th scope=row>6</th><td>1.0000000</td><td>2.916457e-11</td><td>1.636100e-17</td></tr>\n",
       "\t<tr><th scope=row>7</th><td>1.0000000</td><td>2.243841e-11</td><td>1.519902e-17</td></tr>\n",
       "\t<tr><th scope=row>8</th><td>1.0000000</td><td>1.583667e-10</td><td>2.918966e-16</td></tr>\n",
       "\t<tr><th scope=row>9</th><td>1.0000000</td><td>4.991425e-08</td><td>3.085736e-15</td></tr>\n",
       "\t<tr><th scope=row>10</th><td>0.9999992</td><td>8.176372e-07</td><td>1.464523e-13</td></tr>\n",
       "\t<tr><th scope=row>11</th><td>1.0000000</td><td>6.550589e-10</td><td>1.975867e-18</td></tr>\n",
       "\t<tr><th scope=row>12</th><td>0.9999999</td><td>8.422999e-08</td><td>8.599093e-14</td></tr>\n",
       "\t<tr><th scope=row>13</th><td>1.0000000</td><td>2.641697e-08</td><td>1.346749e-14</td></tr>\n",
       "\t<tr><th scope=row>14</th><td>1.0000000</td><td>1.016394e-10</td><td>4.702489e-21</td></tr>\n",
       "\t<tr><th scope=row>15</th><td>1.0000000</td><td>2.065755e-13</td><td>7.726263e-21</td></tr>\n",
       "\t<tr><th scope=row>16</th><td>1.0000000</td><td>9.697457e-09</td><td>5.222818e-13</td></tr>\n",
       "\t<tr><th scope=row>17</th><td>1.0000000</td><td>1.144103e-08</td><td>2.355099e-13</td></tr>\n",
       "\t<tr><th scope=row>18</th><td>0.9999919</td><td>8.055549e-06</td><td>2.619088e-12</td></tr>\n",
       "\t<tr><th scope=row>19</th><td>1.0000000</td><td>3.236805e-13</td><td>5.506350e-20</td></tr>\n",
       "\t<tr><th scope=row>20</th><td>0.9999995</td><td>5.095511e-07</td><td>8.416944e-13</td></tr>\n",
       "\t<tr><th scope=row>21</th><td>0.9999578</td><td>4.217995e-05</td><td>3.245571e-14</td></tr>\n",
       "\t<tr><th scope=row>22</th><td>0.9946655</td><td>5.334395e-03</td><td>6.912715e-08</td></tr>\n",
       "\t<tr><th scope=row>23</th><td>0.9999999</td><td>1.452617e-07</td><td>1.829781e-18</td></tr>\n",
       "\t<tr><th scope=row>24</th><td>0.9998322</td><td>1.678444e-04</td><td>1.345458e-12</td></tr>\n",
       "\t<tr><th scope=row>25</th><td>0.9997023</td><td>2.977283e-04</td><td>2.426392e-13</td></tr>\n",
       "\t<tr><th scope=row>26</th><td>0.9740147</td><td>2.598527e-02</td><td>2.186862e-09</td></tr>\n",
       "\t<tr><th scope=row>27</th><td>1.0000000</td><td>1.320092e-08</td><td>1.172978e-15</td></tr>\n",
       "\t<tr><th scope=row>28</th><td>0.9999459</td><td>5.406637e-05</td><td>3.010696e-11</td></tr>\n",
       "\t<tr><th scope=row>29</th><td>0.9999939</td><td>6.104462e-06</td><td>3.437478e-14</td></tr>\n",
       "\t<tr><th scope=row>30</th><td>0.9999945</td><td>5.464412e-06</td><td>6.791055e-13</td></tr>\n",
       "\t<tr><th scope=row>⋮</th><td>⋮</td><td>⋮</td><td>⋮</td></tr>\n",
       "\t<tr><th scope=row>149</th><td>5.713822e-16</td><td>1.404272e-10</td><td>1.0000000</td></tr>\n",
       "\t<tr><th scope=row>150</th><td>1.345878e-15</td><td>5.808021e-10</td><td>1.0000000</td></tr>\n",
       "\t<tr><th scope=row>151</th><td>1.106440e-14</td><td>1.478939e-09</td><td>1.0000000</td></tr>\n",
       "\t<tr><th scope=row>152</th><td>2.642831e-18</td><td>1.562594e-11</td><td>1.0000000</td></tr>\n",
       "\t<tr><th scope=row>153</th><td>3.313078e-17</td><td>1.098630e-08</td><td>1.0000000</td></tr>\n",
       "\t<tr><th scope=row>154</th><td>3.974133e-16</td><td>4.213396e-11</td><td>1.0000000</td></tr>\n",
       "\t<tr><th scope=row>155</th><td>1.634304e-14</td><td>4.212036e-06</td><td>0.9999958</td></tr>\n",
       "\t<tr><th scope=row>156</th><td>2.349069e-16</td><td>9.717681e-11</td><td>1.0000000</td></tr>\n",
       "\t<tr><th scope=row>157</th><td>3.786756e-16</td><td>1.561155e-11</td><td>1.0000000</td></tr>\n",
       "\t<tr><th scope=row>158</th><td>1.239472e-15</td><td>1.058553e-08</td><td>1.0000000</td></tr>\n",
       "\t<tr><th scope=row>159</th><td>4.847297e-18</td><td>1.874569e-13</td><td>1.0000000</td></tr>\n",
       "\t<tr><th scope=row>160</th><td>2.868294e-18</td><td>2.598206e-12</td><td>1.0000000</td></tr>\n",
       "\t<tr><th scope=row>161</th><td>2.399716e-17</td><td>4.355081e-09</td><td>1.0000000</td></tr>\n",
       "\t<tr><th scope=row>162</th><td>1.232012e-09</td><td>8.243189e-07</td><td>0.9999992</td></tr>\n",
       "\t<tr><th scope=row>163</th><td>1.412739e-10</td><td>7.411447e-05</td><td>0.9999259</td></tr>\n",
       "\t<tr><th scope=row>164</th><td>1.851584e-09</td><td>7.618234e-06</td><td>0.9999924</td></tr>\n",
       "\t<tr><th scope=row>165</th><td>7.625320e-16</td><td>8.744462e-11</td><td>1.0000000</td></tr>\n",
       "\t<tr><th scope=row>166</th><td>1.556888e-14</td><td>2.631426e-08</td><td>1.0000000</td></tr>\n",
       "\t<tr><th scope=row>167</th><td>6.580729e-17</td><td>2.489924e-12</td><td>1.0000000</td></tr>\n",
       "\t<tr><th scope=row>168</th><td>1.889930e-16</td><td>2.602380e-11</td><td>1.0000000</td></tr>\n",
       "\t<tr><th scope=row>169</th><td>1.144828e-13</td><td>6.599489e-10</td><td>1.0000000</td></tr>\n",
       "\t<tr><th scope=row>170</th><td>2.996335e-16</td><td>9.582725e-13</td><td>1.0000000</td></tr>\n",
       "\t<tr><th scope=row>171</th><td>5.685561e-13</td><td>8.294664e-06</td><td>0.9999917</td></tr>\n",
       "\t<tr><th scope=row>172</th><td>1.502320e-18</td><td>4.960371e-11</td><td>1.0000000</td></tr>\n",
       "\t<tr><th scope=row>173</th><td>3.214657e-14</td><td>7.393473e-12</td><td>1.0000000</td></tr>\n",
       "\t<tr><th scope=row>174</th><td>1.420167e-13</td><td>1.221447e-11</td><td>1.0000000</td></tr>\n",
       "\t<tr><th scope=row>175</th><td>2.373093e-14</td><td>9.565215e-10</td><td>1.0000000</td></tr>\n",
       "\t<tr><th scope=row>176</th><td>3.974405e-16</td><td>9.600874e-13</td><td>1.0000000</td></tr>\n",
       "\t<tr><th scope=row>177</th><td>1.434508e-13</td><td>6.356881e-10</td><td>1.0000000</td></tr>\n",
       "\t<tr><th scope=row>178</th><td>8.728792e-18</td><td>2.065723e-13</td><td>1.0000000</td></tr>\n",
       "</tbody>\n",
       "</table>\n",
       "</dd>\n",
       "\t<dt>$x</dt>\n",
       "\t\t<dd><table class=\"dataframe\">\n",
       "<caption>A matrix: 178 × 2 of type dbl</caption>\n",
       "<thead>\n",
       "\t<tr><th></th><th scope=col>LD1</th><th scope=col>LD2</th></tr>\n",
       "</thead>\n",
       "<tbody>\n",
       "\t<tr><th scope=row>1</th><td>-4.903471</td><td>1.99911373</td></tr>\n",
       "\t<tr><th scope=row>2</th><td>-4.554593</td><td>1.16787835</td></tr>\n",
       "\t<tr><th scope=row>3</th><td>-3.659379</td><td>1.37304755</td></tr>\n",
       "\t<tr><th scope=row>4</th><td>-4.288050</td><td>3.98940846</td></tr>\n",
       "\t<tr><th scope=row>5</th><td>-1.810975</td><td>0.28191803</td></tr>\n",
       "\t<tr><th scope=row>6</th><td>-4.647960</td><td>3.21994541</td></tr>\n",
       "\t<tr><th scope=row>7</th><td>-4.653262</td><td>3.27635116</td></tr>\n",
       "\t<tr><th scope=row>8</th><td>-4.284853</td><td>3.08882884</td></tr>\n",
       "\t<tr><th scope=row>9</th><td>-4.067129</td><td>1.92287231</td></tr>\n",
       "\t<tr><th scope=row>10</th><td>-3.590360</td><td>1.61888035</td></tr>\n",
       "\t<tr><th scope=row>11</th><td>-4.993490</td><td>2.26123258</td></tr>\n",
       "\t<tr><th scope=row>12</th><td>-3.621813</td><td>2.11814545</td></tr>\n",
       "\t<tr><th scope=row>13</th><td>-3.854148</td><td>2.21969625</td></tr>\n",
       "\t<tr><th scope=row>14</th><td>-5.785309</td><td>2.12808325</td></tr>\n",
       "\t<tr><th scope=row>15</th><td>-5.604728</td><td>3.67828480</td></tr>\n",
       "\t<tr><th scope=row>16</th><td>-3.335923</td><td>2.81661762</td></tr>\n",
       "\t<tr><th scope=row>17</th><td>-3.447797</td><td>2.69945727</td></tr>\n",
       "\t<tr><th scope=row>18</th><td>-3.237759</td><td>1.34362277</td></tr>\n",
       "\t<tr><th scope=row>19</th><td>-5.344454</td><td>3.75954166</td></tr>\n",
       "\t<tr><th scope=row>20</th><td>-3.342729</td><td>1.90274386</td></tr>\n",
       "\t<tr><th scope=row>21</th><td>-3.868025</td><td>0.51741462</td></tr>\n",
       "\t<tr><th scope=row>22</th><td>-1.963612</td><td>0.75416069</td></tr>\n",
       "\t<tr><th scope=row>23</th><td>-5.102208</td><td>0.94478988</td></tr>\n",
       "\t<tr><th scope=row>24</th><td>-3.384005</td><td>0.54322264</td></tr>\n",
       "\t<tr><th scope=row>25</th><td>-3.628550</td><td>0.23850994</td></tr>\n",
       "\t<tr><th scope=row>26</th><td>-2.461973</td><td>0.03312519</td></tr>\n",
       "\t<tr><th scope=row>27</th><td>-4.175157</td><td>2.15156451</td></tr>\n",
       "\t<tr><th scope=row>28</th><td>-2.938584</td><td>1.11860240</td></tr>\n",
       "\t<tr><th scope=row>29</th><td>-3.825030</td><td>0.99140259</td></tr>\n",
       "\t<tr><th scope=row>30</th><td>-3.415207</td><td>1.30702362</td></tr>\n",
       "\t<tr><th scope=row>⋮</th><td>⋮</td><td>⋮</td></tr>\n",
       "\t<tr><th scope=row>149</th><td>4.766162</td><td> 1.4718668479</td></tr>\n",
       "\t<tr><th scope=row>150</th><td>4.638817</td><td> 1.2525085472</td></tr>\n",
       "\t<tr><th scope=row>151</th><td>4.372165</td><td> 1.3326198319</td></tr>\n",
       "\t<tr><th scope=row>152</th><td>5.443205</td><td> 1.2215026027</td></tr>\n",
       "\t<tr><th scope=row>153</th><td>5.024347</td><td> 0.0008863435</td></tr>\n",
       "\t<tr><th scope=row>154</th><td>4.831079</td><td> 1.7107576797</td></tr>\n",
       "\t<tr><th scope=row>155</th><td>4.181301</td><td>-0.5382598601</td></tr>\n",
       "\t<tr><th scope=row>156</th><td>4.878193</td><td> 1.4317148987</td></tr>\n",
       "\t<tr><th scope=row>157</th><td>4.854856</td><td> 1.9443324980</td></tr>\n",
       "\t<tr><th scope=row>158</th><td>4.595794</td><td> 0.5370530480</td></tr>\n",
       "\t<tr><th scope=row>159</th><td>5.451750</td><td> 2.3816829871</td></tr>\n",
       "\t<tr><th scope=row>160</th><td>5.466126</td><td> 1.6682001701</td></tr>\n",
       "\t<tr><th scope=row>161</th><td>5.079394</td><td> 0.1781811820</td></tr>\n",
       "\t<tr><th scope=row>162</th><td>2.880088</td><td> 1.4915529715</td></tr>\n",
       "\t<tr><th scope=row>163</th><td>3.054926</td><td> 0.0861036381</td></tr>\n",
       "\t<tr><th scope=row>164</th><td>2.791374</td><td> 1.0119478667</td></tr>\n",
       "\t<tr><th scope=row>165</th><td>4.740576</td><td> 1.6286608838</td></tr>\n",
       "\t<tr><th scope=row>166</th><td>4.279344</td><td> 0.6846886614</td></tr>\n",
       "\t<tr><th scope=row>167</th><td>5.095617</td><td> 2.1345110198</td></tr>\n",
       "\t<tr><th scope=row>168</th><td>4.927923</td><td> 1.7193479216</td></tr>\n",
       "\t<tr><th scope=row>169</th><td>4.109923</td><td> 1.8682611282</td></tr>\n",
       "\t<tr><th scope=row>170</th><td>4.933344</td><td> 2.5865356449</td></tr>\n",
       "\t<tr><th scope=row>171</th><td>3.748363</td><td>-0.1859019834</td></tr>\n",
       "\t<tr><th scope=row>172</th><td>5.489138</td><td> 0.8593595922</td></tr>\n",
       "\t<tr><th scope=row>173</th><td>4.342113</td><td> 2.7718807960</td></tr>\n",
       "\t<tr><th scope=row>174</th><td>4.156926</td><td> 2.8664485547</td></tr>\n",
       "\t<tr><th scope=row>175</th><td>4.289662</td><td> 1.5492830188</td></tr>\n",
       "\t<tr><th scope=row>176</th><td>4.899833</td><td> 2.6271914248</td></tr>\n",
       "\t<tr><th scope=row>177</th><td>4.083873</td><td> 1.9101680156</td></tr>\n",
       "\t<tr><th scope=row>178</th><td>5.380278</td><td> 2.4437619286</td></tr>\n",
       "</tbody>\n",
       "</table>\n",
       "</dd>\n",
       "</dl>\n"
      ],
      "text/latex": [
       "\\begin{description}\n",
       "\\item[\\$class] \\begin{enumerate*}\n",
       "\\item 1\n",
       "\\item 1\n",
       "\\item 1\n",
       "\\item 1\n",
       "\\item 1\n",
       "\\item 1\n",
       "\\item 1\n",
       "\\item 1\n",
       "\\item 1\n",
       "\\item 1\n",
       "\\item 1\n",
       "\\item 1\n",
       "\\item 1\n",
       "\\item 1\n",
       "\\item 1\n",
       "\\item 1\n",
       "\\item 1\n",
       "\\item 1\n",
       "\\item 1\n",
       "\\item 1\n",
       "\\item 1\n",
       "\\item 1\n",
       "\\item 1\n",
       "\\item 1\n",
       "\\item 1\n",
       "\\item 1\n",
       "\\item 1\n",
       "\\item 1\n",
       "\\item 1\n",
       "\\item 1\n",
       "\\item 1\n",
       "\\item 1\n",
       "\\item 1\n",
       "\\item 1\n",
       "\\item 1\n",
       "\\item 1\n",
       "\\item 1\n",
       "\\item 1\n",
       "\\item 1\n",
       "\\item 1\n",
       "\\item 1\n",
       "\\item 1\n",
       "\\item 1\n",
       "\\item 1\n",
       "\\item 1\n",
       "\\item 1\n",
       "\\item 1\n",
       "\\item 1\n",
       "\\item 1\n",
       "\\item 1\n",
       "\\item 1\n",
       "\\item 1\n",
       "\\item 1\n",
       "\\item 1\n",
       "\\item 1\n",
       "\\item 1\n",
       "\\item 1\n",
       "\\item 1\n",
       "\\item 1\n",
       "\\item 2\n",
       "\\item 2\n",
       "\\item 2\n",
       "\\item 2\n",
       "\\item 2\n",
       "\\item 2\n",
       "\\item 2\n",
       "\\item 2\n",
       "\\item 2\n",
       "\\item 2\n",
       "\\item 2\n",
       "\\item 2\n",
       "\\item 2\n",
       "\\item 2\n",
       "\\item 2\n",
       "\\item 2\n",
       "\\item 2\n",
       "\\item 2\n",
       "\\item 2\n",
       "\\item 2\n",
       "\\item 2\n",
       "\\item 2\n",
       "\\item 2\n",
       "\\item 2\n",
       "\\item 2\n",
       "\\item 2\n",
       "\\item 2\n",
       "\\item 2\n",
       "\\item 2\n",
       "\\item 2\n",
       "\\item 2\n",
       "\\item 2\n",
       "\\item 2\n",
       "\\item 2\n",
       "\\item 2\n",
       "\\item 2\n",
       "\\item 2\n",
       "\\item 2\n",
       "\\item 2\n",
       "\\item 2\n",
       "\\item 2\n",
       "\\item 2\n",
       "\\item 2\n",
       "\\item 2\n",
       "\\item 2\n",
       "\\item 2\n",
       "\\item 2\n",
       "\\item 2\n",
       "\\item 2\n",
       "\\item 2\n",
       "\\item 2\n",
       "\\item 2\n",
       "\\item 2\n",
       "\\item 2\n",
       "\\item 2\n",
       "\\item 2\n",
       "\\item 2\n",
       "\\item 2\n",
       "\\item 2\n",
       "\\item 2\n",
       "\\item 2\n",
       "\\item 2\n",
       "\\item 2\n",
       "\\item 2\n",
       "\\item 2\n",
       "\\item 2\n",
       "\\item 2\n",
       "\\item 2\n",
       "\\item 2\n",
       "\\item 2\n",
       "\\item 2\n",
       "\\item 3\n",
       "\\item 3\n",
       "\\item 3\n",
       "\\item 3\n",
       "\\item 3\n",
       "\\item 3\n",
       "\\item 3\n",
       "\\item 3\n",
       "\\item 3\n",
       "\\item 3\n",
       "\\item 3\n",
       "\\item 3\n",
       "\\item 3\n",
       "\\item 3\n",
       "\\item 3\n",
       "\\item 3\n",
       "\\item 3\n",
       "\\item 3\n",
       "\\item 3\n",
       "\\item 3\n",
       "\\item 3\n",
       "\\item 3\n",
       "\\item 3\n",
       "\\item 3\n",
       "\\item 3\n",
       "\\item 3\n",
       "\\item 3\n",
       "\\item 3\n",
       "\\item 3\n",
       "\\item 3\n",
       "\\item 3\n",
       "\\item 3\n",
       "\\item 3\n",
       "\\item 3\n",
       "\\item 3\n",
       "\\item 3\n",
       "\\item 3\n",
       "\\item 3\n",
       "\\item 3\n",
       "\\item 3\n",
       "\\item 3\n",
       "\\item 3\n",
       "\\item 3\n",
       "\\item 3\n",
       "\\item 3\n",
       "\\item 3\n",
       "\\item 3\n",
       "\\item 3\n",
       "\\end{enumerate*}\n",
       "\n",
       "\\emph{Levels}: \\begin{enumerate*}\n",
       "\\item '1'\n",
       "\\item '2'\n",
       "\\item '3'\n",
       "\\end{enumerate*}\n",
       "\n",
       "\\item[\\$posterior] A matrix: 178 × 3 of type dbl\n",
       "\\begin{tabular}{r|lll}\n",
       "  & 1 & 2 & 3\\\\\n",
       "\\hline\n",
       "\t1 & 1.0000000 & 2.710371e-09 & 4.611169e-18\\\\\n",
       "\t2 & 0.9999997 & 2.977518e-07 & 1.106007e-16\\\\\n",
       "\t3 & 0.9999981 & 1.929016e-06 & 9.908205e-14\\\\\n",
       "\t4 & 1.0000000 & 3.096621e-12 & 1.689506e-16\\\\\n",
       "\t5 & 0.9369763 & 6.302343e-02 & 2.784677e-07\\\\\n",
       "\t6 & 1.0000000 & 2.916457e-11 & 1.636100e-17\\\\\n",
       "\t7 & 1.0000000 & 2.243841e-11 & 1.519902e-17\\\\\n",
       "\t8 & 1.0000000 & 1.583667e-10 & 2.918966e-16\\\\\n",
       "\t9 & 1.0000000 & 4.991425e-08 & 3.085736e-15\\\\\n",
       "\t10 & 0.9999992 & 8.176372e-07 & 1.464523e-13\\\\\n",
       "\t11 & 1.0000000 & 6.550589e-10 & 1.975867e-18\\\\\n",
       "\t12 & 0.9999999 & 8.422999e-08 & 8.599093e-14\\\\\n",
       "\t13 & 1.0000000 & 2.641697e-08 & 1.346749e-14\\\\\n",
       "\t14 & 1.0000000 & 1.016394e-10 & 4.702489e-21\\\\\n",
       "\t15 & 1.0000000 & 2.065755e-13 & 7.726263e-21\\\\\n",
       "\t16 & 1.0000000 & 9.697457e-09 & 5.222818e-13\\\\\n",
       "\t17 & 1.0000000 & 1.144103e-08 & 2.355099e-13\\\\\n",
       "\t18 & 0.9999919 & 8.055549e-06 & 2.619088e-12\\\\\n",
       "\t19 & 1.0000000 & 3.236805e-13 & 5.506350e-20\\\\\n",
       "\t20 & 0.9999995 & 5.095511e-07 & 8.416944e-13\\\\\n",
       "\t21 & 0.9999578 & 4.217995e-05 & 3.245571e-14\\\\\n",
       "\t22 & 0.9946655 & 5.334395e-03 & 6.912715e-08\\\\\n",
       "\t23 & 0.9999999 & 1.452617e-07 & 1.829781e-18\\\\\n",
       "\t24 & 0.9998322 & 1.678444e-04 & 1.345458e-12\\\\\n",
       "\t25 & 0.9997023 & 2.977283e-04 & 2.426392e-13\\\\\n",
       "\t26 & 0.9740147 & 2.598527e-02 & 2.186862e-09\\\\\n",
       "\t27 & 1.0000000 & 1.320092e-08 & 1.172978e-15\\\\\n",
       "\t28 & 0.9999459 & 5.406637e-05 & 3.010696e-11\\\\\n",
       "\t29 & 0.9999939 & 6.104462e-06 & 3.437478e-14\\\\\n",
       "\t30 & 0.9999945 & 5.464412e-06 & 6.791055e-13\\\\\n",
       "\t⋮ & ⋮ & ⋮ & ⋮\\\\\n",
       "\t149 & 5.713822e-16 & 1.404272e-10 & 1.0000000\\\\\n",
       "\t150 & 1.345878e-15 & 5.808021e-10 & 1.0000000\\\\\n",
       "\t151 & 1.106440e-14 & 1.478939e-09 & 1.0000000\\\\\n",
       "\t152 & 2.642831e-18 & 1.562594e-11 & 1.0000000\\\\\n",
       "\t153 & 3.313078e-17 & 1.098630e-08 & 1.0000000\\\\\n",
       "\t154 & 3.974133e-16 & 4.213396e-11 & 1.0000000\\\\\n",
       "\t155 & 1.634304e-14 & 4.212036e-06 & 0.9999958\\\\\n",
       "\t156 & 2.349069e-16 & 9.717681e-11 & 1.0000000\\\\\n",
       "\t157 & 3.786756e-16 & 1.561155e-11 & 1.0000000\\\\\n",
       "\t158 & 1.239472e-15 & 1.058553e-08 & 1.0000000\\\\\n",
       "\t159 & 4.847297e-18 & 1.874569e-13 & 1.0000000\\\\\n",
       "\t160 & 2.868294e-18 & 2.598206e-12 & 1.0000000\\\\\n",
       "\t161 & 2.399716e-17 & 4.355081e-09 & 1.0000000\\\\\n",
       "\t162 & 1.232012e-09 & 8.243189e-07 & 0.9999992\\\\\n",
       "\t163 & 1.412739e-10 & 7.411447e-05 & 0.9999259\\\\\n",
       "\t164 & 1.851584e-09 & 7.618234e-06 & 0.9999924\\\\\n",
       "\t165 & 7.625320e-16 & 8.744462e-11 & 1.0000000\\\\\n",
       "\t166 & 1.556888e-14 & 2.631426e-08 & 1.0000000\\\\\n",
       "\t167 & 6.580729e-17 & 2.489924e-12 & 1.0000000\\\\\n",
       "\t168 & 1.889930e-16 & 2.602380e-11 & 1.0000000\\\\\n",
       "\t169 & 1.144828e-13 & 6.599489e-10 & 1.0000000\\\\\n",
       "\t170 & 2.996335e-16 & 9.582725e-13 & 1.0000000\\\\\n",
       "\t171 & 5.685561e-13 & 8.294664e-06 & 0.9999917\\\\\n",
       "\t172 & 1.502320e-18 & 4.960371e-11 & 1.0000000\\\\\n",
       "\t173 & 3.214657e-14 & 7.393473e-12 & 1.0000000\\\\\n",
       "\t174 & 1.420167e-13 & 1.221447e-11 & 1.0000000\\\\\n",
       "\t175 & 2.373093e-14 & 9.565215e-10 & 1.0000000\\\\\n",
       "\t176 & 3.974405e-16 & 9.600874e-13 & 1.0000000\\\\\n",
       "\t177 & 1.434508e-13 & 6.356881e-10 & 1.0000000\\\\\n",
       "\t178 & 8.728792e-18 & 2.065723e-13 & 1.0000000\\\\\n",
       "\\end{tabular}\n",
       "\n",
       "\\item[\\$x] A matrix: 178 × 2 of type dbl\n",
       "\\begin{tabular}{r|ll}\n",
       "  & LD1 & LD2\\\\\n",
       "\\hline\n",
       "\t1 & -4.903471 & 1.99911373\\\\\n",
       "\t2 & -4.554593 & 1.16787835\\\\\n",
       "\t3 & -3.659379 & 1.37304755\\\\\n",
       "\t4 & -4.288050 & 3.98940846\\\\\n",
       "\t5 & -1.810975 & 0.28191803\\\\\n",
       "\t6 & -4.647960 & 3.21994541\\\\\n",
       "\t7 & -4.653262 & 3.27635116\\\\\n",
       "\t8 & -4.284853 & 3.08882884\\\\\n",
       "\t9 & -4.067129 & 1.92287231\\\\\n",
       "\t10 & -3.590360 & 1.61888035\\\\\n",
       "\t11 & -4.993490 & 2.26123258\\\\\n",
       "\t12 & -3.621813 & 2.11814545\\\\\n",
       "\t13 & -3.854148 & 2.21969625\\\\\n",
       "\t14 & -5.785309 & 2.12808325\\\\\n",
       "\t15 & -5.604728 & 3.67828480\\\\\n",
       "\t16 & -3.335923 & 2.81661762\\\\\n",
       "\t17 & -3.447797 & 2.69945727\\\\\n",
       "\t18 & -3.237759 & 1.34362277\\\\\n",
       "\t19 & -5.344454 & 3.75954166\\\\\n",
       "\t20 & -3.342729 & 1.90274386\\\\\n",
       "\t21 & -3.868025 & 0.51741462\\\\\n",
       "\t22 & -1.963612 & 0.75416069\\\\\n",
       "\t23 & -5.102208 & 0.94478988\\\\\n",
       "\t24 & -3.384005 & 0.54322264\\\\\n",
       "\t25 & -3.628550 & 0.23850994\\\\\n",
       "\t26 & -2.461973 & 0.03312519\\\\\n",
       "\t27 & -4.175157 & 2.15156451\\\\\n",
       "\t28 & -2.938584 & 1.11860240\\\\\n",
       "\t29 & -3.825030 & 0.99140259\\\\\n",
       "\t30 & -3.415207 & 1.30702362\\\\\n",
       "\t⋮ & ⋮ & ⋮\\\\\n",
       "\t149 & 4.766162 &  1.4718668479\\\\\n",
       "\t150 & 4.638817 &  1.2525085472\\\\\n",
       "\t151 & 4.372165 &  1.3326198319\\\\\n",
       "\t152 & 5.443205 &  1.2215026027\\\\\n",
       "\t153 & 5.024347 &  0.0008863435\\\\\n",
       "\t154 & 4.831079 &  1.7107576797\\\\\n",
       "\t155 & 4.181301 & -0.5382598601\\\\\n",
       "\t156 & 4.878193 &  1.4317148987\\\\\n",
       "\t157 & 4.854856 &  1.9443324980\\\\\n",
       "\t158 & 4.595794 &  0.5370530480\\\\\n",
       "\t159 & 5.451750 &  2.3816829871\\\\\n",
       "\t160 & 5.466126 &  1.6682001701\\\\\n",
       "\t161 & 5.079394 &  0.1781811820\\\\\n",
       "\t162 & 2.880088 &  1.4915529715\\\\\n",
       "\t163 & 3.054926 &  0.0861036381\\\\\n",
       "\t164 & 2.791374 &  1.0119478667\\\\\n",
       "\t165 & 4.740576 &  1.6286608838\\\\\n",
       "\t166 & 4.279344 &  0.6846886614\\\\\n",
       "\t167 & 5.095617 &  2.1345110198\\\\\n",
       "\t168 & 4.927923 &  1.7193479216\\\\\n",
       "\t169 & 4.109923 &  1.8682611282\\\\\n",
       "\t170 & 4.933344 &  2.5865356449\\\\\n",
       "\t171 & 3.748363 & -0.1859019834\\\\\n",
       "\t172 & 5.489138 &  0.8593595922\\\\\n",
       "\t173 & 4.342113 &  2.7718807960\\\\\n",
       "\t174 & 4.156926 &  2.8664485547\\\\\n",
       "\t175 & 4.289662 &  1.5492830188\\\\\n",
       "\t176 & 4.899833 &  2.6271914248\\\\\n",
       "\t177 & 4.083873 &  1.9101680156\\\\\n",
       "\t178 & 5.380278 &  2.4437619286\\\\\n",
       "\\end{tabular}\n",
       "\n",
       "\\end{description}\n"
      ],
      "text/markdown": [
       "$class\n",
       ":   1. 1\n",
       "2. 1\n",
       "3. 1\n",
       "4. 1\n",
       "5. 1\n",
       "6. 1\n",
       "7. 1\n",
       "8. 1\n",
       "9. 1\n",
       "10. 1\n",
       "11. 1\n",
       "12. 1\n",
       "13. 1\n",
       "14. 1\n",
       "15. 1\n",
       "16. 1\n",
       "17. 1\n",
       "18. 1\n",
       "19. 1\n",
       "20. 1\n",
       "21. 1\n",
       "22. 1\n",
       "23. 1\n",
       "24. 1\n",
       "25. 1\n",
       "26. 1\n",
       "27. 1\n",
       "28. 1\n",
       "29. 1\n",
       "30. 1\n",
       "31. 1\n",
       "32. 1\n",
       "33. 1\n",
       "34. 1\n",
       "35. 1\n",
       "36. 1\n",
       "37. 1\n",
       "38. 1\n",
       "39. 1\n",
       "40. 1\n",
       "41. 1\n",
       "42. 1\n",
       "43. 1\n",
       "44. 1\n",
       "45. 1\n",
       "46. 1\n",
       "47. 1\n",
       "48. 1\n",
       "49. 1\n",
       "50. 1\n",
       "51. 1\n",
       "52. 1\n",
       "53. 1\n",
       "54. 1\n",
       "55. 1\n",
       "56. 1\n",
       "57. 1\n",
       "58. 1\n",
       "59. 1\n",
       "60. 2\n",
       "61. 2\n",
       "62. 2\n",
       "63. 2\n",
       "64. 2\n",
       "65. 2\n",
       "66. 2\n",
       "67. 2\n",
       "68. 2\n",
       "69. 2\n",
       "70. 2\n",
       "71. 2\n",
       "72. 2\n",
       "73. 2\n",
       "74. 2\n",
       "75. 2\n",
       "76. 2\n",
       "77. 2\n",
       "78. 2\n",
       "79. 2\n",
       "80. 2\n",
       "81. 2\n",
       "82. 2\n",
       "83. 2\n",
       "84. 2\n",
       "85. 2\n",
       "86. 2\n",
       "87. 2\n",
       "88. 2\n",
       "89. 2\n",
       "90. 2\n",
       "91. 2\n",
       "92. 2\n",
       "93. 2\n",
       "94. 2\n",
       "95. 2\n",
       "96. 2\n",
       "97. 2\n",
       "98. 2\n",
       "99. 2\n",
       "100. 2\n",
       "101. 2\n",
       "102. 2\n",
       "103. 2\n",
       "104. 2\n",
       "105. 2\n",
       "106. 2\n",
       "107. 2\n",
       "108. 2\n",
       "109. 2\n",
       "110. 2\n",
       "111. 2\n",
       "112. 2\n",
       "113. 2\n",
       "114. 2\n",
       "115. 2\n",
       "116. 2\n",
       "117. 2\n",
       "118. 2\n",
       "119. 2\n",
       "120. 2\n",
       "121. 2\n",
       "122. 2\n",
       "123. 2\n",
       "124. 2\n",
       "125. 2\n",
       "126. 2\n",
       "127. 2\n",
       "128. 2\n",
       "129. 2\n",
       "130. 2\n",
       "131. 3\n",
       "132. 3\n",
       "133. 3\n",
       "134. 3\n",
       "135. 3\n",
       "136. 3\n",
       "137. 3\n",
       "138. 3\n",
       "139. 3\n",
       "140. 3\n",
       "141. 3\n",
       "142. 3\n",
       "143. 3\n",
       "144. 3\n",
       "145. 3\n",
       "146. 3\n",
       "147. 3\n",
       "148. 3\n",
       "149. 3\n",
       "150. 3\n",
       "151. 3\n",
       "152. 3\n",
       "153. 3\n",
       "154. 3\n",
       "155. 3\n",
       "156. 3\n",
       "157. 3\n",
       "158. 3\n",
       "159. 3\n",
       "160. 3\n",
       "161. 3\n",
       "162. 3\n",
       "163. 3\n",
       "164. 3\n",
       "165. 3\n",
       "166. 3\n",
       "167. 3\n",
       "168. 3\n",
       "169. 3\n",
       "170. 3\n",
       "171. 3\n",
       "172. 3\n",
       "173. 3\n",
       "174. 3\n",
       "175. 3\n",
       "176. 3\n",
       "177. 3\n",
       "178. 3\n",
       "\n",
       "\n",
       "\n",
       "**Levels**: 1. '1'\n",
       "2. '2'\n",
       "3. '3'\n",
       "\n",
       "\n",
       "\n",
       "$posterior\n",
       ":   \n",
       "A matrix: 178 × 3 of type dbl\n",
       "\n",
       "| <!--/--> | 1 | 2 | 3 |\n",
       "|---|---|---|---|\n",
       "| 1 | 1.0000000 | 2.710371e-09 | 4.611169e-18 |\n",
       "| 2 | 0.9999997 | 2.977518e-07 | 1.106007e-16 |\n",
       "| 3 | 0.9999981 | 1.929016e-06 | 9.908205e-14 |\n",
       "| 4 | 1.0000000 | 3.096621e-12 | 1.689506e-16 |\n",
       "| 5 | 0.9369763 | 6.302343e-02 | 2.784677e-07 |\n",
       "| 6 | 1.0000000 | 2.916457e-11 | 1.636100e-17 |\n",
       "| 7 | 1.0000000 | 2.243841e-11 | 1.519902e-17 |\n",
       "| 8 | 1.0000000 | 1.583667e-10 | 2.918966e-16 |\n",
       "| 9 | 1.0000000 | 4.991425e-08 | 3.085736e-15 |\n",
       "| 10 | 0.9999992 | 8.176372e-07 | 1.464523e-13 |\n",
       "| 11 | 1.0000000 | 6.550589e-10 | 1.975867e-18 |\n",
       "| 12 | 0.9999999 | 8.422999e-08 | 8.599093e-14 |\n",
       "| 13 | 1.0000000 | 2.641697e-08 | 1.346749e-14 |\n",
       "| 14 | 1.0000000 | 1.016394e-10 | 4.702489e-21 |\n",
       "| 15 | 1.0000000 | 2.065755e-13 | 7.726263e-21 |\n",
       "| 16 | 1.0000000 | 9.697457e-09 | 5.222818e-13 |\n",
       "| 17 | 1.0000000 | 1.144103e-08 | 2.355099e-13 |\n",
       "| 18 | 0.9999919 | 8.055549e-06 | 2.619088e-12 |\n",
       "| 19 | 1.0000000 | 3.236805e-13 | 5.506350e-20 |\n",
       "| 20 | 0.9999995 | 5.095511e-07 | 8.416944e-13 |\n",
       "| 21 | 0.9999578 | 4.217995e-05 | 3.245571e-14 |\n",
       "| 22 | 0.9946655 | 5.334395e-03 | 6.912715e-08 |\n",
       "| 23 | 0.9999999 | 1.452617e-07 | 1.829781e-18 |\n",
       "| 24 | 0.9998322 | 1.678444e-04 | 1.345458e-12 |\n",
       "| 25 | 0.9997023 | 2.977283e-04 | 2.426392e-13 |\n",
       "| 26 | 0.9740147 | 2.598527e-02 | 2.186862e-09 |\n",
       "| 27 | 1.0000000 | 1.320092e-08 | 1.172978e-15 |\n",
       "| 28 | 0.9999459 | 5.406637e-05 | 3.010696e-11 |\n",
       "| 29 | 0.9999939 | 6.104462e-06 | 3.437478e-14 |\n",
       "| 30 | 0.9999945 | 5.464412e-06 | 6.791055e-13 |\n",
       "| ⋮ | ⋮ | ⋮ | ⋮ |\n",
       "| 149 | 5.713822e-16 | 1.404272e-10 | 1.0000000 |\n",
       "| 150 | 1.345878e-15 | 5.808021e-10 | 1.0000000 |\n",
       "| 151 | 1.106440e-14 | 1.478939e-09 | 1.0000000 |\n",
       "| 152 | 2.642831e-18 | 1.562594e-11 | 1.0000000 |\n",
       "| 153 | 3.313078e-17 | 1.098630e-08 | 1.0000000 |\n",
       "| 154 | 3.974133e-16 | 4.213396e-11 | 1.0000000 |\n",
       "| 155 | 1.634304e-14 | 4.212036e-06 | 0.9999958 |\n",
       "| 156 | 2.349069e-16 | 9.717681e-11 | 1.0000000 |\n",
       "| 157 | 3.786756e-16 | 1.561155e-11 | 1.0000000 |\n",
       "| 158 | 1.239472e-15 | 1.058553e-08 | 1.0000000 |\n",
       "| 159 | 4.847297e-18 | 1.874569e-13 | 1.0000000 |\n",
       "| 160 | 2.868294e-18 | 2.598206e-12 | 1.0000000 |\n",
       "| 161 | 2.399716e-17 | 4.355081e-09 | 1.0000000 |\n",
       "| 162 | 1.232012e-09 | 8.243189e-07 | 0.9999992 |\n",
       "| 163 | 1.412739e-10 | 7.411447e-05 | 0.9999259 |\n",
       "| 164 | 1.851584e-09 | 7.618234e-06 | 0.9999924 |\n",
       "| 165 | 7.625320e-16 | 8.744462e-11 | 1.0000000 |\n",
       "| 166 | 1.556888e-14 | 2.631426e-08 | 1.0000000 |\n",
       "| 167 | 6.580729e-17 | 2.489924e-12 | 1.0000000 |\n",
       "| 168 | 1.889930e-16 | 2.602380e-11 | 1.0000000 |\n",
       "| 169 | 1.144828e-13 | 6.599489e-10 | 1.0000000 |\n",
       "| 170 | 2.996335e-16 | 9.582725e-13 | 1.0000000 |\n",
       "| 171 | 5.685561e-13 | 8.294664e-06 | 0.9999917 |\n",
       "| 172 | 1.502320e-18 | 4.960371e-11 | 1.0000000 |\n",
       "| 173 | 3.214657e-14 | 7.393473e-12 | 1.0000000 |\n",
       "| 174 | 1.420167e-13 | 1.221447e-11 | 1.0000000 |\n",
       "| 175 | 2.373093e-14 | 9.565215e-10 | 1.0000000 |\n",
       "| 176 | 3.974405e-16 | 9.600874e-13 | 1.0000000 |\n",
       "| 177 | 1.434508e-13 | 6.356881e-10 | 1.0000000 |\n",
       "| 178 | 8.728792e-18 | 2.065723e-13 | 1.0000000 |\n",
       "\n",
       "\n",
       "$x\n",
       ":   \n",
       "A matrix: 178 × 2 of type dbl\n",
       "\n",
       "| <!--/--> | LD1 | LD2 |\n",
       "|---|---|---|\n",
       "| 1 | -4.903471 | 1.99911373 |\n",
       "| 2 | -4.554593 | 1.16787835 |\n",
       "| 3 | -3.659379 | 1.37304755 |\n",
       "| 4 | -4.288050 | 3.98940846 |\n",
       "| 5 | -1.810975 | 0.28191803 |\n",
       "| 6 | -4.647960 | 3.21994541 |\n",
       "| 7 | -4.653262 | 3.27635116 |\n",
       "| 8 | -4.284853 | 3.08882884 |\n",
       "| 9 | -4.067129 | 1.92287231 |\n",
       "| 10 | -3.590360 | 1.61888035 |\n",
       "| 11 | -4.993490 | 2.26123258 |\n",
       "| 12 | -3.621813 | 2.11814545 |\n",
       "| 13 | -3.854148 | 2.21969625 |\n",
       "| 14 | -5.785309 | 2.12808325 |\n",
       "| 15 | -5.604728 | 3.67828480 |\n",
       "| 16 | -3.335923 | 2.81661762 |\n",
       "| 17 | -3.447797 | 2.69945727 |\n",
       "| 18 | -3.237759 | 1.34362277 |\n",
       "| 19 | -5.344454 | 3.75954166 |\n",
       "| 20 | -3.342729 | 1.90274386 |\n",
       "| 21 | -3.868025 | 0.51741462 |\n",
       "| 22 | -1.963612 | 0.75416069 |\n",
       "| 23 | -5.102208 | 0.94478988 |\n",
       "| 24 | -3.384005 | 0.54322264 |\n",
       "| 25 | -3.628550 | 0.23850994 |\n",
       "| 26 | -2.461973 | 0.03312519 |\n",
       "| 27 | -4.175157 | 2.15156451 |\n",
       "| 28 | -2.938584 | 1.11860240 |\n",
       "| 29 | -3.825030 | 0.99140259 |\n",
       "| 30 | -3.415207 | 1.30702362 |\n",
       "| ⋮ | ⋮ | ⋮ |\n",
       "| 149 | 4.766162 |  1.4718668479 |\n",
       "| 150 | 4.638817 |  1.2525085472 |\n",
       "| 151 | 4.372165 |  1.3326198319 |\n",
       "| 152 | 5.443205 |  1.2215026027 |\n",
       "| 153 | 5.024347 |  0.0008863435 |\n",
       "| 154 | 4.831079 |  1.7107576797 |\n",
       "| 155 | 4.181301 | -0.5382598601 |\n",
       "| 156 | 4.878193 |  1.4317148987 |\n",
       "| 157 | 4.854856 |  1.9443324980 |\n",
       "| 158 | 4.595794 |  0.5370530480 |\n",
       "| 159 | 5.451750 |  2.3816829871 |\n",
       "| 160 | 5.466126 |  1.6682001701 |\n",
       "| 161 | 5.079394 |  0.1781811820 |\n",
       "| 162 | 2.880088 |  1.4915529715 |\n",
       "| 163 | 3.054926 |  0.0861036381 |\n",
       "| 164 | 2.791374 |  1.0119478667 |\n",
       "| 165 | 4.740576 |  1.6286608838 |\n",
       "| 166 | 4.279344 |  0.6846886614 |\n",
       "| 167 | 5.095617 |  2.1345110198 |\n",
       "| 168 | 4.927923 |  1.7193479216 |\n",
       "| 169 | 4.109923 |  1.8682611282 |\n",
       "| 170 | 4.933344 |  2.5865356449 |\n",
       "| 171 | 3.748363 | -0.1859019834 |\n",
       "| 172 | 5.489138 |  0.8593595922 |\n",
       "| 173 | 4.342113 |  2.7718807960 |\n",
       "| 174 | 4.156926 |  2.8664485547 |\n",
       "| 175 | 4.289662 |  1.5492830188 |\n",
       "| 176 | 4.899833 |  2.6271914248 |\n",
       "| 177 | 4.083873 |  1.9101680156 |\n",
       "| 178 | 5.380278 |  2.4437619286 |\n",
       "\n",
       "\n",
       "\n",
       "\n"
      ],
      "text/plain": [
       "$class\n",
       "  [1] 1 1 1 1 1 1 1 1 1 1 1 1 1 1 1 1 1 1 1 1 1 1 1 1 1 1 1 1 1 1 1 1 1 1 1 1 1\n",
       " [38] 1 1 1 1 1 1 1 1 1 1 1 1 1 1 1 1 1 1 1 1 1 1 2 2 2 2 2 2 2 2 2 2 2 2 2 2 2\n",
       " [75] 2 2 2 2 2 2 2 2 2 2 2 2 2 2 2 2 2 2 2 2 2 2 2 2 2 2 2 2 2 2 2 2 2 2 2 2 2\n",
       "[112] 2 2 2 2 2 2 2 2 2 2 2 2 2 2 2 2 2 2 2 3 3 3 3 3 3 3 3 3 3 3 3 3 3 3 3 3 3\n",
       "[149] 3 3 3 3 3 3 3 3 3 3 3 3 3 3 3 3 3 3 3 3 3 3 3 3 3 3 3 3 3 3\n",
       "Levels: 1 2 3\n",
       "\n",
       "$posterior\n",
       "               1            2            3\n",
       "1   1.000000e+00 2.710371e-09 4.611169e-18\n",
       "2   9.999997e-01 2.977518e-07 1.106007e-16\n",
       "3   9.999981e-01 1.929016e-06 9.908205e-14\n",
       "4   1.000000e+00 3.096621e-12 1.689506e-16\n",
       "5   9.369763e-01 6.302343e-02 2.784677e-07\n",
       "6   1.000000e+00 2.916457e-11 1.636100e-17\n",
       "7   1.000000e+00 2.243841e-11 1.519902e-17\n",
       "8   1.000000e+00 1.583667e-10 2.918966e-16\n",
       "9   1.000000e+00 4.991425e-08 3.085736e-15\n",
       "10  9.999992e-01 8.176372e-07 1.464523e-13\n",
       "11  1.000000e+00 6.550589e-10 1.975867e-18\n",
       "12  9.999999e-01 8.422999e-08 8.599093e-14\n",
       "13  1.000000e+00 2.641697e-08 1.346749e-14\n",
       "14  1.000000e+00 1.016394e-10 4.702489e-21\n",
       "15  1.000000e+00 2.065755e-13 7.726263e-21\n",
       "16  1.000000e+00 9.697457e-09 5.222818e-13\n",
       "17  1.000000e+00 1.144103e-08 2.355099e-13\n",
       "18  9.999919e-01 8.055549e-06 2.619088e-12\n",
       "19  1.000000e+00 3.236805e-13 5.506350e-20\n",
       "20  9.999995e-01 5.095511e-07 8.416944e-13\n",
       "21  9.999578e-01 4.217995e-05 3.245571e-14\n",
       "22  9.946655e-01 5.334395e-03 6.912715e-08\n",
       "23  9.999999e-01 1.452617e-07 1.829781e-18\n",
       "24  9.998322e-01 1.678444e-04 1.345458e-12\n",
       "25  9.997023e-01 2.977283e-04 2.426392e-13\n",
       "26  9.740147e-01 2.598527e-02 2.186862e-09\n",
       "27  1.000000e+00 1.320092e-08 1.172978e-15\n",
       "28  9.999459e-01 5.406637e-05 3.010696e-11\n",
       "29  9.999939e-01 6.104462e-06 3.437478e-14\n",
       "30  9.999945e-01 5.464412e-06 6.791055e-13\n",
       "31  9.999877e-01 1.233806e-05 2.686977e-12\n",
       "32  1.000000e+00 2.642261e-08 2.839725e-14\n",
       "33  9.996389e-01 3.610742e-04 1.500924e-13\n",
       "34  9.999996e-01 4.088145e-07 4.192308e-14\n",
       "35  9.999891e-01 1.086057e-05 8.086263e-12\n",
       "36  9.977699e-01 2.230051e-03 1.452154e-11\n",
       "37  9.999902e-01 9.840583e-06 1.654026e-11\n",
       "38  9.992963e-01 7.037145e-04 1.584058e-09\n",
       "39  9.927515e-01 7.248481e-03 2.465988e-12\n",
       "40  1.000000e+00 2.386021e-08 2.764517e-13\n",
       "41  9.986395e-01 1.360517e-03 5.442516e-12\n",
       "42  9.991589e-01 8.410656e-04 1.006401e-09\n",
       "43  1.000000e+00 2.409372e-10 4.333832e-18\n",
       "44  8.382432e-01 1.617547e-01 2.180883e-06\n",
       "45  9.500270e-01 4.997299e-02 7.643456e-11\n",
       "46  9.999999e-01 7.637787e-08 5.530502e-11\n",
       "47  1.000000e+00 3.019013e-08 2.455489e-15\n",
       "48  9.999872e-01 1.277414e-05 8.352946e-14\n",
       "49  9.999301e-01 6.993313e-05 4.211567e-10\n",
       "50  9.999999e-01 9.126592e-08 4.243034e-14\n",
       "51  9.999625e-01 3.746915e-05 5.055813e-13\n",
       "52  1.000000e+00 3.624065e-09 5.307800e-17\n",
       "53  1.000000e+00 2.472324e-09 6.076671e-17\n",
       "54  1.000000e+00 1.941020e-09 3.862848e-14\n",
       "55  9.999974e-01 2.632885e-06 9.780074e-13\n",
       "56  9.993490e-01 6.509513e-04 2.789590e-08\n",
       "57  9.999966e-01 3.430307e-06 6.627583e-12\n",
       "58  1.000000e+00 2.763488e-08 1.965173e-14\n",
       "59  1.000000e+00 9.101041e-09 7.504625e-15\n",
       "60  3.003850e-09 9.999677e-01 3.234536e-05\n",
       "61  3.033081e-06 9.999314e-01 6.560569e-05\n",
       "62  1.147447e-08 9.480845e-01 5.191546e-02\n",
       "63  4.758529e-04 9.995236e-01 5.847801e-07\n",
       "64  1.491083e-07 9.999999e-01 1.580050e-10\n",
       "65  3.669681e-08 9.999999e-01 4.009186e-08\n",
       "66  9.803811e-04 9.990196e-01 3.400830e-08\n",
       "67  1.353219e-04 9.998647e-01 1.821985e-12\n",
       "68  9.526132e-07 9.999990e-01 3.265311e-09\n",
       "69  7.938090e-03 9.906168e-01 1.445115e-03\n",
       "70  3.466468e-07 9.999997e-01 2.606578e-09\n",
       "71  6.633507e-06 9.974129e-01 2.580423e-03\n",
       "72  2.655072e-04 9.997345e-01 2.921624e-09\n",
       "73  4.164500e-06 9.999693e-01 2.650263e-05\n",
       "74  2.959975e-03 9.970400e-01 1.809889e-10\n",
       "75  9.479229e-05 9.999049e-01 2.868736e-07\n",
       "76  8.280294e-10 9.999997e-01 3.097339e-07\n",
       "77  1.144273e-07 9.999999e-01 2.478202e-08\n",
       "78  3.683089e-07 9.999814e-01 1.826308e-05\n",
       "79  2.243626e-05 9.999776e-01 4.490782e-09\n",
       "80  3.358645e-06 9.999966e-01 1.662087e-09\n",
       "81  3.617006e-10 1.000000e+00 3.071977e-13\n",
       "82  1.226064e-02 9.877394e-01 4.643882e-10\n",
       "83  4.870482e-08 9.999999e-01 1.513444e-08\n",
       "84  5.138545e-07 8.514409e-01 1.485586e-01\n",
       "85  9.927199e-05 9.999007e-01 3.684844e-08\n",
       "86  1.775455e-05 9.999822e-01 2.933625e-10\n",
       "87  6.592457e-10 1.000000e+00 1.386708e-08\n",
       "88  6.529717e-09 1.000000e+00 5.357185e-09\n",
       "89  1.319329e-06 9.999985e-01 2.069692e-07\n",
       "90  9.337664e-08 9.999999e-01 1.549177e-09\n",
       "91  7.452834e-08 9.999998e-01 1.552410e-07\n",
       "92  3.474867e-09 9.999912e-01 8.748535e-06\n",
       "93  5.783206e-08 9.999964e-01 3.493732e-06\n",
       "94  5.102189e-07 9.999995e-01 2.753305e-10\n",
       "95  1.368622e-08 1.000000e+00 3.306160e-08\n",
       "96  7.418657e-04 9.992581e-01 1.186940e-10\n",
       "97  1.010584e-06 7.800785e-01 2.199205e-01\n",
       "98  3.972611e-07 9.999996e-01 9.047552e-12\n",
       "99  1.826577e-04 9.998173e-01 1.005764e-12\n",
       "100 3.386876e-07 9.999997e-01 6.096122e-14\n",
       "101 1.887854e-06 9.999981e-01 2.733771e-11\n",
       "102 7.393891e-07 9.999992e-01 4.446447e-08\n",
       "103 3.239995e-05 9.999673e-01 2.697091e-07\n",
       "104 1.902243e-11 1.000000e+00 4.303555e-08\n",
       "105 3.934252e-05 9.999607e-01 3.066991e-10\n",
       "106 1.129644e-07 9.999999e-01 1.150976e-09\n",
       "107 6.660751e-06 9.999933e-01 7.918378e-10\n",
       "108 2.143456e-07 9.999986e-01 1.216391e-06\n",
       "109 9.311626e-10 1.000000e+00 3.095729e-10\n",
       "110 1.481918e-03 9.985181e-01 9.885208e-12\n",
       "111 2.460761e-10 1.000000e+00 6.526072e-09\n",
       "112 4.675385e-08 9.999999e-01 2.514866e-08\n",
       "113 8.286548e-04 9.991706e-01 6.973935e-07\n",
       "114 3.037071e-10 1.000000e+00 3.865919e-08\n",
       "115 2.649768e-07 9.999997e-01 2.501686e-09\n",
       "116 6.945379e-13 1.000000e+00 2.912722e-15\n",
       "117 6.202669e-09 1.000000e+00 5.326816e-10\n",
       "118 5.625847e-09 1.000000e+00 1.573979e-10\n",
       "119 9.921239e-07 9.540534e-01 4.594561e-02\n",
       "120 4.531000e-07 9.999995e-01 5.972416e-09\n",
       "121 7.709237e-05 9.999229e-01 4.033433e-10\n",
       "122 3.706345e-03 9.962937e-01 3.060905e-15\n",
       "123 4.424494e-07 9.999969e-01 2.669521e-06\n",
       "124 4.087811e-05 9.999568e-01 2.337669e-06\n",
       "125 5.385873e-06 9.999946e-01 1.189716e-09\n",
       "126 2.180025e-07 9.999998e-01 4.464494e-11\n",
       "127 5.346035e-07 9.999995e-01 4.988378e-10\n",
       "128 2.895060e-10 9.999999e-01 1.376184e-07\n",
       "129 1.369873e-09 1.000000e+00 1.836444e-10\n",
       "130 1.600118e-06 9.995791e-01 4.192746e-04\n",
       "131 7.198837e-07 4.125335e-02 9.587459e-01\n",
       "132 2.540881e-10 5.641545e-05 9.999436e-01\n",
       "133 5.365041e-13 1.646805e-05 9.999835e-01\n",
       "134 2.754910e-12 8.359430e-06 9.999916e-01\n",
       "135 6.342944e-11 1.099270e-03 9.989007e-01\n",
       "136 8.910163e-12 1.439648e-05 9.999856e-01\n",
       "137 1.869619e-12 1.533709e-06 9.999985e-01\n",
       "138 1.306537e-15 2.675129e-07 9.999997e-01\n",
       "139 3.352682e-11 7.217080e-06 9.999928e-01\n",
       "140 5.683639e-12 4.509477e-05 9.999549e-01\n",
       "141 3.154901e-08 1.401281e-04 9.998598e-01\n",
       "142 4.988565e-07 2.427573e-05 9.999752e-01\n",
       "143 6.120883e-10 2.081300e-05 9.999792e-01\n",
       "144 5.739309e-09 4.979946e-05 9.999502e-01\n",
       "145 6.225748e-12 3.104441e-08 1.000000e+00\n",
       "146 1.700064e-09 5.141030e-05 9.999486e-01\n",
       "147 4.752604e-15 1.144560e-09 1.000000e+00\n",
       "148 1.637683e-15 1.252665e-10 1.000000e+00\n",
       "149 5.713822e-16 1.404272e-10 1.000000e+00\n",
       "150 1.345878e-15 5.808021e-10 1.000000e+00\n",
       "151 1.106440e-14 1.478939e-09 1.000000e+00\n",
       "152 2.642831e-18 1.562594e-11 1.000000e+00\n",
       "153 3.313078e-17 1.098630e-08 1.000000e+00\n",
       "154 3.974133e-16 4.213396e-11 1.000000e+00\n",
       "155 1.634304e-14 4.212036e-06 9.999958e-01\n",
       "156 2.349069e-16 9.717681e-11 1.000000e+00\n",
       "157 3.786756e-16 1.561155e-11 1.000000e+00\n",
       "158 1.239472e-15 1.058553e-08 1.000000e+00\n",
       "159 4.847297e-18 1.874569e-13 1.000000e+00\n",
       "160 2.868294e-18 2.598206e-12 1.000000e+00\n",
       "161 2.399716e-17 4.355081e-09 1.000000e+00\n",
       "162 1.232012e-09 8.243189e-07 9.999992e-01\n",
       "163 1.412739e-10 7.411447e-05 9.999259e-01\n",
       "164 1.851584e-09 7.618234e-06 9.999924e-01\n",
       "165 7.625320e-16 8.744462e-11 1.000000e+00\n",
       "166 1.556888e-14 2.631426e-08 1.000000e+00\n",
       "167 6.580729e-17 2.489924e-12 1.000000e+00\n",
       "168 1.889930e-16 2.602380e-11 1.000000e+00\n",
       "169 1.144828e-13 6.599489e-10 1.000000e+00\n",
       "170 2.996335e-16 9.582725e-13 1.000000e+00\n",
       "171 5.685561e-13 8.294664e-06 9.999917e-01\n",
       "172 1.502320e-18 4.960371e-11 1.000000e+00\n",
       "173 3.214657e-14 7.393473e-12 1.000000e+00\n",
       "174 1.420167e-13 1.221447e-11 1.000000e+00\n",
       "175 2.373093e-14 9.565215e-10 1.000000e+00\n",
       "176 3.974405e-16 9.600874e-13 1.000000e+00\n",
       "177 1.434508e-13 6.356881e-10 1.000000e+00\n",
       "178 8.728792e-18 2.065723e-13 1.000000e+00\n",
       "\n",
       "$x\n",
       "             LD1           LD2\n",
       "1   -4.903471166  1.9991137328\n",
       "2   -4.554592519  1.1678783494\n",
       "3   -3.659379245  1.3730475509\n",
       "4   -4.288049836  3.9894084584\n",
       "5   -1.810974566  0.2819180291\n",
       "6   -4.647959583  3.2199454135\n",
       "7   -4.653262202  3.2763511568\n",
       "8   -4.284852667  3.0888288350\n",
       "9   -4.067128796  1.9228723114\n",
       "10  -3.590359971  1.6188803543\n",
       "11  -4.993490051  2.2612325839\n",
       "12  -3.621813499  2.1181454524\n",
       "13  -3.854147557  2.2196962463\n",
       "14  -5.785308934  2.1280832532\n",
       "15  -5.604728140  3.6782847952\n",
       "16  -3.335922725  2.8166176244\n",
       "17  -3.447796614  2.6994572705\n",
       "18  -3.237759034  1.3436227746\n",
       "19  -5.344453699  3.7595416633\n",
       "20  -3.342729025  1.9027438625\n",
       "21  -3.868024754  0.5174146241\n",
       "22  -1.963612272  0.7541606909\n",
       "23  -5.102207735  0.9447898769\n",
       "24  -3.384004982  0.5432226407\n",
       "25  -3.628549621  0.2385099382\n",
       "26  -2.461973005  0.0331251873\n",
       "27  -4.175157291  2.1515645079\n",
       "28  -2.938584261  1.1186024001\n",
       "29  -3.825029644  0.9914025864\n",
       "30  -3.415207228  1.3070236197\n",
       "31  -3.242012573  1.2427835884\n",
       "32  -3.752178756  2.2918538108\n",
       "33  -3.697705264  0.1452608718\n",
       "34  -3.748736705  1.6657837472\n",
       "35  -3.089095177  1.3803362536\n",
       "36  -3.105624027  0.1463164359\n",
       "37  -2.989482388  1.4735050793\n",
       "38  -2.443467294  0.8802195600\n",
       "39  -3.368817421 -0.3116968698\n",
       "40  -3.439252326  2.5368512429\n",
       "41  -3.230888304  0.1712049257\n",
       "42  -2.508696910  0.7930849331\n",
       "43  -4.867940820  2.5796427366\n",
       "44  -1.533584789  0.2365081864\n",
       "45  -2.929338495 -0.4536067935\n",
       "46  -2.736144565  2.7677630873\n",
       "47  -4.089215169  2.0226042278\n",
       "48  -3.717091597  0.8983987506\n",
       "49  -2.582639040  1.3116049579\n",
       "50  -3.719827167  2.0303307380\n",
       "51  -3.490543869  0.8118933159\n",
       "52  -4.574781358  2.1652053669\n",
       "53  -4.549335994  2.2709789594\n",
       "54  -3.662642819  2.9543843249\n",
       "55  -3.352074104  1.5192784377\n",
       "56  -2.049962308  1.1767655699\n",
       "57  -3.095331295  1.6403749930\n",
       "58  -3.803313709  2.2453505215\n",
       "59  -3.914701827  2.4213357088\n",
       "60   1.106501490 -2.7743236670\n",
       "61   0.383404868 -1.6990638986\n",
       "62   1.957539888 -1.8519253233\n",
       "63  -0.860904165 -1.4200400573\n",
       "64  -1.027873092 -3.3897312946\n",
       "65  -0.104971081 -3.0579054330\n",
       "66  -1.335388411 -1.5900547012\n",
       "67  -2.444996004 -2.8303889567\n",
       "68  -0.833684486 -2.8266751760\n",
       "69  -0.126371064 -0.2520653341\n",
       "70  -0.744684245 -2.9956164190\n",
       "71   0.792644966 -1.2291258287\n",
       "72  -1.516097121 -2.0179296260\n",
       "73   0.221937103 -1.7406681368\n",
       "74  -2.182000605 -1.9355505427\n",
       "75  -0.767059727 -1.7238937003\n",
       "76   0.623803396 -3.4118265027\n",
       "77  -0.305498301 -2.9389472923\n",
       "78   0.458468388 -2.1297227095\n",
       "79  -1.164514326 -2.3360149498\n",
       "80  -1.075317129 -2.7086383475\n",
       "81  -1.167612537 -4.8704182159\n",
       "82  -2.221452454 -1.6352217341\n",
       "83  -0.271682470 -3.1109995423\n",
       "84   1.652664843 -1.1707700612\n",
       "85  -1.053050986 -1.9158142953\n",
       "86  -1.509720967 -2.6341675426\n",
       "87   0.226231108 -3.7456633155\n",
       "88  -0.175510605 -3.5039832862\n",
       "89  -0.305122040 -2.3776586826\n",
       "90  -0.660364918 -3.2368859752\n",
       "91  -0.003880161 -2.8237487606\n",
       "92   0.910505406 -2.8796946521\n",
       "93   0.451795852 -2.5592731570\n",
       "94  -1.097745969 -3.1569326675\n",
       "95  -0.014441778 -3.2201185105\n",
       "96  -2.075722848 -2.1783255821\n",
       "97   1.627726933 -1.0131475501\n",
       "98  -1.534952024 -3.5239506258\n",
       "99  -2.561760542 -2.8442328036\n",
       "100 -2.199500296 -4.0311356530\n",
       "101 -1.568508746 -3.1900717595\n",
       "102 -0.446713067 -2.6107940032\n",
       "103 -0.648273628 -1.8861279922\n",
       "104  0.801196942 -4.1520707925\n",
       "105 -1.597935207 -2.5140540691\n",
       "106 -0.723544758 -3.2379281868\n",
       "107 -1.257809946 -2.6807532540\n",
       "108  0.152327118 -2.4707279079\n",
       "109 -0.334400209 -4.0634174273\n",
       "110 -2.497451556 -2.3180208367\n",
       "111  0.239989282 -3.9620459485\n",
       "112 -0.197422226 -3.0677948779\n",
       "113 -0.902559823 -1.3221746727\n",
       "114  0.458221534 -3.7592263578\n",
       "115 -0.718460066 -3.0386948215\n",
       "116 -1.063071657 -6.2317530276\n",
       "117 -0.484938852 -3.7348873410\n",
       "118 -0.640016881 -3.8670991317\n",
       "119  1.412220551 -1.2161795156\n",
       "120 -0.663089575 -2.8763857526\n",
       "121 -1.640211559 -2.3896231929\n",
       "122 -3.710514493 -2.9661569556\n",
       "123  0.173880912 -2.2891649346\n",
       "124 -0.380627678 -1.6432634393\n",
       "125 -1.176984580 -2.6722691664\n",
       "126 -1.245646553 -3.4567842102\n",
       "127 -1.022042384 -3.0926126507\n",
       "128  0.637451925 -3.6432975800\n",
       "129 -0.451527038 -4.0577760470\n",
       "130  0.712737966 -1.6125161795\n",
       "131  1.922633509 -0.2076073211\n",
       "132  2.990328400  0.2376638697\n",
       "133  3.742767931 -0.3605463162\n",
       "134  3.561213026  0.0418891362\n",
       "135  3.100645672 -0.6840804963\n",
       "136  3.412223729  0.0809968785\n",
       "137  3.637986595  0.3964030055\n",
       "138  4.530822998 -0.2379535302\n",
       "139  3.267741254  0.4412099514\n",
       "140  3.444738886 -0.2611412052\n",
       "141  2.402379357  0.7189354977\n",
       "142  2.107101256  1.5456029210\n",
       "143  2.904274424  0.6072815499\n",
       "144  2.623162935  0.7216177563\n",
       "145  3.566343393  1.5166143771\n",
       "146  2.766767827  0.5368221346\n",
       "147  4.476968208  1.2717407968\n",
       "148  4.643454041  1.6528088980\n",
       "149  4.766161869  1.4718668479\n",
       "150  4.638816726  1.2525085472\n",
       "151  4.372164750  1.3326198319\n",
       "152  5.443204960  1.2215026027\n",
       "153  5.024347157  0.0008863435\n",
       "154  4.831079188  1.7107576797\n",
       "155  4.181301456 -0.5382598601\n",
       "156  4.878193183  1.4317148987\n",
       "157  4.854855869  1.9443324980\n",
       "158  4.595793970  0.5370530480\n",
       "159  5.451749532  2.3816829871\n",
       "160  5.466126049  1.6682001701\n",
       "161  5.079393957  0.1781811820\n",
       "162  2.880088242  1.4915529715\n",
       "163  3.054925524  0.0861036381\n",
       "164  2.791373504  1.0119478667\n",
       "165  4.740575580  1.6286608838\n",
       "166  4.279343932  0.6846886614\n",
       "167  5.095616853  2.1345110198\n",
       "168  4.927922818  1.7193479216\n",
       "169  4.109923428  1.8682611282\n",
       "170  4.933343611  2.5865356449\n",
       "171  3.748362891 -0.1859019834\n",
       "172  5.489138195  0.8593595922\n",
       "173  4.342112602  2.7718807960\n",
       "174  4.156925855  2.8664485547\n",
       "175  4.289662482  1.5492830188\n",
       "176  4.899832797  2.6271914248\n",
       "177  4.083873180  1.9101680156\n",
       "178  5.380277548  2.4437619286\n"
      ]
     },
     "metadata": {},
     "output_type": "display_data"
    }
   ],
   "source": [
    "(pred_lda = predict(model_lda))"
   ]
  },
  {
   "cell_type": "markdown",
   "id": "a60490d2",
   "metadata": {},
   "source": [
    "### VI)\n",
    "Jakie są prawdopodobieństwa przynależności do klas dla dwudziestej obserwacji?"
   ]
  },
  {
   "cell_type": "code",
   "execution_count": 270,
   "id": "ae446d61",
   "metadata": {},
   "outputs": [
    {
     "data": {
      "text/html": [
       "<style>\n",
       ".dl-inline {width: auto; margin:0; padding: 0}\n",
       ".dl-inline>dt, .dl-inline>dd {float: none; width: auto; display: inline-block}\n",
       ".dl-inline>dt::after {content: \":\\0020\"; padding-right: .5ex}\n",
       ".dl-inline>dt:not(:first-of-type) {padding-left: .5ex}\n",
       "</style><dl class=dl-inline><dt>1</dt><dd>0.999999490448038</dd><dt>2</dt><dd>5.09551120191505e-07</dd><dt>3</dt><dd>8.41694414210374e-13</dd></dl>\n"
      ],
      "text/latex": [
       "\\begin{description*}\n",
       "\\item[1] 0.999999490448038\n",
       "\\item[2] 5.09551120191505e-07\n",
       "\\item[3] 8.41694414210374e-13\n",
       "\\end{description*}\n"
      ],
      "text/markdown": [
       "1\n",
       ":   0.9999994904480382\n",
       ":   5.09551120191505e-073\n",
       ":   8.41694414210374e-13\n",
       "\n"
      ],
      "text/plain": [
       "           1            2            3 \n",
       "9.999995e-01 5.095511e-07 8.416944e-13 "
      ]
     },
     "metadata": {},
     "output_type": "display_data"
    }
   ],
   "source": [
    "pred_lda$posterior[20,]"
   ]
  },
  {
   "cell_type": "markdown",
   "id": "63c29e66",
   "metadata": {},
   "source": [
    "### VII)\n",
    "Do której z klas zostanie zaklasyfikowana ta obserwacja?"
   ]
  },
  {
   "cell_type": "code",
   "execution_count": 271,
   "id": "d63c8c14",
   "metadata": {},
   "outputs": [
    {
     "data": {
      "text/html": [
       "1\n",
       "<details>\n",
       "\t<summary style=display:list-item;cursor:pointer>\n",
       "\t\t<strong>Levels</strong>:\n",
       "\t</summary>\n",
       "\t<style>\n",
       "\t.list-inline {list-style: none; margin:0; padding: 0}\n",
       "\t.list-inline>li {display: inline-block}\n",
       "\t.list-inline>li:not(:last-child)::after {content: \"\\00b7\"; padding: 0 .5ex}\n",
       "\t</style>\n",
       "\t<ol class=list-inline><li>'1'</li><li>'2'</li><li>'3'</li></ol>\n",
       "</details>"
      ],
      "text/latex": [
       "1\n",
       "\\emph{Levels}: \\begin{enumerate*}\n",
       "\\item '1'\n",
       "\\item '2'\n",
       "\\item '3'\n",
       "\\end{enumerate*}\n"
      ],
      "text/markdown": [
       "1\n",
       "**Levels**: 1. '1'\n",
       "2. '2'\n",
       "3. '3'\n",
       "\n",
       "\n"
      ],
      "text/plain": [
       "[1] 1\n",
       "Levels: 1 2 3"
      ]
     },
     "metadata": {},
     "output_type": "display_data"
    }
   ],
   "source": [
    "pred_lda$class[20]"
   ]
  },
  {
   "cell_type": "markdown",
   "id": "89e5f8ba",
   "metadata": {},
   "source": [
    "### VIII)\n",
    "Wyznacz procent właściwie zaklasyfikowanych obiektów."
   ]
  },
  {
   "cell_type": "code",
   "execution_count": 272,
   "id": "1774e740",
   "metadata": {},
   "outputs": [
    {
     "data": {
      "text/html": [
       "100"
      ],
      "text/latex": [
       "100"
      ],
      "text/markdown": [
       "100"
      ],
      "text/plain": [
       "[1] 100"
      ]
     },
     "metadata": {},
     "output_type": "display_data"
    }
   ],
   "source": [
    "sum(pred_lda$class == wino$V1) / nrow(wino) * 100"
   ]
  },
  {
   "cell_type": "markdown",
   "id": "1121fff8",
   "metadata": {},
   "source": [
    "### IX)\n",
    "Przedstaw i skomentuj tabelę predykcji."
   ]
  },
  {
   "cell_type": "code",
   "execution_count": 273,
   "id": "06cff5f5",
   "metadata": {},
   "outputs": [
    {
     "data": {
      "text/plain": [
       "    Predicted\n",
       "True  1  2  3\n",
       "   1 59  0  0\n",
       "   2  0 71  0\n",
       "   3  0  0 48"
      ]
     },
     "metadata": {},
     "output_type": "display_data"
    }
   ],
   "source": [
    "(T = table(True = wino$V1, Predicted = predict(model_lda)$class))"
   ]
  },
  {
   "cell_type": "markdown",
   "id": "d937c4ce",
   "metadata": {},
   "source": [
    "### Interpretacja\n",
    "- Wszystkie obiekty zostały zaklasyfikowane prawidłowo"
   ]
  },
  {
   "cell_type": "markdown",
   "id": "3c61d9c2",
   "metadata": {},
   "source": [
    "# Lista 4"
   ]
  },
  {
   "cell_type": "markdown",
   "id": "2597e100",
   "metadata": {},
   "source": [
    "# Zadanie 7, L4"
   ]
  },
  {
   "cell_type": "markdown",
   "id": "93101144",
   "metadata": {},
   "source": [
    "Plik urine.txt zawiera dane dotyczące obecności krysz\u0002tałów oraz innych właściwości moczu.\n",
    "\n",
    "Dane\n",
    "\n",
    "* **id** - identyfikator,\n",
    "* **pres** - obecność kryształów (0- brak, 1- obecność),\n",
    "* **gravity** - ciężar właściwy,\n",
    "* **ph** - wartość współczynnika pH,\n",
    "* **osmo** - osmolarność moczu,\n",
    "* **conduct** - przewodnictwo,\n",
    "* **urea** - stężenie mocznika,\n",
    "* **calc** - stężenie wapnia.\n",
    "\n",
    "Dla tych danych wykonaj polecenia z powyższego ćwiczenia. Dla wyz\u0002naczenia zbioru uczącego wybierz losowo 50 obserwacji ze zbioru danych,\n",
    "pozostałe traktując jako zbiór testowy."
   ]
  },
  {
   "cell_type": "code",
   "execution_count": 410,
   "id": "ee6ad766",
   "metadata": {},
   "outputs": [
    {
     "data": {
      "text/html": [
       "<table class=\"dataframe\">\n",
       "<caption>A data.table: 6 × 8</caption>\n",
       "<thead>\n",
       "\t<tr><th scope=col>id</th><th scope=col>pres</th><th scope=col>gravity</th><th scope=col>ph</th><th scope=col>osmo</th><th scope=col>cond</th><th scope=col>urea</th><th scope=col>calc</th></tr>\n",
       "\t<tr><th scope=col>&lt;int&gt;</th><th scope=col>&lt;int&gt;</th><th scope=col>&lt;dbl&gt;</th><th scope=col>&lt;dbl&gt;</th><th scope=col>&lt;int&gt;</th><th scope=col>&lt;dbl&gt;</th><th scope=col>&lt;int&gt;</th><th scope=col>&lt;dbl&gt;</th></tr>\n",
       "</thead>\n",
       "<tbody>\n",
       "\t<tr><td>1</td><td>0</td><td>1.021</td><td>4.91</td><td>725</td><td>  NA</td><td>443</td><td>2.45</td></tr>\n",
       "\t<tr><td>2</td><td>0</td><td>1.017</td><td>5.74</td><td>577</td><td>20.0</td><td>296</td><td>4.49</td></tr>\n",
       "\t<tr><td>3</td><td>0</td><td>1.008</td><td>7.20</td><td>321</td><td>14.9</td><td>101</td><td>2.36</td></tr>\n",
       "\t<tr><td>4</td><td>0</td><td>1.011</td><td>5.51</td><td>408</td><td>12.6</td><td>224</td><td>2.15</td></tr>\n",
       "\t<tr><td>5</td><td>0</td><td>1.005</td><td>6.52</td><td>187</td><td> 7.5</td><td> 91</td><td>1.16</td></tr>\n",
       "\t<tr><td>6</td><td>0</td><td>1.020</td><td>5.27</td><td>668</td><td>25.3</td><td>252</td><td>3.34</td></tr>\n",
       "</tbody>\n",
       "</table>\n"
      ],
      "text/latex": [
       "A data.table: 6 × 8\n",
       "\\begin{tabular}{llllllll}\n",
       " id & pres & gravity & ph & osmo & cond & urea & calc\\\\\n",
       " <int> & <int> & <dbl> & <dbl> & <int> & <dbl> & <int> & <dbl>\\\\\n",
       "\\hline\n",
       "\t 1 & 0 & 1.021 & 4.91 & 725 &   NA & 443 & 2.45\\\\\n",
       "\t 2 & 0 & 1.017 & 5.74 & 577 & 20.0 & 296 & 4.49\\\\\n",
       "\t 3 & 0 & 1.008 & 7.20 & 321 & 14.9 & 101 & 2.36\\\\\n",
       "\t 4 & 0 & 1.011 & 5.51 & 408 & 12.6 & 224 & 2.15\\\\\n",
       "\t 5 & 0 & 1.005 & 6.52 & 187 &  7.5 &  91 & 1.16\\\\\n",
       "\t 6 & 0 & 1.020 & 5.27 & 668 & 25.3 & 252 & 3.34\\\\\n",
       "\\end{tabular}\n"
      ],
      "text/markdown": [
       "\n",
       "A data.table: 6 × 8\n",
       "\n",
       "| id &lt;int&gt; | pres &lt;int&gt; | gravity &lt;dbl&gt; | ph &lt;dbl&gt; | osmo &lt;int&gt; | cond &lt;dbl&gt; | urea &lt;int&gt; | calc &lt;dbl&gt; |\n",
       "|---|---|---|---|---|---|---|---|\n",
       "| 1 | 0 | 1.021 | 4.91 | 725 |   NA | 443 | 2.45 |\n",
       "| 2 | 0 | 1.017 | 5.74 | 577 | 20.0 | 296 | 4.49 |\n",
       "| 3 | 0 | 1.008 | 7.20 | 321 | 14.9 | 101 | 2.36 |\n",
       "| 4 | 0 | 1.011 | 5.51 | 408 | 12.6 | 224 | 2.15 |\n",
       "| 5 | 0 | 1.005 | 6.52 | 187 |  7.5 |  91 | 1.16 |\n",
       "| 6 | 0 | 1.020 | 5.27 | 668 | 25.3 | 252 | 3.34 |\n",
       "\n"
      ],
      "text/plain": [
       "  id pres gravity ph   osmo cond urea calc\n",
       "1 1  0    1.021   4.91 725    NA 443  2.45\n",
       "2 2  0    1.017   5.74 577  20.0 296  4.49\n",
       "3 3  0    1.008   7.20 321  14.9 101  2.36\n",
       "4 4  0    1.011   5.51 408  12.6 224  2.15\n",
       "5 5  0    1.005   6.52 187   7.5  91  1.16\n",
       "6 6  0    1.020   5.27 668  25.3 252  3.34"
      ]
     },
     "metadata": {},
     "output_type": "display_data"
    }
   ],
   "source": [
    "urine = fread('http://theta.edu.pl/wp-content/uploads/2018/03/urine.csv',quote=\"\")\n",
    "colnames(urine)<-c('id','pres','gravity','ph','osmo','cond','urea','calc')\n",
    "head(urine)"
   ]
  },
  {
   "cell_type": "code",
   "execution_count": 411,
   "id": "595ce918",
   "metadata": {},
   "outputs": [
    {
     "data": {
      "text/html": [
       "79"
      ],
      "text/latex": [
       "79"
      ],
      "text/markdown": [
       "79"
      ],
      "text/plain": [
       "[1] 79"
      ]
     },
     "metadata": {},
     "output_type": "display_data"
    }
   ],
   "source": [
    "nrow(urine)"
   ]
  },
  {
   "cell_type": "code",
   "execution_count": 412,
   "id": "49d55e33",
   "metadata": {
    "scrolled": true
   },
   "outputs": [
    {
     "data": {
      "text/html": [
       "<table class=\"dataframe\">\n",
       "<caption>A data.table: 79 × 7</caption>\n",
       "<thead>\n",
       "\t<tr><th scope=col>pres</th><th scope=col>gravity</th><th scope=col>ph</th><th scope=col>osmo</th><th scope=col>cond</th><th scope=col>urea</th><th scope=col>calc</th></tr>\n",
       "\t<tr><th scope=col>&lt;int&gt;</th><th scope=col>&lt;dbl&gt;</th><th scope=col>&lt;dbl&gt;</th><th scope=col>&lt;int&gt;</th><th scope=col>&lt;dbl&gt;</th><th scope=col>&lt;int&gt;</th><th scope=col>&lt;dbl&gt;</th></tr>\n",
       "</thead>\n",
       "<tbody>\n",
       "\t<tr><td>0</td><td>1.021</td><td>4.91</td><td> 725</td><td>  NA</td><td>443</td><td>2.45</td></tr>\n",
       "\t<tr><td>0</td><td>1.017</td><td>5.74</td><td> 577</td><td>20.0</td><td>296</td><td>4.49</td></tr>\n",
       "\t<tr><td>0</td><td>1.008</td><td>7.20</td><td> 321</td><td>14.9</td><td>101</td><td>2.36</td></tr>\n",
       "\t<tr><td>0</td><td>1.011</td><td>5.51</td><td> 408</td><td>12.6</td><td>224</td><td>2.15</td></tr>\n",
       "\t<tr><td>0</td><td>1.005</td><td>6.52</td><td> 187</td><td> 7.5</td><td> 91</td><td>1.16</td></tr>\n",
       "\t<tr><td>0</td><td>1.020</td><td>5.27</td><td> 668</td><td>25.3</td><td>252</td><td>3.34</td></tr>\n",
       "\t<tr><td>0</td><td>1.012</td><td>5.62</td><td> 461</td><td>17.4</td><td>195</td><td>1.40</td></tr>\n",
       "\t<tr><td>0</td><td>1.029</td><td>5.67</td><td>1107</td><td>35.9</td><td>550</td><td>8.48</td></tr>\n",
       "\t<tr><td>0</td><td>1.015</td><td>5.41</td><td> 543</td><td>21.9</td><td>170</td><td>1.16</td></tr>\n",
       "\t<tr><td>0</td><td>1.021</td><td>6.13</td><td> 779</td><td>25.7</td><td>382</td><td>2.21</td></tr>\n",
       "\t<tr><td>0</td><td>1.011</td><td>6.19</td><td> 345</td><td>11.5</td><td>152</td><td>1.93</td></tr>\n",
       "\t<tr><td>0</td><td>1.025</td><td>5.53</td><td> 907</td><td>28.4</td><td>448</td><td>1.27</td></tr>\n",
       "\t<tr><td>0</td><td>1.006</td><td>7.12</td><td> 242</td><td>11.3</td><td> 64</td><td>1.03</td></tr>\n",
       "\t<tr><td>0</td><td>1.007</td><td>5.35</td><td> 283</td><td> 9.9</td><td>147</td><td>1.47</td></tr>\n",
       "\t<tr><td>0</td><td>1.011</td><td>5.21</td><td> 450</td><td>17.9</td><td>161</td><td>1.53</td></tr>\n",
       "\t<tr><td>0</td><td>1.018</td><td>4.90</td><td> 684</td><td>26.1</td><td>284</td><td>5.09</td></tr>\n",
       "\t<tr><td>0</td><td>1.007</td><td>6.63</td><td> 253</td><td> 8.4</td><td>133</td><td>1.05</td></tr>\n",
       "\t<tr><td>0</td><td>1.025</td><td>6.81</td><td> 947</td><td>32.6</td><td>395</td><td>2.03</td></tr>\n",
       "\t<tr><td>0</td><td>1.008</td><td>6.88</td><td> 395</td><td>26.1</td><td> 95</td><td>7.68</td></tr>\n",
       "\t<tr><td>0</td><td>1.014</td><td>6.14</td><td> 565</td><td>23.6</td><td>214</td><td>1.45</td></tr>\n",
       "\t<tr><td>0</td><td>1.024</td><td>6.30</td><td> 874</td><td>29.9</td><td>380</td><td>5.16</td></tr>\n",
       "\t<tr><td>0</td><td>1.019</td><td>5.47</td><td> 760</td><td>33.8</td><td>199</td><td>0.81</td></tr>\n",
       "\t<tr><td>0</td><td>1.014</td><td>7.38</td><td> 577</td><td>30.1</td><td> 87</td><td>1.32</td></tr>\n",
       "\t<tr><td>0</td><td>1.020</td><td>5.96</td><td> 631</td><td>11.2</td><td>422</td><td>1.55</td></tr>\n",
       "\t<tr><td>0</td><td>1.023</td><td>5.68</td><td> 749</td><td>29.0</td><td>239</td><td>1.52</td></tr>\n",
       "\t<tr><td>0</td><td>1.017</td><td>6.76</td><td> 455</td><td> 8.8</td><td>270</td><td>0.77</td></tr>\n",
       "\t<tr><td>0</td><td>1.017</td><td>7.61</td><td> 527</td><td>25.8</td><td> 75</td><td>2.17</td></tr>\n",
       "\t<tr><td>0</td><td>1.010</td><td>6.61</td><td> 225</td><td> 9.8</td><td> 72</td><td>0.17</td></tr>\n",
       "\t<tr><td>0</td><td>1.008</td><td>5.87</td><td> 241</td><td> 5.1</td><td>159</td><td>0.83</td></tr>\n",
       "\t<tr><td>0</td><td>1.020</td><td>5.44</td><td> 781</td><td>29.0</td><td>349</td><td>3.04</td></tr>\n",
       "\t<tr><td>⋮</td><td>⋮</td><td>⋮</td><td>⋮</td><td>⋮</td><td>⋮</td><td>⋮</td></tr>\n",
       "\t<tr><td>1</td><td>1.024</td><td>5.36</td><td> 853</td><td>27.6</td><td>364</td><td> 7.31</td></tr>\n",
       "\t<tr><td>1</td><td>1.026</td><td>5.16</td><td> 822</td><td>26.0</td><td>301</td><td>14.34</td></tr>\n",
       "\t<tr><td>1</td><td>1.013</td><td>5.86</td><td> 531</td><td>21.4</td><td>197</td><td> 4.74</td></tr>\n",
       "\t<tr><td>1</td><td>1.010</td><td>6.27</td><td> 371</td><td>11.2</td><td>188</td><td> 2.50</td></tr>\n",
       "\t<tr><td>1</td><td>1.011</td><td>7.01</td><td> 443</td><td>21.4</td><td>124</td><td> 1.27</td></tr>\n",
       "\t<tr><td>1</td><td>1.022</td><td>6.21</td><td>  NA</td><td>20.6</td><td>398</td><td> 4.18</td></tr>\n",
       "\t<tr><td>1</td><td>1.011</td><td>6.13</td><td> 364</td><td>10.9</td><td>159</td><td> 3.10</td></tr>\n",
       "\t<tr><td>1</td><td>1.031</td><td>5.73</td><td> 874</td><td>17.4</td><td>516</td><td> 3.01</td></tr>\n",
       "\t<tr><td>1</td><td>1.020</td><td>7.94</td><td> 567</td><td>19.7</td><td>212</td><td> 6.81</td></tr>\n",
       "\t<tr><td>1</td><td>1.040</td><td>6.28</td><td> 838</td><td>14.3</td><td>486</td><td> 8.28</td></tr>\n",
       "\t<tr><td>1</td><td>1.021</td><td>5.56</td><td> 658</td><td>23.6</td><td>224</td><td> 2.33</td></tr>\n",
       "\t<tr><td>1</td><td>1.025</td><td>5.71</td><td> 854</td><td>27.0</td><td>385</td><td> 7.18</td></tr>\n",
       "\t<tr><td>1</td><td>1.026</td><td>6.19</td><td> 956</td><td>27.6</td><td>473</td><td> 5.67</td></tr>\n",
       "\t<tr><td>1</td><td>1.034</td><td>5.24</td><td>1236</td><td>27.3</td><td>620</td><td>12.68</td></tr>\n",
       "\t<tr><td>1</td><td>1.033</td><td>5.58</td><td>1032</td><td>29.1</td><td>430</td><td> 8.94</td></tr>\n",
       "\t<tr><td>1</td><td>1.015</td><td>5.98</td><td> 487</td><td>14.8</td><td>198</td><td> 3.16</td></tr>\n",
       "\t<tr><td>1</td><td>1.013</td><td>5.58</td><td> 516</td><td>20.8</td><td>184</td><td> 3.30</td></tr>\n",
       "\t<tr><td>1</td><td>1.014</td><td>5.90</td><td> 456</td><td>17.8</td><td>164</td><td> 6.99</td></tr>\n",
       "\t<tr><td>1</td><td>1.012</td><td>6.75</td><td> 251</td><td> 5.1</td><td>141</td><td> 0.65</td></tr>\n",
       "\t<tr><td>1</td><td>1.025</td><td>6.90</td><td> 945</td><td>33.6</td><td>396</td><td> 4.18</td></tr>\n",
       "\t<tr><td>1</td><td>1.026</td><td>6.29</td><td> 833</td><td>22.2</td><td>457</td><td> 4.45</td></tr>\n",
       "\t<tr><td>1</td><td>1.028</td><td>4.76</td><td> 312</td><td>12.4</td><td> 10</td><td> 0.27</td></tr>\n",
       "\t<tr><td>1</td><td>1.027</td><td>5.40</td><td> 840</td><td>24.5</td><td>395</td><td> 7.64</td></tr>\n",
       "\t<tr><td>1</td><td>1.018</td><td>5.14</td><td> 703</td><td>29.0</td><td>272</td><td> 6.63</td></tr>\n",
       "\t<tr><td>1</td><td>1.022</td><td>5.09</td><td> 736</td><td>19.8</td><td>418</td><td> 8.53</td></tr>\n",
       "\t<tr><td>1</td><td>1.025</td><td>7.90</td><td> 721</td><td>23.6</td><td>301</td><td> 9.04</td></tr>\n",
       "\t<tr><td>1</td><td>1.017</td><td>4.81</td><td> 410</td><td>13.3</td><td>195</td><td> 0.58</td></tr>\n",
       "\t<tr><td>1</td><td>1.024</td><td>5.40</td><td> 803</td><td>21.8</td><td>394</td><td> 7.82</td></tr>\n",
       "\t<tr><td>1</td><td>1.016</td><td>6.81</td><td> 594</td><td>21.4</td><td>255</td><td>12.20</td></tr>\n",
       "\t<tr><td>1</td><td>1.015</td><td>6.03</td><td> 416</td><td>12.8</td><td>178</td><td> 9.39</td></tr>\n",
       "</tbody>\n",
       "</table>\n"
      ],
      "text/latex": [
       "A data.table: 79 × 7\n",
       "\\begin{tabular}{lllllll}\n",
       " pres & gravity & ph & osmo & cond & urea & calc\\\\\n",
       " <int> & <dbl> & <dbl> & <int> & <dbl> & <int> & <dbl>\\\\\n",
       "\\hline\n",
       "\t 0 & 1.021 & 4.91 &  725 &   NA & 443 & 2.45\\\\\n",
       "\t 0 & 1.017 & 5.74 &  577 & 20.0 & 296 & 4.49\\\\\n",
       "\t 0 & 1.008 & 7.20 &  321 & 14.9 & 101 & 2.36\\\\\n",
       "\t 0 & 1.011 & 5.51 &  408 & 12.6 & 224 & 2.15\\\\\n",
       "\t 0 & 1.005 & 6.52 &  187 &  7.5 &  91 & 1.16\\\\\n",
       "\t 0 & 1.020 & 5.27 &  668 & 25.3 & 252 & 3.34\\\\\n",
       "\t 0 & 1.012 & 5.62 &  461 & 17.4 & 195 & 1.40\\\\\n",
       "\t 0 & 1.029 & 5.67 & 1107 & 35.9 & 550 & 8.48\\\\\n",
       "\t 0 & 1.015 & 5.41 &  543 & 21.9 & 170 & 1.16\\\\\n",
       "\t 0 & 1.021 & 6.13 &  779 & 25.7 & 382 & 2.21\\\\\n",
       "\t 0 & 1.011 & 6.19 &  345 & 11.5 & 152 & 1.93\\\\\n",
       "\t 0 & 1.025 & 5.53 &  907 & 28.4 & 448 & 1.27\\\\\n",
       "\t 0 & 1.006 & 7.12 &  242 & 11.3 &  64 & 1.03\\\\\n",
       "\t 0 & 1.007 & 5.35 &  283 &  9.9 & 147 & 1.47\\\\\n",
       "\t 0 & 1.011 & 5.21 &  450 & 17.9 & 161 & 1.53\\\\\n",
       "\t 0 & 1.018 & 4.90 &  684 & 26.1 & 284 & 5.09\\\\\n",
       "\t 0 & 1.007 & 6.63 &  253 &  8.4 & 133 & 1.05\\\\\n",
       "\t 0 & 1.025 & 6.81 &  947 & 32.6 & 395 & 2.03\\\\\n",
       "\t 0 & 1.008 & 6.88 &  395 & 26.1 &  95 & 7.68\\\\\n",
       "\t 0 & 1.014 & 6.14 &  565 & 23.6 & 214 & 1.45\\\\\n",
       "\t 0 & 1.024 & 6.30 &  874 & 29.9 & 380 & 5.16\\\\\n",
       "\t 0 & 1.019 & 5.47 &  760 & 33.8 & 199 & 0.81\\\\\n",
       "\t 0 & 1.014 & 7.38 &  577 & 30.1 &  87 & 1.32\\\\\n",
       "\t 0 & 1.020 & 5.96 &  631 & 11.2 & 422 & 1.55\\\\\n",
       "\t 0 & 1.023 & 5.68 &  749 & 29.0 & 239 & 1.52\\\\\n",
       "\t 0 & 1.017 & 6.76 &  455 &  8.8 & 270 & 0.77\\\\\n",
       "\t 0 & 1.017 & 7.61 &  527 & 25.8 &  75 & 2.17\\\\\n",
       "\t 0 & 1.010 & 6.61 &  225 &  9.8 &  72 & 0.17\\\\\n",
       "\t 0 & 1.008 & 5.87 &  241 &  5.1 & 159 & 0.83\\\\\n",
       "\t 0 & 1.020 & 5.44 &  781 & 29.0 & 349 & 3.04\\\\\n",
       "\t ⋮ & ⋮ & ⋮ & ⋮ & ⋮ & ⋮ & ⋮\\\\\n",
       "\t 1 & 1.024 & 5.36 &  853 & 27.6 & 364 &  7.31\\\\\n",
       "\t 1 & 1.026 & 5.16 &  822 & 26.0 & 301 & 14.34\\\\\n",
       "\t 1 & 1.013 & 5.86 &  531 & 21.4 & 197 &  4.74\\\\\n",
       "\t 1 & 1.010 & 6.27 &  371 & 11.2 & 188 &  2.50\\\\\n",
       "\t 1 & 1.011 & 7.01 &  443 & 21.4 & 124 &  1.27\\\\\n",
       "\t 1 & 1.022 & 6.21 &   NA & 20.6 & 398 &  4.18\\\\\n",
       "\t 1 & 1.011 & 6.13 &  364 & 10.9 & 159 &  3.10\\\\\n",
       "\t 1 & 1.031 & 5.73 &  874 & 17.4 & 516 &  3.01\\\\\n",
       "\t 1 & 1.020 & 7.94 &  567 & 19.7 & 212 &  6.81\\\\\n",
       "\t 1 & 1.040 & 6.28 &  838 & 14.3 & 486 &  8.28\\\\\n",
       "\t 1 & 1.021 & 5.56 &  658 & 23.6 & 224 &  2.33\\\\\n",
       "\t 1 & 1.025 & 5.71 &  854 & 27.0 & 385 &  7.18\\\\\n",
       "\t 1 & 1.026 & 6.19 &  956 & 27.6 & 473 &  5.67\\\\\n",
       "\t 1 & 1.034 & 5.24 & 1236 & 27.3 & 620 & 12.68\\\\\n",
       "\t 1 & 1.033 & 5.58 & 1032 & 29.1 & 430 &  8.94\\\\\n",
       "\t 1 & 1.015 & 5.98 &  487 & 14.8 & 198 &  3.16\\\\\n",
       "\t 1 & 1.013 & 5.58 &  516 & 20.8 & 184 &  3.30\\\\\n",
       "\t 1 & 1.014 & 5.90 &  456 & 17.8 & 164 &  6.99\\\\\n",
       "\t 1 & 1.012 & 6.75 &  251 &  5.1 & 141 &  0.65\\\\\n",
       "\t 1 & 1.025 & 6.90 &  945 & 33.6 & 396 &  4.18\\\\\n",
       "\t 1 & 1.026 & 6.29 &  833 & 22.2 & 457 &  4.45\\\\\n",
       "\t 1 & 1.028 & 4.76 &  312 & 12.4 &  10 &  0.27\\\\\n",
       "\t 1 & 1.027 & 5.40 &  840 & 24.5 & 395 &  7.64\\\\\n",
       "\t 1 & 1.018 & 5.14 &  703 & 29.0 & 272 &  6.63\\\\\n",
       "\t 1 & 1.022 & 5.09 &  736 & 19.8 & 418 &  8.53\\\\\n",
       "\t 1 & 1.025 & 7.90 &  721 & 23.6 & 301 &  9.04\\\\\n",
       "\t 1 & 1.017 & 4.81 &  410 & 13.3 & 195 &  0.58\\\\\n",
       "\t 1 & 1.024 & 5.40 &  803 & 21.8 & 394 &  7.82\\\\\n",
       "\t 1 & 1.016 & 6.81 &  594 & 21.4 & 255 & 12.20\\\\\n",
       "\t 1 & 1.015 & 6.03 &  416 & 12.8 & 178 &  9.39\\\\\n",
       "\\end{tabular}\n"
      ],
      "text/markdown": [
       "\n",
       "A data.table: 79 × 7\n",
       "\n",
       "| pres &lt;int&gt; | gravity &lt;dbl&gt; | ph &lt;dbl&gt; | osmo &lt;int&gt; | cond &lt;dbl&gt; | urea &lt;int&gt; | calc &lt;dbl&gt; |\n",
       "|---|---|---|---|---|---|---|\n",
       "| 0 | 1.021 | 4.91 |  725 |   NA | 443 | 2.45 |\n",
       "| 0 | 1.017 | 5.74 |  577 | 20.0 | 296 | 4.49 |\n",
       "| 0 | 1.008 | 7.20 |  321 | 14.9 | 101 | 2.36 |\n",
       "| 0 | 1.011 | 5.51 |  408 | 12.6 | 224 | 2.15 |\n",
       "| 0 | 1.005 | 6.52 |  187 |  7.5 |  91 | 1.16 |\n",
       "| 0 | 1.020 | 5.27 |  668 | 25.3 | 252 | 3.34 |\n",
       "| 0 | 1.012 | 5.62 |  461 | 17.4 | 195 | 1.40 |\n",
       "| 0 | 1.029 | 5.67 | 1107 | 35.9 | 550 | 8.48 |\n",
       "| 0 | 1.015 | 5.41 |  543 | 21.9 | 170 | 1.16 |\n",
       "| 0 | 1.021 | 6.13 |  779 | 25.7 | 382 | 2.21 |\n",
       "| 0 | 1.011 | 6.19 |  345 | 11.5 | 152 | 1.93 |\n",
       "| 0 | 1.025 | 5.53 |  907 | 28.4 | 448 | 1.27 |\n",
       "| 0 | 1.006 | 7.12 |  242 | 11.3 |  64 | 1.03 |\n",
       "| 0 | 1.007 | 5.35 |  283 |  9.9 | 147 | 1.47 |\n",
       "| 0 | 1.011 | 5.21 |  450 | 17.9 | 161 | 1.53 |\n",
       "| 0 | 1.018 | 4.90 |  684 | 26.1 | 284 | 5.09 |\n",
       "| 0 | 1.007 | 6.63 |  253 |  8.4 | 133 | 1.05 |\n",
       "| 0 | 1.025 | 6.81 |  947 | 32.6 | 395 | 2.03 |\n",
       "| 0 | 1.008 | 6.88 |  395 | 26.1 |  95 | 7.68 |\n",
       "| 0 | 1.014 | 6.14 |  565 | 23.6 | 214 | 1.45 |\n",
       "| 0 | 1.024 | 6.30 |  874 | 29.9 | 380 | 5.16 |\n",
       "| 0 | 1.019 | 5.47 |  760 | 33.8 | 199 | 0.81 |\n",
       "| 0 | 1.014 | 7.38 |  577 | 30.1 |  87 | 1.32 |\n",
       "| 0 | 1.020 | 5.96 |  631 | 11.2 | 422 | 1.55 |\n",
       "| 0 | 1.023 | 5.68 |  749 | 29.0 | 239 | 1.52 |\n",
       "| 0 | 1.017 | 6.76 |  455 |  8.8 | 270 | 0.77 |\n",
       "| 0 | 1.017 | 7.61 |  527 | 25.8 |  75 | 2.17 |\n",
       "| 0 | 1.010 | 6.61 |  225 |  9.8 |  72 | 0.17 |\n",
       "| 0 | 1.008 | 5.87 |  241 |  5.1 | 159 | 0.83 |\n",
       "| 0 | 1.020 | 5.44 |  781 | 29.0 | 349 | 3.04 |\n",
       "| ⋮ | ⋮ | ⋮ | ⋮ | ⋮ | ⋮ | ⋮ |\n",
       "| 1 | 1.024 | 5.36 |  853 | 27.6 | 364 |  7.31 |\n",
       "| 1 | 1.026 | 5.16 |  822 | 26.0 | 301 | 14.34 |\n",
       "| 1 | 1.013 | 5.86 |  531 | 21.4 | 197 |  4.74 |\n",
       "| 1 | 1.010 | 6.27 |  371 | 11.2 | 188 |  2.50 |\n",
       "| 1 | 1.011 | 7.01 |  443 | 21.4 | 124 |  1.27 |\n",
       "| 1 | 1.022 | 6.21 |   NA | 20.6 | 398 |  4.18 |\n",
       "| 1 | 1.011 | 6.13 |  364 | 10.9 | 159 |  3.10 |\n",
       "| 1 | 1.031 | 5.73 |  874 | 17.4 | 516 |  3.01 |\n",
       "| 1 | 1.020 | 7.94 |  567 | 19.7 | 212 |  6.81 |\n",
       "| 1 | 1.040 | 6.28 |  838 | 14.3 | 486 |  8.28 |\n",
       "| 1 | 1.021 | 5.56 |  658 | 23.6 | 224 |  2.33 |\n",
       "| 1 | 1.025 | 5.71 |  854 | 27.0 | 385 |  7.18 |\n",
       "| 1 | 1.026 | 6.19 |  956 | 27.6 | 473 |  5.67 |\n",
       "| 1 | 1.034 | 5.24 | 1236 | 27.3 | 620 | 12.68 |\n",
       "| 1 | 1.033 | 5.58 | 1032 | 29.1 | 430 |  8.94 |\n",
       "| 1 | 1.015 | 5.98 |  487 | 14.8 | 198 |  3.16 |\n",
       "| 1 | 1.013 | 5.58 |  516 | 20.8 | 184 |  3.30 |\n",
       "| 1 | 1.014 | 5.90 |  456 | 17.8 | 164 |  6.99 |\n",
       "| 1 | 1.012 | 6.75 |  251 |  5.1 | 141 |  0.65 |\n",
       "| 1 | 1.025 | 6.90 |  945 | 33.6 | 396 |  4.18 |\n",
       "| 1 | 1.026 | 6.29 |  833 | 22.2 | 457 |  4.45 |\n",
       "| 1 | 1.028 | 4.76 |  312 | 12.4 |  10 |  0.27 |\n",
       "| 1 | 1.027 | 5.40 |  840 | 24.5 | 395 |  7.64 |\n",
       "| 1 | 1.018 | 5.14 |  703 | 29.0 | 272 |  6.63 |\n",
       "| 1 | 1.022 | 5.09 |  736 | 19.8 | 418 |  8.53 |\n",
       "| 1 | 1.025 | 7.90 |  721 | 23.6 | 301 |  9.04 |\n",
       "| 1 | 1.017 | 4.81 |  410 | 13.3 | 195 |  0.58 |\n",
       "| 1 | 1.024 | 5.40 |  803 | 21.8 | 394 |  7.82 |\n",
       "| 1 | 1.016 | 6.81 |  594 | 21.4 | 255 | 12.20 |\n",
       "| 1 | 1.015 | 6.03 |  416 | 12.8 | 178 |  9.39 |\n",
       "\n"
      ],
      "text/plain": [
       "   pres gravity ph   osmo cond urea calc \n",
       "1  0    1.021   4.91  725   NA 443  2.45 \n",
       "2  0    1.017   5.74  577 20.0 296  4.49 \n",
       "3  0    1.008   7.20  321 14.9 101  2.36 \n",
       "4  0    1.011   5.51  408 12.6 224  2.15 \n",
       "5  0    1.005   6.52  187  7.5  91  1.16 \n",
       "6  0    1.020   5.27  668 25.3 252  3.34 \n",
       "7  0    1.012   5.62  461 17.4 195  1.40 \n",
       "8  0    1.029   5.67 1107 35.9 550  8.48 \n",
       "9  0    1.015   5.41  543 21.9 170  1.16 \n",
       "10 0    1.021   6.13  779 25.7 382  2.21 \n",
       "11 0    1.011   6.19  345 11.5 152  1.93 \n",
       "12 0    1.025   5.53  907 28.4 448  1.27 \n",
       "13 0    1.006   7.12  242 11.3  64  1.03 \n",
       "14 0    1.007   5.35  283  9.9 147  1.47 \n",
       "15 0    1.011   5.21  450 17.9 161  1.53 \n",
       "16 0    1.018   4.90  684 26.1 284  5.09 \n",
       "17 0    1.007   6.63  253  8.4 133  1.05 \n",
       "18 0    1.025   6.81  947 32.6 395  2.03 \n",
       "19 0    1.008   6.88  395 26.1  95  7.68 \n",
       "20 0    1.014   6.14  565 23.6 214  1.45 \n",
       "21 0    1.024   6.30  874 29.9 380  5.16 \n",
       "22 0    1.019   5.47  760 33.8 199  0.81 \n",
       "23 0    1.014   7.38  577 30.1  87  1.32 \n",
       "24 0    1.020   5.96  631 11.2 422  1.55 \n",
       "25 0    1.023   5.68  749 29.0 239  1.52 \n",
       "26 0    1.017   6.76  455  8.8 270  0.77 \n",
       "27 0    1.017   7.61  527 25.8  75  2.17 \n",
       "28 0    1.010   6.61  225  9.8  72  0.17 \n",
       "29 0    1.008   5.87  241  5.1 159  0.83 \n",
       "30 0    1.020   5.44  781 29.0 349  3.04 \n",
       "⋮  ⋮    ⋮       ⋮    ⋮    ⋮    ⋮    ⋮    \n",
       "50 1    1.024   5.36  853 27.6 364   7.31\n",
       "51 1    1.026   5.16  822 26.0 301  14.34\n",
       "52 1    1.013   5.86  531 21.4 197   4.74\n",
       "53 1    1.010   6.27  371 11.2 188   2.50\n",
       "54 1    1.011   7.01  443 21.4 124   1.27\n",
       "55 1    1.022   6.21   NA 20.6 398   4.18\n",
       "56 1    1.011   6.13  364 10.9 159   3.10\n",
       "57 1    1.031   5.73  874 17.4 516   3.01\n",
       "58 1    1.020   7.94  567 19.7 212   6.81\n",
       "59 1    1.040   6.28  838 14.3 486   8.28\n",
       "60 1    1.021   5.56  658 23.6 224   2.33\n",
       "61 1    1.025   5.71  854 27.0 385   7.18\n",
       "62 1    1.026   6.19  956 27.6 473   5.67\n",
       "63 1    1.034   5.24 1236 27.3 620  12.68\n",
       "64 1    1.033   5.58 1032 29.1 430   8.94\n",
       "65 1    1.015   5.98  487 14.8 198   3.16\n",
       "66 1    1.013   5.58  516 20.8 184   3.30\n",
       "67 1    1.014   5.90  456 17.8 164   6.99\n",
       "68 1    1.012   6.75  251  5.1 141   0.65\n",
       "69 1    1.025   6.90  945 33.6 396   4.18\n",
       "70 1    1.026   6.29  833 22.2 457   4.45\n",
       "71 1    1.028   4.76  312 12.4  10   0.27\n",
       "72 1    1.027   5.40  840 24.5 395   7.64\n",
       "73 1    1.018   5.14  703 29.0 272   6.63\n",
       "74 1    1.022   5.09  736 19.8 418   8.53\n",
       "75 1    1.025   7.90  721 23.6 301   9.04\n",
       "76 1    1.017   4.81  410 13.3 195   0.58\n",
       "77 1    1.024   5.40  803 21.8 394   7.82\n",
       "78 1    1.016   6.81  594 21.4 255  12.20\n",
       "79 1    1.015   6.03  416 12.8 178   9.39"
      ]
     },
     "metadata": {},
     "output_type": "display_data"
    }
   ],
   "source": [
    "urine=urine[,-1]\n",
    "urine"
   ]
  },
  {
   "cell_type": "markdown",
   "id": "26b21ecb",
   "metadata": {},
   "source": [
    "### i)\n",
    "Dokonaj podziału obserwacji na podzbiór uczący (pierwsze 324 obserwacje)\n",
    "oraz zbiór testowy (pozostałe).\n"
   ]
  },
  {
   "cell_type": "code",
   "execution_count": 413,
   "id": "70b92005",
   "metadata": {
    "scrolled": true
   },
   "outputs": [
    {
     "data": {
      "text/html": [
       "50"
      ],
      "text/latex": [
       "50"
      ],
      "text/markdown": [
       "50"
      ],
      "text/plain": [
       "[1] 50"
      ]
     },
     "metadata": {},
     "output_type": "display_data"
    }
   ],
   "source": [
    "uczacy = sample_n(urine, 50)\n",
    "nrow(uczacy)"
   ]
  },
  {
   "cell_type": "code",
   "execution_count": 414,
   "id": "0513ced4",
   "metadata": {},
   "outputs": [
    {
     "name": "stderr",
     "output_type": "stream",
     "text": [
      "\u001b[1m\u001b[22mJoining with `by = join_by(pres, gravity, ph, osmo, cond, urea, calc)`\n"
     ]
    }
   ],
   "source": [
    "testowy = anti_join(urine, uczacy)"
   ]
  },
  {
   "cell_type": "markdown",
   "id": "b5d604ba",
   "metadata": {},
   "source": [
    " ### ii)\n",
    " Dopasuj model regresji logistycznej bazując na podzbiorze uczącym."
   ]
  },
  {
   "cell_type": "code",
   "execution_count": 415,
   "id": "36894b28",
   "metadata": {},
   "outputs": [
    {
     "data": {
      "text/plain": [
       "\n",
       "Call:\n",
       "glm(formula = pres ~ ., family = binomial(), data = uczacy)\n",
       "\n",
       "Deviance Residuals: \n",
       "     Min        1Q    Median        3Q       Max  \n",
       "-2.16803  -0.41173  -0.01616   0.16843   1.91722  \n",
       "\n",
       "Coefficients:\n",
       "              Estimate Std. Error z value Pr(>|z|)  \n",
       "(Intercept) -525.43878  320.16674  -1.641   0.1008  \n",
       "gravity      532.12782  318.47112   1.671   0.0947 .\n",
       "ph            -1.41706    1.13265  -1.251   0.2109  \n",
       "osmo           0.03013    0.02892   1.042   0.2975  \n",
       "cond          -0.78832    0.47322  -1.666   0.0957 .\n",
       "urea          -0.05424    0.02907  -1.866   0.0621 .\n",
       "calc           1.22356    0.49327   2.481   0.0131 *\n",
       "---\n",
       "Signif. codes:  0 '***' 0.001 '**' 0.01 '*' 0.05 '.' 0.1 ' ' 1\n",
       "\n",
       "(Dispersion parameter for binomial family taken to be 1)\n",
       "\n",
       "    Null deviance: 67.908  on 48  degrees of freedom\n",
       "Residual deviance: 28.175  on 42  degrees of freedom\n",
       "  (1 obserwacja została skasowana z uwagi na braki w niej zawarte)\n",
       "AIC: 42.175\n",
       "\n",
       "Number of Fisher Scoring iterations: 7\n"
      ]
     },
     "metadata": {},
     "output_type": "display_data"
    }
   ],
   "source": [
    "model_glm = glm(pres ~ ., data = uczacy, family = binomial())\n",
    "summary(model_glm)"
   ]
  },
  {
   "cell_type": "markdown",
   "id": "08b3c469",
   "metadata": {},
   "source": [
    "### iii)\n",
    "Stosując krokową procedurę wyboru modelu zdecyduj, które zmienne powinny pozostać w modelu."
   ]
  },
  {
   "cell_type": "code",
   "execution_count": 416,
   "id": "42b376e6",
   "metadata": {},
   "outputs": [
    {
     "data": {
      "text/plain": [
       "\n",
       "Call:\n",
       "glm(formula = pres ~ . - osmo, family = binomial(), data = uczacy)\n",
       "\n",
       "Deviance Residuals: \n",
       "     Min        1Q    Median        3Q       Max  \n",
       "-1.98060  -0.36707  -0.03525   0.24414   2.01452  \n",
       "\n",
       "Coefficients:\n",
       "              Estimate Std. Error z value Pr(>|z|)   \n",
       "(Intercept) -717.19934  271.88299  -2.638  0.00834 **\n",
       "gravity      720.51658  271.48618   2.654  0.00796 **\n",
       "ph            -0.94221    0.98483  -0.957  0.33870   \n",
       "cond          -0.33342    0.12914  -2.582  0.00983 **\n",
       "urea          -0.02906    0.01387  -2.095  0.03614 * \n",
       "calc           1.07765    0.43568   2.474  0.01338 * \n",
       "---\n",
       "Signif. codes:  0 '***' 0.001 '**' 0.01 '*' 0.05 '.' 0.1 ' ' 1\n",
       "\n",
       "(Dispersion parameter for binomial family taken to be 1)\n",
       "\n",
       "    Null deviance: 67.908  on 48  degrees of freedom\n",
       "Residual deviance: 29.352  on 43  degrees of freedom\n",
       "  (1 obserwacja została skasowana z uwagi na braki w niej zawarte)\n",
       "AIC: 41.352\n",
       "\n",
       "Number of Fisher Scoring iterations: 7\n"
      ]
     },
     "metadata": {},
     "output_type": "display_data"
    }
   ],
   "source": [
    "model_krok = glm(pres ~ . -osmo, data = uczacy, family = binomial())\n",
    "summary(model_krok)"
   ]
  },
  {
   "cell_type": "code",
   "execution_count": 417,
   "id": "67556a2b",
   "metadata": {},
   "outputs": [
    {
     "data": {
      "text/plain": [
       "\n",
       "Call:\n",
       "glm(formula = pres ~ . - ph - osmo, family = binomial(), data = uczacy)\n",
       "\n",
       "Deviance Residuals: \n",
       "     Min        1Q    Median        3Q       Max  \n",
       "-1.92491  -0.37593  -0.09263   0.27279   2.01210  \n",
       "\n",
       "Coefficients:\n",
       "              Estimate Std. Error z value Pr(>|z|)   \n",
       "(Intercept) -753.65651  278.07378  -2.710  0.00672 **\n",
       "gravity      750.89637  277.44616   2.706  0.00680 **\n",
       "cond          -0.30653    0.11669  -2.627  0.00862 **\n",
       "urea          -0.03136    0.01437  -2.182  0.02911 * \n",
       "calc           1.07869    0.43971   2.453  0.01416 * \n",
       "---\n",
       "Signif. codes:  0 '***' 0.001 '**' 0.01 '*' 0.05 '.' 0.1 ' ' 1\n",
       "\n",
       "(Dispersion parameter for binomial family taken to be 1)\n",
       "\n",
       "    Null deviance: 67.908  on 48  degrees of freedom\n",
       "Residual deviance: 30.391  on 44  degrees of freedom\n",
       "  (1 obserwacja została skasowana z uwagi na braki w niej zawarte)\n",
       "AIC: 40.391\n",
       "\n",
       "Number of Fisher Scoring iterations: 7\n"
      ]
     },
     "metadata": {},
     "output_type": "display_data"
    }
   ],
   "source": [
    "model_krok = glm(pres ~ . -ph -osmo , data = uczacy, family = binomial())\n",
    "summary(model_krok)"
   ]
  },
  {
   "cell_type": "markdown",
   "id": "19fb0d64",
   "metadata": {},
   "source": [
    "### Interpretacja\n",
    "- Zmienne istotne statystycznie wpływające na zmienną objaśniającą:\n",
    "    - gravity\n",
    "    - calc\n",
    "    - urea\n",
    "    - cond"
   ]
  },
  {
   "cell_type": "code",
   "execution_count": 284,
   "id": "65f4b186",
   "metadata": {},
   "outputs": [
    {
     "data": {
      "text/html": [
       "<style>\n",
       ".dl-inline {width: auto; margin:0; padding: 0}\n",
       ".dl-inline>dt, .dl-inline>dd {float: none; width: auto; display: inline-block}\n",
       ".dl-inline>dt::after {content: \":\\0020\"; padding-right: .5ex}\n",
       ".dl-inline>dt:not(:first-of-type) {padding-left: .5ex}\n",
       "</style><dl class=dl-inline><dt>(Intercept)</dt><dd>-21.1873138300219</dd><dt>gravity</dt><dd>21.1510132050837</dd><dt>I(calc^2)</dt><dd>0.0036864623594463</dd></dl>\n"
      ],
      "text/latex": [
       "\\begin{description*}\n",
       "\\item[(Intercept)] -21.1873138300219\n",
       "\\item[gravity] 21.1510132050837\n",
       "\\item[I(calc\\textbackslash{}textasciicircum\\{\\}2)] 0.0036864623594463\n",
       "\\end{description*}\n"
      ],
      "text/markdown": [
       "(Intercept)\n",
       ":   -21.1873138300219gravity\n",
       ":   21.1510132050837I(calc^2)\n",
       ":   0.0036864623594463\n",
       "\n"
      ],
      "text/plain": [
       "  (Intercept)       gravity     I(calc^2) \n",
       "-21.187313830  21.151013205   0.003686462 "
      ]
     },
     "metadata": {},
     "output_type": "display_data"
    }
   ],
   "source": [
    "model_4_5<-lm(pres~gravity+I(calc^2), data = uczacy)\n",
    "model_4_5$coef"
   ]
  },
  {
   "cell_type": "markdown",
   "id": "5560fa94",
   "metadata": {},
   "source": [
    "### Wzór modelu\n",
    "$pres = -21.19 + 21.15 \\cdot gravity + 0.0037 \\cdot calc$"
   ]
  },
  {
   "cell_type": "markdown",
   "id": "3b876641",
   "metadata": {},
   "source": [
    "###  iv)\n",
    "Skonstruuj klasyfikator w oparciu o próbę uczącą. Przedstaw na rysunku klasyfikację dokonaną przez klasyfikator. Wyznacz błąd klasyfikacji na pró\u0002bie testowej.\n"
   ]
  },
  {
   "cell_type": "code",
   "execution_count": 285,
   "id": "dcdcd86e",
   "metadata": {},
   "outputs": [
    {
     "data": {
      "image/png": "[encoded data removed]",
      "text/plain": [
       "plot without title"
      ]
     },
     "metadata": {
      "image/png": {
       "height": 420,
       "width": 420
      }
     },
     "output_type": "display_data"
    }
   ],
   "source": [
    "y = predict(model_krok, newdata = testowy)\n",
    "\n",
    "plot(y, pch = 19, col = testowy$pres + 1)\n",
    "legend(\"topleft\", c(\"pres = 0\", \"pres = 1\"), pch = 19, col = c(1, 2))"
   ]
  },
  {
   "cell_type": "code",
   "execution_count": 286,
   "id": "7b1ba4b8",
   "metadata": {},
   "outputs": [
    {
     "data": {
      "text/html": [
       "<table class=\"dataframe\">\n",
       "<caption>A data.frame: 2 × 2</caption>\n",
       "<thead>\n",
       "\t<tr><th scope=col>Group.1</th><th scope=col>x</th></tr>\n",
       "\t<tr><th scope=col>&lt;int&gt;</th><th scope=col>&lt;dbl&gt;</th></tr>\n",
       "</thead>\n",
       "<tbody>\n",
       "\t<tr><td>0</td><td>-1.0154074</td></tr>\n",
       "\t<tr><td>1</td><td> 0.9018571</td></tr>\n",
       "</tbody>\n",
       "</table>\n"
      ],
      "text/latex": [
       "A data.frame: 2 × 2\n",
       "\\begin{tabular}{ll}\n",
       " Group.1 & x\\\\\n",
       " <int> & <dbl>\\\\\n",
       "\\hline\n",
       "\t 0 & -1.0154074\\\\\n",
       "\t 1 &  0.9018571\\\\\n",
       "\\end{tabular}\n"
      ],
      "text/markdown": [
       "\n",
       "A data.frame: 2 × 2\n",
       "\n",
       "| Group.1 &lt;int&gt; | x &lt;dbl&gt; |\n",
       "|---|---|\n",
       "| 0 | -1.0154074 |\n",
       "| 1 |  0.9018571 |\n",
       "\n"
      ],
      "text/plain": [
       "  Group.1 x         \n",
       "1 0       -1.0154074\n",
       "2 1        0.9018571"
      ]
     },
     "metadata": {},
     "output_type": "display_data"
    }
   ],
   "source": [
    "aggregate(y, by=list(testowy$pres), FUN=mean, na.rm=TRUE)"
   ]
  },
  {
   "cell_type": "code",
   "execution_count": 287,
   "id": "d96ebc7c",
   "metadata": {
    "scrolled": false
   },
   "outputs": [
    {
     "data": {
      "text/plain": [
       "    predicted\n",
       "true  0  1\n",
       "   0 16  1\n",
       "   1  1 11"
      ]
     },
     "metadata": {},
     "output_type": "display_data"
    },
    {
     "data": {
      "text/html": [
       "6.89655172413793"
      ],
      "text/latex": [
       "6.89655172413793"
      ],
      "text/markdown": [
       "6.89655172413793"
      ],
      "text/plain": [
       "[1] 6.896552"
      ]
     },
     "metadata": {},
     "output_type": "display_data"
    }
   ],
   "source": [
    "pred_values = predict(model_krok, newdata = testowy, type = \"response\")\n",
    "pred_values[pred_values < 0.5] = 0\n",
    "pred_values[pred_values >= 0.5] = 1\n",
    "\n",
    "(T = table(true = testowy$pres, predicted = pred_values))\n",
    "(blad_predykcji = (1 - sum(diag(T)) / sum(T))*100)"
   ]
  },
  {
   "cell_type": "code",
   "execution_count": 288,
   "id": "65296c49",
   "metadata": {},
   "outputs": [
    {
     "data": {
      "text/html": [
       "6.89655172413793"
      ],
      "text/latex": [
       "6.89655172413793"
      ],
      "text/markdown": [
       "6.89655172413793"
      ],
      "text/plain": [
       "[1] 6.896552"
      ]
     },
     "metadata": {},
     "output_type": "display_data"
    }
   ],
   "source": [
    "blad_predykcji"
   ]
  },
  {
   "cell_type": "markdown",
   "id": "263389a6",
   "metadata": {},
   "source": [
    "### Interpretacja\n",
    "- Błąd wynosi 6.9, 2 obserwacje nie zostały prawidłownie zaklasyfikowane"
   ]
  },
  {
   "cell_type": "code",
   "execution_count": 289,
   "id": "b50c0b64",
   "metadata": {},
   "outputs": [
    {
     "data": {
      "text/plain": [
       "    predicted\n",
       "true  0  1\n",
       "   0 11  6\n",
       "   1  1 11"
      ]
     },
     "metadata": {},
     "output_type": "display_data"
    },
    {
     "data": {
      "text/html": [
       "24.1379310344828"
      ],
      "text/latex": [
       "24.1379310344828"
      ],
      "text/markdown": [
       "24.1379310344828"
      ],
      "text/plain": [
       "[1] 24.13793"
      ]
     },
     "metadata": {},
     "output_type": "display_data"
    }
   ],
   "source": [
    "p = 0.3\n",
    "\n",
    "pred_values = predict(model_krok, newdata = testowy, type = \"response\")\n",
    "pred_values[pred_values < p] = 0\n",
    "pred_values[pred_values >= p] = 1\n",
    "\n",
    "(T = table(true = testowy$pres, predicted = pred_values))\n",
    "(blad_predykcji = (1 - sum(diag(T)) / sum(T))*100)"
   ]
  },
  {
   "cell_type": "markdown",
   "id": "fb9dd4c1",
   "metadata": {},
   "source": [
    "### v)\n",
    "Skonstruuj klasyfikator w oparciu o metodę LDA bazując na próbie uczącej oraz porównaj jego błąd klasyfikacji na próbie testowej z błędem klasyfikacji klasyfikatora opartego na regresji logistycznej."
   ]
  },
  {
   "cell_type": "code",
   "execution_count": 290,
   "id": "95a77737",
   "metadata": {},
   "outputs": [
    {
     "data": {
      "text/plain": [
       "Call:\n",
       "lda(pres ~ +gravity + calc, data = uczacy)\n",
       "\n",
       "Prior probabilities of groups:\n",
       "   0    1 \n",
       "0.56 0.44 \n",
       "\n",
       "Group means:\n",
       "   gravity     calc\n",
       "0 1.015179 2.943214\n",
       "1 1.020636 5.838182\n",
       "\n",
       "Coefficients of linear discriminants:\n",
       "               LD1\n",
       "gravity 88.8318998\n",
       "calc     0.2245969"
      ]
     },
     "metadata": {},
     "output_type": "display_data"
    }
   ],
   "source": [
    "model_LDA = lda(pres ~ + gravity + calc, data = uczacy)\n",
    "model_LDA"
   ]
  },
  {
   "cell_type": "code",
   "execution_count": 291,
   "id": "9396c7dd",
   "metadata": {
    "scrolled": true
   },
   "outputs": [
    {
     "data": {
      "text/plain": [
       "    predicted\n",
       "true  0  1\n",
       "   0 16  1\n",
       "   1  1 11"
      ]
     },
     "metadata": {},
     "output_type": "display_data"
    },
    {
     "data": {
      "text/html": [
       "6.89655172413793"
      ],
      "text/latex": [
       "6.89655172413793"
      ],
      "text/markdown": [
       "6.89655172413793"
      ],
      "text/plain": [
       "[1] 6.896552"
      ]
     },
     "metadata": {},
     "output_type": "display_data"
    }
   ],
   "source": [
    "pred_values_LDA = predict(model_LDA, newdata= testowy)$class\n",
    "(T_LDA = table(true = testowy$pres, predicted = pred_values_LDA))\n",
    "(blad_predykcji_LDA = (1 - sum(diag(T_LDA)) / sum(T_LDA))*100)"
   ]
  },
  {
   "cell_type": "markdown",
   "id": "1ae3b890",
   "metadata": {},
   "source": [
    "### Interpretacja\n",
    "- Błąd wynosi 6.9\n",
    "- Jest taki sam jak w klasyfikacji na podstawie regresji logistycznej"
   ]
  },
  {
   "cell_type": "markdown",
   "id": "a3ae21f0",
   "metadata": {},
   "source": [
    "# Zadanie 8, L4"
   ]
  },
  {
   "cell_type": "code",
   "execution_count": 292,
   "id": "6131f01f",
   "metadata": {
    "scrolled": true
   },
   "outputs": [
    {
     "data": {
      "text/html": [
       "<table class=\"dataframe\">\n",
       "<caption>A data.table: 6 × 4</caption>\n",
       "<thead>\n",
       "\t<tr><th scope=col>TetnoSpocz</th><th scope=col>Palacz</th><th scope=col>Waga</th><th scope=col>ID</th></tr>\n",
       "\t<tr><th scope=col>&lt;chr&gt;</th><th scope=col>&lt;int&gt;</th><th scope=col>&lt;int&gt;</th><th scope=col>&lt;int&gt;</th></tr>\n",
       "</thead>\n",
       "<tbody>\n",
       "\t<tr><td>Niskie</td><td>1</td><td>51</td><td>1</td></tr>\n",
       "\t<tr><td>Niskie</td><td>1</td><td>52</td><td>2</td></tr>\n",
       "\t<tr><td>Niskie</td><td>1</td><td>57</td><td>3</td></tr>\n",
       "\t<tr><td>Niskie</td><td>1</td><td>59</td><td>4</td></tr>\n",
       "\t<tr><td>Niskie</td><td>1</td><td>60</td><td>5</td></tr>\n",
       "\t<tr><td>Niskie</td><td>1</td><td>66</td><td>6</td></tr>\n",
       "</tbody>\n",
       "</table>\n"
      ],
      "text/latex": [
       "A data.table: 6 × 4\n",
       "\\begin{tabular}{llll}\n",
       " TetnoSpocz & Palacz & Waga & ID\\\\\n",
       " <chr> & <int> & <int> & <int>\\\\\n",
       "\\hline\n",
       "\t Niskie & 1 & 51 & 1\\\\\n",
       "\t Niskie & 1 & 52 & 2\\\\\n",
       "\t Niskie & 1 & 57 & 3\\\\\n",
       "\t Niskie & 1 & 59 & 4\\\\\n",
       "\t Niskie & 1 & 60 & 5\\\\\n",
       "\t Niskie & 1 & 66 & 6\\\\\n",
       "\\end{tabular}\n"
      ],
      "text/markdown": [
       "\n",
       "A data.table: 6 × 4\n",
       "\n",
       "| TetnoSpocz &lt;chr&gt; | Palacz &lt;int&gt; | Waga &lt;int&gt; | ID &lt;int&gt; |\n",
       "|---|---|---|---|\n",
       "| Niskie | 1 | 51 | 1 |\n",
       "| Niskie | 1 | 52 | 2 |\n",
       "| Niskie | 1 | 57 | 3 |\n",
       "| Niskie | 1 | 59 | 4 |\n",
       "| Niskie | 1 | 60 | 5 |\n",
       "| Niskie | 1 | 66 | 6 |\n",
       "\n"
      ],
      "text/plain": [
       "  TetnoSpocz Palacz Waga ID\n",
       "1 Niskie     1      51   1 \n",
       "2 Niskie     1      52   2 \n",
       "3 Niskie     1      57   3 \n",
       "4 Niskie     1      59   4 \n",
       "5 Niskie     1      60   5 \n",
       "6 Niskie     1      66   6 "
      ]
     },
     "metadata": {},
     "output_type": "display_data"
    },
    {
     "data": {
      "text/html": [
       "92"
      ],
      "text/latex": [
       "92"
      ],
      "text/markdown": [
       "92"
      ],
      "text/plain": [
       "[1] 92"
      ]
     },
     "metadata": {},
     "output_type": "display_data"
    }
   ],
   "source": [
    "puls = fread('http://theta.edu.pl/wp-content/uploads/2018/03/puls2.csv')\n",
    "puls$ID <- seq.int(nrow(puls))\n",
    "head(puls)\n",
    "nrow(puls)"
   ]
  },
  {
   "cell_type": "markdown",
   "id": "60b1640e",
   "metadata": {},
   "source": [
    "### i)\n",
    "Dokonaj podziału obserwacji na podzbiór uczący (75% obserwacji, wybranych\n",
    "w sposób losowy) oraz zbiór testowy (pozostałe)."
   ]
  },
  {
   "cell_type": "code",
   "execution_count": 293,
   "id": "28fee505",
   "metadata": {},
   "outputs": [],
   "source": [
    "uczacy = sample_frac(puls, 0.75)"
   ]
  },
  {
   "cell_type": "code",
   "execution_count": 294,
   "id": "bfdc59ec",
   "metadata": {},
   "outputs": [
    {
     "data": {
      "text/html": [
       "69"
      ],
      "text/latex": [
       "69"
      ],
      "text/markdown": [
       "69"
      ],
      "text/plain": [
       "[1] 69"
      ]
     },
     "metadata": {},
     "output_type": "display_data"
    }
   ],
   "source": [
    "nrow(uczacy)"
   ]
  },
  {
   "cell_type": "code",
   "execution_count": 295,
   "id": "a3f3e43b",
   "metadata": {},
   "outputs": [],
   "source": [
    "testowy = anti_join(puls, uczacy, by=c(\"ID\"))"
   ]
  },
  {
   "cell_type": "code",
   "execution_count": 296,
   "id": "39f21056",
   "metadata": {},
   "outputs": [
    {
     "data": {
      "text/html": [
       "23"
      ],
      "text/latex": [
       "23"
      ],
      "text/markdown": [
       "23"
      ],
      "text/plain": [
       "[1] 23"
      ]
     },
     "metadata": {},
     "output_type": "display_data"
    }
   ],
   "source": [
    "nrow(testowy)"
   ]
  },
  {
   "cell_type": "markdown",
   "id": "a7747710",
   "metadata": {},
   "source": [
    "### ii)\n",
    "Dopasuj model regresji logistycznej bazując na podzbiorze uczącym, przyjmując za zmienną objaśnianą TetnoSpocz"
   ]
  },
  {
   "cell_type": "code",
   "execution_count": 297,
   "id": "3a5933d7",
   "metadata": {},
   "outputs": [],
   "source": [
    "uczacy$TetnoSpocz[uczacy$TetnoSpocz == \"Niskie\"] <- 0\n",
    "uczacy$TetnoSpocz[uczacy$TetnoSpocz == \"Wysokie\"] <- 1"
   ]
  },
  {
   "cell_type": "code",
   "execution_count": 298,
   "id": "b2673080",
   "metadata": {},
   "outputs": [],
   "source": [
    "testowy$TetnoSpocz[testowy$TetnoSpocz == \"Niskie\"] <- 0\n",
    "testowy$TetnoSpocz[testowy$TetnoSpocz == \"Wysokie\"] <- 1"
   ]
  },
  {
   "cell_type": "code",
   "execution_count": 299,
   "id": "86b61d61",
   "metadata": {
    "scrolled": true
   },
   "outputs": [
    {
     "data": {
      "text/html": [
       "<table class=\"dataframe\">\n",
       "<caption>A data.table: 69 × 3</caption>\n",
       "<thead>\n",
       "\t<tr><th scope=col>TetnoSpocz</th><th scope=col>Palacz</th><th scope=col>Waga</th></tr>\n",
       "\t<tr><th scope=col>&lt;chr&gt;</th><th scope=col>&lt;int&gt;</th><th scope=col>&lt;int&gt;</th></tr>\n",
       "</thead>\n",
       "<tbody>\n",
       "\t<tr><td>1</td><td>1</td><td> 82</td></tr>\n",
       "\t<tr><td>1</td><td>0</td><td> 93</td></tr>\n",
       "\t<tr><td>0</td><td>0</td><td> 82</td></tr>\n",
       "\t<tr><td>0</td><td>0</td><td> 85</td></tr>\n",
       "\t<tr><td>1</td><td>0</td><td> 95</td></tr>\n",
       "\t<tr><td>0</td><td>1</td><td> 91</td></tr>\n",
       "\t<tr><td>1</td><td>0</td><td> 93</td></tr>\n",
       "\t<tr><td>0</td><td>0</td><td> 87</td></tr>\n",
       "\t<tr><td>0</td><td>0</td><td> 84</td></tr>\n",
       "\t<tr><td>0</td><td>1</td><td> 66</td></tr>\n",
       "\t<tr><td>1</td><td>1</td><td> 93</td></tr>\n",
       "\t<tr><td>0</td><td>0</td><td> 88</td></tr>\n",
       "\t<tr><td>0</td><td>1</td><td> 75</td></tr>\n",
       "\t<tr><td>0</td><td>0</td><td> 77</td></tr>\n",
       "\t<tr><td>1</td><td>0</td><td> 94</td></tr>\n",
       "\t<tr><td>0</td><td>0</td><td> 83</td></tr>\n",
       "\t<tr><td>1</td><td>1</td><td>102</td></tr>\n",
       "\t<tr><td>1</td><td>0</td><td>113</td></tr>\n",
       "\t<tr><td>0</td><td>0</td><td> 78</td></tr>\n",
       "\t<tr><td>0</td><td>1</td><td> 84</td></tr>\n",
       "\t<tr><td>0</td><td>1</td><td> 75</td></tr>\n",
       "\t<tr><td>0</td><td>0</td><td> 77</td></tr>\n",
       "\t<tr><td>1</td><td>0</td><td> 64</td></tr>\n",
       "\t<tr><td>1</td><td>0</td><td> 94</td></tr>\n",
       "\t<tr><td>0</td><td>1</td><td> 88</td></tr>\n",
       "\t<tr><td>0</td><td>0</td><td> 82</td></tr>\n",
       "\t<tr><td>1</td><td>0</td><td> 98</td></tr>\n",
       "\t<tr><td>1</td><td>0</td><td> 91</td></tr>\n",
       "\t<tr><td>0</td><td>1</td><td> 90</td></tr>\n",
       "\t<tr><td>1</td><td>0</td><td>118</td></tr>\n",
       "\t<tr><td>⋮</td><td>⋮</td><td>⋮</td></tr>\n",
       "\t<tr><td>1</td><td>1</td><td> 84</td></tr>\n",
       "\t<tr><td>0</td><td>0</td><td> 86</td></tr>\n",
       "\t<tr><td>0</td><td>1</td><td> 60</td></tr>\n",
       "\t<tr><td>0</td><td>0</td><td> 83</td></tr>\n",
       "\t<tr><td>1</td><td>0</td><td>118</td></tr>\n",
       "\t<tr><td>0</td><td>0</td><td> 76</td></tr>\n",
       "\t<tr><td>0</td><td>0</td><td> 70</td></tr>\n",
       "\t<tr><td>0</td><td>0</td><td> 82</td></tr>\n",
       "\t<tr><td>0</td><td>0</td><td> 79</td></tr>\n",
       "\t<tr><td>0</td><td>1</td><td> 82</td></tr>\n",
       "\t<tr><td>0</td><td>1</td><td> 78</td></tr>\n",
       "\t<tr><td>0</td><td>1</td><td> 75</td></tr>\n",
       "\t<tr><td>1</td><td>0</td><td>104</td></tr>\n",
       "\t<tr><td>0</td><td>1</td><td> 51</td></tr>\n",
       "\t<tr><td>0</td><td>1</td><td> 59</td></tr>\n",
       "\t<tr><td>0</td><td>0</td><td> 86</td></tr>\n",
       "\t<tr><td>0</td><td>1</td><td> 57</td></tr>\n",
       "\t<tr><td>0</td><td>1</td><td> 91</td></tr>\n",
       "\t<tr><td>1</td><td>1</td><td>113</td></tr>\n",
       "\t<tr><td>0</td><td>0</td><td> 78</td></tr>\n",
       "\t<tr><td>1</td><td>0</td><td> 91</td></tr>\n",
       "\t<tr><td>1</td><td>0</td><td>111</td></tr>\n",
       "\t<tr><td>0</td><td>1</td><td> 68</td></tr>\n",
       "\t<tr><td>0</td><td>0</td><td> 88</td></tr>\n",
       "\t<tr><td>1</td><td>1</td><td>100</td></tr>\n",
       "\t<tr><td>0</td><td>0</td><td> 68</td></tr>\n",
       "\t<tr><td>0</td><td>1</td><td> 75</td></tr>\n",
       "\t<tr><td>0</td><td>0</td><td> 80</td></tr>\n",
       "\t<tr><td>0</td><td>0</td><td> 68</td></tr>\n",
       "\t<tr><td>1</td><td>1</td><td> 91</td></tr>\n",
       "</tbody>\n",
       "</table>\n"
      ],
      "text/latex": [
       "A data.table: 69 × 3\n",
       "\\begin{tabular}{lll}\n",
       " TetnoSpocz & Palacz & Waga\\\\\n",
       " <chr> & <int> & <int>\\\\\n",
       "\\hline\n",
       "\t 1 & 1 &  82\\\\\n",
       "\t 1 & 0 &  93\\\\\n",
       "\t 0 & 0 &  82\\\\\n",
       "\t 0 & 0 &  85\\\\\n",
       "\t 1 & 0 &  95\\\\\n",
       "\t 0 & 1 &  91\\\\\n",
       "\t 1 & 0 &  93\\\\\n",
       "\t 0 & 0 &  87\\\\\n",
       "\t 0 & 0 &  84\\\\\n",
       "\t 0 & 1 &  66\\\\\n",
       "\t 1 & 1 &  93\\\\\n",
       "\t 0 & 0 &  88\\\\\n",
       "\t 0 & 1 &  75\\\\\n",
       "\t 0 & 0 &  77\\\\\n",
       "\t 1 & 0 &  94\\\\\n",
       "\t 0 & 0 &  83\\\\\n",
       "\t 1 & 1 & 102\\\\\n",
       "\t 1 & 0 & 113\\\\\n",
       "\t 0 & 0 &  78\\\\\n",
       "\t 0 & 1 &  84\\\\\n",
       "\t 0 & 1 &  75\\\\\n",
       "\t 0 & 0 &  77\\\\\n",
       "\t 1 & 0 &  64\\\\\n",
       "\t 1 & 0 &  94\\\\\n",
       "\t 0 & 1 &  88\\\\\n",
       "\t 0 & 0 &  82\\\\\n",
       "\t 1 & 0 &  98\\\\\n",
       "\t 1 & 0 &  91\\\\\n",
       "\t 0 & 1 &  90\\\\\n",
       "\t 1 & 0 & 118\\\\\n",
       "\t ⋮ & ⋮ & ⋮\\\\\n",
       "\t 1 & 1 &  84\\\\\n",
       "\t 0 & 0 &  86\\\\\n",
       "\t 0 & 1 &  60\\\\\n",
       "\t 0 & 0 &  83\\\\\n",
       "\t 1 & 0 & 118\\\\\n",
       "\t 0 & 0 &  76\\\\\n",
       "\t 0 & 0 &  70\\\\\n",
       "\t 0 & 0 &  82\\\\\n",
       "\t 0 & 0 &  79\\\\\n",
       "\t 0 & 1 &  82\\\\\n",
       "\t 0 & 1 &  78\\\\\n",
       "\t 0 & 1 &  75\\\\\n",
       "\t 1 & 0 & 104\\\\\n",
       "\t 0 & 1 &  51\\\\\n",
       "\t 0 & 1 &  59\\\\\n",
       "\t 0 & 0 &  86\\\\\n",
       "\t 0 & 1 &  57\\\\\n",
       "\t 0 & 1 &  91\\\\\n",
       "\t 1 & 1 & 113\\\\\n",
       "\t 0 & 0 &  78\\\\\n",
       "\t 1 & 0 &  91\\\\\n",
       "\t 1 & 0 & 111\\\\\n",
       "\t 0 & 1 &  68\\\\\n",
       "\t 0 & 0 &  88\\\\\n",
       "\t 1 & 1 & 100\\\\\n",
       "\t 0 & 0 &  68\\\\\n",
       "\t 0 & 1 &  75\\\\\n",
       "\t 0 & 0 &  80\\\\\n",
       "\t 0 & 0 &  68\\\\\n",
       "\t 1 & 1 &  91\\\\\n",
       "\\end{tabular}\n"
      ],
      "text/markdown": [
       "\n",
       "A data.table: 69 × 3\n",
       "\n",
       "| TetnoSpocz &lt;chr&gt; | Palacz &lt;int&gt; | Waga &lt;int&gt; |\n",
       "|---|---|---|\n",
       "| 1 | 1 |  82 |\n",
       "| 1 | 0 |  93 |\n",
       "| 0 | 0 |  82 |\n",
       "| 0 | 0 |  85 |\n",
       "| 1 | 0 |  95 |\n",
       "| 0 | 1 |  91 |\n",
       "| 1 | 0 |  93 |\n",
       "| 0 | 0 |  87 |\n",
       "| 0 | 0 |  84 |\n",
       "| 0 | 1 |  66 |\n",
       "| 1 | 1 |  93 |\n",
       "| 0 | 0 |  88 |\n",
       "| 0 | 1 |  75 |\n",
       "| 0 | 0 |  77 |\n",
       "| 1 | 0 |  94 |\n",
       "| 0 | 0 |  83 |\n",
       "| 1 | 1 | 102 |\n",
       "| 1 | 0 | 113 |\n",
       "| 0 | 0 |  78 |\n",
       "| 0 | 1 |  84 |\n",
       "| 0 | 1 |  75 |\n",
       "| 0 | 0 |  77 |\n",
       "| 1 | 0 |  64 |\n",
       "| 1 | 0 |  94 |\n",
       "| 0 | 1 |  88 |\n",
       "| 0 | 0 |  82 |\n",
       "| 1 | 0 |  98 |\n",
       "| 1 | 0 |  91 |\n",
       "| 0 | 1 |  90 |\n",
       "| 1 | 0 | 118 |\n",
       "| ⋮ | ⋮ | ⋮ |\n",
       "| 1 | 1 |  84 |\n",
       "| 0 | 0 |  86 |\n",
       "| 0 | 1 |  60 |\n",
       "| 0 | 0 |  83 |\n",
       "| 1 | 0 | 118 |\n",
       "| 0 | 0 |  76 |\n",
       "| 0 | 0 |  70 |\n",
       "| 0 | 0 |  82 |\n",
       "| 0 | 0 |  79 |\n",
       "| 0 | 1 |  82 |\n",
       "| 0 | 1 |  78 |\n",
       "| 0 | 1 |  75 |\n",
       "| 1 | 0 | 104 |\n",
       "| 0 | 1 |  51 |\n",
       "| 0 | 1 |  59 |\n",
       "| 0 | 0 |  86 |\n",
       "| 0 | 1 |  57 |\n",
       "| 0 | 1 |  91 |\n",
       "| 1 | 1 | 113 |\n",
       "| 0 | 0 |  78 |\n",
       "| 1 | 0 |  91 |\n",
       "| 1 | 0 | 111 |\n",
       "| 0 | 1 |  68 |\n",
       "| 0 | 0 |  88 |\n",
       "| 1 | 1 | 100 |\n",
       "| 0 | 0 |  68 |\n",
       "| 0 | 1 |  75 |\n",
       "| 0 | 0 |  80 |\n",
       "| 0 | 0 |  68 |\n",
       "| 1 | 1 |  91 |\n",
       "\n"
      ],
      "text/plain": [
       "   TetnoSpocz Palacz Waga\n",
       "1  1          1       82 \n",
       "2  1          0       93 \n",
       "3  0          0       82 \n",
       "4  0          0       85 \n",
       "5  1          0       95 \n",
       "6  0          1       91 \n",
       "7  1          0       93 \n",
       "8  0          0       87 \n",
       "9  0          0       84 \n",
       "10 0          1       66 \n",
       "11 1          1       93 \n",
       "12 0          0       88 \n",
       "13 0          1       75 \n",
       "14 0          0       77 \n",
       "15 1          0       94 \n",
       "16 0          0       83 \n",
       "17 1          1      102 \n",
       "18 1          0      113 \n",
       "19 0          0       78 \n",
       "20 0          1       84 \n",
       "21 0          1       75 \n",
       "22 0          0       77 \n",
       "23 1          0       64 \n",
       "24 1          0       94 \n",
       "25 0          1       88 \n",
       "26 0          0       82 \n",
       "27 1          0       98 \n",
       "28 1          0       91 \n",
       "29 0          1       90 \n",
       "30 1          0      118 \n",
       "⋮  ⋮          ⋮      ⋮   \n",
       "40 1          1       84 \n",
       "41 0          0       86 \n",
       "42 0          1       60 \n",
       "43 0          0       83 \n",
       "44 1          0      118 \n",
       "45 0          0       76 \n",
       "46 0          0       70 \n",
       "47 0          0       82 \n",
       "48 0          0       79 \n",
       "49 0          1       82 \n",
       "50 0          1       78 \n",
       "51 0          1       75 \n",
       "52 1          0      104 \n",
       "53 0          1       51 \n",
       "54 0          1       59 \n",
       "55 0          0       86 \n",
       "56 0          1       57 \n",
       "57 0          1       91 \n",
       "58 1          1      113 \n",
       "59 0          0       78 \n",
       "60 1          0       91 \n",
       "61 1          0      111 \n",
       "62 0          1       68 \n",
       "63 0          0       88 \n",
       "64 1          1      100 \n",
       "65 0          0       68 \n",
       "66 0          1       75 \n",
       "67 0          0       80 \n",
       "68 0          0       68 \n",
       "69 1          1       91 "
      ]
     },
     "metadata": {},
     "output_type": "display_data"
    }
   ],
   "source": [
    "uczacy<-uczacy[,-4]\n",
    "uczacy"
   ]
  },
  {
   "cell_type": "code",
   "execution_count": 300,
   "id": "e73ba2b2",
   "metadata": {
    "scrolled": true
   },
   "outputs": [
    {
     "data": {
      "text/html": [
       "<table class=\"dataframe\">\n",
       "<caption>A data.table: 23 × 3</caption>\n",
       "<thead>\n",
       "\t<tr><th scope=col>TetnoSpocz</th><th scope=col>Palacz</th><th scope=col>Waga</th></tr>\n",
       "\t<tr><th scope=col>&lt;chr&gt;</th><th scope=col>&lt;int&gt;</th><th scope=col>&lt;int&gt;</th></tr>\n",
       "</thead>\n",
       "<tbody>\n",
       "\t<tr><td>0</td><td>0</td><td> 68</td></tr>\n",
       "\t<tr><td>0</td><td>0</td><td> 68</td></tr>\n",
       "\t<tr><td>0</td><td>1</td><td> 68</td></tr>\n",
       "\t<tr><td>0</td><td>0</td><td> 69</td></tr>\n",
       "\t<tr><td>0</td><td>0</td><td> 79</td></tr>\n",
       "\t<tr><td>0</td><td>0</td><td> 82</td></tr>\n",
       "\t<tr><td>0</td><td>0</td><td> 82</td></tr>\n",
       "\t<tr><td>0</td><td>0</td><td> 84</td></tr>\n",
       "\t<tr><td>0</td><td>0</td><td> 85</td></tr>\n",
       "\t<tr><td>0</td><td>0</td><td> 86</td></tr>\n",
       "\t<tr><td>0</td><td>0</td><td> 88</td></tr>\n",
       "\t<tr><td>0</td><td>0</td><td> 88</td></tr>\n",
       "\t<tr><td>0</td><td>0</td><td> 88</td></tr>\n",
       "\t<tr><td>0</td><td>0</td><td> 88</td></tr>\n",
       "\t<tr><td>1</td><td>0</td><td> 91</td></tr>\n",
       "\t<tr><td>1</td><td>1</td><td> 95</td></tr>\n",
       "\t<tr><td>1</td><td>1</td><td> 95</td></tr>\n",
       "\t<tr><td>1</td><td>0</td><td>102</td></tr>\n",
       "\t<tr><td>1</td><td>1</td><td>108</td></tr>\n",
       "\t<tr><td>1</td><td>0</td><td>111</td></tr>\n",
       "\t<tr><td>1</td><td>0</td><td> 54</td></tr>\n",
       "\t<tr><td>1</td><td>0</td><td> 55</td></tr>\n",
       "\t<tr><td>1</td><td>0</td><td> 59</td></tr>\n",
       "</tbody>\n",
       "</table>\n"
      ],
      "text/latex": [
       "A data.table: 23 × 3\n",
       "\\begin{tabular}{lll}\n",
       " TetnoSpocz & Palacz & Waga\\\\\n",
       " <chr> & <int> & <int>\\\\\n",
       "\\hline\n",
       "\t 0 & 0 &  68\\\\\n",
       "\t 0 & 0 &  68\\\\\n",
       "\t 0 & 1 &  68\\\\\n",
       "\t 0 & 0 &  69\\\\\n",
       "\t 0 & 0 &  79\\\\\n",
       "\t 0 & 0 &  82\\\\\n",
       "\t 0 & 0 &  82\\\\\n",
       "\t 0 & 0 &  84\\\\\n",
       "\t 0 & 0 &  85\\\\\n",
       "\t 0 & 0 &  86\\\\\n",
       "\t 0 & 0 &  88\\\\\n",
       "\t 0 & 0 &  88\\\\\n",
       "\t 0 & 0 &  88\\\\\n",
       "\t 0 & 0 &  88\\\\\n",
       "\t 1 & 0 &  91\\\\\n",
       "\t 1 & 1 &  95\\\\\n",
       "\t 1 & 1 &  95\\\\\n",
       "\t 1 & 0 & 102\\\\\n",
       "\t 1 & 1 & 108\\\\\n",
       "\t 1 & 0 & 111\\\\\n",
       "\t 1 & 0 &  54\\\\\n",
       "\t 1 & 0 &  55\\\\\n",
       "\t 1 & 0 &  59\\\\\n",
       "\\end{tabular}\n"
      ],
      "text/markdown": [
       "\n",
       "A data.table: 23 × 3\n",
       "\n",
       "| TetnoSpocz &lt;chr&gt; | Palacz &lt;int&gt; | Waga &lt;int&gt; |\n",
       "|---|---|---|\n",
       "| 0 | 0 |  68 |\n",
       "| 0 | 0 |  68 |\n",
       "| 0 | 1 |  68 |\n",
       "| 0 | 0 |  69 |\n",
       "| 0 | 0 |  79 |\n",
       "| 0 | 0 |  82 |\n",
       "| 0 | 0 |  82 |\n",
       "| 0 | 0 |  84 |\n",
       "| 0 | 0 |  85 |\n",
       "| 0 | 0 |  86 |\n",
       "| 0 | 0 |  88 |\n",
       "| 0 | 0 |  88 |\n",
       "| 0 | 0 |  88 |\n",
       "| 0 | 0 |  88 |\n",
       "| 1 | 0 |  91 |\n",
       "| 1 | 1 |  95 |\n",
       "| 1 | 1 |  95 |\n",
       "| 1 | 0 | 102 |\n",
       "| 1 | 1 | 108 |\n",
       "| 1 | 0 | 111 |\n",
       "| 1 | 0 |  54 |\n",
       "| 1 | 0 |  55 |\n",
       "| 1 | 0 |  59 |\n",
       "\n"
      ],
      "text/plain": [
       "   TetnoSpocz Palacz Waga\n",
       "1  0          0       68 \n",
       "2  0          0       68 \n",
       "3  0          1       68 \n",
       "4  0          0       69 \n",
       "5  0          0       79 \n",
       "6  0          0       82 \n",
       "7  0          0       82 \n",
       "8  0          0       84 \n",
       "9  0          0       85 \n",
       "10 0          0       86 \n",
       "11 0          0       88 \n",
       "12 0          0       88 \n",
       "13 0          0       88 \n",
       "14 0          0       88 \n",
       "15 1          0       91 \n",
       "16 1          1       95 \n",
       "17 1          1       95 \n",
       "18 1          0      102 \n",
       "19 1          1      108 \n",
       "20 1          0      111 \n",
       "21 1          0       54 \n",
       "22 1          0       55 \n",
       "23 1          0       59 "
      ]
     },
     "metadata": {},
     "output_type": "display_data"
    }
   ],
   "source": [
    "testowy<-testowy[,-4]\n",
    "testowy"
   ]
  },
  {
   "cell_type": "code",
   "execution_count": 301,
   "id": "ae2c8dca",
   "metadata": {
    "scrolled": true
   },
   "outputs": [],
   "source": [
    "uczacy$TetnoSpocz<-as.numeric(uczacy$TetnoSpocz)"
   ]
  },
  {
   "cell_type": "code",
   "execution_count": 302,
   "id": "66a1b876",
   "metadata": {},
   "outputs": [],
   "source": [
    "testowy$TetnoSpocz<-as.numeric(testowy$TetnoSpocz)"
   ]
  },
  {
   "cell_type": "code",
   "execution_count": 303,
   "id": "690d520d",
   "metadata": {},
   "outputs": [
    {
     "name": "stdout",
     "output_type": "stream",
     "text": [
      "Classes 'data.table' and 'data.frame':\t23 obs. of  3 variables:\n",
      " $ TetnoSpocz: num  0 0 0 0 0 0 0 0 0 0 ...\n",
      " $ Palacz    : int  0 0 1 0 0 0 0 0 0 0 ...\n",
      " $ Waga      : int  68 68 68 69 79 82 82 84 85 86 ...\n",
      " - attr(*, \".internal.selfref\")=<externalptr> \n"
     ]
    }
   ],
   "source": [
    "str(testowy)"
   ]
  },
  {
   "cell_type": "code",
   "execution_count": 304,
   "id": "69a03f21",
   "metadata": {},
   "outputs": [
    {
     "name": "stdout",
     "output_type": "stream",
     "text": [
      "Classes 'data.table' and 'data.frame':\t69 obs. of  3 variables:\n",
      " $ TetnoSpocz: num  1 1 0 0 1 0 1 0 0 0 ...\n",
      " $ Palacz    : int  1 0 0 0 0 1 0 0 0 1 ...\n",
      " $ Waga      : int  82 93 82 85 95 91 93 87 84 66 ...\n",
      " - attr(*, \".internal.selfref\")=<externalptr> \n"
     ]
    }
   ],
   "source": [
    "str(uczacy)"
   ]
  },
  {
   "cell_type": "code",
   "execution_count": 305,
   "id": "a0b1de67",
   "metadata": {},
   "outputs": [
    {
     "data": {
      "text/plain": [
       "\n",
       "Call:\n",
       "glm(formula = TetnoSpocz ~ ., family = binomial(), data = uczacy)\n",
       "\n",
       "Deviance Residuals: \n",
       "    Min       1Q   Median       3Q      Max  \n",
       "-1.1502  -0.7188  -0.4512   0.3833   3.4551  \n",
       "\n",
       "Coefficients:\n",
       "             Estimate Std. Error z value Pr(>|z|)    \n",
       "(Intercept) -12.47329    3.36131  -3.711 0.000207 ***\n",
       "Palacz        0.07272    0.67925   0.107 0.914746    \n",
       "Waga          0.13556    0.03821   3.548 0.000388 ***\n",
       "---\n",
       "Signif. codes:  0 '***' 0.001 '**' 0.01 '*' 0.05 '.' 0.1 ' ' 1\n",
       "\n",
       "(Dispersion parameter for binomial family taken to be 1)\n",
       "\n",
       "    Null deviance: 86.387  on 68  degrees of freedom\n",
       "Residual deviance: 60.380  on 66  degrees of freedom\n",
       "AIC: 66.38\n",
       "\n",
       "Number of Fisher Scoring iterations: 5\n"
      ]
     },
     "metadata": {},
     "output_type": "display_data"
    }
   ],
   "source": [
    "model_glm = glm(TetnoSpocz ~ ., data = uczacy, family = binomial())\n",
    "summary(model_glm)"
   ]
  },
  {
   "cell_type": "markdown",
   "id": "e627ae49",
   "metadata": {},
   "source": [
    "### iii)\n",
    "Stosując krokową procedurę wyboru modelu zdecyduj, które zmienne powinny pozostać w modelu"
   ]
  },
  {
   "cell_type": "code",
   "execution_count": 306,
   "id": "66fe5519",
   "metadata": {
    "scrolled": true
   },
   "outputs": [
    {
     "data": {
      "text/plain": [
       "\n",
       "Call:\n",
       "glm(formula = TetnoSpocz ~ . - Palacz, family = binomial(), data = uczacy)\n",
       "\n",
       "Deviance Residuals: \n",
       "    Min       1Q   Median       3Q      Max  \n",
       "-1.1295  -0.7264  -0.4410   0.3792   3.4476  \n",
       "\n",
       "Coefficients:\n",
       "             Estimate Std. Error z value Pr(>|z|)    \n",
       "(Intercept) -12.44417    3.35665  -3.707 0.000209 ***\n",
       "Waga          0.13550    0.03829   3.539 0.000402 ***\n",
       "---\n",
       "Signif. codes:  0 '***' 0.001 '**' 0.01 '*' 0.05 '.' 0.1 ' ' 1\n",
       "\n",
       "(Dispersion parameter for binomial family taken to be 1)\n",
       "\n",
       "    Null deviance: 86.387  on 68  degrees of freedom\n",
       "Residual deviance: 60.391  on 67  degrees of freedom\n",
       "AIC: 64.391\n",
       "\n",
       "Number of Fisher Scoring iterations: 5\n"
      ]
     },
     "metadata": {},
     "output_type": "display_data"
    }
   ],
   "source": [
    "model_glm = glm(TetnoSpocz ~ . -Palacz, data = uczacy, family = binomial())\n",
    "summary(model_glm)"
   ]
  },
  {
   "cell_type": "markdown",
   "id": "258b1f58",
   "metadata": {},
   "source": [
    "### Interpretacja\n",
    "- Zmienna istotna statystycznie to waga."
   ]
  },
  {
   "cell_type": "markdown",
   "id": "936f2d97",
   "metadata": {},
   "source": [
    "### iv)\n",
    "Dopasuj model regresji logistycznej bazując na podzbiorze uczącym, uwzględniający interakcję pomiędzy zmiennymi objaśniającymi."
   ]
  },
  {
   "cell_type": "code",
   "execution_count": 307,
   "id": "e054a937",
   "metadata": {
    "scrolled": true
   },
   "outputs": [
    {
     "data": {
      "text/plain": [
       "\n",
       "Call:\n",
       "glm(formula = TetnoSpocz ~ Palacz + Waga + Palacz * Waga, family = binomial(), \n",
       "    data = uczacy)\n",
       "\n",
       "Deviance Residuals: \n",
       "    Min       1Q   Median       3Q      Max  \n",
       "-1.2439  -0.7171  -0.3454   0.4513   3.1713  \n",
       "\n",
       "Coefficients:\n",
       "             Estimate Std. Error z value Pr(>|z|)   \n",
       "(Intercept) -10.37951    3.68422  -2.817  0.00484 **\n",
       "Palacz       -7.43227    8.68049  -0.856  0.39188   \n",
       "Waga          0.11162    0.04189   2.665  0.00771 **\n",
       "Palacz:Waga   0.08582    0.09854   0.871  0.38380   \n",
       "---\n",
       "Signif. codes:  0 '***' 0.001 '**' 0.01 '*' 0.05 '.' 0.1 ' ' 1\n",
       "\n",
       "(Dispersion parameter for binomial family taken to be 1)\n",
       "\n",
       "    Null deviance: 86.387  on 68  degrees of freedom\n",
       "Residual deviance: 59.460  on 65  degrees of freedom\n",
       "AIC: 67.46\n",
       "\n",
       "Number of Fisher Scoring iterations: 6\n"
      ]
     },
     "metadata": {},
     "output_type": "display_data"
    }
   ],
   "source": [
    "model_inter = glm(TetnoSpocz ~ Palacz + Waga + Palacz*Waga, data = uczacy, family = binomial())\n",
    "summary(model_inter)"
   ]
  },
  {
   "cell_type": "markdown",
   "id": "c5e396e4",
   "metadata": {},
   "source": [
    "### Interpretacja\n",
    "- Waga pozostaje istotna statystycznie."
   ]
  },
  {
   "cell_type": "markdown",
   "id": "6aef2160",
   "metadata": {},
   "source": [
    "### v)\n",
    "Przeanalizuj modele zawierające jako zmienne objaśniające następujące zestawy zmiennych:\n",
    "- M1: Palacz, Waga, Palacz*Waga\n",
    "- M2: Waga, Palacz*Waga\n",
    "- M3: Palacz, Palacz*Waga\n",
    "- M4: Palacz*Waga\n",
    "- Który z tych modeli zawiera tylko istotne zmienne objaśniające?"
   ]
  },
  {
   "cell_type": "code",
   "execution_count": 308,
   "id": "43cf3817",
   "metadata": {},
   "outputs": [
    {
     "data": {
      "text/plain": [
       "\n",
       "Call:\n",
       "glm(formula = TetnoSpocz ~ Waga + Palacz:Waga, family = binomial(), \n",
       "    data = uczacy)\n",
       "\n",
       "Deviance Residuals: \n",
       "    Min       1Q   Median       3Q      Max  \n",
       "-1.1690  -0.7133  -0.4574   0.3892   3.4550  \n",
       "\n",
       "Coefficients:\n",
       "              Estimate Std. Error z value Pr(>|z|)    \n",
       "(Intercept) -12.448335   3.342990  -3.724 0.000196 ***\n",
       "Waga          0.135053   0.038176   3.538 0.000404 ***\n",
       "Waga:Palacz   0.001526   0.007756   0.197 0.844066    \n",
       "---\n",
       "Signif. codes:  0 '***' 0.001 '**' 0.01 '*' 0.05 '.' 0.1 ' ' 1\n",
       "\n",
       "(Dispersion parameter for binomial family taken to be 1)\n",
       "\n",
       "    Null deviance: 86.387  on 68  degrees of freedom\n",
       "Residual deviance: 60.352  on 66  degrees of freedom\n",
       "AIC: 66.352\n",
       "\n",
       "Number of Fisher Scoring iterations: 5\n"
      ]
     },
     "metadata": {},
     "output_type": "display_data"
    }
   ],
   "source": [
    "model_1 = glm(TetnoSpocz ~ Waga + Palacz:Waga, data = uczacy, family = binomial())\n",
    "summary(model_1)"
   ]
  },
  {
   "cell_type": "code",
   "execution_count": 309,
   "id": "31eaf0b3",
   "metadata": {},
   "outputs": [
    {
     "data": {
      "text/plain": [
       "\n",
       "Call:\n",
       "glm(formula = TetnoSpocz ~ Palacz + Palacz:Waga, family = binomial(), \n",
       "    data = uczacy)\n",
       "\n",
       "Deviance Residuals: \n",
       "    Min       1Q   Median       3Q      Max  \n",
       "-1.2439  -0.9263  -0.4144   1.1123   1.8985  \n",
       "\n",
       "Coefficients:\n",
       "             Estimate Std. Error z value Pr(>|z|)  \n",
       "(Intercept)  -0.62415    0.31997  -1.951   0.0511 .\n",
       "Palacz      -17.18763    7.86637  -2.185   0.0289 *\n",
       "Palacz:Waga   0.19744    0.08919   2.214   0.0269 *\n",
       "---\n",
       "Signif. codes:  0 '***' 0.001 '**' 0.01 '*' 0.05 '.' 0.1 ' ' 1\n",
       "\n",
       "(Dispersion parameter for binomial family taken to be 1)\n",
       "\n",
       "    Null deviance: 86.387  on 68  degrees of freedom\n",
       "Residual deviance: 71.767  on 66  degrees of freedom\n",
       "AIC: 77.767\n",
       "\n",
       "Number of Fisher Scoring iterations: 6\n"
      ]
     },
     "metadata": {},
     "output_type": "display_data"
    }
   ],
   "source": [
    "model_2 = glm(TetnoSpocz ~ Palacz + Palacz:Waga, data = uczacy, family = binomial())\n",
    "summary(model_2)"
   ]
  },
  {
   "cell_type": "code",
   "execution_count": 310,
   "id": "28def9f1",
   "metadata": {
    "scrolled": true
   },
   "outputs": [
    {
     "data": {
      "text/plain": [
       "\n",
       "Call:\n",
       "glm(formula = TetnoSpocz ~ Palacz:Waga, family = binomial(), \n",
       "    data = uczacy)\n",
       "\n",
       "Deviance Residuals: \n",
       "    Min       1Q   Median       3Q      Max  \n",
       "-0.8872  -0.8802  -0.8710   1.4985   1.5186  \n",
       "\n",
       "Coefficients:\n",
       "              Estimate Std. Error z value Pr(>|z|)  \n",
       "(Intercept) -0.7736852  0.3244220  -2.385   0.0171 *\n",
       "Palacz:Waga  0.0004885  0.0065453   0.075   0.9405  \n",
       "---\n",
       "Signif. codes:  0 '***' 0.001 '**' 0.01 '*' 0.05 '.' 0.1 ' ' 1\n",
       "\n",
       "(Dispersion parameter for binomial family taken to be 1)\n",
       "\n",
       "    Null deviance: 86.387  on 68  degrees of freedom\n",
       "Residual deviance: 86.381  on 67  degrees of freedom\n",
       "AIC: 90.381\n",
       "\n",
       "Number of Fisher Scoring iterations: 4\n"
      ]
     },
     "metadata": {},
     "output_type": "display_data"
    }
   ],
   "source": [
    "model_3 = glm(TetnoSpocz ~ Palacz:Waga, data = uczacy, family = binomial())\n",
    "summary(model_3)"
   ]
  },
  {
   "cell_type": "markdown",
   "id": "5ccc7260",
   "metadata": {},
   "source": [
    "### Interpretacja\n",
    "- Model zawierający zmienne Palacz oraz interakcję Palacz:Waga jest wykazuje większą istotność statystyczną niż reszta modeli."
   ]
  },
  {
   "cell_type": "markdown",
   "id": "d2564858",
   "metadata": {},
   "source": [
    "### vi)\n",
    "Dla pełnego modelu bez interakcji i modelu wskazanego w punkcie (v) skonstruuj klasyfikatory w oparciu o próbę uczącą. Przedstaw na rysunku klasyfikację dokonaną przez oba klasyfikatory. Wyznacz błąd klasyfikacji na próbie testowej."
   ]
  },
  {
   "cell_type": "code",
   "execution_count": 311,
   "id": "12e3f321",
   "metadata": {},
   "outputs": [
    {
     "data": {
      "image/png": "[encoded data removed]",
      "text/plain": [
       "plot without title"
      ]
     },
     "metadata": {
      "image/png": {
       "height": 420,
       "width": 420
      }
     },
     "output_type": "display_data"
    }
   ],
   "source": [
    "y = predict(model_glm, newdata = testowy)\n",
    "\n",
    "plot(y, pch = 19, col = testowy$TetnoSpocz + 1)\n",
    "legend(\"topleft\", c(\"TetnoSpocz = 0\", \"TetnoSpocz = 1\"), pch = 19, col = c(1, 2))"
   ]
  },
  {
   "cell_type": "code",
   "execution_count": 312,
   "id": "215ef248",
   "metadata": {},
   "outputs": [
    {
     "data": {
      "image/png": "[encoded data removed]",
      "text/plain": [
       "plot without title"
      ]
     },
     "metadata": {
      "image/png": {
       "height": 420,
       "width": 420
      }
     },
     "output_type": "display_data"
    }
   ],
   "source": [
    "y_1 = predict(model_2, newdata = testowy)\n",
    "\n",
    "plot(y_1, pch = 19, col = testowy$TetnoSpocz + 1)\n",
    "legend(\"topleft\", c(\"TetnoSpocz = 0\", \"TetnoSpocz = 1\"), pch = 19, col = c(1, 2))"
   ]
  },
  {
   "cell_type": "code",
   "execution_count": 313,
   "id": "b5cb10a9",
   "metadata": {},
   "outputs": [
    {
     "data": {
      "text/plain": [
       "    predicted\n",
       "true  0  1\n",
       "   0 14  0\n",
       "   1  4  5"
      ]
     },
     "metadata": {},
     "output_type": "display_data"
    },
    {
     "data": {
      "text/html": [
       "17.3913043478261"
      ],
      "text/latex": [
       "17.3913043478261"
      ],
      "text/markdown": [
       "17.3913043478261"
      ],
      "text/plain": [
       "[1] 17.3913"
      ]
     },
     "metadata": {},
     "output_type": "display_data"
    }
   ],
   "source": [
    "pred_values = predict(model_glm, newdata = testowy, type = \"response\")\n",
    "pred_values[pred_values < 0.5] = 0\n",
    "pred_values[pred_values >= 0.5] = 1\n",
    "\n",
    "(T = table(true = testowy$TetnoSpocz, predicted = pred_values))\n",
    "(blad_predykcji = (1 - sum(diag(T)) / sum(T))*100)"
   ]
  },
  {
   "cell_type": "markdown",
   "id": "30a4a5f2",
   "metadata": {},
   "source": [
    "### Interpretacja\n",
    "- Łącznie 4 obserwacje zostały źle zaklasyfikowane.\n",
    "- Błąd klasyfikacji wynosi 17.39."
   ]
  },
  {
   "cell_type": "code",
   "execution_count": 314,
   "id": "f55d2342",
   "metadata": {
    "scrolled": true
   },
   "outputs": [
    {
     "data": {
      "text/plain": [
       "    predicted\n",
       "true 0 1\n",
       "   0 9 5\n",
       "   1 3 6"
      ]
     },
     "metadata": {},
     "output_type": "display_data"
    },
    {
     "data": {
      "text/html": [
       "34.7826086956522"
      ],
      "text/latex": [
       "34.7826086956522"
      ],
      "text/markdown": [
       "34.7826086956522"
      ],
      "text/plain": [
       "[1] 34.78261"
      ]
     },
     "metadata": {},
     "output_type": "display_data"
    }
   ],
   "source": [
    "p = 0.3\n",
    "\n",
    "pred_values = predict(model_glm, newdata = testowy, type = \"response\")\n",
    "pred_values[pred_values < p] = 0\n",
    "pred_values[pred_values >= p] = 1\n",
    "\n",
    "(T = table(true = testowy$TetnoSpocz, predicted = pred_values))\n",
    "(blad_predykcji = (1 - sum(diag(T)) / sum(T))*100)"
   ]
  },
  {
   "cell_type": "code",
   "execution_count": 315,
   "id": "51c7cd3d",
   "metadata": {
    "scrolled": true
   },
   "outputs": [
    {
     "data": {
      "text/plain": [
       "    predicted\n",
       "true  0  1\n",
       "   0 14  0\n",
       "   1  6  3"
      ]
     },
     "metadata": {},
     "output_type": "display_data"
    },
    {
     "data": {
      "text/html": [
       "26.0869565217391"
      ],
      "text/latex": [
       "26.0869565217391"
      ],
      "text/markdown": [
       "26.0869565217391"
      ],
      "text/plain": [
       "[1] 26.08696"
      ]
     },
     "metadata": {},
     "output_type": "display_data"
    }
   ],
   "source": [
    "pred_values = predict(model_2, newdata = testowy, type = \"response\")\n",
    "pred_values[pred_values < 0.5] = 0\n",
    "pred_values[pred_values >= 0.5] = 1\n",
    "\n",
    "(T = table(true = testowy$TetnoSpocz, predicted = pred_values))\n",
    "(blad_predykcji = (1 - sum(diag(T)) / sum(T))*100)"
   ]
  },
  {
   "cell_type": "markdown",
   "id": "60a2268d",
   "metadata": {},
   "source": [
    "### Interpretacja\n",
    "- Łącznie 6 obserwacje zostały źle zaklasyfikowane.\n",
    "- Błąd klasyfikacji wynosi 26.09."
   ]
  },
  {
   "cell_type": "code",
   "execution_count": 316,
   "id": "2ef39b8a",
   "metadata": {},
   "outputs": [
    {
     "data": {
      "text/plain": [
       "    predicted\n",
       "true  0  1\n",
       "   0  1 13\n",
       "   1  0  9"
      ]
     },
     "metadata": {},
     "output_type": "display_data"
    },
    {
     "data": {
      "text/html": [
       "56.5217391304348"
      ],
      "text/latex": [
       "56.5217391304348"
      ],
      "text/markdown": [
       "56.5217391304348"
      ],
      "text/plain": [
       "[1] 56.52174"
      ]
     },
     "metadata": {},
     "output_type": "display_data"
    }
   ],
   "source": [
    "p = 0.3\n",
    "\n",
    "pred_values = predict(model_2, newdata = testowy, type = \"response\")\n",
    "pred_values[pred_values < p] = 0\n",
    "pred_values[pred_values >= p] = 1\n",
    "\n",
    "(T = table(true = testowy$TetnoSpocz, predicted = pred_values))\n",
    "(blad_predykcji = (1 - sum(diag(T)) / sum(T))*100)"
   ]
  },
  {
   "cell_type": "markdown",
   "id": "a39cc38a",
   "metadata": {},
   "source": [
    "### vii)\n",
    "Skonstruuj klasyfikatory w oparciu o metodę LDA bazując na próbie uczącej oraz porównaj ich błędy klasyfikacji na próbie testowej z błędami klasyfikacji klasyfikatorów opartych na regresji logistycznej. Skomentuj uzyskane wyniki."
   ]
  },
  {
   "cell_type": "code",
   "execution_count": 317,
   "id": "a728d86f",
   "metadata": {},
   "outputs": [
    {
     "data": {
      "text/plain": [
       "Call:\n",
       "lda(TetnoSpocz ~ . - Palacz, data = uczacy)\n",
       "\n",
       "Prior probabilities of groups:\n",
       "        0         1 \n",
       "0.6811594 0.3188406 \n",
       "\n",
       "Group means:\n",
       "      Waga\n",
       "0 77.80851\n",
       "1 95.00000\n",
       "\n",
       "Coefficients of linear discriminants:\n",
       "            LD1\n",
       "Waga 0.08049156"
      ]
     },
     "metadata": {},
     "output_type": "display_data"
    }
   ],
   "source": [
    "model_LDA = lda(TetnoSpocz ~ . -Palacz, data = uczacy)\n",
    "model_LDA"
   ]
  },
  {
   "cell_type": "code",
   "execution_count": 318,
   "id": "ec01ff6c",
   "metadata": {},
   "outputs": [
    {
     "data": {
      "text/plain": [
       "    predicted\n",
       "true  0  1\n",
       "   0 14  0\n",
       "   1  4  5"
      ]
     },
     "metadata": {},
     "output_type": "display_data"
    },
    {
     "data": {
      "text/html": [
       "17.3913043478261"
      ],
      "text/latex": [
       "17.3913043478261"
      ],
      "text/markdown": [
       "17.3913043478261"
      ],
      "text/plain": [
       "[1] 17.3913"
      ]
     },
     "metadata": {},
     "output_type": "display_data"
    }
   ],
   "source": [
    "pred_values_LDA = predict(model_LDA, newdata= testowy)$class\n",
    "(T_LDA = table(true = testowy$TetnoSpocz, predicted = pred_values_LDA))\n",
    "(blad_predykcji_LDA = (1 - sum(diag(T_LDA)) / sum(T_LDA))*100)"
   ]
  },
  {
   "cell_type": "markdown",
   "id": "4e4314a7",
   "metadata": {},
   "source": [
    "# Lista 6"
   ]
  },
  {
   "cell_type": "markdown",
   "id": "199664ba",
   "metadata": {},
   "source": [
    "# Zadanie 10, L6"
   ]
  },
  {
   "cell_type": "markdown",
   "id": "b5ba8cc2",
   "metadata": {},
   "source": [
    "Dla danych z powyższego ćwiczenia przeprowadź analizę\n",
    "dyskryminacyjną korzystając z funkcji qda w pakiecie MASS. Prawdopodobień\u0002stwa a priori przynależności do klas przyjmij jako równe 1/2"
   ]
  },
  {
   "cell_type": "code",
   "execution_count": 319,
   "id": "70ce2e63",
   "metadata": {},
   "outputs": [
    {
     "data": {
      "text/html": [
       "<table class=\"dataframe\">\n",
       "<caption>A data.frame: 6 × 3</caption>\n",
       "<thead>\n",
       "\t<tr><th></th><th scope=col>income</th><th scope=col>lotsize</th><th scope=col>owner</th></tr>\n",
       "\t<tr><th></th><th scope=col>&lt;dbl&gt;</th><th scope=col>&lt;dbl&gt;</th><th scope=col>&lt;int&gt;</th></tr>\n",
       "</thead>\n",
       "<tbody>\n",
       "\t<tr><th scope=row>1</th><td>20.0</td><td> 9.2</td><td>1</td></tr>\n",
       "\t<tr><th scope=row>2</th><td>28.5</td><td> 8.4</td><td>1</td></tr>\n",
       "\t<tr><th scope=row>3</th><td>21.6</td><td>10.8</td><td>1</td></tr>\n",
       "\t<tr><th scope=row>4</th><td>20.5</td><td>10.4</td><td>1</td></tr>\n",
       "\t<tr><th scope=row>5</th><td>29.0</td><td>11.8</td><td>1</td></tr>\n",
       "\t<tr><th scope=row>6</th><td>36.7</td><td> 9.6</td><td>1</td></tr>\n",
       "</tbody>\n",
       "</table>\n"
      ],
      "text/latex": [
       "A data.frame: 6 × 3\n",
       "\\begin{tabular}{r|lll}\n",
       "  & income & lotsize & owner\\\\\n",
       "  & <dbl> & <dbl> & <int>\\\\\n",
       "\\hline\n",
       "\t1 & 20.0 &  9.2 & 1\\\\\n",
       "\t2 & 28.5 &  8.4 & 1\\\\\n",
       "\t3 & 21.6 & 10.8 & 1\\\\\n",
       "\t4 & 20.5 & 10.4 & 1\\\\\n",
       "\t5 & 29.0 & 11.8 & 1\\\\\n",
       "\t6 & 36.7 &  9.6 & 1\\\\\n",
       "\\end{tabular}\n"
      ],
      "text/markdown": [
       "\n",
       "A data.frame: 6 × 3\n",
       "\n",
       "| <!--/--> | income &lt;dbl&gt; | lotsize &lt;dbl&gt; | owner &lt;int&gt; |\n",
       "|---|---|---|---|\n",
       "| 1 | 20.0 |  9.2 | 1 |\n",
       "| 2 | 28.5 |  8.4 | 1 |\n",
       "| 3 | 21.6 | 10.8 | 1 |\n",
       "| 4 | 20.5 | 10.4 | 1 |\n",
       "| 5 | 29.0 | 11.8 | 1 |\n",
       "| 6 | 36.7 |  9.6 | 1 |\n",
       "\n"
      ],
      "text/plain": [
       "  income lotsize owner\n",
       "1 20.0    9.2    1    \n",
       "2 28.5    8.4    1    \n",
       "3 21.6   10.8    1    \n",
       "4 20.5   10.4    1    \n",
       "5 29.0   11.8    1    \n",
       "6 36.7    9.6    1    "
      ]
     },
     "metadata": {},
     "output_type": "display_data"
    },
    {
     "data": {
      "text/html": [
       "24"
      ],
      "text/latex": [
       "24"
      ],
      "text/markdown": [
       "24"
      ],
      "text/plain": [
       "[1] 24"
      ]
     },
     "metadata": {},
     "output_type": "display_data"
    }
   ],
   "source": [
    "dane = read.table(\"http://theta.edu.pl/wp-content/uploads/2018/03/dane_kosiarki-1.txt\", header = TRUE)\n",
    "head(dane)\n",
    "nrow(dane)"
   ]
  },
  {
   "cell_type": "markdown",
   "id": "8c5d66d9",
   "metadata": {},
   "source": [
    "### i)\n",
    "Jakie są średnie wartości w grupach?"
   ]
  },
  {
   "cell_type": "code",
   "execution_count": 320,
   "id": "ae232d23",
   "metadata": {},
   "outputs": [],
   "source": [
    "posiada = dane[dane$owner == 1, 1:2]\n",
    "nie_posiada = dane[dane$owner == 2, 1:2]"
   ]
  },
  {
   "cell_type": "code",
   "execution_count": 321,
   "id": "140b1eb1",
   "metadata": {},
   "outputs": [
    {
     "data": {
      "text/html": [
       "<style>\n",
       ".dl-inline {width: auto; margin:0; padding: 0}\n",
       ".dl-inline>dt, .dl-inline>dd {float: none; width: auto; display: inline-block}\n",
       ".dl-inline>dt::after {content: \":\\0020\"; padding-right: .5ex}\n",
       ".dl-inline>dt:not(:first-of-type) {padding-left: .5ex}\n",
       "</style><dl class=dl-inline><dt>income</dt><dd>26.4916666666667</dd><dt>lotsize</dt><dd>10.1333333333333</dd></dl>\n"
      ],
      "text/latex": [
       "\\begin{description*}\n",
       "\\item[income] 26.4916666666667\n",
       "\\item[lotsize] 10.1333333333333\n",
       "\\end{description*}\n"
      ],
      "text/markdown": [
       "income\n",
       ":   26.4916666666667lotsize\n",
       ":   10.1333333333333\n",
       "\n"
      ],
      "text/plain": [
       "  income  lotsize \n",
       "26.49167 10.13333 "
      ]
     },
     "metadata": {},
     "output_type": "display_data"
    },
    {
     "data": {
      "text/html": [
       "<style>\n",
       ".dl-inline {width: auto; margin:0; padding: 0}\n",
       ".dl-inline>dt, .dl-inline>dd {float: none; width: auto; display: inline-block}\n",
       ".dl-inline>dt::after {content: \":\\0020\"; padding-right: .5ex}\n",
       ".dl-inline>dt:not(:first-of-type) {padding-left: .5ex}\n",
       "</style><dl class=dl-inline><dt>income</dt><dd>19.1333333333333</dd><dt>lotsize</dt><dd>8.81666666666667</dd></dl>\n"
      ],
      "text/latex": [
       "\\begin{description*}\n",
       "\\item[income] 19.1333333333333\n",
       "\\item[lotsize] 8.81666666666667\n",
       "\\end{description*}\n"
      ],
      "text/markdown": [
       "income\n",
       ":   19.1333333333333lotsize\n",
       ":   8.81666666666667\n",
       "\n"
      ],
      "text/plain": [
       "   income   lotsize \n",
       "19.133333  8.816667 "
      ]
     },
     "metadata": {},
     "output_type": "display_data"
    }
   ],
   "source": [
    "(posiada_mean = colMeans(posiada))\n",
    "(nie_posiada_mean = colMeans(nie_posiada))"
   ]
  },
  {
   "cell_type": "markdown",
   "id": "75bd2b44",
   "metadata": {},
   "source": [
    "### ii)\n",
    "Przeprowadź predykcję przynależności do klas na zbiorze testowym."
   ]
  },
  {
   "cell_type": "code",
   "execution_count": 322,
   "id": "6b8239b2",
   "metadata": {},
   "outputs": [
    {
     "data": {
      "text/html": [
       "18"
      ],
      "text/latex": [
       "18"
      ],
      "text/markdown": [
       "18"
      ],
      "text/plain": [
       "[1] 18"
      ]
     },
     "metadata": {},
     "output_type": "display_data"
    }
   ],
   "source": [
    "uczacy = sample_frac(dane, 0.75)\n",
    "nrow(uczacy)"
   ]
  },
  {
   "cell_type": "code",
   "execution_count": 323,
   "id": "b742aed0",
   "metadata": {},
   "outputs": [
    {
     "name": "stderr",
     "output_type": "stream",
     "text": [
      "\u001b[1m\u001b[22mJoining with `by = join_by(income, lotsize, owner)`\n"
     ]
    },
    {
     "data": {
      "text/html": [
       "6"
      ],
      "text/latex": [
       "6"
      ],
      "text/markdown": [
       "6"
      ],
      "text/plain": [
       "[1] 6"
      ]
     },
     "metadata": {},
     "output_type": "display_data"
    }
   ],
   "source": [
    "testowy = anti_join(dane, uczacy)\n",
    "nrow(testowy)"
   ]
  },
  {
   "cell_type": "code",
   "execution_count": 324,
   "id": "9b007e92",
   "metadata": {},
   "outputs": [
    {
     "data": {
      "text/plain": [
       "Call:\n",
       "lda(owner ~ ., data = testowy, prior = c(0.5, 0.5))\n",
       "\n",
       "Prior probabilities of groups:\n",
       "  1   2 \n",
       "0.5 0.5 \n",
       "\n",
       "Group means:\n",
       "  income lotsize\n",
       "1  33.85    10.0\n",
       "2  15.70     9.5\n",
       "\n",
       "Coefficients of linear discriminants:\n",
       "               LD1\n",
       "income  -0.2898022\n",
       "lotsize -0.6272737"
      ]
     },
     "metadata": {},
     "output_type": "display_data"
    }
   ],
   "source": [
    "model_lda = lda(owner ~., data = testowy , prior = c(0.5,0.5))\n",
    "model_lda"
   ]
  },
  {
   "cell_type": "code",
   "execution_count": 325,
   "id": "fad7cf29",
   "metadata": {},
   "outputs": [
    {
     "data": {
      "text/html": [
       "<dl>\n",
       "\t<dt>$class</dt>\n",
       "\t\t<dd><style>\n",
       ".list-inline {list-style: none; margin:0; padding: 0}\n",
       ".list-inline>li {display: inline-block}\n",
       ".list-inline>li:not(:last-child)::after {content: \"\\00b7\"; padding: 0 .5ex}\n",
       "</style>\n",
       "<ol class=list-inline><li>1</li><li>1</li><li>2</li><li>2</li><li>2</li><li>2</li></ol>\n",
       "\n",
       "<details>\n",
       "\t<summary style=display:list-item;cursor:pointer>\n",
       "\t\t<strong>Levels</strong>:\n",
       "\t</summary>\n",
       "\t<style>\n",
       "\t.list-inline {list-style: none; margin:0; padding: 0}\n",
       "\t.list-inline>li {display: inline-block}\n",
       "\t.list-inline>li:not(:last-child)::after {content: \"\\00b7\"; padding: 0 .5ex}\n",
       "\t</style>\n",
       "\t<ol class=list-inline><li>'1'</li><li>'2'</li></ol>\n",
       "</details></dd>\n",
       "\t<dt>$posterior</dt>\n",
       "\t\t<dd><table class=\"dataframe\">\n",
       "<caption>A matrix: 6 × 2 of type dbl</caption>\n",
       "<thead>\n",
       "\t<tr><th></th><th scope=col>1</th><th scope=col>2</th></tr>\n",
       "</thead>\n",
       "<tbody>\n",
       "\t<tr><th scope=row>1</th><td>1.000000e+00</td><td>7.287148e-09</td></tr>\n",
       "\t<tr><th scope=row>2</th><td>9.999956e-01</td><td>4.429255e-06</td></tr>\n",
       "\t<tr><th scope=row>3</th><td>8.989677e-05</td><td>9.999101e-01</td></tr>\n",
       "\t<tr><th scope=row>4</th><td>2.543102e-07</td><td>9.999997e-01</td></tr>\n",
       "\t<tr><th scope=row>5</th><td>7.128493e-07</td><td>9.999993e-01</td></tr>\n",
       "\t<tr><th scope=row>6</th><td>6.391979e-11</td><td>1.000000e+00</td></tr>\n",
       "</tbody>\n",
       "</table>\n",
       "</dd>\n",
       "\t<dt>$x</dt>\n",
       "\t\t<dd><table class=\"dataframe\">\n",
       "<caption>A matrix: 6 × 1 of type dbl</caption>\n",
       "<thead>\n",
       "\t<tr><th></th><th scope=col>LD1</th></tr>\n",
       "</thead>\n",
       "<tbody>\n",
       "\t<tr><th scope=row>1</th><td>-3.361800</td></tr>\n",
       "\t<tr><th scope=row>2</th><td>-2.211747</td></tr>\n",
       "\t<tr><th scope=row>3</th><td> 1.671603</td></tr>\n",
       "\t<tr><th scope=row>4</th><td> 2.724425</td></tr>\n",
       "\t<tr><th scope=row>5</th><td> 2.539495</td></tr>\n",
       "\t<tr><th scope=row>6</th><td> 4.211571</td></tr>\n",
       "</tbody>\n",
       "</table>\n",
       "</dd>\n",
       "</dl>\n"
      ],
      "text/latex": [
       "\\begin{description}\n",
       "\\item[\\$class] \\begin{enumerate*}\n",
       "\\item 1\n",
       "\\item 1\n",
       "\\item 2\n",
       "\\item 2\n",
       "\\item 2\n",
       "\\item 2\n",
       "\\end{enumerate*}\n",
       "\n",
       "\\emph{Levels}: \\begin{enumerate*}\n",
       "\\item '1'\n",
       "\\item '2'\n",
       "\\end{enumerate*}\n",
       "\n",
       "\\item[\\$posterior] A matrix: 6 × 2 of type dbl\n",
       "\\begin{tabular}{r|ll}\n",
       "  & 1 & 2\\\\\n",
       "\\hline\n",
       "\t1 & 1.000000e+00 & 7.287148e-09\\\\\n",
       "\t2 & 9.999956e-01 & 4.429255e-06\\\\\n",
       "\t3 & 8.989677e-05 & 9.999101e-01\\\\\n",
       "\t4 & 2.543102e-07 & 9.999997e-01\\\\\n",
       "\t5 & 7.128493e-07 & 9.999993e-01\\\\\n",
       "\t6 & 6.391979e-11 & 1.000000e+00\\\\\n",
       "\\end{tabular}\n",
       "\n",
       "\\item[\\$x] A matrix: 6 × 1 of type dbl\n",
       "\\begin{tabular}{r|l}\n",
       "  & LD1\\\\\n",
       "\\hline\n",
       "\t1 & -3.361800\\\\\n",
       "\t2 & -2.211747\\\\\n",
       "\t3 &  1.671603\\\\\n",
       "\t4 &  2.724425\\\\\n",
       "\t5 &  2.539495\\\\\n",
       "\t6 &  4.211571\\\\\n",
       "\\end{tabular}\n",
       "\n",
       "\\end{description}\n"
      ],
      "text/markdown": [
       "$class\n",
       ":   1. 1\n",
       "2. 1\n",
       "3. 2\n",
       "4. 2\n",
       "5. 2\n",
       "6. 2\n",
       "\n",
       "\n",
       "\n",
       "**Levels**: 1. '1'\n",
       "2. '2'\n",
       "\n",
       "\n",
       "\n",
       "$posterior\n",
       ":   \n",
       "A matrix: 6 × 2 of type dbl\n",
       "\n",
       "| <!--/--> | 1 | 2 |\n",
       "|---|---|---|\n",
       "| 1 | 1.000000e+00 | 7.287148e-09 |\n",
       "| 2 | 9.999956e-01 | 4.429255e-06 |\n",
       "| 3 | 8.989677e-05 | 9.999101e-01 |\n",
       "| 4 | 2.543102e-07 | 9.999997e-01 |\n",
       "| 5 | 7.128493e-07 | 9.999993e-01 |\n",
       "| 6 | 6.391979e-11 | 1.000000e+00 |\n",
       "\n",
       "\n",
       "$x\n",
       ":   \n",
       "A matrix: 6 × 1 of type dbl\n",
       "\n",
       "| <!--/--> | LD1 |\n",
       "|---|---|\n",
       "| 1 | -3.361800 |\n",
       "| 2 | -2.211747 |\n",
       "| 3 |  1.671603 |\n",
       "| 4 |  2.724425 |\n",
       "| 5 |  2.539495 |\n",
       "| 6 |  4.211571 |\n",
       "\n",
       "\n",
       "\n",
       "\n"
      ],
      "text/plain": [
       "$class\n",
       "[1] 1 1 2 2 2 2\n",
       "Levels: 1 2\n",
       "\n",
       "$posterior\n",
       "             1            2\n",
       "1 1.000000e+00 7.287148e-09\n",
       "2 9.999956e-01 4.429255e-06\n",
       "3 8.989677e-05 9.999101e-01\n",
       "4 2.543102e-07 9.999997e-01\n",
       "5 7.128493e-07 9.999993e-01\n",
       "6 6.391979e-11 1.000000e+00\n",
       "\n",
       "$x\n",
       "        LD1\n",
       "1 -3.361800\n",
       "2 -2.211747\n",
       "3  1.671603\n",
       "4  2.724425\n",
       "5  2.539495\n",
       "6  4.211571\n"
      ]
     },
     "metadata": {},
     "output_type": "display_data"
    }
   ],
   "source": [
    "pred_lda = predict(model_lda)\n",
    "pred_lda"
   ]
  },
  {
   "cell_type": "markdown",
   "id": "a6e6441e",
   "metadata": {},
   "source": [
    "### iii)\n",
    "Jakie są prawdopodobieństwa przynależności do klas dla dziesiątej obserwacji?"
   ]
  },
  {
   "cell_type": "code",
   "execution_count": 326,
   "id": "2902fe01",
   "metadata": {},
   "outputs": [
    {
     "data": {
      "text/plain": [
       "Call:\n",
       "lda(owner ~ ., data = dane, prior = c(0.5, 0.5))\n",
       "\n",
       "Prior probabilities of groups:\n",
       "  1   2 \n",
       "0.5 0.5 \n",
       "\n",
       "Group means:\n",
       "    income   lotsize\n",
       "1 26.49167 10.133333\n",
       "2 19.13333  8.816667\n",
       "\n",
       "Coefficients of linear discriminants:\n",
       "               LD1\n",
       "income  -0.1453404\n",
       "lotsize -0.7590457"
      ]
     },
     "metadata": {},
     "output_type": "display_data"
    }
   ],
   "source": [
    "model_lda = lda(owner ~., data = dane , prior = c(0.5,0.5))\n",
    "model_lda"
   ]
  },
  {
   "cell_type": "code",
   "execution_count": 327,
   "id": "d40f3e73",
   "metadata": {
    "scrolled": true
   },
   "outputs": [
    {
     "data": {
      "text/html": [
       "<dl>\n",
       "\t<dt>$class</dt>\n",
       "\t\t<dd><style>\n",
       ".list-inline {list-style: none; margin:0; padding: 0}\n",
       ".list-inline>li {display: inline-block}\n",
       ".list-inline>li:not(:last-child)::after {content: \"\\00b7\"; padding: 0 .5ex}\n",
       "</style>\n",
       "<ol class=list-inline><li>2</li><li>1</li><li>1</li><li>1</li><li>1</li><li>1</li><li>1</li><li>1</li><li>1</li><li>1</li><li>1</li><li>1</li><li>1</li><li>2</li><li>2</li><li>2</li><li>1</li><li>2</li><li>2</li><li>2</li><li>2</li><li>2</li><li>2</li><li>2</li></ol>\n",
       "\n",
       "<details>\n",
       "\t<summary style=display:list-item;cursor:pointer>\n",
       "\t\t<strong>Levels</strong>:\n",
       "\t</summary>\n",
       "\t<style>\n",
       "\t.list-inline {list-style: none; margin:0; padding: 0}\n",
       "\t.list-inline>li {display: inline-block}\n",
       "\t.list-inline>li:not(:last-child)::after {content: \"\\00b7\"; padding: 0 .5ex}\n",
       "\t</style>\n",
       "\t<ol class=list-inline><li>'1'</li><li>'2'</li></ol>\n",
       "</details></dd>\n",
       "\t<dt>$posterior</dt>\n",
       "\t\t<dd><table class=\"dataframe\">\n",
       "<caption>A matrix: 24 × 2 of type dbl</caption>\n",
       "<thead>\n",
       "\t<tr><th></th><th scope=col>1</th><th scope=col>2</th></tr>\n",
       "</thead>\n",
       "<tbody>\n",
       "\t<tr><th scope=row>1</th><td>0.217968446</td><td>0.78203155</td></tr>\n",
       "\t<tr><th scope=row>2</th><td>0.505507885</td><td>0.49449211</td></tr>\n",
       "\t<tr><th scope=row>3</th><td>0.847632493</td><td>0.15236751</td></tr>\n",
       "\t<tr><th scope=row>4</th><td>0.680755073</td><td>0.31924493</td></tr>\n",
       "\t<tr><th scope=row>5</th><td>0.995976750</td><td>0.00402325</td></tr>\n",
       "\t<tr><th scope=row>6</th><td>0.987533203</td><td>0.01246680</td></tr>\n",
       "\t<tr><th scope=row>7</th><td>0.948110866</td><td>0.05188913</td></tr>\n",
       "\t<tr><th scope=row>8</th><td>0.984456467</td><td>0.01554353</td></tr>\n",
       "\t<tr><th scope=row>9</th><td>0.706992840</td><td>0.29300716</td></tr>\n",
       "\t<tr><th scope=row>10</th><td>0.980439689</td><td>0.01956031</td></tr>\n",
       "\t<tr><th scope=row>11</th><td>0.656344803</td><td>0.34365520</td></tr>\n",
       "\t<tr><th scope=row>12</th><td>0.889297671</td><td>0.11070233</td></tr>\n",
       "\t<tr><th scope=row>13</th><td>0.762807097</td><td>0.23719290</td></tr>\n",
       "\t<tr><th scope=row>14</th><td>0.471341530</td><td>0.52865847</td></tr>\n",
       "\t<tr><th scope=row>15</th><td>0.149483096</td><td>0.85051690</td></tr>\n",
       "\t<tr><th scope=row>16</th><td>0.199241067</td><td>0.80075893</td></tr>\n",
       "\t<tr><th scope=row>17</th><td>0.622420495</td><td>0.37757951</td></tr>\n",
       "\t<tr><th scope=row>18</th><td>0.038341510</td><td>0.96165849</td></tr>\n",
       "\t<tr><th scope=row>19</th><td>0.337118228</td><td>0.66288177</td></tr>\n",
       "\t<tr><th scope=row>20</th><td>0.016129950</td><td>0.98387005</td></tr>\n",
       "\t<tr><th scope=row>21</th><td>0.024851077</td><td>0.97514892</td></tr>\n",
       "\t<tr><th scope=row>22</th><td>0.003559993</td><td>0.99644001</td></tr>\n",
       "\t<tr><th scope=row>23</th><td>0.047962735</td><td>0.95203727</td></tr>\n",
       "\t<tr><th scope=row>24</th><td>0.021806086</td><td>0.97819391</td></tr>\n",
       "</tbody>\n",
       "</table>\n",
       "</dd>\n",
       "\t<dt>$x</dt>\n",
       "\t\t<dd><table class=\"dataframe\">\n",
       "<caption>A matrix: 24 × 1 of type dbl</caption>\n",
       "<thead>\n",
       "\t<tr><th></th><th scope=col>LD1</th></tr>\n",
       "</thead>\n",
       "<tbody>\n",
       "\t<tr><th scope=row>1</th><td> 0.61750748</td></tr>\n",
       "\t<tr><th scope=row>2</th><td>-0.01064948</td></tr>\n",
       "\t<tr><th scope=row>3</th><td>-0.82951029</td></tr>\n",
       "\t<tr><th scope=row>4</th><td>-0.36601756</td></tr>\n",
       "\t<tr><th scope=row>5</th><td>-2.66407504</td></tr>\n",
       "\t<tr><th scope=row>6</th><td>-2.11329570</td></tr>\n",
       "\t<tr><th scope=row>7</th><td>-1.40432086</td></tr>\n",
       "\t<tr><th scope=row>8</th><td>-2.00517105</td></tr>\n",
       "\t<tr><th scope=row>9</th><td>-0.42575032</td></tr>\n",
       "\t<tr><th scope=row>10</th><td>-1.89209190</td></tr>\n",
       "\t<tr><th scope=row>11</th><td>-0.31275353</td></tr>\n",
       "\t<tr><th scope=row>12</th><td>-1.00711197</td></tr>\n",
       "\t<tr><th scope=row>13</th><td>-0.56462200</td></tr>\n",
       "\t<tr><th scope=row>14</th><td> 0.05546964</td></tr>\n",
       "\t<tr><th scope=row>15</th><td> 0.84039023</td></tr>\n",
       "\t<tr><th scope=row>16</th><td> 0.67236810</td></tr>\n",
       "\t<tr><th scope=row>17</th><td>-0.24159755</td></tr>\n",
       "\t<tr><th scope=row>18</th><td> 1.55743039</td></tr>\n",
       "\t<tr><th scope=row>19</th><td> 0.32682665</td></tr>\n",
       "\t<tr><th scope=row>20</th><td> 1.98698291</td></tr>\n",
       "\t<tr><th scope=row>21</th><td> 1.77376206</td></tr>\n",
       "\t<tr><th scope=row>22</th><td> 2.72342924</td></tr>\n",
       "\t<tr><th scope=row>23</th><td> 1.44435124</td></tr>\n",
       "\t<tr><th scope=row>24</th><td> 1.83844931</td></tr>\n",
       "</tbody>\n",
       "</table>\n",
       "</dd>\n",
       "</dl>\n"
      ],
      "text/latex": [
       "\\begin{description}\n",
       "\\item[\\$class] \\begin{enumerate*}\n",
       "\\item 2\n",
       "\\item 1\n",
       "\\item 1\n",
       "\\item 1\n",
       "\\item 1\n",
       "\\item 1\n",
       "\\item 1\n",
       "\\item 1\n",
       "\\item 1\n",
       "\\item 1\n",
       "\\item 1\n",
       "\\item 1\n",
       "\\item 1\n",
       "\\item 2\n",
       "\\item 2\n",
       "\\item 2\n",
       "\\item 1\n",
       "\\item 2\n",
       "\\item 2\n",
       "\\item 2\n",
       "\\item 2\n",
       "\\item 2\n",
       "\\item 2\n",
       "\\item 2\n",
       "\\end{enumerate*}\n",
       "\n",
       "\\emph{Levels}: \\begin{enumerate*}\n",
       "\\item '1'\n",
       "\\item '2'\n",
       "\\end{enumerate*}\n",
       "\n",
       "\\item[\\$posterior] A matrix: 24 × 2 of type dbl\n",
       "\\begin{tabular}{r|ll}\n",
       "  & 1 & 2\\\\\n",
       "\\hline\n",
       "\t1 & 0.217968446 & 0.78203155\\\\\n",
       "\t2 & 0.505507885 & 0.49449211\\\\\n",
       "\t3 & 0.847632493 & 0.15236751\\\\\n",
       "\t4 & 0.680755073 & 0.31924493\\\\\n",
       "\t5 & 0.995976750 & 0.00402325\\\\\n",
       "\t6 & 0.987533203 & 0.01246680\\\\\n",
       "\t7 & 0.948110866 & 0.05188913\\\\\n",
       "\t8 & 0.984456467 & 0.01554353\\\\\n",
       "\t9 & 0.706992840 & 0.29300716\\\\\n",
       "\t10 & 0.980439689 & 0.01956031\\\\\n",
       "\t11 & 0.656344803 & 0.34365520\\\\\n",
       "\t12 & 0.889297671 & 0.11070233\\\\\n",
       "\t13 & 0.762807097 & 0.23719290\\\\\n",
       "\t14 & 0.471341530 & 0.52865847\\\\\n",
       "\t15 & 0.149483096 & 0.85051690\\\\\n",
       "\t16 & 0.199241067 & 0.80075893\\\\\n",
       "\t17 & 0.622420495 & 0.37757951\\\\\n",
       "\t18 & 0.038341510 & 0.96165849\\\\\n",
       "\t19 & 0.337118228 & 0.66288177\\\\\n",
       "\t20 & 0.016129950 & 0.98387005\\\\\n",
       "\t21 & 0.024851077 & 0.97514892\\\\\n",
       "\t22 & 0.003559993 & 0.99644001\\\\\n",
       "\t23 & 0.047962735 & 0.95203727\\\\\n",
       "\t24 & 0.021806086 & 0.97819391\\\\\n",
       "\\end{tabular}\n",
       "\n",
       "\\item[\\$x] A matrix: 24 × 1 of type dbl\n",
       "\\begin{tabular}{r|l}\n",
       "  & LD1\\\\\n",
       "\\hline\n",
       "\t1 &  0.61750748\\\\\n",
       "\t2 & -0.01064948\\\\\n",
       "\t3 & -0.82951029\\\\\n",
       "\t4 & -0.36601756\\\\\n",
       "\t5 & -2.66407504\\\\\n",
       "\t6 & -2.11329570\\\\\n",
       "\t7 & -1.40432086\\\\\n",
       "\t8 & -2.00517105\\\\\n",
       "\t9 & -0.42575032\\\\\n",
       "\t10 & -1.89209190\\\\\n",
       "\t11 & -0.31275353\\\\\n",
       "\t12 & -1.00711197\\\\\n",
       "\t13 & -0.56462200\\\\\n",
       "\t14 &  0.05546964\\\\\n",
       "\t15 &  0.84039023\\\\\n",
       "\t16 &  0.67236810\\\\\n",
       "\t17 & -0.24159755\\\\\n",
       "\t18 &  1.55743039\\\\\n",
       "\t19 &  0.32682665\\\\\n",
       "\t20 &  1.98698291\\\\\n",
       "\t21 &  1.77376206\\\\\n",
       "\t22 &  2.72342924\\\\\n",
       "\t23 &  1.44435124\\\\\n",
       "\t24 &  1.83844931\\\\\n",
       "\\end{tabular}\n",
       "\n",
       "\\end{description}\n"
      ],
      "text/markdown": [
       "$class\n",
       ":   1. 2\n",
       "2. 1\n",
       "3. 1\n",
       "4. 1\n",
       "5. 1\n",
       "6. 1\n",
       "7. 1\n",
       "8. 1\n",
       "9. 1\n",
       "10. 1\n",
       "11. 1\n",
       "12. 1\n",
       "13. 1\n",
       "14. 2\n",
       "15. 2\n",
       "16. 2\n",
       "17. 1\n",
       "18. 2\n",
       "19. 2\n",
       "20. 2\n",
       "21. 2\n",
       "22. 2\n",
       "23. 2\n",
       "24. 2\n",
       "\n",
       "\n",
       "\n",
       "**Levels**: 1. '1'\n",
       "2. '2'\n",
       "\n",
       "\n",
       "\n",
       "$posterior\n",
       ":   \n",
       "A matrix: 24 × 2 of type dbl\n",
       "\n",
       "| <!--/--> | 1 | 2 |\n",
       "|---|---|---|\n",
       "| 1 | 0.217968446 | 0.78203155 |\n",
       "| 2 | 0.505507885 | 0.49449211 |\n",
       "| 3 | 0.847632493 | 0.15236751 |\n",
       "| 4 | 0.680755073 | 0.31924493 |\n",
       "| 5 | 0.995976750 | 0.00402325 |\n",
       "| 6 | 0.987533203 | 0.01246680 |\n",
       "| 7 | 0.948110866 | 0.05188913 |\n",
       "| 8 | 0.984456467 | 0.01554353 |\n",
       "| 9 | 0.706992840 | 0.29300716 |\n",
       "| 10 | 0.980439689 | 0.01956031 |\n",
       "| 11 | 0.656344803 | 0.34365520 |\n",
       "| 12 | 0.889297671 | 0.11070233 |\n",
       "| 13 | 0.762807097 | 0.23719290 |\n",
       "| 14 | 0.471341530 | 0.52865847 |\n",
       "| 15 | 0.149483096 | 0.85051690 |\n",
       "| 16 | 0.199241067 | 0.80075893 |\n",
       "| 17 | 0.622420495 | 0.37757951 |\n",
       "| 18 | 0.038341510 | 0.96165849 |\n",
       "| 19 | 0.337118228 | 0.66288177 |\n",
       "| 20 | 0.016129950 | 0.98387005 |\n",
       "| 21 | 0.024851077 | 0.97514892 |\n",
       "| 22 | 0.003559993 | 0.99644001 |\n",
       "| 23 | 0.047962735 | 0.95203727 |\n",
       "| 24 | 0.021806086 | 0.97819391 |\n",
       "\n",
       "\n",
       "$x\n",
       ":   \n",
       "A matrix: 24 × 1 of type dbl\n",
       "\n",
       "| <!--/--> | LD1 |\n",
       "|---|---|\n",
       "| 1 |  0.61750748 |\n",
       "| 2 | -0.01064948 |\n",
       "| 3 | -0.82951029 |\n",
       "| 4 | -0.36601756 |\n",
       "| 5 | -2.66407504 |\n",
       "| 6 | -2.11329570 |\n",
       "| 7 | -1.40432086 |\n",
       "| 8 | -2.00517105 |\n",
       "| 9 | -0.42575032 |\n",
       "| 10 | -1.89209190 |\n",
       "| 11 | -0.31275353 |\n",
       "| 12 | -1.00711197 |\n",
       "| 13 | -0.56462200 |\n",
       "| 14 |  0.05546964 |\n",
       "| 15 |  0.84039023 |\n",
       "| 16 |  0.67236810 |\n",
       "| 17 | -0.24159755 |\n",
       "| 18 |  1.55743039 |\n",
       "| 19 |  0.32682665 |\n",
       "| 20 |  1.98698291 |\n",
       "| 21 |  1.77376206 |\n",
       "| 22 |  2.72342924 |\n",
       "| 23 |  1.44435124 |\n",
       "| 24 |  1.83844931 |\n",
       "\n",
       "\n",
       "\n",
       "\n"
      ],
      "text/plain": [
       "$class\n",
       " [1] 2 1 1 1 1 1 1 1 1 1 1 1 1 2 2 2 1 2 2 2 2 2 2 2\n",
       "Levels: 1 2\n",
       "\n",
       "$posterior\n",
       "             1          2\n",
       "1  0.217968446 0.78203155\n",
       "2  0.505507885 0.49449211\n",
       "3  0.847632493 0.15236751\n",
       "4  0.680755073 0.31924493\n",
       "5  0.995976750 0.00402325\n",
       "6  0.987533203 0.01246680\n",
       "7  0.948110866 0.05188913\n",
       "8  0.984456467 0.01554353\n",
       "9  0.706992840 0.29300716\n",
       "10 0.980439689 0.01956031\n",
       "11 0.656344803 0.34365520\n",
       "12 0.889297671 0.11070233\n",
       "13 0.762807097 0.23719290\n",
       "14 0.471341530 0.52865847\n",
       "15 0.149483096 0.85051690\n",
       "16 0.199241067 0.80075893\n",
       "17 0.622420495 0.37757951\n",
       "18 0.038341510 0.96165849\n",
       "19 0.337118228 0.66288177\n",
       "20 0.016129950 0.98387005\n",
       "21 0.024851077 0.97514892\n",
       "22 0.003559993 0.99644001\n",
       "23 0.047962735 0.95203727\n",
       "24 0.021806086 0.97819391\n",
       "\n",
       "$x\n",
       "           LD1\n",
       "1   0.61750748\n",
       "2  -0.01064948\n",
       "3  -0.82951029\n",
       "4  -0.36601756\n",
       "5  -2.66407504\n",
       "6  -2.11329570\n",
       "7  -1.40432086\n",
       "8  -2.00517105\n",
       "9  -0.42575032\n",
       "10 -1.89209190\n",
       "11 -0.31275353\n",
       "12 -1.00711197\n",
       "13 -0.56462200\n",
       "14  0.05546964\n",
       "15  0.84039023\n",
       "16  0.67236810\n",
       "17 -0.24159755\n",
       "18  1.55743039\n",
       "19  0.32682665\n",
       "20  1.98698291\n",
       "21  1.77376206\n",
       "22  2.72342924\n",
       "23  1.44435124\n",
       "24  1.83844931\n"
      ]
     },
     "metadata": {},
     "output_type": "display_data"
    }
   ],
   "source": [
    "pred_lda = predict(model_lda)\n",
    "pred_lda"
   ]
  },
  {
   "cell_type": "code",
   "execution_count": 328,
   "id": "4c0d4eae",
   "metadata": {},
   "outputs": [
    {
     "data": {
      "text/html": [
       "<style>\n",
       ".dl-inline {width: auto; margin:0; padding: 0}\n",
       ".dl-inline>dt, .dl-inline>dd {float: none; width: auto; display: inline-block}\n",
       ".dl-inline>dt::after {content: \":\\0020\"; padding-right: .5ex}\n",
       ".dl-inline>dt:not(:first-of-type) {padding-left: .5ex}\n",
       "</style><dl class=dl-inline><dt>1</dt><dd>0.980439688641296</dd><dt>2</dt><dd>0.0195603113587043</dd></dl>\n"
      ],
      "text/latex": [
       "\\begin{description*}\n",
       "\\item[1] 0.980439688641296\n",
       "\\item[2] 0.0195603113587043\n",
       "\\end{description*}\n"
      ],
      "text/markdown": [
       "1\n",
       ":   0.9804396886412962\n",
       ":   0.0195603113587043\n",
       "\n"
      ],
      "text/plain": [
       "         1          2 \n",
       "0.98043969 0.01956031 "
      ]
     },
     "metadata": {},
     "output_type": "display_data"
    }
   ],
   "source": [
    "pred_lda$posterior[10,]"
   ]
  },
  {
   "cell_type": "markdown",
   "id": "fe483c97",
   "metadata": {},
   "source": [
    "### iv)\n",
    "Do której z klas zostanie zaklasyfikowana ta obserwacja?"
   ]
  },
  {
   "cell_type": "code",
   "execution_count": 329,
   "id": "821d7260",
   "metadata": {},
   "outputs": [
    {
     "data": {
      "text/html": [
       "1\n",
       "<details>\n",
       "\t<summary style=display:list-item;cursor:pointer>\n",
       "\t\t<strong>Levels</strong>:\n",
       "\t</summary>\n",
       "\t<style>\n",
       "\t.list-inline {list-style: none; margin:0; padding: 0}\n",
       "\t.list-inline>li {display: inline-block}\n",
       "\t.list-inline>li:not(:last-child)::after {content: \"\\00b7\"; padding: 0 .5ex}\n",
       "\t</style>\n",
       "\t<ol class=list-inline><li>'1'</li><li>'2'</li></ol>\n",
       "</details>"
      ],
      "text/latex": [
       "1\n",
       "\\emph{Levels}: \\begin{enumerate*}\n",
       "\\item '1'\n",
       "\\item '2'\n",
       "\\end{enumerate*}\n"
      ],
      "text/markdown": [
       "1\n",
       "**Levels**: 1. '1'\n",
       "2. '2'\n",
       "\n",
       "\n"
      ],
      "text/plain": [
       "[1] 1\n",
       "Levels: 1 2"
      ]
     },
     "metadata": {},
     "output_type": "display_data"
    }
   ],
   "source": [
    "pred_lda$class[10]"
   ]
  },
  {
   "cell_type": "markdown",
   "id": "ccc42e37",
   "metadata": {},
   "source": [
    "###  v)\n",
    "Wyznacz procent właściwie zaklasyfikowanych obiektów."
   ]
  },
  {
   "cell_type": "code",
   "execution_count": 330,
   "id": "0124f58f",
   "metadata": {},
   "outputs": [
    {
     "data": {
      "text/html": [
       "87.5"
      ],
      "text/latex": [
       "87.5"
      ],
      "text/markdown": [
       "87.5"
      ],
      "text/plain": [
       "[1] 87.5"
      ]
     },
     "metadata": {},
     "output_type": "display_data"
    }
   ],
   "source": [
    "sum(pred_lda$class == dane$owner) / nrow(dane) * 100"
   ]
  },
  {
   "cell_type": "markdown",
   "id": "06658b7d",
   "metadata": {},
   "source": [
    "### vi)\n",
    "Przedstaw i skomentuj tabelę predykcji."
   ]
  },
  {
   "cell_type": "code",
   "execution_count": 331,
   "id": "71accbf3",
   "metadata": {},
   "outputs": [
    {
     "data": {
      "text/plain": [
       "    Predicted\n",
       "True  1  2\n",
       "   1 11  1\n",
       "   2  2 10"
      ]
     },
     "metadata": {},
     "output_type": "display_data"
    }
   ],
   "source": [
    "(T = table(True = dane$owner, Predicted = predict(model_lda)$class))"
   ]
  },
  {
   "cell_type": "markdown",
   "id": "b9c102b2",
   "metadata": {},
   "source": [
    "### Interpretacja\n",
    "- 3 obserwacje zostały nieprawidłowo zaklasyfikowane.\n",
    "- 12.5% obserwacji zostało źle zaklasyfikowane."
   ]
  },
  {
   "cell_type": "markdown",
   "id": "ad742e28",
   "metadata": {},
   "source": [
    "### vii)\n",
    "Przeprowadź procedurę kroswalidacji dla metody QDA i wyznacz procent właściwie zaklasyfikowanych obiektów oraz tabelę predykcji. Skomentuj uzyskane wyniki porównując z wynikiem uzyskanym w punktach v) i vi)."
   ]
  },
  {
   "cell_type": "code",
   "execution_count": 332,
   "id": "0c2a4578",
   "metadata": {
    "scrolled": true
   },
   "outputs": [
    {
     "data": {
      "text/plain": [
       "$class\n",
       " [1] 2 2 1 1 1 1 1 1 1 1 1 1 1 1 2 2 1 2 2 2 2 2 2 2\n",
       "Levels: 1 2\n",
       "\n",
       "$posterior\n",
       "             1           2\n",
       "1  0.106432356 0.893567644\n",
       "2  0.396327871 0.603672129\n",
       "3  0.782954490 0.217045510\n",
       "4  0.605425940 0.394574060\n",
       "5  0.972830795 0.027169205\n",
       "6  0.995511522 0.004488478\n",
       "7  0.980112500 0.019887500\n",
       "8  0.969145642 0.030854358\n",
       "9  0.634519059 0.365480941\n",
       "10 0.980867414 0.019132586\n",
       "11 0.565680501 0.434319499\n",
       "12 0.869669231 0.130330769\n",
       "13 0.826312929 0.173687071\n",
       "14 0.586217945 0.413782055\n",
       "15 0.122824394 0.877175606\n",
       "16 0.388506209 0.611493791\n",
       "17 0.853427940 0.146572060\n",
       "18 0.025111983 0.974888017\n",
       "19 0.310342950 0.689657050\n",
       "20 0.012526677 0.987473323\n",
       "21 0.106420218 0.893579782\n",
       "22 0.002905678 0.997094322\n",
       "23 0.044816177 0.955183823\n",
       "24 0.014085943 0.985914057\n",
       "\n",
       "$terms\n",
       "owner ~ income + lotsize\n",
       "attr(,\"variables\")\n",
       "list(owner, income, lotsize)\n",
       "attr(,\"factors\")\n",
       "        income lotsize\n",
       "owner        0       0\n",
       "income       1       0\n",
       "lotsize      0       1\n",
       "attr(,\"term.labels\")\n",
       "[1] \"income\"  \"lotsize\"\n",
       "attr(,\"order\")\n",
       "[1] 1 1\n",
       "attr(,\"intercept\")\n",
       "[1] 1\n",
       "attr(,\"response\")\n",
       "[1] 1\n",
       "attr(,\".Environment\")\n",
       "<environment: R_GlobalEnv>\n",
       "attr(,\"predvars\")\n",
       "list(owner, income, lotsize)\n",
       "attr(,\"dataClasses\")\n",
       "    owner    income   lotsize \n",
       "\"numeric\" \"numeric\" \"numeric\" \n",
       "\n",
       "$call\n",
       "qda(formula = owner ~ ., data = dane, prior = c(0.5, 0.5), CV = TRUE)\n",
       "\n",
       "$xlevels\n",
       "named list()\n"
      ]
     },
     "metadata": {},
     "output_type": "display_data"
    }
   ],
   "source": [
    "cross_val <- qda(owner ~ ., data = dane, prior = c(0.5, 0.5), CV = TRUE)\n",
    "cross_val"
   ]
  },
  {
   "cell_type": "code",
   "execution_count": 333,
   "id": "48314f84",
   "metadata": {},
   "outputs": [
    {
     "data": {
      "text/plain": [
       "    Predicted\n",
       "True  1  2\n",
       "   1 10  2\n",
       "   2  3  9"
      ]
     },
     "metadata": {},
     "output_type": "display_data"
    },
    {
     "data": {
      "text/html": [
       "79.1666666666667"
      ],
      "text/latex": [
       "79.1666666666667"
      ],
      "text/markdown": [
       "79.1666666666667"
      ],
      "text/plain": [
       "[1] 79.16667"
      ]
     },
     "metadata": {},
     "output_type": "display_data"
    },
    {
     "data": {
      "text/html": [
       "20.8333333333333"
      ],
      "text/latex": [
       "20.8333333333333"
      ],
      "text/markdown": [
       "20.8333333333333"
      ],
      "text/plain": [
       "[1] 20.83333"
      ]
     },
     "metadata": {},
     "output_type": "display_data"
    }
   ],
   "source": [
    "tabela = table(dane$owner, cross_val$class, dnn=c(\"True\",\"Predicted\"))\n",
    "tabela\n",
    "blad = (tabela[1,2] + tabela[2,1]) / (sum(tabela)) * 100\n",
    "100 - blad\n",
    "blad"
   ]
  },
  {
   "cell_type": "markdown",
   "id": "179111d8",
   "metadata": {},
   "source": [
    "### Interpretacja\n",
    "- Metoda LDA dopasowała obserwacje lepiej niż metoda QDA.\n",
    "- Metoda LDA osiągnęła 87.5% poprawności, a metoda QDA 79.17%."
   ]
  },
  {
   "cell_type": "markdown",
   "id": "7c8b18af",
   "metadata": {},
   "source": [
    "### viii)\n",
    "Jak zostanie zaklasyfikowana nowa obserwacja o wartościach X1 = 100, X2 = 22.5? Co to oznacza?"
   ]
  },
  {
   "cell_type": "code",
   "execution_count": 334,
   "id": "dd8946fd",
   "metadata": {},
   "outputs": [
    {
     "data": {
      "text/html": [
       "<table class=\"dataframe\">\n",
       "<caption>A data.frame: 24 × 3</caption>\n",
       "<thead>\n",
       "\t<tr><th scope=col>income</th><th scope=col>lotsize</th><th scope=col>owner</th></tr>\n",
       "\t<tr><th scope=col>&lt;dbl&gt;</th><th scope=col>&lt;dbl&gt;</th><th scope=col>&lt;int&gt;</th></tr>\n",
       "</thead>\n",
       "<tbody>\n",
       "\t<tr><td>20.0</td><td> 9.2</td><td>1</td></tr>\n",
       "\t<tr><td>28.5</td><td> 8.4</td><td>1</td></tr>\n",
       "\t<tr><td>21.6</td><td>10.8</td><td>1</td></tr>\n",
       "\t<tr><td>20.5</td><td>10.4</td><td>1</td></tr>\n",
       "\t<tr><td>29.0</td><td>11.8</td><td>1</td></tr>\n",
       "\t<tr><td>36.7</td><td> 9.6</td><td>1</td></tr>\n",
       "\t<tr><td>36.0</td><td> 8.8</td><td>1</td></tr>\n",
       "\t<tr><td>27.6</td><td>11.2</td><td>1</td></tr>\n",
       "\t<tr><td>23.0</td><td>10.0</td><td>1</td></tr>\n",
       "\t<tr><td>31.0</td><td>10.4</td><td>1</td></tr>\n",
       "\t<tr><td>17.0</td><td>11.0</td><td>1</td></tr>\n",
       "\t<tr><td>27.0</td><td>10.0</td><td>1</td></tr>\n",
       "\t<tr><td>25.0</td><td> 9.8</td><td>2</td></tr>\n",
       "\t<tr><td>17.6</td><td>10.4</td><td>2</td></tr>\n",
       "\t<tr><td>21.6</td><td> 8.6</td><td>2</td></tr>\n",
       "\t<tr><td>14.4</td><td>10.2</td><td>2</td></tr>\n",
       "\t<tr><td>28.0</td><td> 8.8</td><td>2</td></tr>\n",
       "\t<tr><td>19.8</td><td> 8.0</td><td>2</td></tr>\n",
       "\t<tr><td>22.0</td><td> 9.2</td><td>2</td></tr>\n",
       "\t<tr><td>15.8</td><td> 8.2</td><td>2</td></tr>\n",
       "\t<tr><td>11.0</td><td> 9.4</td><td>2</td></tr>\n",
       "\t<tr><td>17.0</td><td> 7.0</td><td>2</td></tr>\n",
       "\t<tr><td>16.4</td><td> 8.8</td><td>2</td></tr>\n",
       "\t<tr><td>21.0</td><td> 7.4</td><td>2</td></tr>\n",
       "</tbody>\n",
       "</table>\n"
      ],
      "text/latex": [
       "A data.frame: 24 × 3\n",
       "\\begin{tabular}{lll}\n",
       " income & lotsize & owner\\\\\n",
       " <dbl> & <dbl> & <int>\\\\\n",
       "\\hline\n",
       "\t 20.0 &  9.2 & 1\\\\\n",
       "\t 28.5 &  8.4 & 1\\\\\n",
       "\t 21.6 & 10.8 & 1\\\\\n",
       "\t 20.5 & 10.4 & 1\\\\\n",
       "\t 29.0 & 11.8 & 1\\\\\n",
       "\t 36.7 &  9.6 & 1\\\\\n",
       "\t 36.0 &  8.8 & 1\\\\\n",
       "\t 27.6 & 11.2 & 1\\\\\n",
       "\t 23.0 & 10.0 & 1\\\\\n",
       "\t 31.0 & 10.4 & 1\\\\\n",
       "\t 17.0 & 11.0 & 1\\\\\n",
       "\t 27.0 & 10.0 & 1\\\\\n",
       "\t 25.0 &  9.8 & 2\\\\\n",
       "\t 17.6 & 10.4 & 2\\\\\n",
       "\t 21.6 &  8.6 & 2\\\\\n",
       "\t 14.4 & 10.2 & 2\\\\\n",
       "\t 28.0 &  8.8 & 2\\\\\n",
       "\t 19.8 &  8.0 & 2\\\\\n",
       "\t 22.0 &  9.2 & 2\\\\\n",
       "\t 15.8 &  8.2 & 2\\\\\n",
       "\t 11.0 &  9.4 & 2\\\\\n",
       "\t 17.0 &  7.0 & 2\\\\\n",
       "\t 16.4 &  8.8 & 2\\\\\n",
       "\t 21.0 &  7.4 & 2\\\\\n",
       "\\end{tabular}\n"
      ],
      "text/markdown": [
       "\n",
       "A data.frame: 24 × 3\n",
       "\n",
       "| income &lt;dbl&gt; | lotsize &lt;dbl&gt; | owner &lt;int&gt; |\n",
       "|---|---|---|\n",
       "| 20.0 |  9.2 | 1 |\n",
       "| 28.5 |  8.4 | 1 |\n",
       "| 21.6 | 10.8 | 1 |\n",
       "| 20.5 | 10.4 | 1 |\n",
       "| 29.0 | 11.8 | 1 |\n",
       "| 36.7 |  9.6 | 1 |\n",
       "| 36.0 |  8.8 | 1 |\n",
       "| 27.6 | 11.2 | 1 |\n",
       "| 23.0 | 10.0 | 1 |\n",
       "| 31.0 | 10.4 | 1 |\n",
       "| 17.0 | 11.0 | 1 |\n",
       "| 27.0 | 10.0 | 1 |\n",
       "| 25.0 |  9.8 | 2 |\n",
       "| 17.6 | 10.4 | 2 |\n",
       "| 21.6 |  8.6 | 2 |\n",
       "| 14.4 | 10.2 | 2 |\n",
       "| 28.0 |  8.8 | 2 |\n",
       "| 19.8 |  8.0 | 2 |\n",
       "| 22.0 |  9.2 | 2 |\n",
       "| 15.8 |  8.2 | 2 |\n",
       "| 11.0 |  9.4 | 2 |\n",
       "| 17.0 |  7.0 | 2 |\n",
       "| 16.4 |  8.8 | 2 |\n",
       "| 21.0 |  7.4 | 2 |\n",
       "\n"
      ],
      "text/plain": [
       "   income lotsize owner\n",
       "1  20.0    9.2    1    \n",
       "2  28.5    8.4    1    \n",
       "3  21.6   10.8    1    \n",
       "4  20.5   10.4    1    \n",
       "5  29.0   11.8    1    \n",
       "6  36.7    9.6    1    \n",
       "7  36.0    8.8    1    \n",
       "8  27.6   11.2    1    \n",
       "9  23.0   10.0    1    \n",
       "10 31.0   10.4    1    \n",
       "11 17.0   11.0    1    \n",
       "12 27.0   10.0    1    \n",
       "13 25.0    9.8    2    \n",
       "14 17.6   10.4    2    \n",
       "15 21.6    8.6    2    \n",
       "16 14.4   10.2    2    \n",
       "17 28.0    8.8    2    \n",
       "18 19.8    8.0    2    \n",
       "19 22.0    9.2    2    \n",
       "20 15.8    8.2    2    \n",
       "21 11.0    9.4    2    \n",
       "22 17.0    7.0    2    \n",
       "23 16.4    8.8    2    \n",
       "24 21.0    7.4    2    "
      ]
     },
     "metadata": {},
     "output_type": "display_data"
    }
   ],
   "source": [
    "dane"
   ]
  },
  {
   "cell_type": "code",
   "execution_count": 335,
   "id": "b50605eb",
   "metadata": {},
   "outputs": [],
   "source": [
    "new_data <- data.frame(income = c(100), lotsize = c(22.5))"
   ]
  },
  {
   "cell_type": "code",
   "execution_count": 336,
   "id": "c0b5c657",
   "metadata": {},
   "outputs": [
    {
     "data": {
      "text/html": [
       "<dl>\n",
       "\t<dt>$class</dt>\n",
       "\t\t<dd>1\n",
       "<details>\n",
       "\t<summary style=display:list-item;cursor:pointer>\n",
       "\t\t<strong>Levels</strong>:\n",
       "\t</summary>\n",
       "\t<style>\n",
       "\t.list-inline {list-style: none; margin:0; padding: 0}\n",
       "\t.list-inline>li {display: inline-block}\n",
       "\t.list-inline>li:not(:last-child)::after {content: \"\\00b7\"; padding: 0 .5ex}\n",
       "\t</style>\n",
       "\t<ol class=list-inline><li>'1'</li><li>'2'</li></ol>\n",
       "</details></dd>\n",
       "\t<dt>$posterior</dt>\n",
       "\t\t<dd><table class=\"dataframe\">\n",
       "<caption>A matrix: 1 × 2 of type dbl</caption>\n",
       "<thead>\n",
       "\t<tr><th></th><th scope=col>1</th><th scope=col>2</th></tr>\n",
       "</thead>\n",
       "<tbody>\n",
       "\t<tr><th scope=row>1</th><td>1</td><td>1.089235e-19</td></tr>\n",
       "</tbody>\n",
       "</table>\n",
       "</dd>\n",
       "\t<dt>$x</dt>\n",
       "\t\t<dd><table class=\"dataframe\">\n",
       "<caption>A matrix: 1 × 1 of type dbl</caption>\n",
       "<thead>\n",
       "\t<tr><th></th><th scope=col>LD1</th></tr>\n",
       "</thead>\n",
       "<tbody>\n",
       "\t<tr><th scope=row>1</th><td>-21.10503</td></tr>\n",
       "</tbody>\n",
       "</table>\n",
       "</dd>\n",
       "</dl>\n"
      ],
      "text/latex": [
       "\\begin{description}\n",
       "\\item[\\$class] 1\n",
       "\\emph{Levels}: \\begin{enumerate*}\n",
       "\\item '1'\n",
       "\\item '2'\n",
       "\\end{enumerate*}\n",
       "\n",
       "\\item[\\$posterior] A matrix: 1 × 2 of type dbl\n",
       "\\begin{tabular}{r|ll}\n",
       "  & 1 & 2\\\\\n",
       "\\hline\n",
       "\t1 & 1 & 1.089235e-19\\\\\n",
       "\\end{tabular}\n",
       "\n",
       "\\item[\\$x] A matrix: 1 × 1 of type dbl\n",
       "\\begin{tabular}{r|l}\n",
       "  & LD1\\\\\n",
       "\\hline\n",
       "\t1 & -21.10503\\\\\n",
       "\\end{tabular}\n",
       "\n",
       "\\end{description}\n"
      ],
      "text/markdown": [
       "$class\n",
       ":   1\n",
       "**Levels**: 1. '1'\n",
       "2. '2'\n",
       "\n",
       "\n",
       "\n",
       "$posterior\n",
       ":   \n",
       "A matrix: 1 × 2 of type dbl\n",
       "\n",
       "| <!--/--> | 1 | 2 |\n",
       "|---|---|---|\n",
       "| 1 | 1 | 1.089235e-19 |\n",
       "\n",
       "\n",
       "$x\n",
       ":   \n",
       "A matrix: 1 × 1 of type dbl\n",
       "\n",
       "| <!--/--> | LD1 |\n",
       "|---|---|\n",
       "| 1 | -21.10503 |\n",
       "\n",
       "\n",
       "\n",
       "\n"
      ],
      "text/plain": [
       "$class\n",
       "[1] 1\n",
       "Levels: 1 2\n",
       "\n",
       "$posterior\n",
       "  1            2\n",
       "1 1 1.089235e-19\n",
       "\n",
       "$x\n",
       "        LD1\n",
       "1 -21.10503\n"
      ]
     },
     "metadata": {},
     "output_type": "display_data"
    }
   ],
   "source": [
    "predicted_classes <- predict(model_lda, newdata = new_data)\n",
    "predicted_classes"
   ]
  },
  {
   "cell_type": "markdown",
   "id": "80566652",
   "metadata": {},
   "source": [
    "### ix)\n",
    "Porównaj błędy klasyfikacji i tabele klasyfikacji dla metod LDA i QDA z zastosowaniem 10-krotnej kroswalidacji."
   ]
  },
  {
   "cell_type": "code",
   "execution_count": 337,
   "id": "fc360683",
   "metadata": {},
   "outputs": [],
   "source": [
    "mypredict.lda <- function ( object , newdata ){\n",
    "    predict ( object , newdata = newdata )$ class\n",
    "}"
   ]
  },
  {
   "cell_type": "code",
   "execution_count": 338,
   "id": "f79a8c14",
   "metadata": {},
   "outputs": [],
   "source": [
    "mypredict.qda <- function ( object , newdata ){\n",
    "    predict ( object , newdata = newdata )$ class\n",
    "}"
   ]
  },
  {
   "cell_type": "code",
   "execution_count": 339,
   "id": "2b90aa4b",
   "metadata": {},
   "outputs": [],
   "source": [
    "dane$owner=as.factor(dane$owner)"
   ]
  },
  {
   "cell_type": "code",
   "execution_count": 340,
   "id": "ca9cd532",
   "metadata": {
    "scrolled": true
   },
   "outputs": [
    {
     "data": {
      "text/plain": [
       "\n",
       "Call:\n",
       "errorest.data.frame(formula = owner ~ ., data = dane, model = qda, \n",
       "    predict = mypredict.qda, estimator = \"cv\")\n",
       "\n",
       "\t 10-fold cross-validation estimator of misclassification error \n",
       "\n",
       "Misclassification error:  0.1667 \n"
      ]
     },
     "metadata": {},
     "output_type": "display_data"
    }
   ],
   "source": [
    "(cross_val_10_qda = errorest(owner ~ ., data = dane, model = qda , estimator = \"cv\" , predict= mypredict.qda))"
   ]
  },
  {
   "cell_type": "code",
   "execution_count": 341,
   "id": "6103b3d6",
   "metadata": {},
   "outputs": [
    {
     "data": {
      "text/plain": [
       "\n",
       "Call:\n",
       "errorest.data.frame(formula = owner ~ ., data = dane, model = lda, \n",
       "    predict = mypredict.lda, estimator = \"cv\")\n",
       "\n",
       "\t 10-fold cross-validation estimator of misclassification error \n",
       "\n",
       "Misclassification error:  0.2083 \n"
      ]
     },
     "metadata": {},
     "output_type": "display_data"
    }
   ],
   "source": [
    "(cross_val_10_lda = errorest(owner ~ ., data = dane, model = lda , estimator = \"cv\" , predict= mypredict.lda))"
   ]
  },
  {
   "cell_type": "markdown",
   "id": "585e5920",
   "metadata": {},
   "source": [
    "### x)\n",
    "Wyznacz krzywe ROC dla metod LDA i QDA dla klasyfikacji osób posiadających oraz nie posiadających kosiarki. Jak zinterpretujesz uzyskane krzywe?"
   ]
  },
  {
   "cell_type": "code",
   "execution_count": 342,
   "id": "871544ec",
   "metadata": {},
   "outputs": [
    {
     "data": {
      "text/html": [
       "<style>\n",
       ".dl-inline {width: auto; margin:0; padding: 0}\n",
       ".dl-inline>dt, .dl-inline>dd {float: none; width: auto; display: inline-block}\n",
       ".dl-inline>dt::after {content: \":\\0020\"; padding-right: .5ex}\n",
       ".dl-inline>dt:not(:first-of-type) {padding-left: .5ex}\n",
       "</style><dl class=dl-inline><dt>income</dt><dd>26.4916666666667</dd><dt>lotsize</dt><dd>10.1333333333333</dd></dl>\n"
      ],
      "text/latex": [
       "\\begin{description*}\n",
       "\\item[income] 26.4916666666667\n",
       "\\item[lotsize] 10.1333333333333\n",
       "\\end{description*}\n"
      ],
      "text/markdown": [
       "income\n",
       ":   26.4916666666667lotsize\n",
       ":   10.1333333333333\n",
       "\n"
      ],
      "text/plain": [
       "  income  lotsize \n",
       "26.49167 10.13333 "
      ]
     },
     "metadata": {},
     "output_type": "display_data"
    },
    {
     "data": {
      "text/html": [
       "<style>\n",
       ".dl-inline {width: auto; margin:0; padding: 0}\n",
       ".dl-inline>dt, .dl-inline>dd {float: none; width: auto; display: inline-block}\n",
       ".dl-inline>dt::after {content: \":\\0020\"; padding-right: .5ex}\n",
       ".dl-inline>dt:not(:first-of-type) {padding-left: .5ex}\n",
       "</style><dl class=dl-inline><dt>income</dt><dd>19.1333333333333</dd><dt>lotsize</dt><dd>8.81666666666667</dd></dl>\n"
      ],
      "text/latex": [
       "\\begin{description*}\n",
       "\\item[income] 19.1333333333333\n",
       "\\item[lotsize] 8.81666666666667\n",
       "\\end{description*}\n"
      ],
      "text/markdown": [
       "income\n",
       ":   19.1333333333333lotsize\n",
       ":   8.81666666666667\n",
       "\n"
      ],
      "text/plain": [
       "   income   lotsize \n",
       "19.133333  8.816667 "
      ]
     },
     "metadata": {},
     "output_type": "display_data"
    },
    {
     "data": {
      "text/html": [
       "<table class=\"dataframe\">\n",
       "<caption>A matrix: 2 × 2 of type dbl</caption>\n",
       "<thead>\n",
       "\t<tr><th></th><th scope=col>income</th><th scope=col>lotsize</th></tr>\n",
       "</thead>\n",
       "<tbody>\n",
       "\t<tr><th scope=row>income</th><td>39.182652</td><td>-1.969697</td></tr>\n",
       "\t<tr><th scope=row>lotsize</th><td>-1.969697</td><td> 1.020606</td></tr>\n",
       "</tbody>\n",
       "</table>\n"
      ],
      "text/latex": [
       "A matrix: 2 × 2 of type dbl\n",
       "\\begin{tabular}{r|ll}\n",
       "  & income & lotsize\\\\\n",
       "\\hline\n",
       "\tincome & 39.182652 & -1.969697\\\\\n",
       "\tlotsize & -1.969697 &  1.020606\\\\\n",
       "\\end{tabular}\n"
      ],
      "text/markdown": [
       "\n",
       "A matrix: 2 × 2 of type dbl\n",
       "\n",
       "| <!--/--> | income | lotsize |\n",
       "|---|---|---|\n",
       "| income | 39.182652 | -1.969697 |\n",
       "| lotsize | -1.969697 |  1.020606 |\n",
       "\n"
      ],
      "text/plain": [
       "        income    lotsize  \n",
       "income  39.182652 -1.969697\n",
       "lotsize -1.969697  1.020606"
      ]
     },
     "metadata": {},
     "output_type": "display_data"
    },
    {
     "data": {
      "text/html": [
       "<table class=\"dataframe\">\n",
       "<caption>A matrix: 2 × 2 of type dbl</caption>\n",
       "<thead>\n",
       "\t<tr><th></th><th scope=col>income</th><th scope=col>lotsize</th></tr>\n",
       "</thead>\n",
       "<tbody>\n",
       "\t<tr><th scope=row>income</th><td>22.3006061</td><td>-0.4315152</td></tr>\n",
       "\t<tr><th scope=row>lotsize</th><td>-0.4315152</td><td> 1.1160606</td></tr>\n",
       "</tbody>\n",
       "</table>\n"
      ],
      "text/latex": [
       "A matrix: 2 × 2 of type dbl\n",
       "\\begin{tabular}{r|ll}\n",
       "  & income & lotsize\\\\\n",
       "\\hline\n",
       "\tincome & 22.3006061 & -0.4315152\\\\\n",
       "\tlotsize & -0.4315152 &  1.1160606\\\\\n",
       "\\end{tabular}\n"
      ],
      "text/markdown": [
       "\n",
       "A matrix: 2 × 2 of type dbl\n",
       "\n",
       "| <!--/--> | income | lotsize |\n",
       "|---|---|---|\n",
       "| income | 22.3006061 | -0.4315152 |\n",
       "| lotsize | -0.4315152 |  1.1160606 |\n",
       "\n"
      ],
      "text/plain": [
       "        income     lotsize   \n",
       "income  22.3006061 -0.4315152\n",
       "lotsize -0.4315152  1.1160606"
      ]
     },
     "metadata": {},
     "output_type": "display_data"
    }
   ],
   "source": [
    "(posiada_mean = colMeans(posiada))\n",
    "(nie_posiada_mean = colMeans(nie_posiada))\n",
    "\n",
    "(S1 = cov(posiada))\n",
    "(S2 = cov(nie_posiada))"
   ]
  },
  {
   "cell_type": "code",
   "execution_count": 343,
   "id": "3b3c51a2",
   "metadata": {},
   "outputs": [
    {
     "data": {
      "text/html": [
       "<table class=\"dataframe\">\n",
       "<caption>A matrix: 2 × 2 of type dbl</caption>\n",
       "<thead>\n",
       "\t<tr><th></th><th scope=col>income</th><th scope=col>lotsize</th></tr>\n",
       "</thead>\n",
       "<tbody>\n",
       "\t<tr><th scope=row>income</th><td>0.02826354</td><td>0.05454661</td></tr>\n",
       "\t<tr><th scope=row>lotsize</th><td>0.05454661</td><td>1.08508105</td></tr>\n",
       "</tbody>\n",
       "</table>\n"
      ],
      "text/latex": [
       "A matrix: 2 × 2 of type dbl\n",
       "\\begin{tabular}{r|ll}\n",
       "  & income & lotsize\\\\\n",
       "\\hline\n",
       "\tincome & 0.02826354 & 0.05454661\\\\\n",
       "\tlotsize & 0.05454661 & 1.08508105\\\\\n",
       "\\end{tabular}\n"
      ],
      "text/markdown": [
       "\n",
       "A matrix: 2 × 2 of type dbl\n",
       "\n",
       "| <!--/--> | income | lotsize |\n",
       "|---|---|---|\n",
       "| income | 0.02826354 | 0.05454661 |\n",
       "| lotsize | 0.05454661 | 1.08508105 |\n",
       "\n"
      ],
      "text/plain": [
       "        income     lotsize   \n",
       "income  0.02826354 0.05454661\n",
       "lotsize 0.05454661 1.08508105"
      ]
     },
     "metadata": {},
     "output_type": "display_data"
    }
   ],
   "source": [
    "(invS1 = solve(S1))\n",
    "invS2 = solve(S2)\n",
    "\n",
    "pi1 = pi2 = 0.5"
   ]
  },
  {
   "cell_type": "code",
   "execution_count": 344,
   "id": "13785d23",
   "metadata": {
    "scrolled": true
   },
   "outputs": [
    {
     "data": {
      "text/html": [
       "<table class=\"dataframe\">\n",
       "<caption>A matrix: 1 × 1 of type dbl</caption>\n",
       "<tbody>\n",
       "\t<tr><td>34.15698</td></tr>\n",
       "</tbody>\n",
       "</table>\n"
      ],
      "text/latex": [
       "A matrix: 1 × 1 of type dbl\n",
       "\\begin{tabular}{l}\n",
       "\t 34.15698\\\\\n",
       "\\end{tabular}\n"
      ],
      "text/markdown": [
       "\n",
       "A matrix: 1 × 1 of type dbl\n",
       "\n",
       "| 34.15698 |\n",
       "\n"
      ],
      "text/plain": [
       "     [,1]    \n",
       "[1,] 34.15698"
      ]
     },
     "metadata": {},
     "output_type": "display_data"
    }
   ],
   "source": [
    "k = .5*log(det(S1) / det(S2)) + .5*(t(posiada_mean)%*%invS1%*%posiada_mean \n",
    "                                    - t(nie_posiada_mean)%*%invS2%*%nie_posiada_mean)\n",
    "k"
   ]
  },
  {
   "cell_type": "code",
   "execution_count": 345,
   "id": "473b6372",
   "metadata": {},
   "outputs": [],
   "source": [
    "min_x = min(c(posiada$income, nie_posiada$income))\n",
    "min_y = min(c(posiada$lotsize, nie_posiada$lotsize))\n",
    "\n",
    "max_x = max(c(posiada$income, nie_posiada$income))\n",
    "max_y = max(c(posiada$lotsize, nie_posiada$lotsize))"
   ]
  },
  {
   "cell_type": "code",
   "execution_count": 346,
   "id": "b4a710cb",
   "metadata": {},
   "outputs": [
    {
     "data": {
      "text/html": [
       "<table class=\"dataframe\">\n",
       "<caption>A data.frame: 6 × 2</caption>\n",
       "<thead>\n",
       "\t<tr><th></th><th scope=col>income</th><th scope=col>lotsize</th></tr>\n",
       "\t<tr><th></th><th scope=col>&lt;dbl&gt;</th><th scope=col>&lt;dbl&gt;</th></tr>\n",
       "</thead>\n",
       "<tbody>\n",
       "\t<tr><th scope=row>1</th><td>11.00000</td><td>7.000000</td></tr>\n",
       "\t<tr><th scope=row>2</th><td>11.25960</td><td>7.048485</td></tr>\n",
       "\t<tr><th scope=row>3</th><td>11.51919</td><td>7.096970</td></tr>\n",
       "\t<tr><th scope=row>4</th><td>11.77879</td><td>7.145455</td></tr>\n",
       "\t<tr><th scope=row>5</th><td>12.03838</td><td>7.193939</td></tr>\n",
       "\t<tr><th scope=row>6</th><td>12.29798</td><td>7.242424</td></tr>\n",
       "</tbody>\n",
       "</table>\n"
      ],
      "text/latex": [
       "A data.frame: 6 × 2\n",
       "\\begin{tabular}{r|ll}\n",
       "  & income & lotsize\\\\\n",
       "  & <dbl> & <dbl>\\\\\n",
       "\\hline\n",
       "\t1 & 11.00000 & 7.000000\\\\\n",
       "\t2 & 11.25960 & 7.048485\\\\\n",
       "\t3 & 11.51919 & 7.096970\\\\\n",
       "\t4 & 11.77879 & 7.145455\\\\\n",
       "\t5 & 12.03838 & 7.193939\\\\\n",
       "\t6 & 12.29798 & 7.242424\\\\\n",
       "\\end{tabular}\n"
      ],
      "text/markdown": [
       "\n",
       "A data.frame: 6 × 2\n",
       "\n",
       "| <!--/--> | income &lt;dbl&gt; | lotsize &lt;dbl&gt; |\n",
       "|---|---|---|\n",
       "| 1 | 11.00000 | 7.000000 |\n",
       "| 2 | 11.25960 | 7.048485 |\n",
       "| 3 | 11.51919 | 7.096970 |\n",
       "| 4 | 11.77879 | 7.145455 |\n",
       "| 5 | 12.03838 | 7.193939 |\n",
       "| 6 | 12.29798 | 7.242424 |\n",
       "\n"
      ],
      "text/plain": [
       "  income   lotsize \n",
       "1 11.00000 7.000000\n",
       "2 11.25960 7.048485\n",
       "3 11.51919 7.096970\n",
       "4 11.77879 7.145455\n",
       "5 12.03838 7.193939\n",
       "6 12.29798 7.242424"
      ]
     },
     "metadata": {},
     "output_type": "display_data"
    }
   ],
   "source": [
    "x = seq(min_x, max_x, length = 100)\n",
    "y = seq(min_y, max_y, length = 100)\n",
    "\n",
    "X = as.data.frame(cbind(x, y))\n",
    "colnames(X) = c(\"income\", \"lotsize\")\n",
    "\n",
    "head(X)"
   ]
  },
  {
   "cell_type": "code",
   "execution_count": 347,
   "id": "5daa55e0",
   "metadata": {},
   "outputs": [
    {
     "data": {
      "text/html": [
       "<table class=\"dataframe\">\n",
       "<caption>A data.frame: 6 × 2</caption>\n",
       "<thead>\n",
       "\t<tr><th></th><th scope=col>Var1</th><th scope=col>Var2</th></tr>\n",
       "\t<tr><th></th><th scope=col>&lt;dbl&gt;</th><th scope=col>&lt;dbl&gt;</th></tr>\n",
       "</thead>\n",
       "<tbody>\n",
       "\t<tr><th scope=row>1</th><td>11.00000</td><td>7</td></tr>\n",
       "\t<tr><th scope=row>2</th><td>11.02573</td><td>7</td></tr>\n",
       "\t<tr><th scope=row>3</th><td>11.05145</td><td>7</td></tr>\n",
       "\t<tr><th scope=row>4</th><td>11.07718</td><td>7</td></tr>\n",
       "\t<tr><th scope=row>5</th><td>11.10290</td><td>7</td></tr>\n",
       "\t<tr><th scope=row>6</th><td>11.12863</td><td>7</td></tr>\n",
       "</tbody>\n",
       "</table>\n"
      ],
      "text/latex": [
       "A data.frame: 6 × 2\n",
       "\\begin{tabular}{r|ll}\n",
       "  & Var1 & Var2\\\\\n",
       "  & <dbl> & <dbl>\\\\\n",
       "\\hline\n",
       "\t1 & 11.00000 & 7\\\\\n",
       "\t2 & 11.02573 & 7\\\\\n",
       "\t3 & 11.05145 & 7\\\\\n",
       "\t4 & 11.07718 & 7\\\\\n",
       "\t5 & 11.10290 & 7\\\\\n",
       "\t6 & 11.12863 & 7\\\\\n",
       "\\end{tabular}\n"
      ],
      "text/markdown": [
       "\n",
       "A data.frame: 6 × 2\n",
       "\n",
       "| <!--/--> | Var1 &lt;dbl&gt; | Var2 &lt;dbl&gt; |\n",
       "|---|---|---|\n",
       "| 1 | 11.00000 | 7 |\n",
       "| 2 | 11.02573 | 7 |\n",
       "| 3 | 11.05145 | 7 |\n",
       "| 4 | 11.07718 | 7 |\n",
       "| 5 | 11.10290 | 7 |\n",
       "| 6 | 11.12863 | 7 |\n",
       "\n"
      ],
      "text/plain": [
       "  Var1     Var2\n",
       "1 11.00000 7   \n",
       "2 11.02573 7   \n",
       "3 11.05145 7   \n",
       "4 11.07718 7   \n",
       "5 11.10290 7   \n",
       "6 11.12863 7   "
      ]
     },
     "metadata": {},
     "output_type": "display_data"
    },
    {
     "data": {
      "text/html": [
       "<style>\n",
       ".list-inline {list-style: none; margin:0; padding: 0}\n",
       ".list-inline>li {display: inline-block}\n",
       ".list-inline>li:not(:last-child)::after {content: \"\\00b7\"; padding: 0 .5ex}\n",
       "</style>\n",
       "<ol class=list-inline><li>1000000</li><li>2</li></ol>\n"
      ],
      "text/latex": [
       "\\begin{enumerate*}\n",
       "\\item 1000000\n",
       "\\item 2\n",
       "\\end{enumerate*}\n"
      ],
      "text/markdown": [
       "1. 1000000\n",
       "2. 2\n",
       "\n",
       "\n"
      ],
      "text/plain": [
       "[1] 1000000       2"
      ]
     },
     "metadata": {},
     "output_type": "display_data"
    }
   ],
   "source": [
    "np=1000\n",
    "x = seq(min_x, max_x, length.out = np)\n",
    "y = seq(min_y, max_y, length.out = np)\n",
    "nd = expand.grid(x,y)\n",
    "head(nd)\n",
    "dim(nd)"
   ]
  },
  {
   "cell_type": "code",
   "execution_count": 348,
   "id": "ca592864",
   "metadata": {},
   "outputs": [],
   "source": [
    "fun_disk = function(X, pi1, pi2, m1, m2, S1, S2) {\n",
    "    X = as.matrix(X, 1, 2)\n",
    "    invS1 = solve(S1)\n",
    "    invS2 = solve(S2)\n",
    "    k = .5*log(det(S1) / det(S2)) + .5*(t(m1)%*%invS1%*%m1 - \n",
    "                                        t(m2)%*%invS2%*%m2)\n",
    "    fun = log(pi2 / pi1) + X%*%(invS2%*%m2 - invS1%*%m1) -\n",
    "          .5*X%*%(invS2 - invS1)%*%t(X) + k\n",
    "    return(fun)\n",
    "}"
   ]
  },
  {
   "cell_type": "code",
   "execution_count": 349,
   "id": "c8a98a8c",
   "metadata": {},
   "outputs": [
    {
     "data": {
      "text/html": [
       "<table class=\"dataframe\">\n",
       "<caption>A matrix: 1 × 1 of type dbl</caption>\n",
       "<tbody>\n",
       "\t<tr><th scope=row>1</th><td>8.31347</td></tr>\n",
       "</tbody>\n",
       "</table>\n"
      ],
      "text/latex": [
       "A matrix: 1 × 1 of type dbl\n",
       "\\begin{tabular}{r|l}\n",
       "\t1 & 8.31347\\\\\n",
       "\\end{tabular}\n"
      ],
      "text/markdown": [
       "\n",
       "A matrix: 1 × 1 of type dbl\n",
       "\n",
       "| 1 | 8.31347 |\n",
       "\n"
      ],
      "text/plain": [
       "  [,1]   \n",
       "1 8.31347"
      ]
     },
     "metadata": {},
     "output_type": "display_data"
    }
   ],
   "source": [
    "fun_disk(X[1,], pi1, pi2, posiada_mean, nie_posiada_mean, S1, S2)"
   ]
  },
  {
   "cell_type": "code",
   "execution_count": 350,
   "id": "e32bf137",
   "metadata": {},
   "outputs": [],
   "source": [
    "q = numeric(dim(nd)[1])\n",
    "for (i in 1:dim(nd)[1]) {\n",
    " q[i] = fun_disk(as.matrix(nd[i,]), pi1, pi2, posiada_mean, nie_posiada_mean, S1, S2)\n",
    "}"
   ]
  },
  {
   "cell_type": "code",
   "execution_count": 351,
   "id": "16070d28",
   "metadata": {},
   "outputs": [
    {
     "data": {
      "text/html": [
       "<style>\n",
       ".list-inline {list-style: none; margin:0; padding: 0}\n",
       ".list-inline>li {display: inline-block}\n",
       ".list-inline>li:not(:last-child)::after {content: \"\\00b7\"; padding: 0 .5ex}\n",
       "</style>\n",
       "<ol class=list-inline><li>8.31347022176026</li><li>8.30807341163709</li><li>8.30266540608298</li><li>8.29724620509791</li><li>8.29181580868191</li><li>8.28637421683495</li></ol>\n"
      ],
      "text/latex": [
       "\\begin{enumerate*}\n",
       "\\item 8.31347022176026\n",
       "\\item 8.30807341163709\n",
       "\\item 8.30266540608298\n",
       "\\item 8.29724620509791\n",
       "\\item 8.29181580868191\n",
       "\\item 8.28637421683495\n",
       "\\end{enumerate*}\n"
      ],
      "text/markdown": [
       "1. 8.31347022176026\n",
       "2. 8.30807341163709\n",
       "3. 8.30266540608298\n",
       "4. 8.29724620509791\n",
       "5. 8.29181580868191\n",
       "6. 8.28637421683495\n",
       "\n",
       "\n"
      ],
      "text/plain": [
       "[1] 8.313470 8.308073 8.302665 8.297246 8.291816 8.286374"
      ]
     },
     "metadata": {},
     "output_type": "display_data"
    },
    {
     "data": {
      "text/html": [
       "<style>\n",
       ".list-inline {list-style: none; margin:0; padding: 0}\n",
       ".list-inline>li {display: inline-block}\n",
       ".list-inline>li:not(:last-child)::after {content: \"\\00b7\"; padding: 0 .5ex}\n",
       "</style>\n",
       "<ol class=list-inline><li>-7.74640394568928</li><li>-7.75835046680275</li><li>-7.77030818334716</li><li>-7.78227709532252</li><li>-7.79425720272883</li><li>-7.80624850556609</li></ol>\n"
      ],
      "text/latex": [
       "\\begin{enumerate*}\n",
       "\\item -7.74640394568928\n",
       "\\item -7.75835046680275\n",
       "\\item -7.77030818334716\n",
       "\\item -7.78227709532252\n",
       "\\item -7.79425720272883\n",
       "\\item -7.80624850556609\n",
       "\\end{enumerate*}\n"
      ],
      "text/markdown": [
       "1. -7.74640394568928\n",
       "2. -7.75835046680275\n",
       "3. -7.77030818334716\n",
       "4. -7.78227709532252\n",
       "5. -7.79425720272883\n",
       "6. -7.80624850556609\n",
       "\n",
       "\n"
      ],
      "text/plain": [
       "[1] -7.746404 -7.758350 -7.770308 -7.782277 -7.794257 -7.806249"
      ]
     },
     "metadata": {},
     "output_type": "display_data"
    }
   ],
   "source": [
    "head(q)\n",
    "tail(q)"
   ]
  },
  {
   "cell_type": "code",
   "execution_count": 352,
   "id": "9896d4bf",
   "metadata": {
    "scrolled": true
   },
   "outputs": [
    {
     "data": {
      "image/png": "[encoded data removed]",
      "text/plain": [
       "plot without title"
      ]
     },
     "metadata": {
      "image/png": {
       "height": 420,
       "width": 420
      }
     },
     "output_type": "display_data"
    }
   ],
   "source": [
    "q2 = q\n",
    "q2[q2 > 0] = 2\n",
    "q2[q2 <=0] = 1\n",
    "\n",
    "plot(posiada$income, posiada$lotsize, type = \"p\", \n",
    "     pch = 19, col = \"red\", xlab = \"przychód\", \n",
    "     ylab = \"wielkość działki\", xlim = c(min_x, max_x), \n",
    "     ylim = c(min_y, max_y))\n",
    "points(nie_posiada$income, nie_posiada$lotsize, pch = 19, col = \"blue\")\n",
    "\n",
    "contour(x, y, z = matrix(q2, nrow = np, ncol = np), \n",
    "        levels = c(1,2), add = TRUE, drawlabels = FALSE, \n",
    "        col='darkgreen', lwd = 2)\n",
    "lines(10:40,21.73876/1.570369-0.3006909/1.570369*10:40,\n",
    "      col='black', lwd = 2)\n",
    "legend(\"topright\", c(\"ma kosiarkę\", \"nie ma kosiarki\", \"LDA\", \"QDA\"),\n",
    "      col = c(\"red\", \"blue\", \"black\", \"darkgreen\"), \n",
    "      pch = c(19, 19, NA, NA), lty = c(NA, NA, 1, 1), \n",
    "      lwd = c(1, 1, 2, 2))"
   ]
  },
  {
   "cell_type": "markdown",
   "id": "badfeb6e",
   "metadata": {},
   "source": [
    "# Zadanie 11, L6\n",
    "W pakiecie MASS znajdują się dane Pima.te. Zapoznaj\n",
    "się z zawartością tego zbioru danych. Dla zmiennej objaśnianej przeprowadź\n",
    "analizę metodą LDA i QDA. Porównaj proporcje błędnych klasyfikacji doko\u0002nane przez te dwie metody. Wyznacz i porównaj ze sobą błędy dla tych\n",
    "metod uzyskane przy zastosowaniu procedury kroswalidacji i metody boot\u0002strap. Wylicz średnie wartości czułości i specyficzności dla LDA i QDA.\n",
    "Jak zinterpretujesz te wyniki? Wyznacz krzywe ROC dla LDA i QDA dla\n",
    "klasyfikacji osób chorych oraz dla klasyfikacji osób zdrowych. Która z metod\n",
    "działa lepiej?\n"
   ]
  },
  {
   "cell_type": "code",
   "execution_count": 353,
   "id": "534f05d1",
   "metadata": {},
   "outputs": [
    {
     "data": {
      "text/html": [
       "<table class=\"dataframe\">\n",
       "<caption>A data.frame: 6 × 8</caption>\n",
       "<thead>\n",
       "\t<tr><th></th><th scope=col>npreg</th><th scope=col>glu</th><th scope=col>bp</th><th scope=col>skin</th><th scope=col>bmi</th><th scope=col>ped</th><th scope=col>age</th><th scope=col>type</th></tr>\n",
       "\t<tr><th></th><th scope=col>&lt;int&gt;</th><th scope=col>&lt;int&gt;</th><th scope=col>&lt;int&gt;</th><th scope=col>&lt;int&gt;</th><th scope=col>&lt;dbl&gt;</th><th scope=col>&lt;dbl&gt;</th><th scope=col>&lt;int&gt;</th><th scope=col>&lt;fct&gt;</th></tr>\n",
       "</thead>\n",
       "<tbody>\n",
       "\t<tr><th scope=row>1</th><td>6</td><td>148</td><td>72</td><td>35</td><td>33.6</td><td>0.627</td><td>50</td><td>Yes</td></tr>\n",
       "\t<tr><th scope=row>2</th><td>1</td><td> 85</td><td>66</td><td>29</td><td>26.6</td><td>0.351</td><td>31</td><td>No </td></tr>\n",
       "\t<tr><th scope=row>3</th><td>1</td><td> 89</td><td>66</td><td>23</td><td>28.1</td><td>0.167</td><td>21</td><td>No </td></tr>\n",
       "\t<tr><th scope=row>4</th><td>3</td><td> 78</td><td>50</td><td>32</td><td>31.0</td><td>0.248</td><td>26</td><td>Yes</td></tr>\n",
       "\t<tr><th scope=row>5</th><td>2</td><td>197</td><td>70</td><td>45</td><td>30.5</td><td>0.158</td><td>53</td><td>Yes</td></tr>\n",
       "\t<tr><th scope=row>6</th><td>5</td><td>166</td><td>72</td><td>19</td><td>25.8</td><td>0.587</td><td>51</td><td>Yes</td></tr>\n",
       "</tbody>\n",
       "</table>\n"
      ],
      "text/latex": [
       "A data.frame: 6 × 8\n",
       "\\begin{tabular}{r|llllllll}\n",
       "  & npreg & glu & bp & skin & bmi & ped & age & type\\\\\n",
       "  & <int> & <int> & <int> & <int> & <dbl> & <dbl> & <int> & <fct>\\\\\n",
       "\\hline\n",
       "\t1 & 6 & 148 & 72 & 35 & 33.6 & 0.627 & 50 & Yes\\\\\n",
       "\t2 & 1 &  85 & 66 & 29 & 26.6 & 0.351 & 31 & No \\\\\n",
       "\t3 & 1 &  89 & 66 & 23 & 28.1 & 0.167 & 21 & No \\\\\n",
       "\t4 & 3 &  78 & 50 & 32 & 31.0 & 0.248 & 26 & Yes\\\\\n",
       "\t5 & 2 & 197 & 70 & 45 & 30.5 & 0.158 & 53 & Yes\\\\\n",
       "\t6 & 5 & 166 & 72 & 19 & 25.8 & 0.587 & 51 & Yes\\\\\n",
       "\\end{tabular}\n"
      ],
      "text/markdown": [
       "\n",
       "A data.frame: 6 × 8\n",
       "\n",
       "| <!--/--> | npreg &lt;int&gt; | glu &lt;int&gt; | bp &lt;int&gt; | skin &lt;int&gt; | bmi &lt;dbl&gt; | ped &lt;dbl&gt; | age &lt;int&gt; | type &lt;fct&gt; |\n",
       "|---|---|---|---|---|---|---|---|---|\n",
       "| 1 | 6 | 148 | 72 | 35 | 33.6 | 0.627 | 50 | Yes |\n",
       "| 2 | 1 |  85 | 66 | 29 | 26.6 | 0.351 | 31 | No  |\n",
       "| 3 | 1 |  89 | 66 | 23 | 28.1 | 0.167 | 21 | No  |\n",
       "| 4 | 3 |  78 | 50 | 32 | 31.0 | 0.248 | 26 | Yes |\n",
       "| 5 | 2 | 197 | 70 | 45 | 30.5 | 0.158 | 53 | Yes |\n",
       "| 6 | 5 | 166 | 72 | 19 | 25.8 | 0.587 | 51 | Yes |\n",
       "\n"
      ],
      "text/plain": [
       "  npreg glu bp skin bmi  ped   age type\n",
       "1 6     148 72 35   33.6 0.627 50  Yes \n",
       "2 1      85 66 29   26.6 0.351 31  No  \n",
       "3 1      89 66 23   28.1 0.167 21  No  \n",
       "4 3      78 50 32   31.0 0.248 26  Yes \n",
       "5 2     197 70 45   30.5 0.158 53  Yes \n",
       "6 5     166 72 19   25.8 0.587 51  Yes "
      ]
     },
     "metadata": {},
     "output_type": "display_data"
    }
   ],
   "source": [
    "data(Pima.te)\n",
    "head(Pima.te)"
   ]
  },
  {
   "cell_type": "code",
   "execution_count": 354,
   "id": "12f59c60",
   "metadata": {},
   "outputs": [
    {
     "data": {
      "text/html": [
       "<table class=\"dataframe\">\n",
       "<caption>A data.frame: 6 × 7</caption>\n",
       "<thead>\n",
       "\t<tr><th></th><th scope=col>npreg</th><th scope=col>glu</th><th scope=col>bp</th><th scope=col>skin</th><th scope=col>bmi</th><th scope=col>ped</th><th scope=col>age</th></tr>\n",
       "\t<tr><th></th><th scope=col>&lt;int&gt;</th><th scope=col>&lt;int&gt;</th><th scope=col>&lt;int&gt;</th><th scope=col>&lt;int&gt;</th><th scope=col>&lt;dbl&gt;</th><th scope=col>&lt;dbl&gt;</th><th scope=col>&lt;int&gt;</th></tr>\n",
       "</thead>\n",
       "<tbody>\n",
       "\t<tr><th scope=row>1</th><td>6</td><td>148</td><td>72</td><td>35</td><td>33.6</td><td>0.627</td><td>50</td></tr>\n",
       "\t<tr><th scope=row>4</th><td>3</td><td> 78</td><td>50</td><td>32</td><td>31.0</td><td>0.248</td><td>26</td></tr>\n",
       "\t<tr><th scope=row>5</th><td>2</td><td>197</td><td>70</td><td>45</td><td>30.5</td><td>0.158</td><td>53</td></tr>\n",
       "\t<tr><th scope=row>6</th><td>5</td><td>166</td><td>72</td><td>19</td><td>25.8</td><td>0.587</td><td>51</td></tr>\n",
       "\t<tr><th scope=row>7</th><td>0</td><td>118</td><td>84</td><td>47</td><td>45.8</td><td>0.551</td><td>31</td></tr>\n",
       "\t<tr><th scope=row>10</th><td>9</td><td>119</td><td>80</td><td>35</td><td>29.0</td><td>0.263</td><td>29</td></tr>\n",
       "</tbody>\n",
       "</table>\n"
      ],
      "text/latex": [
       "A data.frame: 6 × 7\n",
       "\\begin{tabular}{r|lllllll}\n",
       "  & npreg & glu & bp & skin & bmi & ped & age\\\\\n",
       "  & <int> & <int> & <int> & <int> & <dbl> & <dbl> & <int>\\\\\n",
       "\\hline\n",
       "\t1 & 6 & 148 & 72 & 35 & 33.6 & 0.627 & 50\\\\\n",
       "\t4 & 3 &  78 & 50 & 32 & 31.0 & 0.248 & 26\\\\\n",
       "\t5 & 2 & 197 & 70 & 45 & 30.5 & 0.158 & 53\\\\\n",
       "\t6 & 5 & 166 & 72 & 19 & 25.8 & 0.587 & 51\\\\\n",
       "\t7 & 0 & 118 & 84 & 47 & 45.8 & 0.551 & 31\\\\\n",
       "\t10 & 9 & 119 & 80 & 35 & 29.0 & 0.263 & 29\\\\\n",
       "\\end{tabular}\n"
      ],
      "text/markdown": [
       "\n",
       "A data.frame: 6 × 7\n",
       "\n",
       "| <!--/--> | npreg &lt;int&gt; | glu &lt;int&gt; | bp &lt;int&gt; | skin &lt;int&gt; | bmi &lt;dbl&gt; | ped &lt;dbl&gt; | age &lt;int&gt; |\n",
       "|---|---|---|---|---|---|---|---|\n",
       "| 1 | 6 | 148 | 72 | 35 | 33.6 | 0.627 | 50 |\n",
       "| 4 | 3 |  78 | 50 | 32 | 31.0 | 0.248 | 26 |\n",
       "| 5 | 2 | 197 | 70 | 45 | 30.5 | 0.158 | 53 |\n",
       "| 6 | 5 | 166 | 72 | 19 | 25.8 | 0.587 | 51 |\n",
       "| 7 | 0 | 118 | 84 | 47 | 45.8 | 0.551 | 31 |\n",
       "| 10 | 9 | 119 | 80 | 35 | 29.0 | 0.263 | 29 |\n",
       "\n"
      ],
      "text/plain": [
       "   npreg glu bp skin bmi  ped   age\n",
       "1  6     148 72 35   33.6 0.627 50 \n",
       "4  3      78 50 32   31.0 0.248 26 \n",
       "5  2     197 70 45   30.5 0.158 53 \n",
       "6  5     166 72 19   25.8 0.587 51 \n",
       "7  0     118 84 47   45.8 0.551 31 \n",
       "10 9     119 80 35   29.0 0.263 29 "
      ]
     },
     "metadata": {},
     "output_type": "display_data"
    },
    {
     "data": {
      "text/html": [
       "<table class=\"dataframe\">\n",
       "<caption>A data.frame: 6 × 7</caption>\n",
       "<thead>\n",
       "\t<tr><th></th><th scope=col>npreg</th><th scope=col>glu</th><th scope=col>bp</th><th scope=col>skin</th><th scope=col>bmi</th><th scope=col>ped</th><th scope=col>age</th></tr>\n",
       "\t<tr><th></th><th scope=col>&lt;int&gt;</th><th scope=col>&lt;int&gt;</th><th scope=col>&lt;int&gt;</th><th scope=col>&lt;int&gt;</th><th scope=col>&lt;dbl&gt;</th><th scope=col>&lt;dbl&gt;</th><th scope=col>&lt;int&gt;</th></tr>\n",
       "</thead>\n",
       "<tbody>\n",
       "\t<tr><th scope=row>2</th><td>1</td><td> 85</td><td>66</td><td>29</td><td>26.6</td><td>0.351</td><td>31</td></tr>\n",
       "\t<tr><th scope=row>3</th><td>1</td><td> 89</td><td>66</td><td>23</td><td>28.1</td><td>0.167</td><td>21</td></tr>\n",
       "\t<tr><th scope=row>8</th><td>1</td><td>103</td><td>30</td><td>38</td><td>43.3</td><td>0.183</td><td>33</td></tr>\n",
       "\t<tr><th scope=row>9</th><td>3</td><td>126</td><td>88</td><td>41</td><td>39.3</td><td>0.704</td><td>27</td></tr>\n",
       "\t<tr><th scope=row>11</th><td>1</td><td> 97</td><td>66</td><td>15</td><td>23.2</td><td>0.487</td><td>22</td></tr>\n",
       "\t<tr><th scope=row>12</th><td>5</td><td>109</td><td>75</td><td>26</td><td>36.0</td><td>0.546</td><td>60</td></tr>\n",
       "</tbody>\n",
       "</table>\n"
      ],
      "text/latex": [
       "A data.frame: 6 × 7\n",
       "\\begin{tabular}{r|lllllll}\n",
       "  & npreg & glu & bp & skin & bmi & ped & age\\\\\n",
       "  & <int> & <int> & <int> & <int> & <dbl> & <dbl> & <int>\\\\\n",
       "\\hline\n",
       "\t2 & 1 &  85 & 66 & 29 & 26.6 & 0.351 & 31\\\\\n",
       "\t3 & 1 &  89 & 66 & 23 & 28.1 & 0.167 & 21\\\\\n",
       "\t8 & 1 & 103 & 30 & 38 & 43.3 & 0.183 & 33\\\\\n",
       "\t9 & 3 & 126 & 88 & 41 & 39.3 & 0.704 & 27\\\\\n",
       "\t11 & 1 &  97 & 66 & 15 & 23.2 & 0.487 & 22\\\\\n",
       "\t12 & 5 & 109 & 75 & 26 & 36.0 & 0.546 & 60\\\\\n",
       "\\end{tabular}\n"
      ],
      "text/markdown": [
       "\n",
       "A data.frame: 6 × 7\n",
       "\n",
       "| <!--/--> | npreg &lt;int&gt; | glu &lt;int&gt; | bp &lt;int&gt; | skin &lt;int&gt; | bmi &lt;dbl&gt; | ped &lt;dbl&gt; | age &lt;int&gt; |\n",
       "|---|---|---|---|---|---|---|---|\n",
       "| 2 | 1 |  85 | 66 | 29 | 26.6 | 0.351 | 31 |\n",
       "| 3 | 1 |  89 | 66 | 23 | 28.1 | 0.167 | 21 |\n",
       "| 8 | 1 | 103 | 30 | 38 | 43.3 | 0.183 | 33 |\n",
       "| 9 | 3 | 126 | 88 | 41 | 39.3 | 0.704 | 27 |\n",
       "| 11 | 1 |  97 | 66 | 15 | 23.2 | 0.487 | 22 |\n",
       "| 12 | 5 | 109 | 75 | 26 | 36.0 | 0.546 | 60 |\n",
       "\n"
      ],
      "text/plain": [
       "   npreg glu bp skin bmi  ped   age\n",
       "2  1      85 66 29   26.6 0.351 31 \n",
       "3  1      89 66 23   28.1 0.167 21 \n",
       "8  1     103 30 38   43.3 0.183 33 \n",
       "9  3     126 88 41   39.3 0.704 27 \n",
       "11 1      97 66 15   23.2 0.487 22 \n",
       "12 5     109 75 26   36.0 0.546 60 "
      ]
     },
     "metadata": {},
     "output_type": "display_data"
    }
   ],
   "source": [
    "Pima.te_yes = Pima.te[Pima.te$type == \"Yes\", 1:7]\n",
    "Pima.te_no = Pima.te[Pima.te$type == \"No\", 1:7]\n",
    "head(Pima.te_yes)\n",
    "head(Pima.te_no)"
   ]
  },
  {
   "cell_type": "code",
   "execution_count": 355,
   "id": "98a9ea92",
   "metadata": {},
   "outputs": [
    {
     "data": {
      "text/plain": [
       "Call:\n",
       "lda(type ~ ., data = Pima.te, prior = c(0.5, 0.5))\n",
       "\n",
       "Prior probabilities of groups:\n",
       " No Yes \n",
       "0.5 0.5 \n",
       "\n",
       "Group means:\n",
       "       npreg      glu       bp     skin      bmi       ped      age\n",
       "No  2.932735 108.1883 70.13004 27.34081 31.63991 0.4645650 29.21525\n",
       "Yes 4.614679 141.9083 74.77064 32.88991 36.51284 0.6589633 35.61468\n",
       "\n",
       "Coefficients of linear discriminants:\n",
       "               LD1\n",
       "npreg  0.099984437\n",
       "glu    0.028389957\n",
       "bp    -0.004602843\n",
       "skin   0.004726554\n",
       "bmi    0.052002256\n",
       "ped    0.615724201\n",
       "age    0.012235784"
      ]
     },
     "metadata": {},
     "output_type": "display_data"
    }
   ],
   "source": [
    "model_lda1 = lda(type ~ ., data =Pima.te, prior = c(0.5, 0.5))\n",
    "model_lda1"
   ]
  },
  {
   "cell_type": "code",
   "execution_count": 356,
   "id": "e1f07fa8",
   "metadata": {},
   "outputs": [
    {
     "data": {
      "text/plain": [
       "     Predicted\n",
       "True   No Yes\n",
       "  No  183  40\n",
       "  Yes  28  81"
      ]
     },
     "metadata": {},
     "output_type": "display_data"
    },
    {
     "data": {
      "text/html": [
       "20.4819277108434"
      ],
      "text/latex": [
       "20.4819277108434"
      ],
      "text/markdown": [
       "20.4819277108434"
      ],
      "text/plain": [
       "[1] 20.48193"
      ]
     },
     "metadata": {},
     "output_type": "display_data"
    }
   ],
   "source": [
    "(T1 = table(True = Pima.te$type, Predicted = predict(model_lda1)$class))\n",
    "(T1[1,2] + T1[2,1]) / sum(T1) * 100"
   ]
  },
  {
   "cell_type": "code",
   "execution_count": 357,
   "id": "f09d495b",
   "metadata": {},
   "outputs": [
    {
     "data": {
      "text/plain": [
       "Call:\n",
       "qda(type ~ ., data = Pima.te, prior = c(0.5, 0.5))\n",
       "\n",
       "Prior probabilities of groups:\n",
       " No Yes \n",
       "0.5 0.5 \n",
       "\n",
       "Group means:\n",
       "       npreg      glu       bp     skin      bmi       ped      age\n",
       "No  2.932735 108.1883 70.13004 27.34081 31.63991 0.4645650 29.21525\n",
       "Yes 4.614679 141.9083 74.77064 32.88991 36.51284 0.6589633 35.61468"
      ]
     },
     "metadata": {},
     "output_type": "display_data"
    }
   ],
   "source": [
    "model_qda1 <- qda(type ~ ., data =Pima.te, prior = c(0.5, 0.5))\n",
    "model_qda1"
   ]
  },
  {
   "cell_type": "code",
   "execution_count": 358,
   "id": "f9dd72ea",
   "metadata": {},
   "outputs": [
    {
     "data": {
      "text/plain": [
       "     Predicted\n",
       "True   No Yes\n",
       "  No  179  44\n",
       "  Yes  26  83"
      ]
     },
     "metadata": {},
     "output_type": "display_data"
    },
    {
     "data": {
      "text/html": [
       "21.0843373493976"
      ],
      "text/latex": [
       "21.0843373493976"
      ],
      "text/markdown": [
       "21.0843373493976"
      ],
      "text/plain": [
       "[1] 21.08434"
      ]
     },
     "metadata": {},
     "output_type": "display_data"
    }
   ],
   "source": [
    "(T2 = table(True = Pima.te$type, Predicted = predict(model_qda1)$class))\n",
    "(T2[1,2] + T2[2,1]) / sum(T2) * 100"
   ]
  },
  {
   "cell_type": "markdown",
   "id": "d5364ea5",
   "metadata": {},
   "source": [
    "### Interpretacja\n",
    "- Przy metodzie LDA błąd klasyfikacji wynosi 20.48 co jest lepszym wynikiem niż w przypadku metody QDA, w której błąd wynosi 21.08."
   ]
  },
  {
   "cell_type": "code",
   "execution_count": 359,
   "id": "3e12de45",
   "metadata": {},
   "outputs": [
    {
     "data": {
      "text/plain": [
       "$class\n",
       "  [1] Yes No  No  No  Yes Yes No  No  Yes No  No  Yes No  Yes No  Yes No  Yes\n",
       " [19] Yes No  Yes Yes No  No  No  No  Yes No  No  No  No  No  Yes No  No  No \n",
       " [37] No  No  No  No  Yes No  Yes No  No  No  No  Yes No  No  Yes No  Yes No \n",
       " [55] Yes No  No  No  Yes Yes No  No  No  No  No  No  No  Yes Yes Yes No  Yes\n",
       " [73] Yes No  No  No  No  Yes Yes No  No  No  No  No  No  Yes No  Yes No  No \n",
       " [91] No  Yes No  No  Yes Yes No  Yes No  Yes Yes No  No  Yes Yes Yes Yes Yes\n",
       "[109] No  No  No  No  Yes No  No  Yes Yes No  No  No  No  No  Yes Yes Yes No \n",
       "[127] No  No  Yes No  No  Yes No  Yes No  No  Yes No  Yes No  Yes No  No  No \n",
       "[145] No  No  Yes No  No  No  No  Yes No  No  No  Yes Yes No  Yes No  No  Yes\n",
       "[163] No  No  No  No  No  No  No  No  No  Yes No  No  Yes No  Yes Yes No  Yes\n",
       "[181] No  No  Yes Yes Yes No  Yes No  No  Yes Yes No  No  No  No  Yes No  Yes\n",
       "[199] No  No  No  No  Yes No  No  No  No  No  Yes No  Yes Yes No  No  Yes Yes\n",
       "[217] Yes No  No  No  Yes No  Yes No  No  No  No  No  No  Yes Yes No  No  No \n",
       "[235] No  No  No  No  No  No  No  Yes Yes No  No  No  No  No  Yes No  No  No \n",
       "[253] No  Yes No  No  Yes Yes No  No  Yes No  No  No  Yes No  Yes Yes No  Yes\n",
       "[271] No  Yes No  No  No  No  No  Yes No  No  Yes Yes No  Yes No  No  Yes No \n",
       "[289] No  Yes No  Yes Yes No  No  No  Yes Yes No  No  No  No  Yes No  Yes Yes\n",
       "[307] No  No  Yes No  No  Yes No  No  No  No  Yes No  No  Yes Yes Yes Yes No \n",
       "[325] No  Yes Yes No  Yes Yes No  No \n",
       "Levels: No Yes\n",
       "\n",
       "$posterior\n",
       "             No        Yes\n",
       "1   0.147203481 0.85279652\n",
       "2   0.954569660 0.04543034\n",
       "3   0.959262635 0.04073737\n",
       "4   0.949375623 0.05062438\n",
       "5   0.064873316 0.93512668\n",
       "6   0.169291095 0.83070891\n",
       "7   0.508815416 0.49118458\n",
       "8   0.621571876 0.37842812\n",
       "9   0.403455187 0.59654481\n",
       "10  0.593351915 0.40664809\n",
       "11  0.949326905 0.05067309\n",
       "12  0.444427308 0.55557269\n",
       "13  0.955887968 0.04411203\n",
       "14  0.370147298 0.62985270\n",
       "15  0.774481335 0.22551866\n",
       "16  0.495389521 0.50461048\n",
       "17  0.840080031 0.15991997\n",
       "18  0.300075076 0.69992492\n",
       "19  0.110752049 0.88924795\n",
       "20  0.816749750 0.18325025\n",
       "21  0.016875997 0.98312400\n",
       "22  0.022723034 0.97727697\n",
       "23  0.967524454 0.03247555\n",
       "24  0.957251040 0.04274896\n",
       "25  0.919128533 0.08087147\n",
       "26  0.926991516 0.07300848\n",
       "27  0.095639318 0.90436068\n",
       "28  0.985665483 0.01433452\n",
       "29  0.785581981 0.21441802\n",
       "30  0.855273421 0.14472658\n",
       "31  0.789120147 0.21087985\n",
       "32  0.968649502 0.03135050\n",
       "33  0.495775435 0.50422457\n",
       "34  0.803043356 0.19695664\n",
       "35  0.582148197 0.41785180\n",
       "36  0.752007240 0.24799276\n",
       "37  0.883835222 0.11616478\n",
       "38  0.894612908 0.10538709\n",
       "39  0.825487102 0.17451290\n",
       "40  0.949468016 0.05053198\n",
       "41  0.252299447 0.74770055\n",
       "42  0.800189550 0.19981045\n",
       "43  0.095710279 0.90428972\n",
       "44  0.610945416 0.38905458\n",
       "45  0.606778740 0.39322126\n",
       "46  0.923078000 0.07692200\n",
       "47  0.849000587 0.15099941\n",
       "48  0.407605954 0.59239405\n",
       "49  0.972278267 0.02772173\n",
       "50  0.666348632 0.33365137\n",
       "51  0.386359148 0.61364085\n",
       "52  0.944243940 0.05575606\n",
       "53  0.114320639 0.88567936\n",
       "54  0.878365351 0.12163465\n",
       "55  0.057082687 0.94291731\n",
       "56  0.813219684 0.18678032\n",
       "57  0.668483235 0.33151676\n",
       "58  0.739419314 0.26058069\n",
       "59  0.185872193 0.81412781\n",
       "60  0.146669763 0.85333024\n",
       "61  0.684463214 0.31553679\n",
       "62  0.898720326 0.10127967\n",
       "63  0.934066206 0.06593379\n",
       "64  0.604475842 0.39552416\n",
       "65  0.814791743 0.18520826\n",
       "66  0.603278870 0.39672113\n",
       "67  0.959208259 0.04079174\n",
       "68  0.052830394 0.94716961\n",
       "69  0.201520384 0.79847962\n",
       "70  0.055268779 0.94473122\n",
       "71  0.951622971 0.04837703\n",
       "72  0.006509018 0.99349098\n",
       "73  0.339632433 0.66036757\n",
       "74  0.566840772 0.43315923\n",
       "75  0.677428208 0.32257179\n",
       "76  0.686372964 0.31362704\n",
       "77  0.954617021 0.04538298\n",
       "78  0.036730032 0.96326997\n",
       "79  0.176813387 0.82318661\n",
       "80  0.510615494 0.48938451\n",
       "81  0.646399503 0.35360050\n",
       "82  0.583428247 0.41657175\n",
       "83  0.808558205 0.19144179\n",
       "84  0.850143453 0.14985655\n",
       "85  0.821130645 0.17886935\n",
       "86  0.009626960 0.99037304\n",
       "87  0.959286604 0.04071340\n",
       "88  0.274674404 0.72532560\n",
       "89  0.619209393 0.38079061\n",
       "90  0.510717752 0.48928225\n",
       "91  0.835198299 0.16480170\n",
       "92  0.138633450 0.86136655\n",
       "93  0.924614453 0.07538555\n",
       "94  0.943435163 0.05656484\n",
       "95  0.132189935 0.86781007\n",
       "96  0.002044485 0.99795552\n",
       "97  0.661780000 0.33822000\n",
       "98  0.161980528 0.83801947\n",
       "99  0.960892405 0.03910760\n",
       "100 0.032900240 0.96709976\n",
       "101 0.084679411 0.91532059\n",
       "102 0.949326287 0.05067371\n",
       "103 0.863547274 0.13645273\n",
       "104 0.440112041 0.55988796\n",
       "105 0.322454068 0.67754593\n",
       "106 0.020369764 0.97963024\n",
       "107 0.075539413 0.92446059\n",
       "108 0.322147514 0.67785249\n",
       "109 0.896155182 0.10384482\n",
       "110 0.964342624 0.03565738\n",
       "111 0.771147512 0.22885249\n",
       "112 0.714669778 0.28533022\n",
       "113 0.029617632 0.97038237\n",
       "114 0.824493199 0.17550680\n",
       "115 0.639649940 0.36035006\n",
       "116 0.286041526 0.71395847\n",
       "117 0.204235237 0.79576476\n",
       "118 0.910391617 0.08960838\n",
       "119 0.662700053 0.33729995\n",
       "120 0.792916217 0.20708378\n",
       "121 0.911350644 0.08864936\n",
       "122 0.846770350 0.15322965\n",
       "123 0.407866892 0.59213311\n",
       "124 0.310851057 0.68914894\n",
       "125 0.420739791 0.57926021\n",
       "126 0.935447725 0.06455228\n",
       "127 0.949949942 0.05005006\n",
       "128 0.758811180 0.24118882\n",
       "129 0.138051126 0.86194887\n",
       "130 0.533804939 0.46619506\n",
       "131 0.751546770 0.24845323\n",
       "132 0.457190368 0.54280963\n",
       "133 0.600109573 0.39989043\n",
       "134 0.133896545 0.86610345\n",
       "135 0.568601373 0.43139863\n",
       "136 0.543390328 0.45660967\n",
       "137 0.489097944 0.51090206\n",
       "138 0.743336517 0.25666348\n",
       "139 0.356190668 0.64380933\n",
       "140 0.644386883 0.35561312\n",
       "141 0.096111391 0.90388861\n",
       "142 0.793847119 0.20615288\n",
       "143 0.575722250 0.42427775\n",
       "144 0.590994758 0.40900524\n",
       "145 0.762243231 0.23775677\n",
       "146 0.752041999 0.24795800\n",
       "147 0.343701448 0.65629855\n",
       "148 0.932449732 0.06755027\n",
       "149 0.957674838 0.04232516\n",
       "150 0.779990973 0.22000903\n",
       "151 0.913117880 0.08688212\n",
       "152 0.235145198 0.76485480\n",
       "153 0.551232826 0.44876717\n",
       "154 0.937219632 0.06278037\n",
       "155 0.515954884 0.48404512\n",
       "156 0.039937091 0.96006291\n",
       "157 0.055575541 0.94442446\n",
       "158 0.503774375 0.49622563\n",
       "159 0.299549668 0.70045033\n",
       "160 0.721236833 0.27876317\n",
       "161 0.964559957 0.03544004\n",
       "162 0.021795649 0.97820435\n",
       "163 0.926032273 0.07396773\n",
       "164 0.960257454 0.03974255\n",
       "165 0.879606574 0.12039343\n",
       "166 0.695925588 0.30407441\n",
       "167 0.961055674 0.03894433\n",
       "168 0.900523509 0.09947649\n",
       "169 0.849887352 0.15011265\n",
       "170 0.897483541 0.10251646\n",
       "171 0.561245266 0.43875473\n",
       "172 0.452963413 0.54703659\n",
       "173 0.762045400 0.23795460\n",
       "174 0.810380206 0.18961979\n",
       "175 0.421195250 0.57880475\n",
       "176 0.819447953 0.18055205\n",
       "177 0.074567692 0.92543231\n",
       "178 0.378639908 0.62136009\n",
       "179 0.879240419 0.12075958\n",
       "180 0.072916602 0.92708340\n",
       "181 0.631950856 0.36804914\n",
       "182 0.762381798 0.23761820\n",
       "183 0.207097666 0.79290233\n",
       "184 0.176163975 0.82383603\n",
       "185 0.219818631 0.78018137\n",
       "186 0.732801880 0.26719812\n",
       "187 0.488842599 0.51115740\n",
       "188 0.931696970 0.06830303\n",
       "189 0.763134439 0.23686556\n",
       "190 0.073798383 0.92620162\n",
       "191 0.123662774 0.87633723\n",
       "192 0.894807224 0.10519278\n",
       "193 0.885857129 0.11414287\n",
       "194 0.960497873 0.03950213\n",
       "195 0.907383372 0.09261663\n",
       "196 0.123687936 0.87631206\n",
       "197 0.696605417 0.30339458\n",
       "198 0.002359497 0.99764050\n",
       "199 0.859670734 0.14032927\n",
       "200 0.831902249 0.16809775\n",
       "201 0.978843086 0.02115691\n",
       "202 0.870644000 0.12935600\n",
       "203 0.135813602 0.86418640\n",
       "204 0.506118955 0.49388104\n",
       "205 0.755391570 0.24460843\n",
       "206 0.903880626 0.09611937\n",
       "207 0.877988749 0.12201125\n",
       "208 0.834700375 0.16529963\n",
       "209 0.267387101 0.73261290\n",
       "210 0.646920457 0.35307954\n",
       "211 0.406744997 0.59325500\n",
       "212 0.212946219 0.78705378\n",
       "213 0.740545184 0.25945482\n",
       "214 0.934650113 0.06534989\n",
       "215 0.440134719 0.55986528\n",
       "216 0.334300087 0.66569991\n",
       "217 0.014210707 0.98578929\n",
       "218 0.880010953 0.11998905\n",
       "219 0.894261318 0.10573868\n",
       "220 0.821432774 0.17856723\n",
       "221 0.435874437 0.56412556\n",
       "222 0.945310828 0.05468917\n",
       "223 0.152208094 0.84779191\n",
       "224 0.883384388 0.11661561\n",
       "225 0.886409636 0.11359036\n",
       "226 0.635868065 0.36413193\n",
       "227 0.782332030 0.21766797\n",
       "228 0.742108453 0.25789155\n",
       "229 0.923489864 0.07651014\n",
       "230 0.294189871 0.70581013\n",
       "231 0.131603591 0.86839641\n",
       "232 0.568831208 0.43116879\n",
       "233 0.983550372 0.01644963\n",
       "234 0.959955521 0.04004448\n",
       "235 0.689619574 0.31038043\n",
       "236 0.881708679 0.11829132\n",
       "237 0.561628319 0.43837168\n",
       "238 0.573924461 0.42607554\n",
       "239 0.502263250 0.49773675\n",
       "240 0.886606781 0.11339322\n",
       "241 0.929137163 0.07086284\n",
       "242 0.036438240 0.96356176\n",
       "243 0.010129660 0.98987034\n",
       "244 0.565640171 0.43435983\n",
       "245 0.875503419 0.12449658\n",
       "246 0.902090712 0.09790929\n",
       "247 0.938710542 0.06128946\n",
       "248 0.900556932 0.09944307\n",
       "249 0.233292603 0.76670740\n",
       "250 0.811116876 0.18888312\n",
       "251 0.830525596 0.16947440\n",
       "252 0.791648036 0.20835196\n",
       "253 0.879793764 0.12020624\n",
       "254 0.465433955 0.53456605\n",
       "255 0.645542387 0.35445761\n",
       "256 0.683663330 0.31633667\n",
       "257 0.052626320 0.94737368\n",
       "258 0.111550432 0.88844957\n",
       "259 0.692771589 0.30722841\n",
       "260 0.825995704 0.17400430\n",
       "261 0.357156747 0.64284325\n",
       "262 0.925042642 0.07495736\n",
       "263 0.907443306 0.09255669\n",
       "264 0.620476362 0.37952364\n",
       "265 0.045182104 0.95481790\n",
       "266 0.964802892 0.03519711\n",
       "267 0.291233450 0.70876655\n",
       "268 0.111101385 0.88889861\n",
       "269 0.629149067 0.37085093\n",
       "270 0.105076277 0.89492372\n",
       "271 0.989588713 0.01041129\n",
       "272 0.358874212 0.64112579\n",
       "273 0.835636146 0.16436385\n",
       "274 0.810530694 0.18946931\n",
       "275 0.940218901 0.05978110\n",
       "276 0.883598928 0.11640107\n",
       "277 0.835994465 0.16400554\n",
       "278 0.496551377 0.50344862\n",
       "279 0.967860442 0.03213956\n",
       "280 0.828035830 0.17196417\n",
       "281 0.122824350 0.87717565\n",
       "282 0.287713858 0.71228614\n",
       "283 0.724887849 0.27511215\n",
       "284 0.262141294 0.73785871\n",
       "285 0.943955588 0.05604441\n",
       "286 0.798374586 0.20162541\n",
       "287 0.317942821 0.68205718\n",
       "288 0.635700630 0.36429937\n",
       "289 0.652747671 0.34725233\n",
       "290 0.067952811 0.93204719\n",
       "291 0.844164927 0.15583507\n",
       "292 0.124780931 0.87521907\n",
       "293 0.120958926 0.87904107\n",
       "294 0.788585783 0.21141422\n",
       "295 0.580097607 0.41990239\n",
       "296 0.887524780 0.11247522\n",
       "297 0.374625398 0.62537460\n",
       "298 0.260384440 0.73961556\n",
       "299 0.838649603 0.16135040\n",
       "300 0.637334478 0.36266552\n",
       "301 0.813191300 0.18680870\n",
       "302 0.538772470 0.46122753\n",
       "303 0.142143144 0.85785686\n",
       "304 0.768797205 0.23120280\n",
       "305 0.023363598 0.97663640\n",
       "306 0.085224309 0.91477569\n",
       "307 0.701787042 0.29821296\n",
       "308 0.759622981 0.24037702\n",
       "309 0.484781055 0.51521895\n",
       "310 0.716229556 0.28377044\n",
       "311 0.605772168 0.39422783\n",
       "312 0.069109134 0.93089087\n",
       "313 0.855869164 0.14413084\n",
       "314 0.812263816 0.18773618\n",
       "315 0.881500701 0.11849930\n",
       "316 0.824954840 0.17504516\n",
       "317 0.112963734 0.88703627\n",
       "318 0.825123433 0.17487657\n",
       "319 0.893683458 0.10631654\n",
       "320 0.012789306 0.98721069\n",
       "321 0.488439269 0.51156073\n",
       "322 0.204961062 0.79503894\n",
       "323 0.063584325 0.93641567\n",
       "324 0.633680561 0.36631944\n",
       "325 0.879390564 0.12060944\n",
       "326 0.104374378 0.89562562\n",
       "327 0.417296518 0.58270348\n",
       "328 0.911407552 0.08859245\n",
       "329 0.024340720 0.97565928\n",
       "330 0.424483619 0.57551638\n",
       "331 0.736274931 0.26372507\n",
       "332 0.929066283 0.07093372\n",
       "\n",
       "$terms\n",
       "type ~ npreg + glu + bp + skin + bmi + ped + age\n",
       "attr(,\"variables\")\n",
       "list(type, npreg, glu, bp, skin, bmi, ped, age)\n",
       "attr(,\"factors\")\n",
       "      npreg glu bp skin bmi ped age\n",
       "type      0   0  0    0   0   0   0\n",
       "npreg     1   0  0    0   0   0   0\n",
       "glu       0   1  0    0   0   0   0\n",
       "bp        0   0  1    0   0   0   0\n",
       "skin      0   0  0    1   0   0   0\n",
       "bmi       0   0  0    0   1   0   0\n",
       "ped       0   0  0    0   0   1   0\n",
       "age       0   0  0    0   0   0   1\n",
       "attr(,\"term.labels\")\n",
       "[1] \"npreg\" \"glu\"   \"bp\"    \"skin\"  \"bmi\"   \"ped\"   \"age\"  \n",
       "attr(,\"order\")\n",
       "[1] 1 1 1 1 1 1 1\n",
       "attr(,\"intercept\")\n",
       "[1] 1\n",
       "attr(,\"response\")\n",
       "[1] 1\n",
       "attr(,\".Environment\")\n",
       "<environment: R_GlobalEnv>\n",
       "attr(,\"predvars\")\n",
       "list(type, npreg, glu, bp, skin, bmi, ped, age)\n",
       "attr(,\"dataClasses\")\n",
       "     type     npreg       glu        bp      skin       bmi       ped       age \n",
       " \"factor\" \"numeric\" \"numeric\" \"numeric\" \"numeric\" \"numeric\" \"numeric\" \"numeric\" \n",
       "\n",
       "$call\n",
       "lda(formula = type ~ ., data = Pima.te, prior = c(0.5, 0.5), \n",
       "    CV = TRUE)\n",
       "\n",
       "$xlevels\n",
       "named list()\n"
      ]
     },
     "metadata": {},
     "output_type": "display_data"
    }
   ],
   "source": [
    "cross_val_lda = lda(type ~ ., data =Pima.te, prior = c(0.5, 0.5), CV=TRUE)\n",
    "cross_val_lda"
   ]
  },
  {
   "cell_type": "code",
   "execution_count": 360,
   "id": "6c1b4665",
   "metadata": {},
   "outputs": [
    {
     "data": {
      "text/plain": [
       "     Predicted\n",
       "True   No Yes\n",
       "  No  181  42\n",
       "  Yes  32  77"
      ]
     },
     "metadata": {},
     "output_type": "display_data"
    },
    {
     "data": {
      "text/html": [
       "22.289156626506"
      ],
      "text/latex": [
       "22.289156626506"
      ],
      "text/markdown": [
       "22.289156626506"
      ],
      "text/plain": [
       "[1] 22.28916"
      ]
     },
     "metadata": {},
     "output_type": "display_data"
    }
   ],
   "source": [
    "(T1CV = table(Pima.te$type, cross_val_lda$class,dnn=c(\"True\",\"Predicted\")))\n",
    "(T1CV[1,2] + T1CV[2,1]) / sum(T1CV) * 100"
   ]
  },
  {
   "cell_type": "code",
   "execution_count": 361,
   "id": "c91accd9",
   "metadata": {},
   "outputs": [
    {
     "data": {
      "text/plain": [
       "$class\n",
       "  [1] Yes No  No  No  Yes Yes Yes Yes No  Yes No  Yes No  Yes No  No  No  No \n",
       " [19] Yes No  Yes Yes No  No  No  No  Yes No  No  No  No  No  No  No  No  No \n",
       " [37] No  No  No  No  Yes No  Yes No  Yes No  No  No  No  No  Yes No  Yes No \n",
       " [55] Yes No  No  No  Yes Yes No  No  No  No  No  Yes No  Yes Yes Yes No  Yes\n",
       " [73] Yes No  No  No  No  Yes Yes Yes Yes Yes No  No  No  Yes No  Yes No  No \n",
       " [91] No  Yes No  No  Yes Yes No  Yes No  Yes Yes No  No  No  Yes Yes Yes Yes\n",
       "[109] No  No  No  No  Yes No  No  Yes Yes No  Yes No  No  No  Yes Yes Yes No \n",
       "[127] No  No  Yes No  No  No  No  Yes No  No  No  No  Yes No  Yes No  Yes No \n",
       "[145] No  No  Yes No  No  No  No  Yes No  No  No  Yes Yes Yes Yes No  No  Yes\n",
       "[163] No  No  No  Yes No  No  No  No  No  Yes No  No  Yes No  Yes No  No  Yes\n",
       "[181] No  No  Yes Yes Yes No  No  No  No  Yes Yes No  No  No  No  Yes No  Yes\n",
       "[199] No  No  No  No  Yes Yes Yes No  No  No  Yes No  Yes Yes No  No  Yes Yes\n",
       "[217] Yes No  No  No  No  No  Yes No  No  No  No  Yes No  Yes Yes Yes No  No \n",
       "[235] No  Yes No  No  Yes No  No  Yes Yes No  No  No  No  No  Yes No  No  No \n",
       "[253] No  No  No  No  Yes Yes No  Yes No  No  No  No  Yes No  Yes Yes No  Yes\n",
       "[271] No  Yes No  No  No  No  No  Yes No  No  Yes Yes No  Yes No  No  Yes Yes\n",
       "[289] No  Yes Yes Yes Yes No  No  No  Yes Yes No  No  No  No  Yes No  Yes Yes\n",
       "[307] Yes No  No  No  No  Yes No  No  No  No  Yes No  No  Yes Yes Yes Yes No \n",
       "[325] No  Yes Yes No  Yes No  No  No \n",
       "Levels: No Yes\n",
       "\n",
       "$posterior\n",
       "              No         Yes\n",
       "1   4.506645e-01 0.549335505\n",
       "2   9.383450e-01 0.061655025\n",
       "3   9.873793e-01 0.012620724\n",
       "4   9.459234e-01 0.054076643\n",
       "5   2.616620e-01 0.738337973\n",
       "6   6.869945e-02 0.931300553\n",
       "7   4.649526e-01 0.535047363\n",
       "8   8.050953e-02 0.919490471\n",
       "9   5.719059e-01 0.428094063\n",
       "10  2.959838e-01 0.704016194\n",
       "11  9.949952e-01 0.005004753\n",
       "12  2.422107e-01 0.757789326\n",
       "13  9.960890e-01 0.003910998\n",
       "14  2.665694e-01 0.733430586\n",
       "15  6.654905e-01 0.334509541\n",
       "16  6.039944e-01 0.396005621\n",
       "17  8.153812e-01 0.184618818\n",
       "18  6.359322e-01 0.364067782\n",
       "19  1.551599e-02 0.984484013\n",
       "20  6.787192e-01 0.321280805\n",
       "21  3.386742e-03 0.996613258\n",
       "22  1.170326e-03 0.998829674\n",
       "23  9.658190e-01 0.034180968\n",
       "24  9.971468e-01 0.002853248\n",
       "25  9.843969e-01 0.015603056\n",
       "26  9.622553e-01 0.037744730\n",
       "27  2.946943e-01 0.705305718\n",
       "28  9.982390e-01 0.001761012\n",
       "29  7.339317e-01 0.266068348\n",
       "30  9.175144e-01 0.082485572\n",
       "31  5.330609e-01 0.466939094\n",
       "32  9.946708e-01 0.005329213\n",
       "33  5.616602e-01 0.438339780\n",
       "34  9.499887e-01 0.050011254\n",
       "35  8.540795e-01 0.145920507\n",
       "36  8.168348e-01 0.183165238\n",
       "37  9.681483e-01 0.031851724\n",
       "38  9.596833e-01 0.040316721\n",
       "39  7.283932e-01 0.271606807\n",
       "40  9.634467e-01 0.036553273\n",
       "41  7.858874e-02 0.921411263\n",
       "42  9.069853e-01 0.093014745\n",
       "43  3.429514e-04 0.999657049\n",
       "44  8.500658e-01 0.149934180\n",
       "45  3.732947e-01 0.626705273\n",
       "46  9.564652e-01 0.043534825\n",
       "47  7.657500e-01 0.234249997\n",
       "48  5.741701e-01 0.425829874\n",
       "49  9.930396e-01 0.006960416\n",
       "50  8.158121e-01 0.184187866\n",
       "51  4.056413e-01 0.594358655\n",
       "52  9.547365e-01 0.045263530\n",
       "53  1.061488e-01 0.893851195\n",
       "54  9.631256e-01 0.036874396\n",
       "55  5.380204e-02 0.946197962\n",
       "56  9.362891e-01 0.063710941\n",
       "57  9.296761e-01 0.070323888\n",
       "58  6.751690e-01 0.324830976\n",
       "59  7.674190e-02 0.923258096\n",
       "60  1.044993e-01 0.895500705\n",
       "61  5.159315e-01 0.484068461\n",
       "62  9.641161e-01 0.035883938\n",
       "63  9.699700e-01 0.030029974\n",
       "64  7.092688e-01 0.290731203\n",
       "65  9.260391e-01 0.073960865\n",
       "66  1.524894e-01 0.847510573\n",
       "67  9.928908e-01 0.007109246\n",
       "68  2.315558e-02 0.976844419\n",
       "69  2.519550e-01 0.748045043\n",
       "70  8.312319e-02 0.916876814\n",
       "71  9.921414e-01 0.007858583\n",
       "72  2.888907e-05 0.999971111\n",
       "73  4.263814e-01 0.573618648\n",
       "74  8.009996e-01 0.199000437\n",
       "75  6.128801e-01 0.387119917\n",
       "76  8.318036e-01 0.168196350\n",
       "77  9.456976e-01 0.054302380\n",
       "78  1.552150e-02 0.984478504\n",
       "79  1.388673e-01 0.861132707\n",
       "80  1.180195e-01 0.881980495\n",
       "81  4.370340e-01 0.562966007\n",
       "82  4.886045e-01 0.511395450\n",
       "83  9.806563e-01 0.019343719\n",
       "84  8.908206e-01 0.109179439\n",
       "85  8.758207e-01 0.124179337\n",
       "86  2.492380e-03 0.997507620\n",
       "87  9.826130e-01 0.017387036\n",
       "88  2.971963e-01 0.702803745\n",
       "89  6.715907e-01 0.328409257\n",
       "90  6.596262e-01 0.340373835\n",
       "91  7.629424e-01 0.237057616\n",
       "92  4.260649e-01 0.573935136\n",
       "93  9.882408e-01 0.011759183\n",
       "94  9.731058e-01 0.026894235\n",
       "95  1.245213e-01 0.875478671\n",
       "96  2.790527e-08 0.999999972\n",
       "97  5.978970e-01 0.402103017\n",
       "98  2.718850e-01 0.728115032\n",
       "99  9.697220e-01 0.030277987\n",
       "100 5.621982e-03 0.994378018\n",
       "101 7.447250e-02 0.925527495\n",
       "102 9.832996e-01 0.016700350\n",
       "103 9.104682e-01 0.089531817\n",
       "104 5.843167e-01 0.415683292\n",
       "105 4.626370e-01 0.537362950\n",
       "106 2.949864e-03 0.997050136\n",
       "107 1.472059e-02 0.985279405\n",
       "108 1.593096e-01 0.840690428\n",
       "109 9.821465e-01 0.017853490\n",
       "110 9.959766e-01 0.004023361\n",
       "111 8.721133e-01 0.127886676\n",
       "112 7.980505e-01 0.201949481\n",
       "113 1.025117e-02 0.989748825\n",
       "114 8.818919e-01 0.118108144\n",
       "115 6.277836e-01 0.372216449\n",
       "116 2.121542e-01 0.787845798\n",
       "117 2.097756e-02 0.979022441\n",
       "118 9.253311e-01 0.074668900\n",
       "119 4.836620e-01 0.516337992\n",
       "120 7.956559e-01 0.204344143\n",
       "121 9.717730e-01 0.028227040\n",
       "122 9.940295e-01 0.005970501\n",
       "123 3.219986e-01 0.678001434\n",
       "124 4.265695e-01 0.573430478\n",
       "125 3.874240e-01 0.612575986\n",
       "126 9.793604e-01 0.020639598\n",
       "127 9.472008e-01 0.052799176\n",
       "128 8.244597e-01 0.175540325\n",
       "129 1.343442e-01 0.865655802\n",
       "130 5.840593e-01 0.415940705\n",
       "131 8.772732e-01 0.122726753\n",
       "132 5.658542e-01 0.434145838\n",
       "133 7.548052e-01 0.245194818\n",
       "134 1.427285e-02 0.985727152\n",
       "135 8.012557e-01 0.198744332\n",
       "136 7.615062e-01 0.238493775\n",
       "137 6.990952e-01 0.300904840\n",
       "138 9.755911e-01 0.024408931\n",
       "139 3.203714e-01 0.679628644\n",
       "140 7.734671e-01 0.226532888\n",
       "141 3.442705e-03 0.996557295\n",
       "142 9.146399e-01 0.085360139\n",
       "143 4.341812e-01 0.565818796\n",
       "144 7.360174e-01 0.263982591\n",
       "145 8.326354e-01 0.167364608\n",
       "146 8.231495e-01 0.176850472\n",
       "147 9.244192e-02 0.907558078\n",
       "148 9.771784e-01 0.022821563\n",
       "149 9.913942e-01 0.008605825\n",
       "150 9.784293e-01 0.021570698\n",
       "151 9.011611e-01 0.098838877\n",
       "152 4.638991e-01 0.536100850\n",
       "153 8.260643e-01 0.173935699\n",
       "154 9.804178e-01 0.019582227\n",
       "155 5.000274e-01 0.499972562\n",
       "156 8.946454e-03 0.991053546\n",
       "157 9.250330e-03 0.990749670\n",
       "158 1.249931e-01 0.875006949\n",
       "159 4.388998e-01 0.561100238\n",
       "160 8.289936e-01 0.171006350\n",
       "161 9.955106e-01 0.004489354\n",
       "162 1.684250e-04 0.999831575\n",
       "163 9.705279e-01 0.029472063\n",
       "164 9.955637e-01 0.004436303\n",
       "165 8.402855e-01 0.159714499\n",
       "166 4.244259e-02 0.957557412\n",
       "167 9.790269e-01 0.020973119\n",
       "168 9.067844e-01 0.093215600\n",
       "169 9.199496e-01 0.080050386\n",
       "170 9.714925e-01 0.028507476\n",
       "171 7.849790e-01 0.215021032\n",
       "172 4.956770e-01 0.504323014\n",
       "173 8.984046e-01 0.101595442\n",
       "174 9.726495e-01 0.027350475\n",
       "175 2.193322e-01 0.780667791\n",
       "176 6.670625e-01 0.332937505\n",
       "177 6.790780e-03 0.993209220\n",
       "178 6.811390e-01 0.318861006\n",
       "179 5.749731e-01 0.425026935\n",
       "180 8.112637e-02 0.918873630\n",
       "181 5.438279e-01 0.456172091\n",
       "182 8.975564e-01 0.102443635\n",
       "183 4.020169e-01 0.597983069\n",
       "184 1.231716e-01 0.876828384\n",
       "185 4.160127e-01 0.583987324\n",
       "186 8.199014e-01 0.180098555\n",
       "187 5.640356e-01 0.435964410\n",
       "188 9.922689e-01 0.007731110\n",
       "189 6.273771e-01 0.372622890\n",
       "190 4.795578e-02 0.952044222\n",
       "191 1.852365e-02 0.981476349\n",
       "192 7.122391e-01 0.287760931\n",
       "193 9.254840e-01 0.074515953\n",
       "194 9.973059e-01 0.002694086\n",
       "195 9.189945e-01 0.081005523\n",
       "196 8.124806e-03 0.991875194\n",
       "197 8.482837e-01 0.151716329\n",
       "198 2.689014e-05 0.999973110\n",
       "199 8.704281e-01 0.129571875\n",
       "200 9.461938e-01 0.053806190\n",
       "201 9.971989e-01 0.002801117\n",
       "202 8.395747e-01 0.160425281\n",
       "203 1.208990e-01 0.879100989\n",
       "204 3.710328e-01 0.628967197\n",
       "205 4.282919e-01 0.571708063\n",
       "206 9.204519e-01 0.079548090\n",
       "207 9.828103e-01 0.017189690\n",
       "208 7.903520e-01 0.209647979\n",
       "209 3.861601e-01 0.613839920\n",
       "210 6.499196e-01 0.350080407\n",
       "211 1.768889e-01 0.823111073\n",
       "212 2.194093e-01 0.780590721\n",
       "213 7.697173e-01 0.230282704\n",
       "214 9.298903e-01 0.070109672\n",
       "215 4.908028e-01 0.509197215\n",
       "216 4.123061e-01 0.587693899\n",
       "217 1.289098e-05 0.999987109\n",
       "218 9.123631e-01 0.087636882\n",
       "219 7.714972e-01 0.228502758\n",
       "220 8.903812e-01 0.109618826\n",
       "221 5.664544e-01 0.433545550\n",
       "222 9.914553e-01 0.008544704\n",
       "223 2.014195e-01 0.798580497\n",
       "224 9.846544e-01 0.015345589\n",
       "225 9.043652e-01 0.095634752\n",
       "226 6.856950e-01 0.314305045\n",
       "227 8.387522e-01 0.161247825\n",
       "228 2.521400e-01 0.747860014\n",
       "229 9.736721e-01 0.026327939\n",
       "230 2.539462e-01 0.746053766\n",
       "231 2.660339e-01 0.733966130\n",
       "232 5.621555e-02 0.943784453\n",
       "233 9.592279e-01 0.040772141\n",
       "234 9.918389e-01 0.008161085\n",
       "235 9.589075e-01 0.041092489\n",
       "236 4.201906e-01 0.579809362\n",
       "237 5.962288e-01 0.403771171\n",
       "238 8.595592e-01 0.140440800\n",
       "239 3.990147e-01 0.600985296\n",
       "240 9.265075e-01 0.073492544\n",
       "241 9.390073e-01 0.060992658\n",
       "242 6.339899e-03 0.993660101\n",
       "243 4.660393e-03 0.995339607\n",
       "244 7.000482e-01 0.299951760\n",
       "245 9.489889e-01 0.051011079\n",
       "246 9.275695e-01 0.072430514\n",
       "247 9.774215e-01 0.022578546\n",
       "248 9.194794e-01 0.080520630\n",
       "249 2.457970e-02 0.975420296\n",
       "250 9.113578e-01 0.088642200\n",
       "251 9.244458e-01 0.075554229\n",
       "252 8.934384e-01 0.106561558\n",
       "253 9.723606e-01 0.027639371\n",
       "254 5.706005e-01 0.429399468\n",
       "255 5.310934e-01 0.468906638\n",
       "256 8.068522e-01 0.193147843\n",
       "257 1.804976e-02 0.981950239\n",
       "258 3.816886e-02 0.961831145\n",
       "259 7.861993e-01 0.213800659\n",
       "260 1.512751e-01 0.848724941\n",
       "261 5.129171e-01 0.487082931\n",
       "262 9.485652e-01 0.051434781\n",
       "263 9.854509e-01 0.014549137\n",
       "264 8.066648e-01 0.193335174\n",
       "265 1.186811e-02 0.988131892\n",
       "266 9.646640e-01 0.035335969\n",
       "267 2.651657e-01 0.734834331\n",
       "268 5.775008e-02 0.942249916\n",
       "269 6.518791e-01 0.348120919\n",
       "270 4.347325e-02 0.956526755\n",
       "271 9.975451e-01 0.002454857\n",
       "272 1.789465e-01 0.821053502\n",
       "273 8.573858e-01 0.142614242\n",
       "274 7.962357e-01 0.203764330\n",
       "275 9.767839e-01 0.023216052\n",
       "276 8.787696e-01 0.121230376\n",
       "277 9.647623e-01 0.035237710\n",
       "278 3.709519e-01 0.629048061\n",
       "279 9.901053e-01 0.009894668\n",
       "280 8.912830e-01 0.108716960\n",
       "281 3.011873e-02 0.969881265\n",
       "282 9.083598e-02 0.909164015\n",
       "283 8.923850e-01 0.107615017\n",
       "284 1.810541e-01 0.818945942\n",
       "285 8.886189e-01 0.111381100\n",
       "286 8.394506e-01 0.160549423\n",
       "287 5.878445e-02 0.941215548\n",
       "288 3.047833e-01 0.695216698\n",
       "289 7.970999e-01 0.202900125\n",
       "290 5.400849e-02 0.945991509\n",
       "291 1.065258e-01 0.893474195\n",
       "292 1.106722e-02 0.988932784\n",
       "293 5.192709e-02 0.948072910\n",
       "294 6.464376e-01 0.353562377\n",
       "295 8.609472e-01 0.139052786\n",
       "296 9.215837e-01 0.078416275\n",
       "297 2.671841e-01 0.732815904\n",
       "298 1.380149e-01 0.861985087\n",
       "299 7.264035e-01 0.273596506\n",
       "300 7.061935e-01 0.293806525\n",
       "301 8.706966e-01 0.129303405\n",
       "302 7.321083e-01 0.267891741\n",
       "303 6.551832e-02 0.934481681\n",
       "304 9.094391e-01 0.090560896\n",
       "305 5.105706e-03 0.994894294\n",
       "306 6.928244e-02 0.930717559\n",
       "307 4.170033e-01 0.582996665\n",
       "308 7.375729e-01 0.262427121\n",
       "309 5.956774e-01 0.404322565\n",
       "310 8.885416e-01 0.111458424\n",
       "311 8.257450e-01 0.174255012\n",
       "312 6.952586e-02 0.930474138\n",
       "313 9.477531e-01 0.052246859\n",
       "314 9.252932e-01 0.074706828\n",
       "315 6.063013e-01 0.393698740\n",
       "316 9.726986e-01 0.027301372\n",
       "317 9.159216e-02 0.908407844\n",
       "318 9.354479e-01 0.064552057\n",
       "319 9.776872e-01 0.022312774\n",
       "320 3.166621e-05 0.999968334\n",
       "321 1.041173e-01 0.895882743\n",
       "322 2.541938e-01 0.745806213\n",
       "323 8.478408e-03 0.991521592\n",
       "324 7.574893e-01 0.242510720\n",
       "325 9.526322e-01 0.047367822\n",
       "326 4.658567e-02 0.953414329\n",
       "327 2.630590e-01 0.736941007\n",
       "328 9.517271e-01 0.048272853\n",
       "329 4.671616e-03 0.995328384\n",
       "330 9.450324e-01 0.054967585\n",
       "331 8.502727e-01 0.149727301\n",
       "332 9.579482e-01 0.042051814\n",
       "\n",
       "$terms\n",
       "type ~ npreg + glu + bp + skin + bmi + ped + age\n",
       "attr(,\"variables\")\n",
       "list(type, npreg, glu, bp, skin, bmi, ped, age)\n",
       "attr(,\"factors\")\n",
       "      npreg glu bp skin bmi ped age\n",
       "type      0   0  0    0   0   0   0\n",
       "npreg     1   0  0    0   0   0   0\n",
       "glu       0   1  0    0   0   0   0\n",
       "bp        0   0  1    0   0   0   0\n",
       "skin      0   0  0    1   0   0   0\n",
       "bmi       0   0  0    0   1   0   0\n",
       "ped       0   0  0    0   0   1   0\n",
       "age       0   0  0    0   0   0   1\n",
       "attr(,\"term.labels\")\n",
       "[1] \"npreg\" \"glu\"   \"bp\"    \"skin\"  \"bmi\"   \"ped\"   \"age\"  \n",
       "attr(,\"order\")\n",
       "[1] 1 1 1 1 1 1 1\n",
       "attr(,\"intercept\")\n",
       "[1] 1\n",
       "attr(,\"response\")\n",
       "[1] 1\n",
       "attr(,\".Environment\")\n",
       "<environment: R_GlobalEnv>\n",
       "attr(,\"predvars\")\n",
       "list(type, npreg, glu, bp, skin, bmi, ped, age)\n",
       "attr(,\"dataClasses\")\n",
       "     type     npreg       glu        bp      skin       bmi       ped       age \n",
       " \"factor\" \"numeric\" \"numeric\" \"numeric\" \"numeric\" \"numeric\" \"numeric\" \"numeric\" \n",
       "\n",
       "$call\n",
       "qda(formula = type ~ ., data = Pima.te, prior = c(0.5, 0.5), \n",
       "    CV = TRUE)\n",
       "\n",
       "$xlevels\n",
       "named list()\n"
      ]
     },
     "metadata": {},
     "output_type": "display_data"
    }
   ],
   "source": [
    "cross_val_qda <- qda(type ~ ., data =Pima.te, prior = c(0.5, 0.5), CV = TRUE)\n",
    "cross_val_qda"
   ]
  },
  {
   "cell_type": "code",
   "execution_count": 362,
   "id": "6ef76ddc",
   "metadata": {},
   "outputs": [
    {
     "data": {
      "text/plain": [
       "     Predicted\n",
       "True   No Yes\n",
       "  No  174  49\n",
       "  Yes  32  77"
      ]
     },
     "metadata": {},
     "output_type": "display_data"
    },
    {
     "data": {
      "text/html": [
       "24.3975903614458"
      ],
      "text/latex": [
       "24.3975903614458"
      ],
      "text/markdown": [
       "24.3975903614458"
      ],
      "text/plain": [
       "[1] 24.39759"
      ]
     },
     "metadata": {},
     "output_type": "display_data"
    }
   ],
   "source": [
    "(T2CV = table(Pima.te$type, cross_val_qda$class,dnn=c(\"True\",\"Predicted\")))\n",
    "(T2CV[1,2] + T2CV[2,1]) / sum(T2CV) * 100"
   ]
  },
  {
   "cell_type": "markdown",
   "id": "245babb8",
   "metadata": {},
   "source": [
    "### Interpretacja\n",
    "- Błąd klasyfikacji po kroswalidacji wzrósł w obu przypadkach.\n",
    "- W metodzie LDA wynosi 22.29.\n",
    "- W metodzie QDA wynosi 24.40."
   ]
  },
  {
   "cell_type": "code",
   "execution_count": 363,
   "id": "330ea81b",
   "metadata": {},
   "outputs": [],
   "source": [
    "mypredict.lda <- function(object, newdata){\n",
    "predict(object, newdata)$class\n",
    "}"
   ]
  },
  {
   "cell_type": "code",
   "execution_count": 364,
   "id": "4d3492d5",
   "metadata": {},
   "outputs": [],
   "source": [
    "mypredict.qda <- function(object, newdata){\n",
    "predict(object, newdata)$class\n",
    "}\n"
   ]
  },
  {
   "cell_type": "code",
   "execution_count": 365,
   "id": "4d1fa48b",
   "metadata": {
    "scrolled": true
   },
   "outputs": [
    {
     "data": {
      "text/plain": [
       "\n",
       "Call:\n",
       "errorest.data.frame(formula = type ~ ., data = Pima.te, model = lda, \n",
       "    predict = mypredict.lda, estimator = \"boot\", modeltype = \"class\")\n",
       "\n",
       "\t Bootstrap estimator of misclassification error \n",
       "\t with 25 bootstrap replications\n",
       "\n",
       "Misclassification error:  0.2257 \n",
       "Standard deviation: 0.0041 \n"
      ]
     },
     "metadata": {},
     "output_type": "display_data"
    }
   ],
   "source": [
    "errorest(type ~ ., data = Pima.te, modeltype = \"class\" , model = lda, estimator = \"boot\", predict= mypredict.lda)"
   ]
  },
  {
   "cell_type": "code",
   "execution_count": 366,
   "id": "f54c795e",
   "metadata": {},
   "outputs": [
    {
     "data": {
      "text/plain": [
       "\n",
       "Call:\n",
       "errorest.data.frame(formula = type ~ ., data = Pima.te, model = lda, \n",
       "    predict = mypredict.lda, estimator = \"cv\", modeltype = \"class\")\n",
       "\n",
       "\t 10-fold cross-validation estimator of misclassification error \n",
       "\n",
       "Misclassification error:  0.2199 \n"
      ]
     },
     "metadata": {},
     "output_type": "display_data"
    }
   ],
   "source": [
    "errorest(type ~ ., data = Pima.te, modeltype = \"class\" , model = lda, estimator = \"cv\", predict= mypredict.lda)"
   ]
  },
  {
   "cell_type": "code",
   "execution_count": 367,
   "id": "972295b9",
   "metadata": {
    "scrolled": true
   },
   "outputs": [
    {
     "data": {
      "text/plain": [
       "\n",
       "Call:\n",
       "errorest.data.frame(formula = type ~ ., data = Pima.te, model = qda, \n",
       "    predict = mypredict.qda, estimator = \"boot\", modeltype = \"class\")\n",
       "\n",
       "\t Bootstrap estimator of misclassification error \n",
       "\t with 25 bootstrap replications\n",
       "\n",
       "Misclassification error:  0.2319 \n",
       "Standard deviation: 0.0049 \n"
      ]
     },
     "metadata": {},
     "output_type": "display_data"
    }
   ],
   "source": [
    "errorest(type ~ ., data = Pima.te, modeltype = \"class\" , model = qda, estimator = \"boot\", predict= mypredict.qda)"
   ]
  },
  {
   "cell_type": "code",
   "execution_count": 368,
   "id": "c8f82ce0",
   "metadata": {
    "scrolled": true
   },
   "outputs": [
    {
     "data": {
      "text/plain": [
       "\n",
       "Call:\n",
       "errorest.data.frame(formula = type ~ ., data = Pima.te, model = qda, \n",
       "    predict = mypredict.qda, estimator = \"cv\", modeltype = \"class\")\n",
       "\n",
       "\t 10-fold cross-validation estimator of misclassification error \n",
       "\n",
       "Misclassification error:  0.2229 \n"
      ]
     },
     "metadata": {},
     "output_type": "display_data"
    }
   ],
   "source": [
    "errorest(type ~ ., data = Pima.te, modeltype = \"class\" , model = qda, estimator = \"cv\", predict= mypredict.qda)"
   ]
  },
  {
   "cell_type": "code",
   "execution_count": 369,
   "id": "5bd5e7b9",
   "metadata": {},
   "outputs": [
    {
     "data": {
      "text/html": [
       "0.00720000000000001"
      ],
      "text/latex": [
       "0.00720000000000001"
      ],
      "text/markdown": [
       "0.00720000000000001"
      ],
      "text/plain": [
       "[1] 0.0072"
      ]
     },
     "metadata": {},
     "output_type": "display_data"
    }
   ],
   "source": [
    "0.2421-0.2349"
   ]
  },
  {
   "cell_type": "markdown",
   "id": "b62bbc59",
   "metadata": {},
   "source": [
    "### Interpretacja\n",
    "- W metodzie LDA wystąpiła minimalna różnica między błędami, estymator \"cv\" miał mniejszy błąd.\n",
    "- W metodzie QDA wystąpiła różnica: 0.0072, estymator \"cv\" miał mniejszy błąd."
   ]
  },
  {
   "cell_type": "code",
   "execution_count": 370,
   "id": "ada79b19",
   "metadata": {},
   "outputs": [
    {
     "data": {
      "text/html": [
       "0.669421487603306"
      ],
      "text/latex": [
       "0.669421487603306"
      ],
      "text/markdown": [
       "0.669421487603306"
      ],
      "text/plain": [
       "[1] 0.6694215"
      ]
     },
     "metadata": {},
     "output_type": "display_data"
    }
   ],
   "source": [
    "(czuloscLDA = T1[2,2] / (T1[2,2] + T1[1,2]) )"
   ]
  },
  {
   "cell_type": "code",
   "execution_count": 371,
   "id": "5c967713",
   "metadata": {},
   "outputs": [
    {
     "data": {
      "text/html": [
       "0.653543307086614"
      ],
      "text/latex": [
       "0.653543307086614"
      ],
      "text/markdown": [
       "0.653543307086614"
      ],
      "text/plain": [
       "[1] 0.6535433"
      ]
     },
     "metadata": {},
     "output_type": "display_data"
    }
   ],
   "source": [
    "(czuloscQDA = T2[2,2] / (T2[2,2] + T2[1,2]))"
   ]
  },
  {
   "cell_type": "code",
   "execution_count": 372,
   "id": "c0175fc9",
   "metadata": {},
   "outputs": [
    {
     "data": {
      "text/html": [
       "0.867298578199052"
      ],
      "text/latex": [
       "0.867298578199052"
      ],
      "text/markdown": [
       "0.867298578199052"
      ],
      "text/plain": [
       "[1] 0.8672986"
      ]
     },
     "metadata": {},
     "output_type": "display_data"
    }
   ],
   "source": [
    "(specLDA = T1[1,1] / (T1[1,1] + T1[2,1]) )"
   ]
  },
  {
   "cell_type": "code",
   "execution_count": 373,
   "id": "5fd1df9a",
   "metadata": {},
   "outputs": [
    {
     "data": {
      "text/html": [
       "0.873170731707317"
      ],
      "text/latex": [
       "0.873170731707317"
      ],
      "text/markdown": [
       "0.873170731707317"
      ],
      "text/plain": [
       "[1] 0.8731707"
      ]
     },
     "metadata": {},
     "output_type": "display_data"
    }
   ],
   "source": [
    "(specQDA = T2[1,1] / (T2[1,1] + T2[2,1]))"
   ]
  },
  {
   "cell_type": "markdown",
   "id": "d90f1cea",
   "metadata": {},
   "source": [
    "### Interpretacja\n",
    "- Czułość testu dla metody LDA wynosi 0.669.\n",
    "- Czułość testu dla metody QDA wynosi 0.654.\n",
    "- Obie metody mają podobną czułość.\n",
    "- Specyficzność testu dla metody LDA wynosi 0.867.\n",
    "- Specyficzność testu dla metody QDA wynosi 0.873.\n",
    "- Obie metody mają małą różnicę.\n",
    "- Aby polepszyć nasz model należałoby zwiększyć czułość oraz zmniejszyć specyficzność."
   ]
  },
  {
   "cell_type": "code",
   "execution_count": 374,
   "id": "9a39ab1a",
   "metadata": {},
   "outputs": [
    {
     "data": {
      "text/html": [
       "<style>\n",
       ".dl-inline {width: auto; margin:0; padding: 0}\n",
       ".dl-inline>dt, .dl-inline>dd {float: none; width: auto; display: inline-block}\n",
       ".dl-inline>dt::after {content: \":\\0020\"; padding-right: .5ex}\n",
       ".dl-inline>dt:not(:first-of-type) {padding-left: .5ex}\n",
       "</style><dl class=dl-inline><dt>npreg</dt><dd>4.61467889908257</dd><dt>glu</dt><dd>141.908256880734</dd><dt>bp</dt><dd>74.7706422018349</dd><dt>skin</dt><dd>32.8899082568807</dd><dt>bmi</dt><dd>36.5128440366972</dd><dt>ped</dt><dd>0.658963302752294</dd><dt>age</dt><dd>35.6146788990826</dd></dl>\n"
      ],
      "text/latex": [
       "\\begin{description*}\n",
       "\\item[npreg] 4.61467889908257\n",
       "\\item[glu] 141.908256880734\n",
       "\\item[bp] 74.7706422018349\n",
       "\\item[skin] 32.8899082568807\n",
       "\\item[bmi] 36.5128440366972\n",
       "\\item[ped] 0.658963302752294\n",
       "\\item[age] 35.6146788990826\n",
       "\\end{description*}\n"
      ],
      "text/markdown": [
       "npreg\n",
       ":   4.61467889908257glu\n",
       ":   141.908256880734bp\n",
       ":   74.7706422018349skin\n",
       ":   32.8899082568807bmi\n",
       ":   36.5128440366972ped\n",
       ":   0.658963302752294age\n",
       ":   35.6146788990826\n",
       "\n"
      ],
      "text/plain": [
       "      npreg         glu          bp        skin         bmi         ped \n",
       "  4.6146789 141.9082569  74.7706422  32.8899083  36.5128440   0.6589633 \n",
       "        age \n",
       " 35.6146789 "
      ]
     },
     "metadata": {},
     "output_type": "display_data"
    },
    {
     "data": {
      "text/html": [
       "<table class=\"dataframe\">\n",
       "<caption>A matrix: 7 × 7 of type dbl</caption>\n",
       "<thead>\n",
       "\t<tr><th></th><th scope=col>npreg</th><th scope=col>glu</th><th scope=col>bp</th><th scope=col>skin</th><th scope=col>bmi</th><th scope=col>ped</th><th scope=col>age</th></tr>\n",
       "</thead>\n",
       "<tbody>\n",
       "\t<tr><th scope=row>npreg</th><td> 15.2205233</td><td> -11.276419</td><td>  6.0311757</td><td> -6.4502209</td><td> -6.785746</td><td>-0.0618476</td><td> 24.5538566</td></tr>\n",
       "\t<tr><th scope=row>glu</th><td>-11.2764186</td><td>1026.287802</td><td> 39.0343187</td><td> -3.7601937</td><td> 12.702115</td><td> 0.5651170</td><td> 17.9365443</td></tr>\n",
       "\t<tr><th scope=row>bp</th><td>  6.0311757</td><td>  39.034319</td><td>172.3450561</td><td>  7.9282195</td><td> 26.026121</td><td> 0.1955656</td><td> 42.9385831</td></tr>\n",
       "\t<tr><th scope=row>skin</th><td> -6.4502209</td><td>  -3.760194</td><td>  7.9282195</td><td> 82.1914713</td><td> 40.551427</td><td> 0.6682459</td><td>-28.8576283</td></tr>\n",
       "\t<tr><th scope=row>bmi</th><td> -6.7857458</td><td>  12.702115</td><td> 26.0261213</td><td> 40.5514271</td><td> 55.615019</td><td> 0.2717190</td><td>-16.0746347</td></tr>\n",
       "\t<tr><th scope=row>ped</th><td> -0.0618476</td><td>   0.565117</td><td>  0.1955656</td><td>  0.6682459</td><td>  0.271719</td><td> 0.1746813</td><td>  0.1029209</td></tr>\n",
       "\t<tr><th scope=row>age</th><td> 24.5538566</td><td>  17.936544</td><td> 42.9385831</td><td>-28.8576283</td><td>-16.074635</td><td> 0.1029209</td><td>107.9612640</td></tr>\n",
       "</tbody>\n",
       "</table>\n"
      ],
      "text/latex": [
       "A matrix: 7 × 7 of type dbl\n",
       "\\begin{tabular}{r|lllllll}\n",
       "  & npreg & glu & bp & skin & bmi & ped & age\\\\\n",
       "\\hline\n",
       "\tnpreg &  15.2205233 &  -11.276419 &   6.0311757 &  -6.4502209 &  -6.785746 & -0.0618476 &  24.5538566\\\\\n",
       "\tglu & -11.2764186 & 1026.287802 &  39.0343187 &  -3.7601937 &  12.702115 &  0.5651170 &  17.9365443\\\\\n",
       "\tbp &   6.0311757 &   39.034319 & 172.3450561 &   7.9282195 &  26.026121 &  0.1955656 &  42.9385831\\\\\n",
       "\tskin &  -6.4502209 &   -3.760194 &   7.9282195 &  82.1914713 &  40.551427 &  0.6682459 & -28.8576283\\\\\n",
       "\tbmi &  -6.7857458 &   12.702115 &  26.0261213 &  40.5514271 &  55.615019 &  0.2717190 & -16.0746347\\\\\n",
       "\tped &  -0.0618476 &    0.565117 &   0.1955656 &   0.6682459 &   0.271719 &  0.1746813 &   0.1029209\\\\\n",
       "\tage &  24.5538566 &   17.936544 &  42.9385831 & -28.8576283 & -16.074635 &  0.1029209 & 107.9612640\\\\\n",
       "\\end{tabular}\n"
      ],
      "text/markdown": [
       "\n",
       "A matrix: 7 × 7 of type dbl\n",
       "\n",
       "| <!--/--> | npreg | glu | bp | skin | bmi | ped | age |\n",
       "|---|---|---|---|---|---|---|---|\n",
       "| npreg |  15.2205233 |  -11.276419 |   6.0311757 |  -6.4502209 |  -6.785746 | -0.0618476 |  24.5538566 |\n",
       "| glu | -11.2764186 | 1026.287802 |  39.0343187 |  -3.7601937 |  12.702115 |  0.5651170 |  17.9365443 |\n",
       "| bp |   6.0311757 |   39.034319 | 172.3450561 |   7.9282195 |  26.026121 |  0.1955656 |  42.9385831 |\n",
       "| skin |  -6.4502209 |   -3.760194 |   7.9282195 |  82.1914713 |  40.551427 |  0.6682459 | -28.8576283 |\n",
       "| bmi |  -6.7857458 |   12.702115 |  26.0261213 |  40.5514271 |  55.615019 |  0.2717190 | -16.0746347 |\n",
       "| ped |  -0.0618476 |    0.565117 |   0.1955656 |   0.6682459 |   0.271719 |  0.1746813 |   0.1029209 |\n",
       "| age |  24.5538566 |   17.936544 |  42.9385831 | -28.8576283 | -16.074635 |  0.1029209 | 107.9612640 |\n",
       "\n"
      ],
      "text/plain": [
       "      npreg       glu         bp          skin        bmi        ped       \n",
       "npreg  15.2205233  -11.276419   6.0311757  -6.4502209  -6.785746 -0.0618476\n",
       "glu   -11.2764186 1026.287802  39.0343187  -3.7601937  12.702115  0.5651170\n",
       "bp      6.0311757   39.034319 172.3450561   7.9282195  26.026121  0.1955656\n",
       "skin   -6.4502209   -3.760194   7.9282195  82.1914713  40.551427  0.6682459\n",
       "bmi    -6.7857458   12.702115  26.0261213  40.5514271  55.615019  0.2717190\n",
       "ped    -0.0618476    0.565117   0.1955656   0.6682459   0.271719  0.1746813\n",
       "age    24.5538566   17.936544  42.9385831 -28.8576283 -16.074635  0.1029209\n",
       "      age        \n",
       "npreg  24.5538566\n",
       "glu    17.9365443\n",
       "bp     42.9385831\n",
       "skin  -28.8576283\n",
       "bmi   -16.0746347\n",
       "ped     0.1029209\n",
       "age   107.9612640"
      ]
     },
     "metadata": {},
     "output_type": "display_data"
    }
   ],
   "source": [
    "(m1.te = colMeans(Pima.te_yes))\n",
    "m2.te = colMeans(Pima.te_no)\n",
    "\n",
    "(S1.te = cov(Pima.te_yes))\n",
    "S2.te = cov(Pima.te_no)"
   ]
  },
  {
   "cell_type": "code",
   "execution_count": 375,
   "id": "99502a1e",
   "metadata": {},
   "outputs": [
    {
     "data": {
      "text/html": [
       "<table class=\"dataframe\">\n",
       "<caption>A matrix: 7 × 7 of type dbl</caption>\n",
       "<thead>\n",
       "\t<tr><th></th><th scope=col>npreg</th><th scope=col>glu</th><th scope=col>bp</th><th scope=col>skin</th><th scope=col>bmi</th><th scope=col>ped</th><th scope=col>age</th></tr>\n",
       "</thead>\n",
       "<tbody>\n",
       "\t<tr><th scope=row>npreg</th><td> 0.109871855</td><td> 0.0014603597</td><td> 0.0011451798</td><td>-0.0051646415</td><td> 0.0085658943</td><td> 0.0545545330</td><td>-0.0258435698</td></tr>\n",
       "\t<tr><th scope=row>glu</th><td> 0.001460360</td><td> 0.0010079094</td><td>-0.0001454670</td><td> 0.0001431531</td><td>-0.0002003312</td><td>-0.0025629691</td><td>-0.0004308502</td></tr>\n",
       "\t<tr><th scope=row>bp</th><td> 0.001145180</td><td>-0.0001454670</td><td> 0.0074249377</td><td> 0.0003121746</td><td>-0.0046304705</td><td> 0.0008085999</td><td>-0.0037961156</td></tr>\n",
       "\t<tr><th scope=row>skin</th><td>-0.005164642</td><td> 0.0001431531</td><td> 0.0003121746</td><td> 0.0209987901</td><td>-0.0144993838</td><td>-0.0630938494</td><td> 0.0045408556</td></tr>\n",
       "\t<tr><th scope=row>bmi</th><td> 0.008565894</td><td>-0.0002003312</td><td>-0.0046304705</td><td>-0.0144993838</td><td> 0.0319723863</td><td> 0.0141289167</td><td> 0.0007981177</td></tr>\n",
       "\t<tr><th scope=row>ped</th><td> 0.054554533</td><td>-0.0025629691</td><td> 0.0008085999</td><td>-0.0630938494</td><td> 0.0141289167</td><td> 5.9901119863</td><td>-0.0327747458</td></tr>\n",
       "\t<tr><th scope=row>age</th><td>-0.025843570</td><td>-0.0004308502</td><td>-0.0037961156</td><td> 0.0045408556</td><td> 0.0007981177</td><td>-0.0327747458</td><td> 0.0180854503</td></tr>\n",
       "</tbody>\n",
       "</table>\n"
      ],
      "text/latex": [
       "A matrix: 7 × 7 of type dbl\n",
       "\\begin{tabular}{r|lllllll}\n",
       "  & npreg & glu & bp & skin & bmi & ped & age\\\\\n",
       "\\hline\n",
       "\tnpreg &  0.109871855 &  0.0014603597 &  0.0011451798 & -0.0051646415 &  0.0085658943 &  0.0545545330 & -0.0258435698\\\\\n",
       "\tglu &  0.001460360 &  0.0010079094 & -0.0001454670 &  0.0001431531 & -0.0002003312 & -0.0025629691 & -0.0004308502\\\\\n",
       "\tbp &  0.001145180 & -0.0001454670 &  0.0074249377 &  0.0003121746 & -0.0046304705 &  0.0008085999 & -0.0037961156\\\\\n",
       "\tskin & -0.005164642 &  0.0001431531 &  0.0003121746 &  0.0209987901 & -0.0144993838 & -0.0630938494 &  0.0045408556\\\\\n",
       "\tbmi &  0.008565894 & -0.0002003312 & -0.0046304705 & -0.0144993838 &  0.0319723863 &  0.0141289167 &  0.0007981177\\\\\n",
       "\tped &  0.054554533 & -0.0025629691 &  0.0008085999 & -0.0630938494 &  0.0141289167 &  5.9901119863 & -0.0327747458\\\\\n",
       "\tage & -0.025843570 & -0.0004308502 & -0.0037961156 &  0.0045408556 &  0.0007981177 & -0.0327747458 &  0.0180854503\\\\\n",
       "\\end{tabular}\n"
      ],
      "text/markdown": [
       "\n",
       "A matrix: 7 × 7 of type dbl\n",
       "\n",
       "| <!--/--> | npreg | glu | bp | skin | bmi | ped | age |\n",
       "|---|---|---|---|---|---|---|---|\n",
       "| npreg |  0.109871855 |  0.0014603597 |  0.0011451798 | -0.0051646415 |  0.0085658943 |  0.0545545330 | -0.0258435698 |\n",
       "| glu |  0.001460360 |  0.0010079094 | -0.0001454670 |  0.0001431531 | -0.0002003312 | -0.0025629691 | -0.0004308502 |\n",
       "| bp |  0.001145180 | -0.0001454670 |  0.0074249377 |  0.0003121746 | -0.0046304705 |  0.0008085999 | -0.0037961156 |\n",
       "| skin | -0.005164642 |  0.0001431531 |  0.0003121746 |  0.0209987901 | -0.0144993838 | -0.0630938494 |  0.0045408556 |\n",
       "| bmi |  0.008565894 | -0.0002003312 | -0.0046304705 | -0.0144993838 |  0.0319723863 |  0.0141289167 |  0.0007981177 |\n",
       "| ped |  0.054554533 | -0.0025629691 |  0.0008085999 | -0.0630938494 |  0.0141289167 |  5.9901119863 | -0.0327747458 |\n",
       "| age | -0.025843570 | -0.0004308502 | -0.0037961156 |  0.0045408556 |  0.0007981177 | -0.0327747458 |  0.0180854503 |\n",
       "\n"
      ],
      "text/plain": [
       "      npreg        glu           bp            skin          bmi          \n",
       "npreg  0.109871855  0.0014603597  0.0011451798 -0.0051646415  0.0085658943\n",
       "glu    0.001460360  0.0010079094 -0.0001454670  0.0001431531 -0.0002003312\n",
       "bp     0.001145180 -0.0001454670  0.0074249377  0.0003121746 -0.0046304705\n",
       "skin  -0.005164642  0.0001431531  0.0003121746  0.0209987901 -0.0144993838\n",
       "bmi    0.008565894 -0.0002003312 -0.0046304705 -0.0144993838  0.0319723863\n",
       "ped    0.054554533 -0.0025629691  0.0008085999 -0.0630938494  0.0141289167\n",
       "age   -0.025843570 -0.0004308502 -0.0037961156  0.0045408556  0.0007981177\n",
       "      ped           age          \n",
       "npreg  0.0545545330 -0.0258435698\n",
       "glu   -0.0025629691 -0.0004308502\n",
       "bp     0.0008085999 -0.0037961156\n",
       "skin  -0.0630938494  0.0045408556\n",
       "bmi    0.0141289167  0.0007981177\n",
       "ped    5.9901119863 -0.0327747458\n",
       "age   -0.0327747458  0.0180854503"
      ]
     },
     "metadata": {},
     "output_type": "display_data"
    }
   ],
   "source": [
    "(invS1 = solve(S1.te))\n",
    "invS2 = solve(S2.te)\n",
    "\n",
    "pi1 = pi2 = 0.5"
   ]
  },
  {
   "cell_type": "code",
   "execution_count": 376,
   "id": "aca8e39f",
   "metadata": {
    "scrolled": true
   },
   "outputs": [
    {
     "data": {
      "text/html": [
       "<table class=\"dataframe\">\n",
       "<caption>A matrix: 1 × 1 of type dbl</caption>\n",
       "<tbody>\n",
       "\t<tr><td>9.233461</td></tr>\n",
       "</tbody>\n",
       "</table>\n"
      ],
      "text/latex": [
       "A matrix: 1 × 1 of type dbl\n",
       "\\begin{tabular}{l}\n",
       "\t 9.233461\\\\\n",
       "\\end{tabular}\n"
      ],
      "text/markdown": [
       "\n",
       "A matrix: 1 × 1 of type dbl\n",
       "\n",
       "| 9.233461 |\n",
       "\n"
      ],
      "text/plain": [
       "     [,1]    \n",
       "[1,] 9.233461"
      ]
     },
     "metadata": {},
     "output_type": "display_data"
    }
   ],
   "source": [
    "k = .5*log(det(S1.te) / det(S2.te)) + .5*(t(m1.te)%*%invS1%*%m1.te \n",
    "                                    - t(m2.te)%*%invS2%*%m2.te)\n",
    "k"
   ]
  },
  {
   "cell_type": "code",
   "execution_count": 377,
   "id": "ccbebdf9",
   "metadata": {},
   "outputs": [],
   "source": [
    "min_x.te = min(c(Pima.te_yes$npreg, Pima.te_no$npreg))\n",
    "min_y.te = min(c(Pima.te_yes$glu, Pima.te_no$glu))\n",
    "min_a.te = min(c(Pima.te_yes$bp , Pima.te_no$bp))\n",
    "min_b.te = min(c(Pima.te_yes$skin , Pima.te_no$skin))\n",
    "min_c.te = min(c(Pima.te_yes$bmi , Pima.te_no$bmi))\n",
    "min_d.te = min(c(Pima.te_yes$ped , Pima.te_no$ped))\n",
    "min_e.te = min(c(Pima.te_yes$age , Pima.te_no$age))\n",
    "\n",
    "max_x.te = max(c(Pima.te_yes$npreg, Pima.te_no$npreg))\n",
    "max_y.te = max(c(Pima.te_yes$glu, Pima.te_no$glu))\n",
    "max_a.te = max(c(Pima.te_yes$bp , Pima.te_no$bp))\n",
    "max_b.te = max(c(Pima.te_yes$skin , Pima.te_no$skin))\n",
    "max_c.te = max(c(Pima.te_yes$bmi , Pima.te_no$bmi))\n",
    "max_d.te= max(c(Pima.te_yes$ped , Pima.te_no$ped))\n",
    "max_e.te = max(c(Pima.te_yes$age , Pima.te_no$age))"
   ]
  },
  {
   "cell_type": "code",
   "execution_count": 378,
   "id": "b4a439e9",
   "metadata": {
    "scrolled": true
   },
   "outputs": [
    {
     "data": {
      "text/html": [
       "<table class=\"dataframe\">\n",
       "<caption>A data.frame: 6 × 7</caption>\n",
       "<thead>\n",
       "\t<tr><th></th><th scope=col>npreg</th><th scope=col>glu</th><th scope=col>bp</th><th scope=col>skin</th><th scope=col>bmi</th><th scope=col>ped</th><th scope=col>age</th></tr>\n",
       "\t<tr><th></th><th scope=col>&lt;dbl&gt;</th><th scope=col>&lt;dbl&gt;</th><th scope=col>&lt;dbl&gt;</th><th scope=col>&lt;dbl&gt;</th><th scope=col>&lt;dbl&gt;</th><th scope=col>&lt;dbl&gt;</th><th scope=col>&lt;dbl&gt;</th></tr>\n",
       "</thead>\n",
       "<tbody>\n",
       "\t<tr><th scope=row>1</th><td>0.0000000</td><td>65.00000</td><td>24.00000</td><td>7.000000</td><td>19.40000</td><td>0.0850000</td><td>21.00000</td></tr>\n",
       "\t<tr><th scope=row>2</th><td>0.1717172</td><td>66.33333</td><td>24.86869</td><td>7.565657</td><td>19.88182</td><td>0.1085859</td><td>21.60606</td></tr>\n",
       "\t<tr><th scope=row>3</th><td>0.3434343</td><td>67.66667</td><td>25.73737</td><td>8.131313</td><td>20.36364</td><td>0.1321717</td><td>22.21212</td></tr>\n",
       "\t<tr><th scope=row>4</th><td>0.5151515</td><td>69.00000</td><td>26.60606</td><td>8.696970</td><td>20.84545</td><td>0.1557576</td><td>22.81818</td></tr>\n",
       "\t<tr><th scope=row>5</th><td>0.6868687</td><td>70.33333</td><td>27.47475</td><td>9.262626</td><td>21.32727</td><td>0.1793434</td><td>23.42424</td></tr>\n",
       "\t<tr><th scope=row>6</th><td>0.8585859</td><td>71.66667</td><td>28.34343</td><td>9.828283</td><td>21.80909</td><td>0.2029293</td><td>24.03030</td></tr>\n",
       "</tbody>\n",
       "</table>\n"
      ],
      "text/latex": [
       "A data.frame: 6 × 7\n",
       "\\begin{tabular}{r|lllllll}\n",
       "  & npreg & glu & bp & skin & bmi & ped & age\\\\\n",
       "  & <dbl> & <dbl> & <dbl> & <dbl> & <dbl> & <dbl> & <dbl>\\\\\n",
       "\\hline\n",
       "\t1 & 0.0000000 & 65.00000 & 24.00000 & 7.000000 & 19.40000 & 0.0850000 & 21.00000\\\\\n",
       "\t2 & 0.1717172 & 66.33333 & 24.86869 & 7.565657 & 19.88182 & 0.1085859 & 21.60606\\\\\n",
       "\t3 & 0.3434343 & 67.66667 & 25.73737 & 8.131313 & 20.36364 & 0.1321717 & 22.21212\\\\\n",
       "\t4 & 0.5151515 & 69.00000 & 26.60606 & 8.696970 & 20.84545 & 0.1557576 & 22.81818\\\\\n",
       "\t5 & 0.6868687 & 70.33333 & 27.47475 & 9.262626 & 21.32727 & 0.1793434 & 23.42424\\\\\n",
       "\t6 & 0.8585859 & 71.66667 & 28.34343 & 9.828283 & 21.80909 & 0.2029293 & 24.03030\\\\\n",
       "\\end{tabular}\n"
      ],
      "text/markdown": [
       "\n",
       "A data.frame: 6 × 7\n",
       "\n",
       "| <!--/--> | npreg &lt;dbl&gt; | glu &lt;dbl&gt; | bp &lt;dbl&gt; | skin &lt;dbl&gt; | bmi &lt;dbl&gt; | ped &lt;dbl&gt; | age &lt;dbl&gt; |\n",
       "|---|---|---|---|---|---|---|---|\n",
       "| 1 | 0.0000000 | 65.00000 | 24.00000 | 7.000000 | 19.40000 | 0.0850000 | 21.00000 |\n",
       "| 2 | 0.1717172 | 66.33333 | 24.86869 | 7.565657 | 19.88182 | 0.1085859 | 21.60606 |\n",
       "| 3 | 0.3434343 | 67.66667 | 25.73737 | 8.131313 | 20.36364 | 0.1321717 | 22.21212 |\n",
       "| 4 | 0.5151515 | 69.00000 | 26.60606 | 8.696970 | 20.84545 | 0.1557576 | 22.81818 |\n",
       "| 5 | 0.6868687 | 70.33333 | 27.47475 | 9.262626 | 21.32727 | 0.1793434 | 23.42424 |\n",
       "| 6 | 0.8585859 | 71.66667 | 28.34343 | 9.828283 | 21.80909 | 0.2029293 | 24.03030 |\n",
       "\n"
      ],
      "text/plain": [
       "  npreg     glu      bp       skin     bmi      ped       age     \n",
       "1 0.0000000 65.00000 24.00000 7.000000 19.40000 0.0850000 21.00000\n",
       "2 0.1717172 66.33333 24.86869 7.565657 19.88182 0.1085859 21.60606\n",
       "3 0.3434343 67.66667 25.73737 8.131313 20.36364 0.1321717 22.21212\n",
       "4 0.5151515 69.00000 26.60606 8.696970 20.84545 0.1557576 22.81818\n",
       "5 0.6868687 70.33333 27.47475 9.262626 21.32727 0.1793434 23.42424\n",
       "6 0.8585859 71.66667 28.34343 9.828283 21.80909 0.2029293 24.03030"
      ]
     },
     "metadata": {},
     "output_type": "display_data"
    }
   ],
   "source": [
    "x.te = seq(min_x.te, max_x.te, length = 100)\n",
    "y.te = seq(min_y.te, max_y.te, length = 100)\n",
    "a.te = seq(min_a.te, max_a.te, length = 100)\n",
    "b.te = seq(min_b.te, max_b.te, length = 100)\n",
    "c.te = seq(min_c.te, max_c.te, length = 100)\n",
    "d.te = seq(min_d.te, max_d.te, length = 100)\n",
    "e.te = seq(min_e.te, max_e.te, length = 100)\n",
    "\n",
    "\n",
    "X.te = as.data.frame(cbind(x.te, y.te,a.te,b.te,c.te,d.te,e.te))\n",
    "colnames(X.te) = c(\"npreg\", \"glu\", \"bp\", \"skin\", \"bmi\",\"ped\", \"age\")\n",
    "\n",
    "head(X.te)"
   ]
  },
  {
   "cell_type": "code",
   "execution_count": 379,
   "id": "95f9cc55",
   "metadata": {},
   "outputs": [
    {
     "data": {
      "text/html": [
       "<table class=\"dataframe\">\n",
       "<caption>A data.frame: 6 × 7</caption>\n",
       "<thead>\n",
       "\t<tr><th></th><th scope=col>npreg</th><th scope=col>glu</th><th scope=col>bp</th><th scope=col>skin</th><th scope=col>bmi</th><th scope=col>ped</th><th scope=col>age</th></tr>\n",
       "\t<tr><th></th><th scope=col>&lt;dbl&gt;</th><th scope=col>&lt;dbl&gt;</th><th scope=col>&lt;dbl&gt;</th><th scope=col>&lt;dbl&gt;</th><th scope=col>&lt;dbl&gt;</th><th scope=col>&lt;dbl&gt;</th><th scope=col>&lt;dbl&gt;</th></tr>\n",
       "</thead>\n",
       "<tbody>\n",
       "\t<tr><th scope=row>1</th><td>0.00000000</td><td>65.00000</td><td>24.00000</td><td>7.000000</td><td>19.40000</td><td>0.08500000</td><td>21.00000</td></tr>\n",
       "\t<tr><th scope=row>2</th><td>0.01701702</td><td>65.13213</td><td>24.08609</td><td>7.056056</td><td>19.44775</td><td>0.08733734</td><td>21.06006</td></tr>\n",
       "\t<tr><th scope=row>3</th><td>0.03403403</td><td>65.26426</td><td>24.17217</td><td>7.112112</td><td>19.49550</td><td>0.08967467</td><td>21.12012</td></tr>\n",
       "\t<tr><th scope=row>4</th><td>0.05105105</td><td>65.39640</td><td>24.25826</td><td>7.168168</td><td>19.54324</td><td>0.09201201</td><td>21.18018</td></tr>\n",
       "\t<tr><th scope=row>5</th><td>0.06806807</td><td>65.52853</td><td>24.34434</td><td>7.224224</td><td>19.59099</td><td>0.09434935</td><td>21.24024</td></tr>\n",
       "\t<tr><th scope=row>6</th><td>0.08508509</td><td>65.66066</td><td>24.43043</td><td>7.280280</td><td>19.63874</td><td>0.09668669</td><td>21.30030</td></tr>\n",
       "</tbody>\n",
       "</table>\n"
      ],
      "text/latex": [
       "A data.frame: 6 × 7\n",
       "\\begin{tabular}{r|lllllll}\n",
       "  & npreg & glu & bp & skin & bmi & ped & age\\\\\n",
       "  & <dbl> & <dbl> & <dbl> & <dbl> & <dbl> & <dbl> & <dbl>\\\\\n",
       "\\hline\n",
       "\t1 & 0.00000000 & 65.00000 & 24.00000 & 7.000000 & 19.40000 & 0.08500000 & 21.00000\\\\\n",
       "\t2 & 0.01701702 & 65.13213 & 24.08609 & 7.056056 & 19.44775 & 0.08733734 & 21.06006\\\\\n",
       "\t3 & 0.03403403 & 65.26426 & 24.17217 & 7.112112 & 19.49550 & 0.08967467 & 21.12012\\\\\n",
       "\t4 & 0.05105105 & 65.39640 & 24.25826 & 7.168168 & 19.54324 & 0.09201201 & 21.18018\\\\\n",
       "\t5 & 0.06806807 & 65.52853 & 24.34434 & 7.224224 & 19.59099 & 0.09434935 & 21.24024\\\\\n",
       "\t6 & 0.08508509 & 65.66066 & 24.43043 & 7.280280 & 19.63874 & 0.09668669 & 21.30030\\\\\n",
       "\\end{tabular}\n"
      ],
      "text/markdown": [
       "\n",
       "A data.frame: 6 × 7\n",
       "\n",
       "| <!--/--> | npreg &lt;dbl&gt; | glu &lt;dbl&gt; | bp &lt;dbl&gt; | skin &lt;dbl&gt; | bmi &lt;dbl&gt; | ped &lt;dbl&gt; | age &lt;dbl&gt; |\n",
       "|---|---|---|---|---|---|---|---|\n",
       "| 1 | 0.00000000 | 65.00000 | 24.00000 | 7.000000 | 19.40000 | 0.08500000 | 21.00000 |\n",
       "| 2 | 0.01701702 | 65.13213 | 24.08609 | 7.056056 | 19.44775 | 0.08733734 | 21.06006 |\n",
       "| 3 | 0.03403403 | 65.26426 | 24.17217 | 7.112112 | 19.49550 | 0.08967467 | 21.12012 |\n",
       "| 4 | 0.05105105 | 65.39640 | 24.25826 | 7.168168 | 19.54324 | 0.09201201 | 21.18018 |\n",
       "| 5 | 0.06806807 | 65.52853 | 24.34434 | 7.224224 | 19.59099 | 0.09434935 | 21.24024 |\n",
       "| 6 | 0.08508509 | 65.66066 | 24.43043 | 7.280280 | 19.63874 | 0.09668669 | 21.30030 |\n",
       "\n"
      ],
      "text/plain": [
       "  npreg      glu      bp       skin     bmi      ped        age     \n",
       "1 0.00000000 65.00000 24.00000 7.000000 19.40000 0.08500000 21.00000\n",
       "2 0.01701702 65.13213 24.08609 7.056056 19.44775 0.08733734 21.06006\n",
       "3 0.03403403 65.26426 24.17217 7.112112 19.49550 0.08967467 21.12012\n",
       "4 0.05105105 65.39640 24.25826 7.168168 19.54324 0.09201201 21.18018\n",
       "5 0.06806807 65.52853 24.34434 7.224224 19.59099 0.09434935 21.24024\n",
       "6 0.08508509 65.66066 24.43043 7.280280 19.63874 0.09668669 21.30030"
      ]
     },
     "metadata": {},
     "output_type": "display_data"
    },
    {
     "data": {
      "text/html": [
       "<style>\n",
       ".list-inline {list-style: none; margin:0; padding: 0}\n",
       ".list-inline>li {display: inline-block}\n",
       ".list-inline>li:not(:last-child)::after {content: \"\\00b7\"; padding: 0 .5ex}\n",
       "</style>\n",
       "<ol class=list-inline><li>1000</li><li>7</li></ol>\n"
      ],
      "text/latex": [
       "\\begin{enumerate*}\n",
       "\\item 1000\n",
       "\\item 7\n",
       "\\end{enumerate*}\n"
      ],
      "text/markdown": [
       "1. 1000\n",
       "2. 7\n",
       "\n",
       "\n"
      ],
      "text/plain": [
       "[1] 1000    7"
      ]
     },
     "metadata": {},
     "output_type": "display_data"
    }
   ],
   "source": [
    "np.te=1000\n",
    "x.te = seq(min_x.te, max_x.te, length = np.te)\n",
    "y.te = seq(min_y.te, max_y.te, length = np.te)\n",
    "a.te = seq(min_a.te, max_a.te, length = np.te)\n",
    "b.te = seq(min_b.te, max_b.te, length = np.te)\n",
    "c.te = seq(min_c.te, max_c.te, length = np.te)\n",
    "d.te = seq(min_d.te, max_d.te, length = np.te)\n",
    "e.te = seq(min_e.te, max_e.te, length = np.te)\n",
    "\n",
    "\n",
    "nd.te = as.data.frame(cbind(x.te, y.te,a.te,b.te,c.te,d.te,e.te))\n",
    "colnames(nd.te) = c(\"npreg\", \"glu\", \"bp\", \"skin\", \"bmi\",\"ped\", \"age\")\n",
    "head(nd.te)\n",
    "dim(nd.te)"
   ]
  },
  {
   "cell_type": "code",
   "execution_count": 380,
   "id": "ef93ef1f",
   "metadata": {},
   "outputs": [],
   "source": [
    "fun_disk.te = function(X, pi1, pi2, m1, m2, S1, S2) {\n",
    "    X.te = as.matrix(X, 1, 2)\n",
    "    invS1.te = solve(S1.te)\n",
    "    invS2.te = solve(S2.te)\n",
    "    k.te = .5*log(det(S1.te) / det(S2.te)) + .5*(t(m1.te)%*%invS1.te%*%m1.te - \n",
    "                                        t(m2.te)%*%invS2.te%*%m2.te)\n",
    "    fun.te = log(pi2 / pi1) + X.te%*%(invS2.te%*%m2.te - invS1.te%*%m1.te) -\n",
    "          .5*X.te%*%(invS2.te - invS1.te)%*%t(X.te) + k.te\n",
    "    return(fun.te)\n",
    "}"
   ]
  },
  {
   "cell_type": "code",
   "execution_count": 381,
   "id": "8f6109e3",
   "metadata": {},
   "outputs": [
    {
     "data": {
      "text/html": [
       "<table class=\"dataframe\">\n",
       "<caption>A matrix: 1 × 1 of type dbl</caption>\n",
       "<tbody>\n",
       "\t<tr><th scope=row>1</th><td>5.851566</td></tr>\n",
       "</tbody>\n",
       "</table>\n"
      ],
      "text/latex": [
       "A matrix: 1 × 1 of type dbl\n",
       "\\begin{tabular}{r|l}\n",
       "\t1 & 5.851566\\\\\n",
       "\\end{tabular}\n"
      ],
      "text/markdown": [
       "\n",
       "A matrix: 1 × 1 of type dbl\n",
       "\n",
       "| 1 | 5.851566 |\n",
       "\n"
      ],
      "text/plain": [
       "  [,1]    \n",
       "1 5.851566"
      ]
     },
     "metadata": {},
     "output_type": "display_data"
    }
   ],
   "source": [
    "fun_disk.te(X.te[1,], pi1, pi2, m1.te, m2.te, S1.te, S2.te)"
   ]
  },
  {
   "cell_type": "code",
   "execution_count": 382,
   "id": "cbb8e8bb",
   "metadata": {},
   "outputs": [],
   "source": [
    "q.te = numeric(dim(nd.te)[1])\n",
    "for (i in 1:dim(nd.te)[1]) {\n",
    "    q.te[i] = fun_disk.te(as.matrix(nd.te[i,]), pi1, pi2, m1.te, m2.te, S1.te, S2.te)\n",
    "}"
   ]
  },
  {
   "cell_type": "code",
   "execution_count": 383,
   "id": "d7a5bb7e",
   "metadata": {
    "scrolled": true
   },
   "outputs": [
    {
     "data": {
      "text/html": [
       "<style>\n",
       ".list-inline {list-style: none; margin:0; padding: 0}\n",
       ".list-inline>li {display: inline-block}\n",
       ".list-inline>li:not(:last-child)::after {content: \"\\00b7\"; padding: 0 .5ex}\n",
       "</style>\n",
       "<ol class=list-inline><li>5.85156602607449</li><li>5.83670835166086</li><li>5.82184465389747</li><li>5.80697493278431</li><li>5.7920991883214</li><li>5.77721742050872</li></ol>\n"
      ],
      "text/latex": [
       "\\begin{enumerate*}\n",
       "\\item 5.85156602607449\n",
       "\\item 5.83670835166086\n",
       "\\item 5.82184465389747\n",
       "\\item 5.80697493278431\n",
       "\\item 5.7920991883214\n",
       "\\item 5.77721742050872\n",
       "\\end{enumerate*}\n"
      ],
      "text/markdown": [
       "1. 5.85156602607449\n",
       "2. 5.83670835166086\n",
       "3. 5.82184465389747\n",
       "4. 5.80697493278431\n",
       "5. 5.7920991883214\n",
       "6. 5.77721742050872\n",
       "\n",
       "\n"
      ],
      "text/plain": [
       "[1] 5.851566 5.836708 5.821845 5.806975 5.792099 5.777217"
      ]
     },
     "metadata": {},
     "output_type": "display_data"
    },
    {
     "data": {
      "text/html": [
       "<style>\n",
       ".list-inline {list-style: none; margin:0; padding: 0}\n",
       ".list-inline>li {display: inline-block}\n",
       ".list-inline>li:not(:last-child)::after {content: \"\\00b7\"; padding: 0 .5ex}\n",
       "</style>\n",
       "<ol class=list-inline><li>-11.8896119388009</li><li>-11.9104568228776</li><li>-11.9313077303041</li><li>-11.9521646610804</li><li>-11.9730276152064</li><li>-11.9938965926821</li></ol>\n"
      ],
      "text/latex": [
       "\\begin{enumerate*}\n",
       "\\item -11.8896119388009\n",
       "\\item -11.9104568228776\n",
       "\\item -11.9313077303041\n",
       "\\item -11.9521646610804\n",
       "\\item -11.9730276152064\n",
       "\\item -11.9938965926821\n",
       "\\end{enumerate*}\n"
      ],
      "text/markdown": [
       "1. -11.8896119388009\n",
       "2. -11.9104568228776\n",
       "3. -11.9313077303041\n",
       "4. -11.9521646610804\n",
       "5. -11.9730276152064\n",
       "6. -11.9938965926821\n",
       "\n",
       "\n"
      ],
      "text/plain": [
       "[1] -11.88961 -11.91046 -11.93131 -11.95216 -11.97303 -11.99390"
      ]
     },
     "metadata": {},
     "output_type": "display_data"
    }
   ],
   "source": [
    "head(q.te)\n",
    "tail(q.te)"
   ]
  },
  {
   "cell_type": "code",
   "execution_count": 384,
   "id": "695d30ee",
   "metadata": {
    "scrolled": true
   },
   "outputs": [],
   "source": [
    "nowa_yes = Pima.te_yes \n",
    "nowa_yes$type = rep(0, nrow(nowa_yes))\n",
    "nowa_no = Pima.te_no \n",
    "nowa_no$type = rep(1, nrow(nowa_no))"
   ]
  },
  {
   "cell_type": "code",
   "execution_count": 385,
   "id": "321cc1dd",
   "metadata": {
    "scrolled": true
   },
   "outputs": [
    {
     "data": {
      "image/png": "[encoded data removed]",
      "text/plain": [
       "plot without title"
      ]
     },
     "metadata": {
      "image/png": {
       "height": 420,
       "width": 420
      }
     },
     "output_type": "display_data"
    }
   ],
   "source": [
    "q2 = q.te\n",
    "q2[q2 > 0] = 1\n",
    "q2[q2 <=0] = 0\n",
    "\n",
    "plot(nowa_yes$glu, nowa_yes$bmi, type = \"p\", \n",
    "     pch = 19, col = \"red\", xlab = \"npreg\", \n",
    "     ylab = \"age\", xlim = c(min_y.te, max_y.te), \n",
    "     ylim = c(min_c.te, max_c.te))\n",
    "points(nowa_no$glu, nowa_no$bmi, pch = 19, col = \"blue\")\n",
    "\n",
    "contour(y.te, c.te, z = matrix(q2, nrow = np, ncol = np), \n",
    "        levels = c(1,2), add = TRUE, drawlabels = FALSE, \n",
    "        col='darkgreen', lwd = 2)\n",
    "lines(y.te, c.te, col = \"black\", lwd = 2)\n",
    "legend(\"topright\", c(\"Yes\", \"No\", \"LDA\", \"QDA\"),\n",
    "      col = c(\"red\", \"blue\", \"black\", \"darkgreen\"), \n",
    "      pch = c(19, 19, NA, NA), lty = c(NA, NA, 1, 1), \n",
    "      lwd = c(1, 1, 2, 2))"
   ]
  },
  {
   "cell_type": "code",
   "execution_count": 386,
   "id": "721b5582",
   "metadata": {
    "scrolled": true
   },
   "outputs": [],
   "source": [
    "nowa_w=rbind(nowa_yes,nowa_no)"
   ]
  },
  {
   "cell_type": "code",
   "execution_count": 387,
   "id": "b52ccd7a",
   "metadata": {},
   "outputs": [
    {
     "data": {
      "text/plain": [
       "\n",
       "Call:\n",
       "lm(formula = type ~ ., data = nowa_w)\n",
       "\n",
       "Residuals:\n",
       "     Min       1Q   Median       3Q      Max \n",
       "-1.00136 -0.24801  0.07314  0.25708  1.14012 \n",
       "\n",
       "Coefficients:\n",
       "              Estimate Std. Error t value Pr(>|t|)    \n",
       "(Intercept)  2.0210033  0.1438208  14.052  < 2e-16 ***\n",
       "npreg       -0.0225630  0.0086550  -2.607  0.00956 ** \n",
       "glu         -0.0064066  0.0007505  -8.536 5.44e-16 ***\n",
       "bp           0.0010387  0.0018518   0.561  0.57525    \n",
       "skin        -0.0010666  0.0028935  -0.369  0.71265    \n",
       "bmi         -0.0117351  0.0040698  -2.883  0.00420 ** \n",
       "ped         -0.1389474  0.0600489  -2.314  0.02130 *  \n",
       "age         -0.0027612  0.0028291  -0.976  0.32980    \n",
       "---\n",
       "Signif. codes:  0 '***' 0.001 '**' 0.01 '*' 0.05 '.' 0.1 ' ' 1\n",
       "\n",
       "Residual standard error: 0.3812 on 324 degrees of freedom\n",
       "Multiple R-squared:  0.3569,\tAdjusted R-squared:  0.3431 \n",
       "F-statistic: 25.69 on 7 and 324 DF,  p-value: < 2.2e-16\n"
      ]
     },
     "metadata": {},
     "output_type": "display_data"
    }
   ],
   "source": [
    "mo<- lm(type~.,data=nowa_w)\n",
    "summary(mo)"
   ]
  },
  {
   "cell_type": "code",
   "execution_count": 388,
   "id": "2b76ec2c",
   "metadata": {},
   "outputs": [
    {
     "data": {
      "text/plain": [
       "\n",
       "Call:\n",
       "lm(formula = type ~ . - skin, data = nowa_w)\n",
       "\n",
       "Residuals:\n",
       "     Min       1Q   Median       3Q      Max \n",
       "-1.00680 -0.25098  0.07691  0.25630  1.13626 \n",
       "\n",
       "Coefficients:\n",
       "              Estimate Std. Error t value Pr(>|t|)    \n",
       "(Intercept)  2.0219356  0.1436073  14.080  < 2e-16 ***\n",
       "npreg       -0.0228799  0.0086007  -2.660   0.0082 ** \n",
       "glu         -0.0064224  0.0007483  -8.583 3.88e-16 ***\n",
       "bp           0.0010744  0.0018468   0.582   0.5611    \n",
       "bmi         -0.0126743  0.0031694  -3.999 7.88e-05 ***\n",
       "ped         -0.1400156  0.0598992  -2.338   0.0200 *  \n",
       "age         -0.0027557  0.0028253  -0.975   0.3301    \n",
       "---\n",
       "Signif. codes:  0 '***' 0.001 '**' 0.01 '*' 0.05 '.' 0.1 ' ' 1\n",
       "\n",
       "Residual standard error: 0.3807 on 325 degrees of freedom\n",
       "Multiple R-squared:  0.3567,\tAdjusted R-squared:  0.3448 \n",
       "F-statistic: 30.03 on 6 and 325 DF,  p-value: < 2.2e-16\n"
      ]
     },
     "metadata": {},
     "output_type": "display_data"
    }
   ],
   "source": [
    "mo<- lm(type~. -skin,data=nowa_w)\n",
    "summary(mo)"
   ]
  },
  {
   "cell_type": "code",
   "execution_count": 389,
   "id": "e6b88c12",
   "metadata": {},
   "outputs": [
    {
     "data": {
      "text/plain": [
       "\n",
       "Call:\n",
       "lm(formula = type ~ . - skin - bp, data = nowa_w)\n",
       "\n",
       "Residuals:\n",
       "     Min       1Q   Median       3Q      Max \n",
       "-1.02632 -0.24755  0.07513  0.24606  1.13559 \n",
       "\n",
       "Coefficients:\n",
       "              Estimate Std. Error t value Pr(>|t|)    \n",
       "(Intercept)  2.0647791  0.1231632  16.765  < 2e-16 ***\n",
       "npreg       -0.0230394  0.0085876  -2.683  0.00767 ** \n",
       "glu         -0.0064003  0.0007466  -8.573 4.12e-16 ***\n",
       "bmi         -0.0120757  0.0029947  -4.032 6.88e-05 ***\n",
       "ped         -0.1426191  0.0596712  -2.390  0.01741 *  \n",
       "age         -0.0023235  0.0027231  -0.853  0.39415    \n",
       "---\n",
       "Signif. codes:  0 '***' 0.001 '**' 0.01 '*' 0.05 '.' 0.1 ' ' 1\n",
       "\n",
       "Residual standard error: 0.3803 on 326 degrees of freedom\n",
       "Multiple R-squared:  0.356,\tAdjusted R-squared:  0.3461 \n",
       "F-statistic: 36.04 on 5 and 326 DF,  p-value: < 2.2e-16\n"
      ]
     },
     "metadata": {},
     "output_type": "display_data"
    }
   ],
   "source": [
    "mo<- lm(type~ . -skin -bp,data=nowa_w)\n",
    "summary(mo)"
   ]
  },
  {
   "cell_type": "code",
   "execution_count": 390,
   "id": "2ed63f6f",
   "metadata": {},
   "outputs": [
    {
     "data": {
      "text/plain": [
       "\n",
       "Call:\n",
       "lm(formula = type ~ . - skin - bp - age, data = nowa_w)\n",
       "\n",
       "Residuals:\n",
       "     Min       1Q   Median       3Q      Max \n",
       "-1.02284 -0.24202  0.07269  0.24446  1.15687 \n",
       "\n",
       "Coefficients:\n",
       "              Estimate Std. Error t value Pr(>|t|)    \n",
       "(Intercept)  2.0271463  0.1149472  17.635  < 2e-16 ***\n",
       "npreg       -0.0279134  0.0064094  -4.355 1.78e-05 ***\n",
       "glu         -0.0065260  0.0007316  -8.921  < 2e-16 ***\n",
       "bmi         -0.0120981  0.0029934  -4.042 6.62e-05 ***\n",
       "ped         -0.1471613  0.0594085  -2.477   0.0138 *  \n",
       "---\n",
       "Signif. codes:  0 '***' 0.001 '**' 0.01 '*' 0.05 '.' 0.1 ' ' 1\n",
       "\n",
       "Residual standard error: 0.3801 on 327 degrees of freedom\n",
       "Multiple R-squared:  0.3546,\tAdjusted R-squared:  0.3467 \n",
       "F-statistic: 44.91 on 4 and 327 DF,  p-value: < 2.2e-16\n"
      ]
     },
     "metadata": {},
     "output_type": "display_data"
    }
   ],
   "source": [
    "mo<- lm(type~ . -skin -bp -age,data=nowa_w)\n",
    "summary(mo)"
   ]
  },
  {
   "cell_type": "markdown",
   "id": "c2fc751e",
   "metadata": {},
   "source": [
    "# Zadanie 14"
   ]
  },
  {
   "cell_type": "code",
   "execution_count": 391,
   "id": "587f3b9f",
   "metadata": {
    "scrolled": true
   },
   "outputs": [
    {
     "data": {
      "text/html": [
       "<table class=\"dataframe\">\n",
       "<caption>A data.frame: 6 × 14</caption>\n",
       "<thead>\n",
       "\t<tr><th></th><th scope=col>V1</th><th scope=col>V2</th><th scope=col>V3</th><th scope=col>V4</th><th scope=col>V5</th><th scope=col>V6</th><th scope=col>V7</th><th scope=col>V8</th><th scope=col>V9</th><th scope=col>V10</th><th scope=col>V11</th><th scope=col>V12</th><th scope=col>V13</th><th scope=col>V14</th></tr>\n",
       "\t<tr><th></th><th scope=col>&lt;int&gt;</th><th scope=col>&lt;dbl&gt;</th><th scope=col>&lt;dbl&gt;</th><th scope=col>&lt;dbl&gt;</th><th scope=col>&lt;dbl&gt;</th><th scope=col>&lt;int&gt;</th><th scope=col>&lt;dbl&gt;</th><th scope=col>&lt;dbl&gt;</th><th scope=col>&lt;dbl&gt;</th><th scope=col>&lt;dbl&gt;</th><th scope=col>&lt;dbl&gt;</th><th scope=col>&lt;dbl&gt;</th><th scope=col>&lt;dbl&gt;</th><th scope=col>&lt;int&gt;</th></tr>\n",
       "</thead>\n",
       "<tbody>\n",
       "\t<tr><th scope=row>1</th><td>1</td><td>14.23</td><td>1.71</td><td>2.43</td><td>15.6</td><td>127</td><td>2.80</td><td>3.06</td><td>0.28</td><td>2.29</td><td>5.64</td><td>1.04</td><td>3.92</td><td>1065</td></tr>\n",
       "\t<tr><th scope=row>2</th><td>1</td><td>13.20</td><td>1.78</td><td>2.14</td><td>11.2</td><td>100</td><td>2.65</td><td>2.76</td><td>0.26</td><td>1.28</td><td>4.38</td><td>1.05</td><td>3.40</td><td>1050</td></tr>\n",
       "\t<tr><th scope=row>3</th><td>1</td><td>13.16</td><td>2.36</td><td>2.67</td><td>18.6</td><td>101</td><td>2.80</td><td>3.24</td><td>0.30</td><td>2.81</td><td>5.68</td><td>1.03</td><td>3.17</td><td>1185</td></tr>\n",
       "\t<tr><th scope=row>4</th><td>1</td><td>14.37</td><td>1.95</td><td>2.50</td><td>16.8</td><td>113</td><td>3.85</td><td>3.49</td><td>0.24</td><td>2.18</td><td>7.80</td><td>0.86</td><td>3.45</td><td>1480</td></tr>\n",
       "\t<tr><th scope=row>5</th><td>1</td><td>13.24</td><td>2.59</td><td>2.87</td><td>21.0</td><td>118</td><td>2.80</td><td>2.69</td><td>0.39</td><td>1.82</td><td>4.32</td><td>1.04</td><td>2.93</td><td> 735</td></tr>\n",
       "\t<tr><th scope=row>6</th><td>1</td><td>14.20</td><td>1.76</td><td>2.45</td><td>15.2</td><td>112</td><td>3.27</td><td>3.39</td><td>0.34</td><td>1.97</td><td>6.75</td><td>1.05</td><td>2.85</td><td>1450</td></tr>\n",
       "</tbody>\n",
       "</table>\n"
      ],
      "text/latex": [
       "A data.frame: 6 × 14\n",
       "\\begin{tabular}{r|llllllllllllll}\n",
       "  & V1 & V2 & V3 & V4 & V5 & V6 & V7 & V8 & V9 & V10 & V11 & V12 & V13 & V14\\\\\n",
       "  & <int> & <dbl> & <dbl> & <dbl> & <dbl> & <int> & <dbl> & <dbl> & <dbl> & <dbl> & <dbl> & <dbl> & <dbl> & <int>\\\\\n",
       "\\hline\n",
       "\t1 & 1 & 14.23 & 1.71 & 2.43 & 15.6 & 127 & 2.80 & 3.06 & 0.28 & 2.29 & 5.64 & 1.04 & 3.92 & 1065\\\\\n",
       "\t2 & 1 & 13.20 & 1.78 & 2.14 & 11.2 & 100 & 2.65 & 2.76 & 0.26 & 1.28 & 4.38 & 1.05 & 3.40 & 1050\\\\\n",
       "\t3 & 1 & 13.16 & 2.36 & 2.67 & 18.6 & 101 & 2.80 & 3.24 & 0.30 & 2.81 & 5.68 & 1.03 & 3.17 & 1185\\\\\n",
       "\t4 & 1 & 14.37 & 1.95 & 2.50 & 16.8 & 113 & 3.85 & 3.49 & 0.24 & 2.18 & 7.80 & 0.86 & 3.45 & 1480\\\\\n",
       "\t5 & 1 & 13.24 & 2.59 & 2.87 & 21.0 & 118 & 2.80 & 2.69 & 0.39 & 1.82 & 4.32 & 1.04 & 2.93 &  735\\\\\n",
       "\t6 & 1 & 14.20 & 1.76 & 2.45 & 15.2 & 112 & 3.27 & 3.39 & 0.34 & 1.97 & 6.75 & 1.05 & 2.85 & 1450\\\\\n",
       "\\end{tabular}\n"
      ],
      "text/markdown": [
       "\n",
       "A data.frame: 6 × 14\n",
       "\n",
       "| <!--/--> | V1 &lt;int&gt; | V2 &lt;dbl&gt; | V3 &lt;dbl&gt; | V4 &lt;dbl&gt; | V5 &lt;dbl&gt; | V6 &lt;int&gt; | V7 &lt;dbl&gt; | V8 &lt;dbl&gt; | V9 &lt;dbl&gt; | V10 &lt;dbl&gt; | V11 &lt;dbl&gt; | V12 &lt;dbl&gt; | V13 &lt;dbl&gt; | V14 &lt;int&gt; |\n",
       "|---|---|---|---|---|---|---|---|---|---|---|---|---|---|---|\n",
       "| 1 | 1 | 14.23 | 1.71 | 2.43 | 15.6 | 127 | 2.80 | 3.06 | 0.28 | 2.29 | 5.64 | 1.04 | 3.92 | 1065 |\n",
       "| 2 | 1 | 13.20 | 1.78 | 2.14 | 11.2 | 100 | 2.65 | 2.76 | 0.26 | 1.28 | 4.38 | 1.05 | 3.40 | 1050 |\n",
       "| 3 | 1 | 13.16 | 2.36 | 2.67 | 18.6 | 101 | 2.80 | 3.24 | 0.30 | 2.81 | 5.68 | 1.03 | 3.17 | 1185 |\n",
       "| 4 | 1 | 14.37 | 1.95 | 2.50 | 16.8 | 113 | 3.85 | 3.49 | 0.24 | 2.18 | 7.80 | 0.86 | 3.45 | 1480 |\n",
       "| 5 | 1 | 13.24 | 2.59 | 2.87 | 21.0 | 118 | 2.80 | 2.69 | 0.39 | 1.82 | 4.32 | 1.04 | 2.93 |  735 |\n",
       "| 6 | 1 | 14.20 | 1.76 | 2.45 | 15.2 | 112 | 3.27 | 3.39 | 0.34 | 1.97 | 6.75 | 1.05 | 2.85 | 1450 |\n",
       "\n"
      ],
      "text/plain": [
       "  V1 V2    V3   V4   V5   V6  V7   V8   V9   V10  V11  V12  V13  V14 \n",
       "1 1  14.23 1.71 2.43 15.6 127 2.80 3.06 0.28 2.29 5.64 1.04 3.92 1065\n",
       "2 1  13.20 1.78 2.14 11.2 100 2.65 2.76 0.26 1.28 4.38 1.05 3.40 1050\n",
       "3 1  13.16 2.36 2.67 18.6 101 2.80 3.24 0.30 2.81 5.68 1.03 3.17 1185\n",
       "4 1  14.37 1.95 2.50 16.8 113 3.85 3.49 0.24 2.18 7.80 0.86 3.45 1480\n",
       "5 1  13.24 2.59 2.87 21.0 118 2.80 2.69 0.39 1.82 4.32 1.04 2.93  735\n",
       "6 1  14.20 1.76 2.45 15.2 112 3.27 3.39 0.34 1.97 6.75 1.05 2.85 1450"
      ]
     },
     "metadata": {},
     "output_type": "display_data"
    }
   ],
   "source": [
    "dane = read.table(\"http://theta.edu.pl/wp-content/uploads/2018/03/dane_wino.txt\", sep=\",\")\n",
    "head(dane)"
   ]
  },
  {
   "cell_type": "markdown",
   "id": "5fc0ef02",
   "metadata": {},
   "source": [
    "### i)\n",
    " Wybrać optymalną wartość współczynnika złożoności i wyznaczyć ponownie \n",
    "drzewo z uzyskaną wartością współczynnika złożoności."
   ]
  },
  {
   "cell_type": "code",
   "execution_count": 392,
   "id": "62b73e85",
   "metadata": {},
   "outputs": [
    {
     "data": {
      "image/png": "[encoded data removed]",
      "text/plain": [
       "plot without title"
      ]
     },
     "metadata": {
      "image/png": {
       "height": 420,
       "width": 420
      }
     },
     "output_type": "display_data"
    }
   ],
   "source": [
    "drzewo = rpart(as.factor(V1) ~ ., data = dane, minsplit = 5, cp = 0.0001)\n",
    "plot(drzewo,  branch = 0.4)\n",
    "text(drzewo, use.n = TRUE)"
   ]
  },
  {
   "cell_type": "code",
   "execution_count": 393,
   "id": "9006fae2",
   "metadata": {},
   "outputs": [
    {
     "data": {
      "image/png": "[encoded data removed]",
      "text/plain": [
       "plot without title"
      ]
     },
     "metadata": {
      "image/png": {
       "height": 420,
       "width": 420
      }
     },
     "output_type": "display_data"
    }
   ],
   "source": [
    "plotcp(drzewo)"
   ]
  },
  {
   "cell_type": "markdown",
   "id": "22e35623",
   "metadata": {},
   "source": [
    "### Interpretacja\n",
    "- Wartość optymalna współczynnika złóżoności to 0.026."
   ]
  },
  {
   "cell_type": "code",
   "execution_count": 394,
   "id": "f2cc2325",
   "metadata": {
    "scrolled": true
   },
   "outputs": [
    {
     "data": {
      "image/png": "[encoded data removed]",
      "text/plain": [
       "plot without title"
      ]
     },
     "metadata": {
      "image/png": {
       "height": 420,
       "width": 420
      }
     },
     "output_type": "display_data"
    }
   ],
   "source": [
    "drzewo2 = rpart(as.factor(V1) ~ ., data = dane, minsplit = 5, cp = 0.026)\n",
    "par(mar=c(0, 0, 0, 0))\n",
    "plot(drzewo2, branch = 0.6)\n",
    "text(drzewo2, use.n = TRUE)"
   ]
  },
  {
   "cell_type": "markdown",
   "id": "9008563b",
   "metadata": {},
   "source": [
    "### ii)\n",
    "Wybrać drzewo optymalne przy pomocy metody kros-walidacji."
   ]
  },
  {
   "cell_type": "code",
   "execution_count": 395,
   "id": "b2e6b260",
   "metadata": {},
   "outputs": [],
   "source": [
    "n = nrow(dane)\n",
    "wyniki = rep(0, n)\n",
    "wyniki2 = rep(0, n)\n",
    "\n",
    "for (i in 1:n) {\n",
    "    train = dane[-i, ]\n",
    "    test = dane[i, ]\n",
    "    drzewo_1 = rpart(factor(V1) ~ ., data = train, minsplit = 5, cp = 0.0001)\n",
    "    drzewo_2 = rpart(as.factor(V1) ~ ., data = dane, minsplit = 5, cp = 0.026)\n",
    "    pred_1 = predict(drzewo_1, newdata = test, type = \"class\")\n",
    "    pred_2 = predict(drzewo_2, newdata = test, type = \"class\")   \n",
    "    if (pred_1 != factor(test$V1))\n",
    "        wyniki[i] = 1\n",
    "    if (pred_2 != factor(test$V1))\n",
    "        wyniki2[i] = 1\n",
    "}"
   ]
  },
  {
   "cell_type": "code",
   "execution_count": 396,
   "id": "d43f0032",
   "metadata": {
    "scrolled": true
   },
   "outputs": [
    {
     "data": {
      "text/html": [
       "11.7977528089888"
      ],
      "text/latex": [
       "11.7977528089888"
      ],
      "text/markdown": [
       "11.7977528089888"
      ],
      "text/plain": [
       "[1] 11.79775"
      ]
     },
     "metadata": {},
     "output_type": "display_data"
    },
    {
     "data": {
      "text/html": [
       "5.61797752808989"
      ],
      "text/latex": [
       "5.61797752808989"
      ],
      "text/markdown": [
       "5.61797752808989"
      ],
      "text/plain": [
       "[1] 5.617978"
      ]
     },
     "metadata": {},
     "output_type": "display_data"
    }
   ],
   "source": [
    "sum(wyniki) / n * 100\n",
    "sum(wyniki2) / n * 100"
   ]
  },
  {
   "cell_type": "code",
   "execution_count": 397,
   "id": "de372d1d",
   "metadata": {},
   "outputs": [
    {
     "data": {
      "text/html": [
       "94.382"
      ],
      "text/latex": [
       "94.382"
      ],
      "text/markdown": [
       "94.382"
      ],
      "text/plain": [
       "[1] 94.382"
      ]
     },
     "metadata": {},
     "output_type": "display_data"
    }
   ],
   "source": [
    "upk <- 100-5.618\n",
    "upk"
   ]
  },
  {
   "cell_type": "code",
   "execution_count": 398,
   "id": "9e73a5cd",
   "metadata": {},
   "outputs": [
    {
     "data": {
      "text/html": [
       "88.202"
      ],
      "text/latex": [
       "88.202"
      ],
      "text/markdown": [
       "88.202"
      ],
      "text/plain": [
       "[1] 88.202"
      ]
     },
     "metadata": {},
     "output_type": "display_data"
    }
   ],
   "source": [
    "upk2 <- 100-11.798\n",
    "upk2"
   ]
  },
  {
   "cell_type": "code",
   "execution_count": 399,
   "id": "b3fa36b0",
   "metadata": {
    "scrolled": true
   },
   "outputs": [
    {
     "data": {
      "image/png": "[encoded data removed]",
      "text/plain": [
       "plot without title"
      ]
     },
     "metadata": {
      "image/png": {
       "height": 420,
       "width": 420
      }
     },
     "output_type": "display_data"
    }
   ],
   "source": [
    "drzewo_3 = prune.rpart(drzewo, cp = 0.026)\n",
    "plot(drzewo_3)\n",
    "text(drzewo_3, use.n = TRUE)"
   ]
  },
  {
   "cell_type": "markdown",
   "id": "510da4e1",
   "metadata": {},
   "source": [
    "### Interpretacja\n",
    "- Metoda kros-walidacji pokazuje, iż drzewo o współczynniku złożoności 0.026 jest bardziej optymalne, posiada mniejszy błąd klasyfikacji."
   ]
  },
  {
   "cell_type": "markdown",
   "id": "a3fd5840",
   "metadata": {},
   "source": [
    "### iii)\n",
    "Następnie oszacować ułamek poprawnych klasyfikacji oraz błąd klasyfikacji na \n",
    "podstawie kros-walidacji."
   ]
  },
  {
   "cell_type": "markdown",
   "id": "ee8f1fa4",
   "metadata": {},
   "source": [
    "### Interpretacja\n",
    "- Ułamek poprawnych klasyfikacji z współczynnikiem 0.0001 wynosi 88.202.\n",
    "- Błąd klasyfikacji z współczynnikiem 0.0001 to 11.798.\n",
    "- Ułamek poprawnych klasyfikacji z współczynnikiem 0.026 wynosi 94.382.\n",
    "- Błąd klasyfikacji z współczynnikiem 0.026 to 5.618."
   ]
  },
  {
   "cell_type": "markdown",
   "id": "fcfe7f14",
   "metadata": {},
   "source": [
    "### iv)\n",
    "Porównać wartości z podpunktu nr 3 dla drzewa ze współczynnikiem \n",
    "złożoności=0.005. Które drzewo jest lepsze?"
   ]
  },
  {
   "cell_type": "code",
   "execution_count": 400,
   "id": "f90b67fe",
   "metadata": {},
   "outputs": [
    {
     "data": {
      "image/png": "[encoded data removed]",
      "text/plain": [
       "plot without title"
      ]
     },
     "metadata": {
      "image/png": {
       "height": 420,
       "width": 420
      }
     },
     "output_type": "display_data"
    }
   ],
   "source": [
    "drzewo_4 = prune.rpart(drzewo, cp = 0.005)\n",
    "plot(drzewo_4)\n",
    "text(drzewo_4, use.n = TRUE)"
   ]
  },
  {
   "cell_type": "code",
   "execution_count": 401,
   "id": "d23ba535",
   "metadata": {},
   "outputs": [],
   "source": [
    "n = nrow(dane)\n",
    "wyniki = rep(0, n)\n",
    "wyniki2 = rep(0, n)\n",
    "wyniki3 = rep(0, n)\n",
    "\n",
    "for (i in 1:n) {\n",
    "    train = dane[-i, ]\n",
    "    test = dane[i, ]\n",
    "    drzewo_1 = rpart(factor(V1) ~ ., data = train, minsplit = 5, cp = 0.0001)\n",
    "    drzewo_2 = rpart(as.factor(V1) ~ ., data = dane, minsplit = 5, cp = 0.026)\n",
    "    drzewo_3 = rpart(factor(V1) ~ ., data = train, minsplit = 5, cp = 0.005)\n",
    "    pred_1 = predict(drzewo_1, newdata = test, type = \"class\")\n",
    "    pred_2 = predict(drzewo_2, newdata = test, type = \"class\")\n",
    "    pred_3 = predict(drzewo_3, newdata = test, type = \"class\")\n",
    "    if (pred_1 != factor(test$V1))\n",
    "        wyniki[i] = 1\n",
    "    if (pred_2 != factor(test$V1))\n",
    "        wyniki2[i] = 1\n",
    "    if (pred_3 != factor(test$V1))\n",
    "        wyniki3[i] = 1\n",
    "}"
   ]
  },
  {
   "cell_type": "code",
   "execution_count": 402,
   "id": "bd2386dc",
   "metadata": {
    "scrolled": true
   },
   "outputs": [
    {
     "data": {
      "text/html": [
       "11.7977528089888"
      ],
      "text/latex": [
       "11.7977528089888"
      ],
      "text/markdown": [
       "11.7977528089888"
      ],
      "text/plain": [
       "[1] 11.79775"
      ]
     },
     "metadata": {},
     "output_type": "display_data"
    },
    {
     "data": {
      "text/html": [
       "5.61797752808989"
      ],
      "text/latex": [
       "5.61797752808989"
      ],
      "text/markdown": [
       "5.61797752808989"
      ],
      "text/plain": [
       "[1] 5.617978"
      ]
     },
     "metadata": {},
     "output_type": "display_data"
    },
    {
     "data": {
      "text/html": [
       "11.7977528089888"
      ],
      "text/latex": [
       "11.7977528089888"
      ],
      "text/markdown": [
       "11.7977528089888"
      ],
      "text/plain": [
       "[1] 11.79775"
      ]
     },
     "metadata": {},
     "output_type": "display_data"
    }
   ],
   "source": [
    "sum(wyniki) / n * 100\n",
    "sum(wyniki2) / n * 100\n",
    "sum(wyniki3) / n * 100"
   ]
  },
  {
   "cell_type": "markdown",
   "id": "86869a43",
   "metadata": {},
   "source": [
    "### Interpretacja\n",
    "- Drzewo ze współczynnikiem złożoności 0.026 jest lepsze."
   ]
  },
  {
   "cell_type": "code",
   "execution_count": 403,
   "id": "c8d61d73",
   "metadata": {},
   "outputs": [
    {
     "data": {
      "image/png": "[encoded data removed]",
      "text/plain": [
       "plot without title"
      ]
     },
     "metadata": {
      "image/png": {
       "height": 420,
       "width": 420
      }
     },
     "output_type": "display_data"
    }
   ],
   "source": [
    "rpart.plot(drzewo)"
   ]
  },
  {
   "cell_type": "code",
   "execution_count": 404,
   "id": "ea3cabeb",
   "metadata": {},
   "outputs": [
    {
     "data": {
      "image/png": "[encoded data removed]",
      "text/plain": [
       "plot without title"
      ]
     },
     "metadata": {
      "image/png": {
       "height": 420,
       "width": 420
      }
     },
     "output_type": "display_data"
    }
   ],
   "source": [
    "rpart.plot(drzewo2)"
   ]
  },
  {
   "cell_type": "code",
   "execution_count": 405,
   "id": "cb7d09ef",
   "metadata": {},
   "outputs": [
    {
     "data": {
      "image/png": "[encoded data removed]",
      "text/plain": [
       "plot without title"
      ]
     },
     "metadata": {
      "image/png": {
       "height": 420,
       "width": 420
      }
     },
     "output_type": "display_data"
    }
   ],
   "source": [
    "rpart.plot(drzewo_3)"
   ]
  },
  {
   "cell_type": "code",
   "execution_count": 406,
   "id": "39eb94b1",
   "metadata": {},
   "outputs": [
    {
     "data": {
      "image/png": "[encoded data removed]",
      "text/plain": [
       "plot without title"
      ]
     },
     "metadata": {
      "image/png": {
       "height": 420,
       "width": 420
      }
     },
     "output_type": "display_data"
    }
   ],
   "source": [
    "rpart.plot(drzewo_4)"
   ]
  }
 ],
 "metadata": {
  "kernelspec": {
   "display_name": "R",
   "language": "R",
   "name": "ir"
  },
  "language_info": {
   "codemirror_mode": "r",
   "file_extension": ".r",
   "mimetype": "text/x-r-source",
   "name": "R",
   "pygments_lexer": "r",
   "version": "4.2.2"
  }
 },
 "nbformat": 4,
 "nbformat_minor": 5
}
